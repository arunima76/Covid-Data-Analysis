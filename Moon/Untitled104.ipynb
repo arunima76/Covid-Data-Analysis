{
 "cells": [
  {
   "cell_type": "code",
   "execution_count": null,
   "id": "87d7c2b4",
   "metadata": {},
   "outputs": [],
   "source": []
  },
  {
   "cell_type": "code",
   "execution_count": null,
   "id": "19b50ecd",
   "metadata": {},
   "outputs": [],
   "source": []
  },
  {
   "cell_type": "code",
   "execution_count": null,
   "id": "75009d3d",
   "metadata": {},
   "outputs": [],
   "source": []
  },
  {
   "cell_type": "code",
   "execution_count": null,
   "id": "feeb8cc7",
   "metadata": {},
   "outputs": [],
   "source": []
  },
  {
   "cell_type": "code",
   "execution_count": null,
   "id": "1ca46c8e",
   "metadata": {},
   "outputs": [],
   "source": []
  },
  {
   "cell_type": "code",
   "execution_count": null,
   "id": "8312a6de",
   "metadata": {},
   "outputs": [],
   "source": [
    "x= int(input(\"Enter a number\"))\n",
    "term = x\n",
    "i = 1\n",
    "c= 0\n",
    "\n",
    "while i<=x:\n",
    "    if x%i==0:\n",
    "        c= c+1\n",
    "    i = i +1\n",
    "print(\"Count\",c)\n",
    "if c == 2:\n",
    "    print(x,\"prime\")\n",
    "else:\n",
    "    print(x,\"prime\")"
   ]
  },
  {
   "cell_type": "code",
   "execution_count": null,
   "id": "58f24a52",
   "metadata": {},
   "outputs": [],
   "source": []
  }
 ],
 "metadata": {
  "kernelspec": {
   "display_name": "Python 3 (ipykernel)",
   "language": "python",
   "name": "python3"
  }
 },
 "nbformat": 4,
 "nbformat_minor": 5
}

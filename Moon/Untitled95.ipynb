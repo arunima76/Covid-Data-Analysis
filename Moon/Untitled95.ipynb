{
 "cells": [
  {
   "cell_type": "code",
   "execution_count": 33,
   "id": "5d546cbd",
   "metadata": {},
   "outputs": [
    {
     "name": "stderr",
     "output_type": "stream",
     "text": [
      "C:\\Users\\Arunima\\AppData\\Local\\Temp/ipykernel_8968/3174928430.py:6: FutureWarning: The pandas.datetime class is deprecated and will be removed from pandas in a future version. Import from datetime module instead.\n",
      "  from pandas import datetime\n"
     ]
    }
   ],
   "source": [
    "import numpy as np # linear algebra\n",
    "import pandas as pd # data processing, CSV file I/O (e.g. pd.read_csv)\n",
    "import csv as csv \n",
    "import seaborn as sns\n",
    "import matplotlib.pyplot as plt\n",
    "from pandas import datetime\n",
    "from matplotlib.ticker import FuncFormatter\n"
   ]
  },
  {
   "cell_type": "code",
   "execution_count": null,
   "id": "9219be63",
   "metadata": {},
   "outputs": [],
   "source": [
    "import os\n",
    "for dirname, _, filenames in os.walk('C:/Users/Arunima/Downloads/input'):\n",
    "    for filename in filenames:\n",
    "        print(os.path.join(dirname, filename))\n",
    "\n"
   ]
  },
  {
   "cell_type": "code",
   "execution_count": null,
   "id": "eef33f5d",
   "metadata": {},
   "outputs": [],
   "source": [
    "def import_df(path, column, new_col_name, formatting=0, remove_unnamed=True):\n",
    "    df=pd.read_excel((\"C:/Users/Arunima/Downloads/input/Original MIT Data/\"+path))\n",
    "    if remove_unnamed==True:\n",
    "        df=df.drop([\"Unnamed: 1\"],axis=1) #removing empty column\n",
    "    else:\n",
    "        pass\n",
    "    df=df[4:] #deleting unwanted row\n",
    "    df=df.transpose() #transposing data frame\n",
    "    df=pd.DataFrame(df.iloc[1:,column])\n",
    "    df[\"Year\"]=np.arange(1995,2019,1) #make a series to fill in year column\n",
    "    df.reset_index(drop=True, inplace=True) #reset index\n",
    "    df.set_index(\"Year\", inplace=True) #make year the new index\n",
    "    df=df*(10**(formatting))\n",
    "    df.rename(columns={(column+4):new_col_name}, inplace=True)#renaming column\n",
    "    return df"
   ]
  },
  {
   "cell_type": "code",
   "execution_count": 47,
   "id": "e242010f",
   "metadata": {},
   "outputs": [],
   "source": [
    "total_revenue = import_df(path = 'Total/System Total Operating Revenue.xls',column = 25, new_col_name = 'Total Operating Revenue ($)',formatting = 9)"
   ]
  },
  {
   "cell_type": "code",
   "execution_count": null,
   "id": "76b0a6bc",
   "metadata": {},
   "outputs": [],
   "source": []
  }
 ],
 "metadata": {
  "kernelspec": {
   "display_name": "Python 3 (ipykernel)",
   "language": "python",
   "name": "python3"
  },
  "language_info": {
   "codemirror_mode": {
    "name": "ipython",
    "version": 3
   },
   "file_extension": ".py",
   "mimetype": "text/x-python",
   "name": "python",
   "nbconvert_exporter": "python",
   "pygments_lexer": "ipython3",
   "version": "3.9.7"
  }
 },
 "nbformat": 4,
 "nbformat_minor": 5
}

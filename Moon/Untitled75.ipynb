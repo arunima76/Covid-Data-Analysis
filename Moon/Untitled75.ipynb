{
 "cells": [
  {
   "cell_type": "code",
   "execution_count": 1,
   "id": "d2cc6a0c",
   "metadata": {},
   "outputs": [],
   "source": [
    "import pandas as pd "
   ]
  },
  {
   "cell_type": "code",
   "execution_count": 4,
   "id": "8d9a4038",
   "metadata": {},
   "outputs": [],
   "source": [
    "diamonds = pd.read_csv(\"C:/Users/Arunima/Downloads/diamond.csv\")"
   ]
  },
  {
   "cell_type": "code",
   "execution_count": 5,
   "id": "d27d52fa",
   "metadata": {},
   "outputs": [
    {
     "data": {
      "text/html": [
       "<div>\n",
       "<style scoped>\n",
       "    .dataframe tbody tr th:only-of-type {\n",
       "        vertical-align: middle;\n",
       "    }\n",
       "\n",
       "    .dataframe tbody tr th {\n",
       "        vertical-align: top;\n",
       "    }\n",
       "\n",
       "    .dataframe thead th {\n",
       "        text-align: right;\n",
       "    }\n",
       "</style>\n",
       "<table border=\"1\" class=\"dataframe\">\n",
       "  <thead>\n",
       "    <tr style=\"text-align: right;\">\n",
       "      <th></th>\n",
       "      <th>Carat Weight</th>\n",
       "      <th>Cut</th>\n",
       "      <th>Color</th>\n",
       "      <th>Clarity</th>\n",
       "      <th>Polish</th>\n",
       "      <th>Symmetry</th>\n",
       "      <th>Report</th>\n",
       "      <th>Price</th>\n",
       "    </tr>\n",
       "  </thead>\n",
       "  <tbody>\n",
       "    <tr>\n",
       "      <th>0</th>\n",
       "      <td>1.10</td>\n",
       "      <td>Ideal</td>\n",
       "      <td>H</td>\n",
       "      <td>SI1</td>\n",
       "      <td>VG</td>\n",
       "      <td>EX</td>\n",
       "      <td>GIA</td>\n",
       "      <td>5169</td>\n",
       "    </tr>\n",
       "    <tr>\n",
       "      <th>1</th>\n",
       "      <td>0.83</td>\n",
       "      <td>Ideal</td>\n",
       "      <td>H</td>\n",
       "      <td>VS1</td>\n",
       "      <td>ID</td>\n",
       "      <td>ID</td>\n",
       "      <td>AGSL</td>\n",
       "      <td>3470</td>\n",
       "    </tr>\n",
       "    <tr>\n",
       "      <th>2</th>\n",
       "      <td>0.85</td>\n",
       "      <td>Ideal</td>\n",
       "      <td>H</td>\n",
       "      <td>SI1</td>\n",
       "      <td>EX</td>\n",
       "      <td>EX</td>\n",
       "      <td>GIA</td>\n",
       "      <td>3183</td>\n",
       "    </tr>\n",
       "    <tr>\n",
       "      <th>3</th>\n",
       "      <td>0.91</td>\n",
       "      <td>Ideal</td>\n",
       "      <td>E</td>\n",
       "      <td>SI1</td>\n",
       "      <td>VG</td>\n",
       "      <td>VG</td>\n",
       "      <td>GIA</td>\n",
       "      <td>4370</td>\n",
       "    </tr>\n",
       "    <tr>\n",
       "      <th>4</th>\n",
       "      <td>0.83</td>\n",
       "      <td>Ideal</td>\n",
       "      <td>G</td>\n",
       "      <td>SI1</td>\n",
       "      <td>EX</td>\n",
       "      <td>EX</td>\n",
       "      <td>GIA</td>\n",
       "      <td>3171</td>\n",
       "    </tr>\n",
       "    <tr>\n",
       "      <th>...</th>\n",
       "      <td>...</td>\n",
       "      <td>...</td>\n",
       "      <td>...</td>\n",
       "      <td>...</td>\n",
       "      <td>...</td>\n",
       "      <td>...</td>\n",
       "      <td>...</td>\n",
       "      <td>...</td>\n",
       "    </tr>\n",
       "    <tr>\n",
       "      <th>5995</th>\n",
       "      <td>1.03</td>\n",
       "      <td>Ideal</td>\n",
       "      <td>D</td>\n",
       "      <td>SI1</td>\n",
       "      <td>EX</td>\n",
       "      <td>EX</td>\n",
       "      <td>GIA</td>\n",
       "      <td>6250</td>\n",
       "    </tr>\n",
       "    <tr>\n",
       "      <th>5996</th>\n",
       "      <td>1.00</td>\n",
       "      <td>Very Good</td>\n",
       "      <td>D</td>\n",
       "      <td>SI1</td>\n",
       "      <td>VG</td>\n",
       "      <td>VG</td>\n",
       "      <td>GIA</td>\n",
       "      <td>5328</td>\n",
       "    </tr>\n",
       "    <tr>\n",
       "      <th>5997</th>\n",
       "      <td>1.02</td>\n",
       "      <td>Ideal</td>\n",
       "      <td>D</td>\n",
       "      <td>SI1</td>\n",
       "      <td>EX</td>\n",
       "      <td>EX</td>\n",
       "      <td>GIA</td>\n",
       "      <td>6157</td>\n",
       "    </tr>\n",
       "    <tr>\n",
       "      <th>5998</th>\n",
       "      <td>1.27</td>\n",
       "      <td>Signature-Ideal</td>\n",
       "      <td>G</td>\n",
       "      <td>VS1</td>\n",
       "      <td>EX</td>\n",
       "      <td>EX</td>\n",
       "      <td>GIA</td>\n",
       "      <td>11206</td>\n",
       "    </tr>\n",
       "    <tr>\n",
       "      <th>5999</th>\n",
       "      <td>2.19</td>\n",
       "      <td>Ideal</td>\n",
       "      <td>E</td>\n",
       "      <td>VS1</td>\n",
       "      <td>EX</td>\n",
       "      <td>EX</td>\n",
       "      <td>GIA</td>\n",
       "      <td>30507</td>\n",
       "    </tr>\n",
       "  </tbody>\n",
       "</table>\n",
       "<p>6000 rows × 8 columns</p>\n",
       "</div>"
      ],
      "text/plain": [
       "      Carat Weight              Cut Color Clarity Polish Symmetry Report  \\\n",
       "0             1.10            Ideal     H     SI1     VG       EX    GIA   \n",
       "1             0.83            Ideal     H     VS1     ID       ID   AGSL   \n",
       "2             0.85            Ideal     H     SI1     EX       EX    GIA   \n",
       "3             0.91            Ideal     E     SI1     VG       VG    GIA   \n",
       "4             0.83            Ideal     G     SI1     EX       EX    GIA   \n",
       "...            ...              ...   ...     ...    ...      ...    ...   \n",
       "5995          1.03            Ideal     D     SI1     EX       EX    GIA   \n",
       "5996          1.00        Very Good     D     SI1     VG       VG    GIA   \n",
       "5997          1.02            Ideal     D     SI1     EX       EX    GIA   \n",
       "5998          1.27  Signature-Ideal     G     VS1     EX       EX    GIA   \n",
       "5999          2.19            Ideal     E     VS1     EX       EX    GIA   \n",
       "\n",
       "      Price  \n",
       "0      5169  \n",
       "1      3470  \n",
       "2      3183  \n",
       "3      4370  \n",
       "4      3171  \n",
       "...     ...  \n",
       "5995   6250  \n",
       "5996   5328  \n",
       "5997   6157  \n",
       "5998  11206  \n",
       "5999  30507  \n",
       "\n",
       "[6000 rows x 8 columns]"
      ]
     },
     "execution_count": 5,
     "metadata": {},
     "output_type": "execute_result"
    }
   ],
   "source": [
    "diamonds"
   ]
  },
  {
   "cell_type": "code",
   "execution_count": 8,
   "id": "3ab7ff75",
   "metadata": {},
   "outputs": [
    {
     "data": {
      "text/html": [
       "<div>\n",
       "<style scoped>\n",
       "    .dataframe tbody tr th:only-of-type {\n",
       "        vertical-align: middle;\n",
       "    }\n",
       "\n",
       "    .dataframe tbody tr th {\n",
       "        vertical-align: top;\n",
       "    }\n",
       "\n",
       "    .dataframe thead th {\n",
       "        text-align: right;\n",
       "    }\n",
       "</style>\n",
       "<table border=\"1\" class=\"dataframe\">\n",
       "  <thead>\n",
       "    <tr style=\"text-align: right;\">\n",
       "      <th></th>\n",
       "      <th>Carat Weight</th>\n",
       "      <th>Cut</th>\n",
       "      <th>Color</th>\n",
       "      <th>Clarity</th>\n",
       "      <th>Polish</th>\n",
       "      <th>Symmetry</th>\n",
       "      <th>Report</th>\n",
       "      <th>Price</th>\n",
       "    </tr>\n",
       "  </thead>\n",
       "  <tbody>\n",
       "    <tr>\n",
       "      <th>0</th>\n",
       "      <td>1.10</td>\n",
       "      <td>Ideal</td>\n",
       "      <td>H</td>\n",
       "      <td>SI1</td>\n",
       "      <td>VG</td>\n",
       "      <td>EX</td>\n",
       "      <td>GIA</td>\n",
       "      <td>5169</td>\n",
       "    </tr>\n",
       "    <tr>\n",
       "      <th>1</th>\n",
       "      <td>0.83</td>\n",
       "      <td>Ideal</td>\n",
       "      <td>H</td>\n",
       "      <td>VS1</td>\n",
       "      <td>ID</td>\n",
       "      <td>ID</td>\n",
       "      <td>AGSL</td>\n",
       "      <td>3470</td>\n",
       "    </tr>\n",
       "    <tr>\n",
       "      <th>2</th>\n",
       "      <td>0.85</td>\n",
       "      <td>Ideal</td>\n",
       "      <td>H</td>\n",
       "      <td>SI1</td>\n",
       "      <td>EX</td>\n",
       "      <td>EX</td>\n",
       "      <td>GIA</td>\n",
       "      <td>3183</td>\n",
       "    </tr>\n",
       "    <tr>\n",
       "      <th>3</th>\n",
       "      <td>0.91</td>\n",
       "      <td>Ideal</td>\n",
       "      <td>E</td>\n",
       "      <td>SI1</td>\n",
       "      <td>VG</td>\n",
       "      <td>VG</td>\n",
       "      <td>GIA</td>\n",
       "      <td>4370</td>\n",
       "    </tr>\n",
       "    <tr>\n",
       "      <th>4</th>\n",
       "      <td>0.83</td>\n",
       "      <td>Ideal</td>\n",
       "      <td>G</td>\n",
       "      <td>SI1</td>\n",
       "      <td>EX</td>\n",
       "      <td>EX</td>\n",
       "      <td>GIA</td>\n",
       "      <td>3171</td>\n",
       "    </tr>\n",
       "  </tbody>\n",
       "</table>\n",
       "</div>"
      ],
      "text/plain": [
       "   Carat Weight    Cut Color Clarity Polish Symmetry Report  Price\n",
       "0          1.10  Ideal     H     SI1     VG       EX    GIA   5169\n",
       "1          0.83  Ideal     H     VS1     ID       ID   AGSL   3470\n",
       "2          0.85  Ideal     H     SI1     EX       EX    GIA   3183\n",
       "3          0.91  Ideal     E     SI1     VG       VG    GIA   4370\n",
       "4          0.83  Ideal     G     SI1     EX       EX    GIA   3171"
      ]
     },
     "execution_count": 8,
     "metadata": {},
     "output_type": "execute_result"
    }
   ],
   "source": [
    "diamonds.head()"
   ]
  },
  {
   "cell_type": "code",
   "execution_count": 9,
   "id": "45bcafb6",
   "metadata": {},
   "outputs": [],
   "source": [
    "import pandas as pd"
   ]
  },
  {
   "cell_type": "code",
   "execution_count": 24,
   "id": "312d508e",
   "metadata": {},
   "outputs": [],
   "source": [
    "user_cols = ['Carat Weight', 'Cut', 'Color', 'Clarity', 'Polish']"
   ]
  },
  {
   "cell_type": "code",
   "execution_count": 25,
   "id": "e87b988b",
   "metadata": {},
   "outputs": [],
   "source": [
    "diamonds = pd.read_csv(\"C:/Users/Arunima/Downloads/diamond.csv\")"
   ]
  },
  {
   "cell_type": "code",
   "execution_count": 26,
   "id": "177511e6",
   "metadata": {},
   "outputs": [
    {
     "name": "stdout",
     "output_type": "stream",
     "text": [
      "First 6 rows:\n"
     ]
    }
   ],
   "source": [
    "print(\"First 6 rows:\")"
   ]
  },
  {
   "cell_type": "code",
   "execution_count": 27,
   "id": "2663a21d",
   "metadata": {},
   "outputs": [
    {
     "name": "stdout",
     "output_type": "stream",
     "text": [
      "   Carat Weight    Cut Color Clarity Polish\n",
      "0          1.10  Ideal     H     SI1     VG\n",
      "1          0.83  Ideal     H     VS1     ID\n",
      "2          0.85  Ideal     H     SI1     EX\n",
      "3          0.91  Ideal     E     SI1     VG\n",
      "4          0.83  Ideal     G     SI1     EX\n",
      "5          1.53  Ideal     E     SI1     ID\n"
     ]
    }
   ],
   "source": [
    "print(diamonds[user_cols].head(6))"
   ]
  },
  {
   "cell_type": "code",
   "execution_count": 28,
   "id": "8aa72557",
   "metadata": {},
   "outputs": [],
   "source": [
    "import pandas as pd"
   ]
  },
  {
   "cell_type": "code",
   "execution_count": 30,
   "id": "1c06b182",
   "metadata": {},
   "outputs": [
    {
     "name": "stdout",
     "output_type": "stream",
     "text": [
      "0       1.10\n",
      "1       0.83\n",
      "2       0.85\n",
      "3       0.91\n",
      "4       0.83\n",
      "        ... \n",
      "5995    1.03\n",
      "5996    1.00\n",
      "5997    1.02\n",
      "5998    1.27\n",
      "5999    2.19\n",
      "Name: Carat Weight, Length: 6000, dtype: float64\n"
     ]
    }
   ],
   "source": [
    "print(diamonds['Carat Weight'])"
   ]
  },
  {
   "cell_type": "code",
   "execution_count": 31,
   "id": "865347c1",
   "metadata": {},
   "outputs": [
    {
     "data": {
      "text/html": [
       "<div>\n",
       "<style scoped>\n",
       "    .dataframe tbody tr th:only-of-type {\n",
       "        vertical-align: middle;\n",
       "    }\n",
       "\n",
       "    .dataframe tbody tr th {\n",
       "        vertical-align: top;\n",
       "    }\n",
       "\n",
       "    .dataframe thead th {\n",
       "        text-align: right;\n",
       "    }\n",
       "</style>\n",
       "<table border=\"1\" class=\"dataframe\">\n",
       "  <thead>\n",
       "    <tr style=\"text-align: right;\">\n",
       "      <th></th>\n",
       "      <th>Carat Weight</th>\n",
       "      <th>Cut</th>\n",
       "      <th>Color</th>\n",
       "      <th>Clarity</th>\n",
       "      <th>Polish</th>\n",
       "      <th>Symmetry</th>\n",
       "      <th>Report</th>\n",
       "      <th>Price</th>\n",
       "    </tr>\n",
       "  </thead>\n",
       "  <tbody>\n",
       "    <tr>\n",
       "      <th>0</th>\n",
       "      <td>1.10</td>\n",
       "      <td>Ideal</td>\n",
       "      <td>H</td>\n",
       "      <td>SI1</td>\n",
       "      <td>VG</td>\n",
       "      <td>EX</td>\n",
       "      <td>GIA</td>\n",
       "      <td>5169</td>\n",
       "    </tr>\n",
       "    <tr>\n",
       "      <th>1</th>\n",
       "      <td>0.83</td>\n",
       "      <td>Ideal</td>\n",
       "      <td>H</td>\n",
       "      <td>VS1</td>\n",
       "      <td>ID</td>\n",
       "      <td>ID</td>\n",
       "      <td>AGSL</td>\n",
       "      <td>3470</td>\n",
       "    </tr>\n",
       "    <tr>\n",
       "      <th>2</th>\n",
       "      <td>0.85</td>\n",
       "      <td>Ideal</td>\n",
       "      <td>H</td>\n",
       "      <td>SI1</td>\n",
       "      <td>EX</td>\n",
       "      <td>EX</td>\n",
       "      <td>GIA</td>\n",
       "      <td>3183</td>\n",
       "    </tr>\n",
       "    <tr>\n",
       "      <th>3</th>\n",
       "      <td>0.91</td>\n",
       "      <td>Ideal</td>\n",
       "      <td>E</td>\n",
       "      <td>SI1</td>\n",
       "      <td>VG</td>\n",
       "      <td>VG</td>\n",
       "      <td>GIA</td>\n",
       "      <td>4370</td>\n",
       "    </tr>\n",
       "    <tr>\n",
       "      <th>4</th>\n",
       "      <td>0.83</td>\n",
       "      <td>Ideal</td>\n",
       "      <td>G</td>\n",
       "      <td>SI1</td>\n",
       "      <td>EX</td>\n",
       "      <td>EX</td>\n",
       "      <td>GIA</td>\n",
       "      <td>3171</td>\n",
       "    </tr>\n",
       "  </tbody>\n",
       "</table>\n",
       "</div>"
      ],
      "text/plain": [
       "   Carat Weight    Cut Color Clarity Polish Symmetry Report  Price\n",
       "0          1.10  Ideal     H     SI1     VG       EX    GIA   5169\n",
       "1          0.83  Ideal     H     VS1     ID       ID   AGSL   3470\n",
       "2          0.85  Ideal     H     SI1     EX       EX    GIA   3183\n",
       "3          0.91  Ideal     E     SI1     VG       VG    GIA   4370\n",
       "4          0.83  Ideal     G     SI1     EX       EX    GIA   3171"
      ]
     },
     "execution_count": 31,
     "metadata": {},
     "output_type": "execute_result"
    }
   ],
   "source": [
    "diamonds.head()"
   ]
  },
  {
   "cell_type": "code",
   "execution_count": 32,
   "id": "ad47d903",
   "metadata": {},
   "outputs": [],
   "source": [
    "diamonds['Quality–color'] = diamonds.Cut + ', '+ diamonds.Color"
   ]
  },
  {
   "cell_type": "code",
   "execution_count": 33,
   "id": "eda4c707",
   "metadata": {},
   "outputs": [
    {
     "data": {
      "text/html": [
       "<div>\n",
       "<style scoped>\n",
       "    .dataframe tbody tr th:only-of-type {\n",
       "        vertical-align: middle;\n",
       "    }\n",
       "\n",
       "    .dataframe tbody tr th {\n",
       "        vertical-align: top;\n",
       "    }\n",
       "\n",
       "    .dataframe thead th {\n",
       "        text-align: right;\n",
       "    }\n",
       "</style>\n",
       "<table border=\"1\" class=\"dataframe\">\n",
       "  <thead>\n",
       "    <tr style=\"text-align: right;\">\n",
       "      <th></th>\n",
       "      <th>Carat Weight</th>\n",
       "      <th>Cut</th>\n",
       "      <th>Color</th>\n",
       "      <th>Clarity</th>\n",
       "      <th>Polish</th>\n",
       "      <th>Symmetry</th>\n",
       "      <th>Report</th>\n",
       "      <th>Price</th>\n",
       "      <th>Quality–color</th>\n",
       "    </tr>\n",
       "  </thead>\n",
       "  <tbody>\n",
       "    <tr>\n",
       "      <th>0</th>\n",
       "      <td>1.10</td>\n",
       "      <td>Ideal</td>\n",
       "      <td>H</td>\n",
       "      <td>SI1</td>\n",
       "      <td>VG</td>\n",
       "      <td>EX</td>\n",
       "      <td>GIA</td>\n",
       "      <td>5169</td>\n",
       "      <td>Ideal, H</td>\n",
       "    </tr>\n",
       "    <tr>\n",
       "      <th>1</th>\n",
       "      <td>0.83</td>\n",
       "      <td>Ideal</td>\n",
       "      <td>H</td>\n",
       "      <td>VS1</td>\n",
       "      <td>ID</td>\n",
       "      <td>ID</td>\n",
       "      <td>AGSL</td>\n",
       "      <td>3470</td>\n",
       "      <td>Ideal, H</td>\n",
       "    </tr>\n",
       "    <tr>\n",
       "      <th>2</th>\n",
       "      <td>0.85</td>\n",
       "      <td>Ideal</td>\n",
       "      <td>H</td>\n",
       "      <td>SI1</td>\n",
       "      <td>EX</td>\n",
       "      <td>EX</td>\n",
       "      <td>GIA</td>\n",
       "      <td>3183</td>\n",
       "      <td>Ideal, H</td>\n",
       "    </tr>\n",
       "    <tr>\n",
       "      <th>3</th>\n",
       "      <td>0.91</td>\n",
       "      <td>Ideal</td>\n",
       "      <td>E</td>\n",
       "      <td>SI1</td>\n",
       "      <td>VG</td>\n",
       "      <td>VG</td>\n",
       "      <td>GIA</td>\n",
       "      <td>4370</td>\n",
       "      <td>Ideal, E</td>\n",
       "    </tr>\n",
       "    <tr>\n",
       "      <th>4</th>\n",
       "      <td>0.83</td>\n",
       "      <td>Ideal</td>\n",
       "      <td>G</td>\n",
       "      <td>SI1</td>\n",
       "      <td>EX</td>\n",
       "      <td>EX</td>\n",
       "      <td>GIA</td>\n",
       "      <td>3171</td>\n",
       "      <td>Ideal, G</td>\n",
       "    </tr>\n",
       "  </tbody>\n",
       "</table>\n",
       "</div>"
      ],
      "text/plain": [
       "   Carat Weight    Cut Color Clarity Polish Symmetry Report  Price  \\\n",
       "0          1.10  Ideal     H     SI1     VG       EX    GIA   5169   \n",
       "1          0.83  Ideal     H     VS1     ID       ID   AGSL   3470   \n",
       "2          0.85  Ideal     H     SI1     EX       EX    GIA   3183   \n",
       "3          0.91  Ideal     E     SI1     VG       VG    GIA   4370   \n",
       "4          0.83  Ideal     G     SI1     EX       EX    GIA   3171   \n",
       "\n",
       "  Quality–color  \n",
       "0      Ideal, H  \n",
       "1      Ideal, H  \n",
       "2      Ideal, H  \n",
       "3      Ideal, E  \n",
       "4      Ideal, G  "
      ]
     },
     "execution_count": 33,
     "metadata": {},
     "output_type": "execute_result"
    }
   ],
   "source": [
    "diamonds.head()"
   ]
  },
  {
   "cell_type": "code",
   "execution_count": 34,
   "id": "d1007488",
   "metadata": {},
   "outputs": [
    {
     "name": "stdout",
     "output_type": "stream",
     "text": [
      "Number of rows and columns:\n",
      "(6000, 9)\n",
      "\n",
      "Data type of each column:\n",
      "Carat Weight     float64\n",
      "Cut               object\n",
      "Color             object\n",
      "Clarity           object\n",
      "Polish            object\n",
      "Symmetry          object\n",
      "Report            object\n",
      "Price              int64\n",
      "Quality–color     object\n",
      "dtype: object\n"
     ]
    }
   ],
   "source": [
    "print(\"Number of rows and columns:\")\n",
    "print(diamonds.shape)\n",
    "print(\"\\nData type of each column:\")\n",
    "print(diamonds.dtypes)"
   ]
  },
  {
   "cell_type": "code",
   "execution_count": 35,
   "id": "ea4248d9",
   "metadata": {},
   "outputs": [
    {
     "name": "stdout",
     "output_type": "stream",
     "text": [
      "Summarize of 'object' columns:\n",
      "          Cut Color Clarity Polish Symmetry Report Quality–color\n",
      "count    6000  6000    6000   6000     6000   6000          6000\n",
      "unique      5     6       7      4        4      2            30\n",
      "top     Ideal     G     SI1     EX       VG    GIA      Ideal, G\n",
      "freq     2482  1501    2059   2425     2417   5266           690\n"
     ]
    }
   ],
   "source": [
    "print(\"Summarize of 'object' columns:\")\n",
    "print(diamonds.describe(include=['object']))"
   ]
  },
  {
   "cell_type": "code",
   "execution_count": 36,
   "id": "33e8e14a",
   "metadata": {},
   "outputs": [
    {
     "name": "stdout",
     "output_type": "stream",
     "text": [
      "Original Dataframe:\n"
     ]
    }
   ],
   "source": [
    "print(\"Original Dataframe:\")"
   ]
  },
  {
   "cell_type": "code",
   "execution_count": 37,
   "id": "0e762d75",
   "metadata": {},
   "outputs": [
    {
     "name": "stdout",
     "output_type": "stream",
     "text": [
      "   Carat Weight    Cut Color Clarity Polish Symmetry Report  Price  \\\n",
      "0          1.10  Ideal     H     SI1     VG       EX    GIA   5169   \n",
      "1          0.83  Ideal     H     VS1     ID       ID   AGSL   3470   \n",
      "2          0.85  Ideal     H     SI1     EX       EX    GIA   3183   \n",
      "3          0.91  Ideal     E     SI1     VG       VG    GIA   4370   \n",
      "4          0.83  Ideal     G     SI1     EX       EX    GIA   3171   \n",
      "\n",
      "  Quality–color  \n",
      "0      Ideal, H  \n",
      "1      Ideal, H  \n",
      "2      Ideal, H  \n",
      "3      Ideal, E  \n",
      "4      Ideal, G  \n"
     ]
    }
   ],
   "source": [
    "print(diamonds.head())"
   ]
  },
  {
   "cell_type": "code",
   "execution_count": 39,
   "id": "c1325e3f",
   "metadata": {},
   "outputs": [
    {
     "name": "stdout",
     "output_type": "stream",
     "text": [
      "\n",
      "After renaming two of the columns of the said dataframe:\n"
     ]
    }
   ],
   "source": [
    "print(\"\\nAfter renaming two of the columns of the said dataframe:\")"
   ]
  },
  {
   "cell_type": "code",
   "execution_count": 44,
   "id": "d3432c30",
   "metadata": {},
   "outputs": [],
   "source": [
    "diamonds.rename(columns={'Color':'diamond_color','Clarity':'color_clarity'},inplace = True)"
   ]
  },
  {
   "cell_type": "code",
   "execution_count": 45,
   "id": "5ef2e6cc",
   "metadata": {},
   "outputs": [
    {
     "data": {
      "text/html": [
       "<div>\n",
       "<style scoped>\n",
       "    .dataframe tbody tr th:only-of-type {\n",
       "        vertical-align: middle;\n",
       "    }\n",
       "\n",
       "    .dataframe tbody tr th {\n",
       "        vertical-align: top;\n",
       "    }\n",
       "\n",
       "    .dataframe thead th {\n",
       "        text-align: right;\n",
       "    }\n",
       "</style>\n",
       "<table border=\"1\" class=\"dataframe\">\n",
       "  <thead>\n",
       "    <tr style=\"text-align: right;\">\n",
       "      <th></th>\n",
       "      <th>Carat Weight</th>\n",
       "      <th>Cut</th>\n",
       "      <th>diamond_color</th>\n",
       "      <th>color_clarity</th>\n",
       "      <th>Polish</th>\n",
       "      <th>Symmetry</th>\n",
       "      <th>Report</th>\n",
       "      <th>Price</th>\n",
       "      <th>Quality–color</th>\n",
       "    </tr>\n",
       "  </thead>\n",
       "  <tbody>\n",
       "    <tr>\n",
       "      <th>0</th>\n",
       "      <td>1.10</td>\n",
       "      <td>Ideal</td>\n",
       "      <td>H</td>\n",
       "      <td>SI1</td>\n",
       "      <td>VG</td>\n",
       "      <td>EX</td>\n",
       "      <td>GIA</td>\n",
       "      <td>5169</td>\n",
       "      <td>Ideal, H</td>\n",
       "    </tr>\n",
       "    <tr>\n",
       "      <th>1</th>\n",
       "      <td>0.83</td>\n",
       "      <td>Ideal</td>\n",
       "      <td>H</td>\n",
       "      <td>VS1</td>\n",
       "      <td>ID</td>\n",
       "      <td>ID</td>\n",
       "      <td>AGSL</td>\n",
       "      <td>3470</td>\n",
       "      <td>Ideal, H</td>\n",
       "    </tr>\n",
       "    <tr>\n",
       "      <th>2</th>\n",
       "      <td>0.85</td>\n",
       "      <td>Ideal</td>\n",
       "      <td>H</td>\n",
       "      <td>SI1</td>\n",
       "      <td>EX</td>\n",
       "      <td>EX</td>\n",
       "      <td>GIA</td>\n",
       "      <td>3183</td>\n",
       "      <td>Ideal, H</td>\n",
       "    </tr>\n",
       "    <tr>\n",
       "      <th>3</th>\n",
       "      <td>0.91</td>\n",
       "      <td>Ideal</td>\n",
       "      <td>E</td>\n",
       "      <td>SI1</td>\n",
       "      <td>VG</td>\n",
       "      <td>VG</td>\n",
       "      <td>GIA</td>\n",
       "      <td>4370</td>\n",
       "      <td>Ideal, E</td>\n",
       "    </tr>\n",
       "    <tr>\n",
       "      <th>4</th>\n",
       "      <td>0.83</td>\n",
       "      <td>Ideal</td>\n",
       "      <td>G</td>\n",
       "      <td>SI1</td>\n",
       "      <td>EX</td>\n",
       "      <td>EX</td>\n",
       "      <td>GIA</td>\n",
       "      <td>3171</td>\n",
       "      <td>Ideal, G</td>\n",
       "    </tr>\n",
       "  </tbody>\n",
       "</table>\n",
       "</div>"
      ],
      "text/plain": [
       "   Carat Weight    Cut diamond_color color_clarity Polish Symmetry Report  \\\n",
       "0          1.10  Ideal             H           SI1     VG       EX    GIA   \n",
       "1          0.83  Ideal             H           VS1     ID       ID   AGSL   \n",
       "2          0.85  Ideal             H           SI1     EX       EX    GIA   \n",
       "3          0.91  Ideal             E           SI1     VG       VG    GIA   \n",
       "4          0.83  Ideal             G           SI1     EX       EX    GIA   \n",
       "\n",
       "   Price Quality–color  \n",
       "0   5169      Ideal, H  \n",
       "1   3470      Ideal, H  \n",
       "2   3183      Ideal, H  \n",
       "3   4370      Ideal, E  \n",
       "4   3171      Ideal, G  "
      ]
     },
     "execution_count": 45,
     "metadata": {},
     "output_type": "execute_result"
    }
   ],
   "source": [
    "diamonds.head()"
   ]
  },
  {
   "cell_type": "code",
   "execution_count": 46,
   "id": "3742c1c5",
   "metadata": {},
   "outputs": [],
   "source": [
    "diamonds_cols = ['new_carat', 'new_cut', 'new_color', 'new_clarity', 'new_depth','new_Symmetry','new_Report','New_Price','New_Quality-clor']"
   ]
  },
  {
   "cell_type": "code",
   "execution_count": 47,
   "id": "4234e044",
   "metadata": {},
   "outputs": [],
   "source": [
    "diamonds.columns = diamonds_cols"
   ]
  },
  {
   "cell_type": "code",
   "execution_count": 48,
   "id": "e9c7945d",
   "metadata": {},
   "outputs": [
    {
     "name": "stdout",
     "output_type": "stream",
     "text": [
      "   new_carat new_cut new_color new_clarity new_depth new_Symmetry new_Report  \\\n",
      "0       1.10   Ideal         H         SI1        VG           EX        GIA   \n",
      "1       0.83   Ideal         H         VS1        ID           ID       AGSL   \n",
      "2       0.85   Ideal         H         SI1        EX           EX        GIA   \n",
      "3       0.91   Ideal         E         SI1        VG           VG        GIA   \n",
      "4       0.83   Ideal         G         SI1        EX           EX        GIA   \n",
      "\n",
      "   New_Price New_Quality-clor  \n",
      "0       5169         Ideal, H  \n",
      "1       3470         Ideal, H  \n",
      "2       3183         Ideal, H  \n",
      "3       4370         Ideal, E  \n",
      "4       3171         Ideal, G  \n"
     ]
    }
   ],
   "source": [
    "print(diamonds.head())"
   ]
  },
  {
   "cell_type": "code",
   "execution_count": 68,
   "id": "96bfb432",
   "metadata": {},
   "outputs": [],
   "source": [
    "diamonds.drop('new_carat', axis=1, inplace=True)"
   ]
  },
  {
   "cell_type": "code",
   "execution_count": 69,
   "id": "513c91f6",
   "metadata": {},
   "outputs": [
    {
     "name": "stdout",
     "output_type": "stream",
     "text": [
      "     new_color new_clarity new_depth new_Symmetry new_Report  New_Price  \\\n",
      "0            H         SI1        VG           EX        GIA       5169   \n",
      "1            H         VS1        ID           ID       AGSL       3470   \n",
      "2            H         SI1        EX           EX        GIA       3183   \n",
      "3            E         SI1        VG           VG        GIA       4370   \n",
      "4            G         SI1        EX           EX        GIA       3171   \n",
      "...        ...         ...       ...          ...        ...        ...   \n",
      "5995         D         SI1        EX           EX        GIA       6250   \n",
      "5996         D         SI1        VG           VG        GIA       5328   \n",
      "5997         D         SI1        EX           EX        GIA       6157   \n",
      "5998         G         VS1        EX           EX        GIA      11206   \n",
      "5999         E         VS1        EX           EX        GIA      30507   \n",
      "\n",
      "        New_Quality-clor  \n",
      "0               Ideal, H  \n",
      "1               Ideal, H  \n",
      "2               Ideal, H  \n",
      "3               Ideal, E  \n",
      "4               Ideal, G  \n",
      "...                  ...  \n",
      "5995            Ideal, D  \n",
      "5996        Very Good, D  \n",
      "5997            Ideal, D  \n",
      "5998  Signature-Ideal, G  \n",
      "5999            Ideal, E  \n",
      "\n",
      "[6000 rows x 7 columns]\n"
     ]
    }
   ],
   "source": [
    "print(diamonds)"
   ]
  },
  {
   "cell_type": "code",
   "execution_count": 73,
   "id": "c0b16078",
   "metadata": {},
   "outputs": [],
   "source": [
    "diamonds.drop(['new_clarity','new_depth'], axis=1 , inplace = True)"
   ]
  },
  {
   "cell_type": "code",
   "execution_count": 74,
   "id": "c269924b",
   "metadata": {},
   "outputs": [
    {
     "data": {
      "text/html": [
       "<div>\n",
       "<style scoped>\n",
       "    .dataframe tbody tr th:only-of-type {\n",
       "        vertical-align: middle;\n",
       "    }\n",
       "\n",
       "    .dataframe tbody tr th {\n",
       "        vertical-align: top;\n",
       "    }\n",
       "\n",
       "    .dataframe thead th {\n",
       "        text-align: right;\n",
       "    }\n",
       "</style>\n",
       "<table border=\"1\" class=\"dataframe\">\n",
       "  <thead>\n",
       "    <tr style=\"text-align: right;\">\n",
       "      <th></th>\n",
       "      <th>new_color</th>\n",
       "      <th>new_Symmetry</th>\n",
       "      <th>new_Report</th>\n",
       "      <th>New_Price</th>\n",
       "      <th>New_Quality-clor</th>\n",
       "    </tr>\n",
       "  </thead>\n",
       "  <tbody>\n",
       "    <tr>\n",
       "      <th>0</th>\n",
       "      <td>H</td>\n",
       "      <td>EX</td>\n",
       "      <td>GIA</td>\n",
       "      <td>5169</td>\n",
       "      <td>Ideal, H</td>\n",
       "    </tr>\n",
       "    <tr>\n",
       "      <th>1</th>\n",
       "      <td>H</td>\n",
       "      <td>ID</td>\n",
       "      <td>AGSL</td>\n",
       "      <td>3470</td>\n",
       "      <td>Ideal, H</td>\n",
       "    </tr>\n",
       "    <tr>\n",
       "      <th>2</th>\n",
       "      <td>H</td>\n",
       "      <td>EX</td>\n",
       "      <td>GIA</td>\n",
       "      <td>3183</td>\n",
       "      <td>Ideal, H</td>\n",
       "    </tr>\n",
       "    <tr>\n",
       "      <th>3</th>\n",
       "      <td>E</td>\n",
       "      <td>VG</td>\n",
       "      <td>GIA</td>\n",
       "      <td>4370</td>\n",
       "      <td>Ideal, E</td>\n",
       "    </tr>\n",
       "    <tr>\n",
       "      <th>4</th>\n",
       "      <td>G</td>\n",
       "      <td>EX</td>\n",
       "      <td>GIA</td>\n",
       "      <td>3171</td>\n",
       "      <td>Ideal, G</td>\n",
       "    </tr>\n",
       "  </tbody>\n",
       "</table>\n",
       "</div>"
      ],
      "text/plain": [
       "  new_color new_Symmetry new_Report  New_Price New_Quality-clor\n",
       "0         H           EX        GIA       5169         Ideal, H\n",
       "1         H           ID       AGSL       3470         Ideal, H\n",
       "2         H           EX        GIA       3183         Ideal, H\n",
       "3         E           VG        GIA       4370         Ideal, E\n",
       "4         G           EX        GIA       3171         Ideal, G"
      ]
     },
     "execution_count": 74,
     "metadata": {},
     "output_type": "execute_result"
    }
   ],
   "source": [
    "diamonds.head()"
   ]
  },
  {
   "cell_type": "code",
   "execution_count": 75,
   "id": "83ad0b32",
   "metadata": {},
   "outputs": [],
   "source": [
    "result = diamonds.New_Price.sort_values(ascending=True)"
   ]
  },
  {
   "cell_type": "code",
   "execution_count": 76,
   "id": "33f75e36",
   "metadata": {},
   "outputs": [
    {
     "name": "stdout",
     "output_type": "stream",
     "text": [
      "1565      2184\n",
      "4606      2241\n",
      "5690      2348\n",
      "3059      2383\n",
      "954       2396\n",
      "         ...  \n",
      "4257     81399\n",
      "4401     83145\n",
      "1881     93813\n",
      "188      96493\n",
      "3192    101561\n",
      "Name: New_Price, Length: 6000, dtype: int64\n"
     ]
    }
   ],
   "source": [
    "print(result)"
   ]
  },
  {
   "cell_type": "code",
   "execution_count": 77,
   "id": "8b9597a6",
   "metadata": {},
   "outputs": [
    {
     "name": "stdout",
     "output_type": "stream",
     "text": [
      "\n",
      " new_Report in descending order :\n"
     ]
    }
   ],
   "source": [
    "print(\"\\n new_Report in descending order :\")"
   ]
  },
  {
   "cell_type": "code",
   "execution_count": 78,
   "id": "4af3f94e",
   "metadata": {},
   "outputs": [],
   "source": [
    "result = diamonds.New_Price.sort_values(ascending=False)"
   ]
  },
  {
   "cell_type": "code",
   "execution_count": 79,
   "id": "c24a7d3e",
   "metadata": {},
   "outputs": [
    {
     "name": "stdout",
     "output_type": "stream",
     "text": [
      "3192    101561\n",
      "188      96493\n",
      "1881     93813\n",
      "4401     83145\n",
      "4257     81399\n",
      "         ...  \n",
      "954       2396\n",
      "3059      2383\n",
      "5690      2348\n",
      "4606      2241\n",
      "1565      2184\n",
      "Name: New_Price, Length: 6000, dtype: int64\n"
     ]
    }
   ],
   "source": [
    "print(result)"
   ]
  },
  {
   "cell_type": "code",
   "execution_count": 81,
   "id": "d58e9436",
   "metadata": {},
   "outputs": [],
   "source": [
    "result = diamonds.sort_values('New_Price')"
   ]
  },
  {
   "cell_type": "code",
   "execution_count": 82,
   "id": "1bc1ebfc",
   "metadata": {},
   "outputs": [
    {
     "name": "stdout",
     "output_type": "stream",
     "text": [
      "     new_color new_Symmetry new_Report  New_Price    New_Quality-clor\n",
      "1565         I            G       AGSL       2184             Good, I\n",
      "4606         I           VG        GIA       2241             Good, I\n",
      "5690         I           VG        GIA       2348        Very Good, I\n",
      "3059         I           VG        GIA       2383            Ideal, I\n",
      "954          H            G        GIA       2396        Very Good, H\n",
      "...        ...          ...        ...        ...                 ...\n",
      "4257         D           EX        GIA      81399  Signature-Ideal, D\n",
      "4401         D           VG        GIA      83145        Very Good, D\n",
      "1881         D           EX        GIA      93813        Very Good, D\n",
      "188          D           EX        GIA      96493            Ideal, D\n",
      "3192         D           EX        GIA     101561            Ideal, D\n",
      "\n",
      "[6000 rows x 5 columns]\n"
     ]
    }
   ],
   "source": [
    "print(result)"
   ]
  },
  {
   "cell_type": "code",
   "execution_count": 83,
   "id": "0b11dd95",
   "metadata": {},
   "outputs": [],
   "source": [
    "result = diamonds.sort_values('New_Price',ascending=False )"
   ]
  },
  {
   "cell_type": "code",
   "execution_count": 85,
   "id": "17b81d7e",
   "metadata": {},
   "outputs": [
    {
     "name": "stdout",
     "output_type": "stream",
     "text": [
      "     new_color new_Symmetry new_Report  New_Price    New_Quality-clor\n",
      "1565         I            G       AGSL       2184             Good, I\n",
      "4606         I           VG        GIA       2241             Good, I\n",
      "5690         I           VG        GIA       2348        Very Good, I\n",
      "3059         I           VG        GIA       2383            Ideal, I\n",
      "954          H            G        GIA       2396        Very Good, H\n",
      "...        ...          ...        ...        ...                 ...\n",
      "4257         D           EX        GIA      81399  Signature-Ideal, D\n",
      "4401         D           VG        GIA      83145        Very Good, D\n",
      "1881         D           EX        GIA      93813        Very Good, D\n",
      "188          D           EX        GIA      96493            Ideal, D\n",
      "3192         D           EX        GIA     101561            Ideal, D\n",
      "\n",
      "[6000 rows x 5 columns]\n"
     ]
    }
   ],
   "source": [
    "print(result)"
   ]
  },
  {
   "cell_type": "code",
   "execution_count": null,
   "id": "dfa35a6f",
   "metadata": {},
   "outputs": [],
   "source": []
  }
 ],
 "metadata": {
  "kernelspec": {
   "display_name": "Python 3 (ipykernel)",
   "language": "python",
   "name": "python3"
  },
  "language_info": {
   "codemirror_mode": {
    "name": "ipython",
    "version": 3
   },
   "file_extension": ".py",
   "mimetype": "text/x-python",
   "name": "python",
   "nbconvert_exporter": "python",
   "pygments_lexer": "ipython3",
   "version": "3.9.7"
  }
 },
 "nbformat": 4,
 "nbformat_minor": 5
}

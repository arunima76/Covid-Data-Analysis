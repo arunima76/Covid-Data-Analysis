{
 "cells": [
  {
   "cell_type": "code",
   "execution_count": 1,
   "id": "e9697666",
   "metadata": {},
   "outputs": [
    {
     "name": "stdout",
     "output_type": "stream",
     "text": [
      "{'Black', 'Red', 'Yellow', 'Blue', 'Green', 'Orange'}\n"
     ]
    }
   ],
   "source": [
    "sample_set = {\"Yellow\",\"Black\",\"Orange\",\"Red\",\"Blue\"}\n",
    "sample_list = [\"Blue\",\"Green\",\"Red\"]\n",
    "\n",
    "sample_set.update(sample_list)\n",
    "print(sample_set)"
   ]
  },
  {
   "cell_type": "code",
   "execution_count": 2,
   "id": "b95f8575",
   "metadata": {},
   "outputs": [
    {
     "name": "stdout",
     "output_type": "stream",
     "text": [
      "{'Black', 'Red', 'Yellow', 'Blue', 'Green', 'Orange'}\n"
     ]
    }
   ],
   "source": [
    "sample_set = {\"Yellow\",\"Black\",\"Orange\",\"Red\",\"Blue\"}\n",
    "sample_list = [\"Blue\",\"Green\",\"Red\"]\n",
    "\n",
    "sample_set.update(sample_list)\n",
    "print(sample_set)"
   ]
  },
  {
   "cell_type": "code",
   "execution_count": 3,
   "id": "401e8a38",
   "metadata": {},
   "outputs": [
    {
     "name": "stdout",
     "output_type": "stream",
     "text": [
      "{40, 50, 30}\n"
     ]
    }
   ],
   "source": [
    "set1 = {10, 20, 30, 40, 50}\n",
    "set2 = {30, 40, 50, 60, 70}\n",
    "\n",
    "print(set1.intersection(set2))"
   ]
  },
  {
   "cell_type": "code",
   "execution_count": 4,
   "id": "4720656b",
   "metadata": {},
   "outputs": [
    {
     "name": "stdout",
     "output_type": "stream",
     "text": [
      "{40, 50, 30}\n"
     ]
    }
   ],
   "source": [
    "set1 = {10,20,30,40,50}\n",
    "set2 = {30,40,50,60,70}\n",
    "\n",
    "print(set1.intersection(set2))"
   ]
  },
  {
   "cell_type": "code",
   "execution_count": 5,
   "id": "f5dc202c",
   "metadata": {},
   "outputs": [
    {
     "name": "stdout",
     "output_type": "stream",
     "text": [
      "{70, 40, 10, 50, 20, 60, 30}\n"
     ]
    }
   ],
   "source": [
    "set1 = {10, 20, 30, 40, 50}\n",
    "set2 = {30, 40, 50, 60, 70}\n",
    "\n",
    "print(set1.union(set2))"
   ]
  },
  {
   "cell_type": "code",
   "execution_count": 6,
   "id": "c60a9308",
   "metadata": {},
   "outputs": [
    {
     "name": "stdout",
     "output_type": "stream",
     "text": [
      "{10, 30}\n"
     ]
    }
   ],
   "source": [
    "set1 = {10, 20, 30}\n",
    "set2 = {20, 40, 50}\n",
    "\n",
    "set1.difference_update(set2)\n",
    "print(set1)"
   ]
  },
  {
   "cell_type": "code",
   "execution_count": 7,
   "id": "5eb9289b",
   "metadata": {},
   "outputs": [
    {
     "name": "stdout",
     "output_type": "stream",
     "text": [
      "{10, 30}\n"
     ]
    }
   ],
   "source": [
    "set1 = {10,20,30}\n",
    "set2 = {20,40,50}\n",
    "\n",
    "set1.difference_update(set2)\n",
    "print(set1)"
   ]
  },
  {
   "cell_type": "code",
   "execution_count": 8,
   "id": "5c69b56c",
   "metadata": {},
   "outputs": [],
   "source": [
    "set1 = {10, 20, 30, 40, 50}"
   ]
  },
  {
   "cell_type": "code",
   "execution_count": 9,
   "id": "16b2f8a0",
   "metadata": {},
   "outputs": [],
   "source": [
    "set1.difference_update({10, 20, 30})"
   ]
  },
  {
   "cell_type": "code",
   "execution_count": 10,
   "id": "22f5c8f6",
   "metadata": {},
   "outputs": [
    {
     "name": "stdout",
     "output_type": "stream",
     "text": [
      "{50, 40}\n"
     ]
    }
   ],
   "source": [
    "print(set1)"
   ]
  },
  {
   "cell_type": "code",
   "execution_count": 11,
   "id": "6af6411a",
   "metadata": {},
   "outputs": [],
   "source": [
    "set1 = {10, 20, 30, 40, 50}\n",
    "set2 = {30, 40, 50, 60, 70}"
   ]
  },
  {
   "cell_type": "code",
   "execution_count": 12,
   "id": "dddfcddd",
   "metadata": {},
   "outputs": [
    {
     "name": "stdout",
     "output_type": "stream",
     "text": [
      "{20, 70, 10, 60}\n"
     ]
    }
   ],
   "source": [
    "print(set1.symmetric_difference(set2))"
   ]
  },
  {
   "cell_type": "code",
   "execution_count": 13,
   "id": "43c67e8f",
   "metadata": {},
   "outputs": [
    {
     "name": "stdout",
     "output_type": "stream",
     "text": [
      "Two sets have items in common\n",
      "{10}\n"
     ]
    }
   ],
   "source": [
    "set1 = {10, 20, 30, 40, 50}\n",
    "set2 = {60, 70, 80, 90, 10}\n",
    "\n",
    "if set1.isdisjoint(set2):\n",
    "  print(\"Two sets have no items in common\")\n",
    "else:\n",
    "  print(\"Two sets have items in common\")\n",
    "  print(set1.intersection(set2))\n",
    "\n",
    "\n",
    " "
   ]
  },
  {
   "cell_type": "code",
   "execution_count": 14,
   "id": "938dcd6e",
   "metadata": {},
   "outputs": [
    {
     "name": "stdout",
     "output_type": "stream",
     "text": [
      "{20, 70, 10, 60}\n"
     ]
    }
   ],
   "source": [
    "set1 = {10, 20, 30, 40, 50}\n",
    "set2 = {30, 40, 50, 60, 70}\n",
    "\n",
    "set1.symmetric_difference_update(set2)\n",
    "print(set1)"
   ]
  },
  {
   "cell_type": "code",
   "execution_count": 15,
   "id": "436d731b",
   "metadata": {},
   "outputs": [
    {
     "name": "stdout",
     "output_type": "stream",
     "text": [
      "{40, 50, 30}\n"
     ]
    }
   ],
   "source": [
    "set1 = {10, 20, 30, 40, 50}\n",
    "set2 = {30, 40, 50, 60, 70}\n",
    "\n",
    "set1.intersection_update(set2)\n",
    "print(set1)"
   ]
  },
  {
   "cell_type": "code",
   "execution_count": 16,
   "id": "18eb0af2",
   "metadata": {},
   "outputs": [
    {
     "name": "stdout",
     "output_type": "stream",
     "text": [
      "{50, 20, 30}\n"
     ]
    }
   ],
   "source": [
    "number_list = [20, 30, 20, 30, 50, 30]\n",
    "\n",
    "sample_set = set(number_list)\n",
    "\n",
    "print(sample_set)"
   ]
  },
  {
   "cell_type": "code",
   "execution_count": 20,
   "id": "e7fb154f",
   "metadata": {},
   "outputs": [
    {
     "name": "stdout",
     "output_type": "stream",
     "text": [
      "set()\n"
     ]
    }
   ],
   "source": [
    "empty_set = set()\n",
    "print(empty_set)"
   ]
  },
  {
   "cell_type": "code",
   "execution_count": 29,
   "id": "967a6c08",
   "metadata": {},
   "outputs": [
    {
     "name": "stdout",
     "output_type": "stream",
     "text": [
      "Angels and Demons\n",
      "Atlas Shrugged\n",
      "Harry Potter\n"
     ]
    }
   ],
   "source": [
    "book_set = {\"Harry Potter\", \"Angels and Demons\", \"Atlas Shrugged\"}\n",
    "for book in book_set:\n",
    "    print(book)"
   ]
  },
  {
   "cell_type": "code",
   "execution_count": 31,
   "id": "c3d91c57",
   "metadata": {},
   "outputs": [
    {
     "name": "stdout",
     "output_type": "stream",
     "text": [
      "Book exists in the book set\n"
     ]
    }
   ],
   "source": [
    "book_set = {\"Harry Potter\", \"Angels and Demons\", \"Atlas Shrugged\"}\n",
    "if 'Harry Potter' in book_set:\n",
    "    print(\"Book exists in the book set\")\n",
    "else:\n",
    "    print(\"Book doesn't exist in the book set\")\n",
    "  "
   ]
  },
  {
   "cell_type": "code",
   "execution_count": 33,
   "id": "00b5f599",
   "metadata": {},
   "outputs": [
    {
     "name": "stdout",
     "output_type": "stream",
     "text": [
      "Book exists in the book set\n"
     ]
    }
   ],
   "source": [
    "book_set = {\"Harry Potter\", \"Angels and Demons\", \"Atlas Shrugged\"}\n",
    "if 'Atlas Shrugged' in book_set:\n",
    "    print(\"Book exists in the book set\")\n",
    "else:\n",
    "    print(\"Book doesn't exist in the book set\")\n",
    "    "
   ]
  },
  {
   "cell_type": "code",
   "execution_count": 34,
   "id": "bb3371f1",
   "metadata": {},
   "outputs": [
    {
     "name": "stdout",
     "output_type": "stream",
     "text": [
      "Original String is James\n"
     ]
    }
   ],
   "source": [
    "str1 = \"James\"\n",
    "print(\"Original String is\", str1)"
   ]
  },
  {
   "cell_type": "code",
   "execution_count": 35,
   "id": "5c33d05b",
   "metadata": {},
   "outputs": [],
   "source": [
    "res = str1[0]"
   ]
  },
  {
   "cell_type": "code",
   "execution_count": 36,
   "id": "db114308",
   "metadata": {},
   "outputs": [
    {
     "name": "stdout",
     "output_type": "stream",
     "text": [
      "Original String is James\n",
      "Jms\n"
     ]
    }
   ],
   "source": [
    "str1 = \"James\"\n",
    "print(\"Original String is\",str1)\n",
    "\n",
    "res = str1[0]\n",
    "\n",
    "l = len(str1)\n",
    "mi = int(l/2)\n",
    "\n",
    "res = res + str1[mi]\n",
    "\n",
    "res = res + str1[l-1]\n",
    "\n",
    "print(res)"
   ]
  },
  {
   "cell_type": "code",
   "execution_count": 38,
   "id": "90257b0b",
   "metadata": {},
   "outputs": [
    {
     "name": "stdout",
     "output_type": "stream",
     "text": [
      "Original String is James\n",
      "Jms\n"
     ]
    }
   ],
   "source": [
    "str1 = \"James\"\n",
    "print(\"Original String is\",str1)\n",
    "\n",
    "res = str1[0]\n",
    "\n",
    "l= len(str1)\n",
    "mi = int(l/2)\n",
    "\n",
    "res = res + str1[mi]\n",
    "res = res + str1[l-1]\n",
    "\n",
    "print(res)"
   ]
  },
  {
   "cell_type": "code",
   "execution_count": 42,
   "id": "0dd6fa6a",
   "metadata": {},
   "outputs": [
    {
     "name": "stdout",
     "output_type": "stream",
     "text": [
      "Original String is JhonDipPeta\n",
      "Middle three chars are: Dip\n",
      "Original String is JaSonAy\n",
      "Middle three chars are: Son\n"
     ]
    }
   ],
   "source": [
    "def get_middle_three_chars(str1):\n",
    "    print(\"Original String is\", str1)\n",
    "\n",
    "    # first get middle index number\n",
    "    mi = int(len(str1) / 2)\n",
    "\n",
    "    # use string slicing to get result characters\n",
    "    res = str1[mi - 1:mi + 2]\n",
    "    print(\"Middle three chars are:\", res)\n",
    "\n",
    "get_middle_three_chars(\"JhonDipPeta\")\n",
    "get_middle_three_chars(\"JaSonAy\")"
   ]
  },
  {
   "cell_type": "code",
   "execution_count": 43,
   "id": "e205ebfa",
   "metadata": {},
   "outputs": [
    {
     "name": "stdout",
     "output_type": "stream",
     "text": [
      "Original String is JhonDipPeta\n",
      "Middle three chars are Dip\n",
      "Original String is JaSonAy\n",
      "Middle three chars are Son\n"
     ]
    }
   ],
   "source": [
    "def get_middle_three_chars(str1):\n",
    "    print(\"Original String is\",str1)\n",
    "    \n",
    "    mi = int(len(str1)/2)\n",
    "    \n",
    "    res = str1[mi-1:mi + 2]\n",
    "    print(\"Middle three chars are\",res)\n",
    "get_middle_three_chars(\"JhonDipPeta\")\n",
    "get_middle_three_chars(\"JaSonAy\")"
   ]
  },
  {
   "cell_type": "code",
   "execution_count": 50,
   "id": "591a8b98",
   "metadata": {},
   "outputs": [
    {
     "name": "stdout",
     "output_type": "stream",
     "text": [
      "Mix String is  AJrpan\n"
     ]
    }
   ],
   "source": [
    "#Create a new string made of the first, middle, and last characters of each input string\n",
    "def mix_string(s1, s2):\n",
    "    # get first character from both string\n",
    "    first_char = s1[0] + s2[0]\n",
    "\n",
    "    # get middle character from both string\n",
    "    middle_char = s1[int(len(s1) / 2):int(len(s1) / 2) + 1] + s2[int(len(s2) / 2):int(len(s2) / 2) + 1]\n",
    "\n",
    "    # get last character from both string\n",
    "    last_char = s1[len(s1) - 1] + s2[len(s2) - 1]\n",
    "\n",
    "    # add all\n",
    "    res = first_char + middle_char + last_char\n",
    "    print(\"Mix String is \", res)\n",
    "\n",
    "s1 = \"America\"\n",
    "s2 = \"Japan\"\n",
    "mix_string(s1, s2)\n"
   ]
  },
  {
   "cell_type": "code",
   "execution_count": 52,
   "id": "4f8d4089",
   "metadata": {},
   "outputs": [
    {
     "name": "stdout",
     "output_type": "stream",
     "text": [
      "Mix string is AJrpan\n"
     ]
    }
   ],
   "source": [
    "def mix_string(s1,s2):\n",
    "    first_char = s1[0] + s2[0]\n",
    "    middle_char = s1[int(len(s1) / 2):int(len(s1) / 2) + 1] + s2[int(len(s2) / 2):int(len(s2) / 2) + 1]\n",
    "    last_char = s1[len(s1)-1] + s2[len(s2)-1]\n",
    "    res = first_char + middle_char + last_char\n",
    "    print(\"Mix string is\",res)\n",
    "s1 = \"America\"\n",
    "s2 = \"Japan\"\n",
    "                         \n",
    "mix_string(s1,s2)"
   ]
  },
  {
   "cell_type": "code",
   "execution_count": 53,
   "id": "4b1cedfe",
   "metadata": {},
   "outputs": [
    {
     "name": "stdout",
     "output_type": "stream",
     "text": [
      "Original String: PYnAtivE\n",
      "Result: ntivPYAE\n"
     ]
    }
   ],
   "source": [
    "str1 = \"PYnAtivE\"\n",
    "print('Original String:', str1)\n",
    "lower = []\n",
    "upper = []\n",
    "for char in str1:\n",
    "    if char.islower():\n",
    "        lower.append(char)\n",
    "    else:\n",
    "        upper.append(char)\n",
    "sorted_str = ''.join(lower + upper)\n",
    "print('Result:', sorted_str)"
   ]
  },
  {
   "cell_type": "code",
   "execution_count": 54,
   "id": "5064fbd6",
   "metadata": {},
   "outputs": [
    {
     "name": "stdout",
     "output_type": "stream",
     "text": [
      "Original String PYnAtivE\n",
      "Result ntivPYAE\n"
     ]
    }
   ],
   "source": [
    "str1 = \"PYnAtivE\"\n",
    "print(\"Original String\",str1)\n",
    "lower = []\n",
    "upper = []\n",
    "for char in str1:\n",
    "    if char.islower():\n",
    "        lower.append(char)\n",
    "    else: \n",
    "        upper.append(char)\n",
    "sorted_str = ''.join(lower + upper)\n",
    "print('Result',sorted_str)"
   ]
  },
  {
   "cell_type": "code",
   "execution_count": 55,
   "id": "d85e6fc5",
   "metadata": {},
   "outputs": [
    {
     "name": "stdout",
     "output_type": "stream",
     "text": [
      "Original String PYnAtivE\n",
      "Result ntivPYAE\n"
     ]
    }
   ],
   "source": [
    "str1 = \"PYnAtivE\"\n",
    "print(\"Original String\",str1)\n",
    "lower = []\n",
    "upper = []\n",
    "\n",
    "for char in str1:\n",
    "    if char.islower():\n",
    "        lower.append(char)\n",
    "    else:\n",
    "        upper.append(char)\n",
    "sorted_str = ''.join(lower + upper)\n",
    "print('Result',sorted_str)"
   ]
  },
  {
   "cell_type": "code",
   "execution_count": 56,
   "id": "b97bdef4",
   "metadata": {},
   "outputs": [
    {
     "name": "stdout",
     "output_type": "stream",
     "text": [
      "total counts of chars, Digits, and symbols \n",
      "\n",
      "Chars = 8 Digits = 2 Symbol = 3\n"
     ]
    }
   ],
   "source": [
    "def find_digits_chars_symbols(sample_str):\n",
    "    char_count = 0\n",
    "    digit_count = 0\n",
    "    symbol_count = 0\n",
    "    for char in sample_str:\n",
    "        if char.isalpha():\n",
    "            char_count += 1\n",
    "        elif char.isdigit():\n",
    "            digit_count += 1\n",
    "        # if it is not letter or digit then it is special symbol\n",
    "        else:\n",
    "            symbol_count += 1\n",
    "\n",
    "    print(\"Chars =\", char_count, \"Digits =\", digit_count, \"Symbol =\", symbol_count)\n",
    "\n",
    "sample_str = \"P@yn2at&#i5ve\"\n",
    "print(\"total counts of chars, Digits, and symbols \\n\")\n",
    "find_digits_chars_symbols(sample_str)"
   ]
  },
  {
   "cell_type": "code",
   "execution_count": 60,
   "id": "ad485c95",
   "metadata": {},
   "outputs": [],
   "source": [
    "def find_digits_chars_symbols(sample_str):\n",
    "    char_count = 0 \n",
    "    digit_count = 0 \n",
    "    symbol_count = 0\n",
    "    for char in sample_str:\n",
    "        if char.isalpha():\n",
    "            char_count += 1\n",
    "        elif char.isdigit():\n",
    "            digit.count += 1\n",
    "        else:\n",
    "            symbol_count += 1\n",
    "    print(\"Chars=\",char_count, \"Digits=\",digit_count,\"Symbol=\",symbol_count)\n",
    "    sample_str = \"P@yn2at&#i5ve\"\n",
    "    print (\"total counts of chars, Digits, and symbol\\n\")\n",
    "    find_digits_chars_symbols(sample_str)\n",
    "    "
   ]
  },
  {
   "cell_type": "code",
   "execution_count": null,
   "id": "e0812920",
   "metadata": {},
   "outputs": [],
   "source": [
    "s1 = \"Abc\"\n",
    "s2 = \"Xyz\"\n",
    "\n",
    "# get string length\n",
    "s1_length = len(s1)\n",
    "s2_length = len(s2)\n",
    "\n",
    "# get length of a bigger string\n",
    "length = s1_length if s1_length > s2_length else s2_length\n",
    "result = \"\"\n",
    "\n",
    "# reverse s2\n",
    "s2 = s2[::-1]\n",
    "\n",
    "# iterate string \n",
    "# s1 ascending and s2 descending\n",
    "for i in range(length):\n",
    "    if i < s1_length:\n",
    "        result = result + s1[i]\n",
    "    if i < s2_length:\n",
    "        result = result + s2[i]\n",
    "\n",
    "print(result)"
   ]
  },
  {
   "cell_type": "code",
   "execution_count": 63,
   "id": "946115dc",
   "metadata": {},
   "outputs": [
    {
     "name": "stdout",
     "output_type": "stream",
     "text": [
      "AzbycX\n"
     ]
    }
   ],
   "source": [
    "s1 = \"Abc\"\n",
    "s2 = \"Xyz\"\n",
    "\n",
    "# get string length\n",
    "s1_length = len(s1)\n",
    "s2_length = len(s2)\n",
    "\n",
    "# get length of a bigger string\n",
    "length = s1_length if s1_length > s2_length else s2_length\n",
    "result = \"\"\n",
    "\n",
    "# reverse s2\n",
    "s2 = s2[::-1]\n",
    "\n",
    "# iterate string \n",
    "# s1 ascending and s2 descending\n",
    "for i in range(length):\n",
    "    if i < s1_length:\n",
    "        result = result + s1[i]\n",
    "    if i < s2_length:\n",
    "        result = result + s2[i]\n",
    "\n",
    "print(result)"
   ]
  },
  {
   "cell_type": "code",
   "execution_count": 64,
   "id": "570976a0",
   "metadata": {},
   "outputs": [
    {
     "name": "stdout",
     "output_type": "stream",
     "text": [
      "AzbycX\n"
     ]
    }
   ],
   "source": [
    "s1 = \"Abc\"\n",
    "s2 = \"Xyz\"\n",
    "\n",
    "s1_length = len(s1)\n",
    "s2_length = len(s2)\n",
    "\n",
    "length = s1_length if s1_length > s2_length else s2_length\n",
    "result = \"\"\n",
    "\n",
    "s2 = s2[::-1]\n",
    "\n",
    "for i in range(length): \n",
    "    if i < s1_length:\n",
    "        result = result + s1[i]\n",
    "    if i < s2_length:\n",
    "        result = result + s2[i]\n",
    "print(result)"
   ]
  },
  {
   "cell_type": "code",
   "execution_count": 65,
   "id": "f2db2cde",
   "metadata": {},
   "outputs": [
    {
     "name": "stdout",
     "output_type": "stream",
     "text": [
      "2\n"
     ]
    }
   ],
   "source": [
    "str1 = \"Welcome to USA. usa awesome, isn't it?\"\n",
    "sub_string = \"USA\"\n",
    "\n",
    "temp_str = str1.lower()\n",
    "count = temp_str.count(sub_string.lower())\n",
    "\n",
    "print(count)\n"
   ]
  },
  {
   "cell_type": "code",
   "execution_count": 66,
   "id": "356184f7",
   "metadata": {},
   "outputs": [
    {
     "name": "stdout",
     "output_type": "stream",
     "text": [
      "AMINURA\n"
     ]
    }
   ],
   "source": [
    "#Reverse a string \n",
    "\n",
    "String1 = \"ARUNIMA\"\n",
    "string2 = String1[::-1]\n",
    "print(string2)"
   ]
  },
  {
   "cell_type": "code",
   "execution_count": 67,
   "id": "10107baa",
   "metadata": {},
   "outputs": [
    {
     "name": "stdout",
     "output_type": "stream",
     "text": [
      "Counter({'p': 2, 'A': 1, 'l': 1, 'e': 1})\n"
     ]
    }
   ],
   "source": [
    "from collections import Counter\n",
    "str1 = \"Apple\"\n",
    "res = Counter(str1)\n",
    "print(res)\n"
   ]
  },
  {
   "cell_type": "code",
   "execution_count": 68,
   "id": "d9ec81e4",
   "metadata": {},
   "outputs": [
    {
     "name": "stdout",
     "output_type": "stream",
     "text": [
      "Sum is: 38 Average is  6.333333333333333\n"
     ]
    }
   ],
   "source": [
    "input_str = \"PYnative29@#8496\"\n",
    "total = 0\n",
    "cnt = 0\n",
    "for char in input_str:\n",
    "    if char.isdigit():\n",
    "        total += int(char)\n",
    "        cnt += 1\n",
    "\n",
    "# average = sum / count of digits\n",
    "avg = total / cnt\n",
    "print(\"Sum is:\", total, \"Average is \", avg)"
   ]
  },
  {
   "cell_type": "code",
   "execution_count": 69,
   "id": "6ce4b790",
   "metadata": {},
   "outputs": [],
   "source": [
    "str_list = [\"Emma\", \"Jon\", \"\", \"Kelly\", None, \"Eric\", \"\"]"
   ]
  },
  {
   "cell_type": "code",
   "execution_count": 70,
   "id": "53e2d4bd",
   "metadata": {},
   "outputs": [],
   "source": [
    "new_str_list = list(filter(None, str_list))"
   ]
  },
  {
   "cell_type": "code",
   "execution_count": 71,
   "id": "238b805f",
   "metadata": {},
   "outputs": [
    {
     "name": "stdout",
     "output_type": "stream",
     "text": [
      "['Emma', 'Jon', 'Kelly', 'Eric']\n"
     ]
    }
   ],
   "source": [
    "print(new_str_list)"
   ]
  },
  {
   "cell_type": "code",
   "execution_count": 72,
   "id": "01e107c5",
   "metadata": {},
   "outputs": [],
   "source": [
    "str_list = [\"Emma\",\"Jon\",\"\",\"Kelly\",None,\"Eric\",\"\"]"
   ]
  },
  {
   "cell_type": "code",
   "execution_count": 73,
   "id": "f081e11a",
   "metadata": {},
   "outputs": [],
   "source": [
    "new_str_list = list(filter(None,str_list))"
   ]
  },
  {
   "cell_type": "code",
   "execution_count": 74,
   "id": "46df2917",
   "metadata": {},
   "outputs": [
    {
     "name": "stdout",
     "output_type": "stream",
     "text": [
      "['Emma', 'Jon', 'Kelly', 'Eric']\n"
     ]
    }
   ],
   "source": [
    "print(new_str_list)"
   ]
  },
  {
   "cell_type": "code",
   "execution_count": 75,
   "id": "2c0b3014",
   "metadata": {},
   "outputs": [
    {
     "name": "stdout",
     "output_type": "stream",
     "text": [
      "Original String is: Emma-is-a-data-scientist\n",
      "Displaying each substring\n",
      "Emma\n",
      "is\n",
      "a\n",
      "data\n",
      "scientist\n"
     ]
    }
   ],
   "source": [
    "str1 = \"Emma-is-a-data-scientist\"\n",
    "print(\"Original String is:\", str1)\n",
    "\n",
    "sub_strings = str1.split(\"-\")\n",
    "print(\"Displaying each substring\")\n",
    "for sub in sub_strings:\n",
    "    print(sub)"
   ]
  },
  {
   "cell_type": "code",
   "execution_count": 76,
   "id": "55f68cc0",
   "metadata": {},
   "outputs": [
    {
     "name": "stdout",
     "output_type": "stream",
     "text": [
      "Displaying String is Emma-is-a-data-scientist\n",
      "Displaying each substring\n",
      "Emma\n",
      "is\n",
      "a\n",
      "data\n",
      "scientist\n"
     ]
    }
   ],
   "source": [
    "str1 = \"Emma-is-a-data-scientist\"\n",
    "print(\"Displaying String is\",str1)\n",
    "\n",
    "sub_strings = str1.split(\"-\")\n",
    "print(\"Displaying each substring\")\n",
    "\n",
    "for sub in sub_strings:\n",
    "    print(sub)\n"
   ]
  },
  {
   "cell_type": "code",
   "execution_count": 77,
   "id": "3b2473e3",
   "metadata": {},
   "outputs": [
    {
     "name": "stdout",
     "output_type": "stream",
     "text": [
      "Original string is  /*Jon is @developer & musician\n",
      "New string is  Jon is developer  musician\n"
     ]
    }
   ],
   "source": [
    "import string\n",
    "\n",
    "str1 = \"/*Jon is @developer & musician\"\n",
    "print(\"Original string is \", str1)\n",
    "\n",
    "new_str = str1.translate(str.maketrans('', '', string.punctuation))\n",
    "\n",
    "print(\"New string is \", new_str)"
   ]
  },
  {
   "cell_type": "code",
   "execution_count": 81,
   "id": "50e1c778",
   "metadata": {},
   "outputs": [
    {
     "name": "stdout",
     "output_type": "stream",
     "text": [
      "Original string is /*Jon is @developer & musician\n",
      "New string is Jon is developer  musician\n"
     ]
    }
   ],
   "source": [
    "import string \n",
    "str1 = \"/*Jon is @developer & musician\"\n",
    "print(\"Original string is\",str1)\n",
    "\n",
    "new_str = str1.translate(str.maketrans('','',string.punctuation))\n",
    "\n",
    "print(\"New string is\", new_str)\n",
    "\n"
   ]
  },
  {
   "cell_type": "code",
   "execution_count": 79,
   "id": "113878e2",
   "metadata": {},
   "outputs": [
    {
     "name": "stdout",
     "output_type": "stream",
     "text": [
      "Original string is I am 25 years and 10 months old\n"
     ]
    }
   ],
   "source": [
    "str1 = 'I am 25 years and 10 months old'\n",
    "print(\"Original string is\", str1)"
   ]
  },
  {
   "cell_type": "code",
   "execution_count": 82,
   "id": "c6799cca",
   "metadata": {},
   "outputs": [],
   "source": [
    "res = \"\".join([item for item in str1 if item.isdigit()])"
   ]
  },
  {
   "cell_type": "code",
   "execution_count": 84,
   "id": "9bdb004b",
   "metadata": {},
   "outputs": [
    {
     "name": "stdout",
     "output_type": "stream",
     "text": [
      "\n"
     ]
    }
   ],
   "source": [
    "print(res)"
   ]
  },
  {
   "cell_type": "raw",
   "id": "546735a1",
   "metadata": {},
   "source": [
    "\n",
    "  "
   ]
  },
  {
   "cell_type": "code",
   "execution_count": 88,
   "id": "d8a23cb5",
   "metadata": {},
   "outputs": [
    {
     "ename": "SyntaxError",
     "evalue": "EOL while scanning string literal (Temp/ipykernel_6504/27430358.py, line 1)",
     "output_type": "error",
     "traceback": [
      "\u001b[1;36m  File \u001b[1;32m\"C:\\Users\\Arunima\\AppData\\Local\\Temp/ipykernel_6504/27430358.py\"\u001b[1;36m, line \u001b[1;32m1\u001b[0m\n\u001b[1;33m    test_str = 'Emma is a data scientist50 and AI Expert\"\u001b[0m\n\u001b[1;37m                                                         ^\u001b[0m\n\u001b[1;31mSyntaxError\u001b[0m\u001b[1;31m:\u001b[0m EOL while scanning string literal\n"
     ]
    }
   ],
   "source": [
    "test_str = 'Emma is a data scientist50 and AI Expert\"\n",
    "  \n",
    "# printing original string\n",
    "print(\"The original string is : \" + test_str)\n",
    "  \n",
    "# Words with both alphabets and numbers\n",
    "# Using isdigit() + isalpha() + any()\n",
    "res = []\n",
    "temp = test_str.split()\n",
    "for idx in temp:\n",
    "    if any(chr.isalpha() for chr in idx) and any(chr.isdigit() for chr in idx):\n",
    "        res.append(idx)\n",
    "          \n",
    "# printing result \n",
    "print(\"Words with alphabets and numbers : \" + str(res)) "
   ]
  },
  {
   "cell_type": "code",
   "execution_count": 89,
   "id": "c10670a0",
   "metadata": {},
   "outputs": [
    {
     "name": "stdout",
     "output_type": "stream",
     "text": [
      "The origibal string is:Emma is a data scientist50 and AI Expert\n",
      "Words with alphanets and numbers:['scientist50']\n"
     ]
    }
   ],
   "source": [
    "test_str = 'Emma is a data scientist50 and AI Expert'\n",
    "print(\"The origibal string is:\" + test_str)\n",
    "\n",
    "res = []\n",
    "temp = test_str.split()\n",
    "for idx in temp:\n",
    "    if any(chr.isalpha() for chr in idx) and any(chr.isdigit()for chr in idx):\n",
    "        res.append(idx)\n",
    "        \n",
    "print(\"Words with alphanets and numbers:\"+str(res))"
   ]
  },
  {
   "cell_type": "code",
   "execution_count": 91,
   "id": "e9742843",
   "metadata": {},
   "outputs": [
    {
     "data": {
      "text/plain": [
       "'arunima'"
      ]
     },
     "execution_count": 91,
     "metadata": {},
     "output_type": "execute_result"
    }
   ],
   "source": [
    "\"ARUNIMA\".casefold()\n"
   ]
  },
  {
   "cell_type": "code",
   "execution_count": 93,
   "id": "25672fe2",
   "metadata": {},
   "outputs": [
    {
     "data": {
      "text/plain": [
       "'THIS IS A STRING'"
      ]
     },
     "execution_count": 93,
     "metadata": {},
     "output_type": "execute_result"
    }
   ],
   "source": [
    "\"This is a string\".upper()"
   ]
  },
  {
   "cell_type": "code",
   "execution_count": 96,
   "id": "b4fb77bf",
   "metadata": {},
   "outputs": [
    {
     "data": {
      "text/plain": [
       "'this is a string'"
      ]
     },
     "execution_count": 96,
     "metadata": {},
     "output_type": "execute_result"
    }
   ],
   "source": [
    "\"THIS IS A STRING\".lower()"
   ]
  },
  {
   "cell_type": "code",
   "execution_count": null,
   "id": "4f115190",
   "metadata": {},
   "outputs": [],
   "source": [
    "\"this Is A 'String'.\".capitalize()"
   ]
  },
  {
   "cell_type": "code",
   "execution_count": 100,
   "id": "ed48c1bf",
   "metadata": {},
   "outputs": [
    {
     "data": {
      "text/plain": [
       "\"This Is A 'String'\""
      ]
     },
     "execution_count": 100,
     "metadata": {},
     "output_type": "execute_result"
    }
   ],
   "source": [
    "\"this Is a 'String'\".title()\n"
   ]
  },
  {
   "cell_type": "code",
   "execution_count": 101,
   "id": "8c38191c",
   "metadata": {},
   "outputs": [
    {
     "data": {
      "text/plain": [
       "'THIS Is a strIng'"
      ]
     },
     "execution_count": 101,
     "metadata": {},
     "output_type": "execute_result"
    }
   ],
   "source": [
    "\"this iS A STRiNG\".swapcase()"
   ]
  },
  {
   "cell_type": "code",
   "execution_count": 108,
   "id": "b29931da",
   "metadata": {},
   "outputs": [
    {
     "ename": "TypeError",
     "evalue": "str.translate() takes exactly one argument (2 given)",
     "output_type": "error",
     "traceback": [
      "\u001b[1;31m---------------------------------------------------------------------------\u001b[0m",
      "\u001b[1;31mTypeError\u001b[0m                                 Traceback (most recent call last)",
      "\u001b[1;32m~\\AppData\\Local\\Temp/ipykernel_6504/3115157147.py\u001b[0m in \u001b[0;36m<module>\u001b[1;34m\u001b[0m\n\u001b[1;32m----> 1\u001b[1;33m \u001b[1;34m'this syntax is very useful'\u001b[0m\u001b[1;33m.\u001b[0m\u001b[0mtranslate\u001b[0m\u001b[1;33m(\u001b[0m\u001b[1;32mNone\u001b[0m\u001b[1;33m,\u001b[0m \u001b[1;34m'aeiou'\u001b[0m\u001b[1;33m)\u001b[0m\u001b[1;33m\u001b[0m\u001b[1;33m\u001b[0m\u001b[0m\n\u001b[0m",
      "\u001b[1;31mTypeError\u001b[0m: str.translate() takes exactly one argument (2 given)"
     ]
    }
   ],
   "source": [
    "'this syntax is very useful'.translate(None, 'aeiou')\n"
   ]
  },
  {
   "cell_type": "code",
   "execution_count": 109,
   "id": "b27b1c6b",
   "metadata": {},
   "outputs": [
    {
     "data": {
      "text/plain": [
       "'I am from Australia. I love cupcakes from Australia!'"
      ]
     },
     "execution_count": 109,
     "metadata": {},
     "output_type": "execute_result"
    }
   ],
   "source": [
    "\"I am from {}. I love cupcakes from {}!\".format(\"Australia\", \"Australia\")"
   ]
  },
  {
   "cell_type": "code",
   "execution_count": 110,
   "id": "32d84dd4",
   "metadata": {},
   "outputs": [
    {
     "data": {
      "text/plain": [
       "'I am from Australia. I love cupcakes from Australia!'"
      ]
     },
     "execution_count": 110,
     "metadata": {},
     "output_type": "execute_result"
    }
   ],
   "source": [
    "\"I am from {0}. I love cupcakes from {0}!\".format(\"Australia\")"
   ]
  },
  {
   "cell_type": "code",
   "execution_count": 111,
   "id": "f07be2e4",
   "metadata": {},
   "outputs": [
    {
     "data": {
      "text/plain": [
       "'I am from Australia.I love cupcakes from Australia!'"
      ]
     },
     "execution_count": 111,
     "metadata": {},
     "output_type": "execute_result"
    }
   ],
   "source": [
    "\"I am from {}.I love cupcakes from {}!\".format(\"Australia\",\"Australia\")"
   ]
  },
  {
   "cell_type": "code",
   "execution_count": 112,
   "id": "0338f819",
   "metadata": {},
   "outputs": [
    {
     "data": {
      "text/plain": [
       "'I am from India. I love cupcakes fromIndia!'"
      ]
     },
     "execution_count": 112,
     "metadata": {},
     "output_type": "execute_result"
    }
   ],
   "source": [
    "\"I am from {0}. I love cupcakes from{0}!\".format(\"India\",\"India\")"
   ]
  },
  {
   "cell_type": "code",
   "execution_count": 117,
   "id": "7c856693",
   "metadata": {},
   "outputs": [
    {
     "data": {
      "text/plain": [
       "'abcdefghijklmnopqrstuvwxyz'"
      ]
     },
     "execution_count": 117,
     "metadata": {},
     "output_type": "execute_result"
    }
   ],
   "source": [
    "string.ascii_lowercase"
   ]
  },
  {
   "cell_type": "code",
   "execution_count": 118,
   "id": "401f7ddd",
   "metadata": {},
   "outputs": [
    {
     "data": {
      "text/plain": [
       "'ABCDEFGHIJKLMNOPQRSTUVWXYZ'"
      ]
     },
     "execution_count": 118,
     "metadata": {},
     "output_type": "execute_result"
    }
   ],
   "source": [
    "string.ascii_uppercase"
   ]
  },
  {
   "cell_type": "code",
   "execution_count": 129,
   "id": "fae1cc31",
   "metadata": {},
   "outputs": [
    {
     "data": {
      "text/plain": [
       "'0123456789'"
      ]
     },
     "execution_count": 129,
     "metadata": {},
     "output_type": "execute_result"
    }
   ],
   "source": [
    "string.digits\n",
    "        "
   ]
  },
  {
   "cell_type": "code",
   "execution_count": 130,
   "id": "a95dda1c",
   "metadata": {},
   "outputs": [
    {
     "data": {
      "text/plain": [
       "'0123456789abcdefABCDEF'"
      ]
     },
     "execution_count": 130,
     "metadata": {},
     "output_type": "execute_result"
    }
   ],
   "source": [
    "string.hexdigits:"
   ]
  },
  {
   "cell_type": "code",
   "execution_count": 131,
   "id": "ce04d586",
   "metadata": {},
   "outputs": [
    {
     "ename": "SyntaxError",
     "evalue": "invalid syntax (Temp/ipykernel_6504/3658971001.py, line 1)",
     "output_type": "error",
     "traceback": [
      "\u001b[1;36m  File \u001b[1;32m\"C:\\Users\\Arunima\\AppData\\Local\\Temp/ipykernel_6504/3658971001.py\"\u001b[1;36m, line \u001b[1;32m1\u001b[0m\n\u001b[1;33m    string.octaldigits:\u001b[0m\n\u001b[1;37m                       ^\u001b[0m\n\u001b[1;31mSyntaxError\u001b[0m\u001b[1;31m:\u001b[0m invalid syntax\n"
     ]
    }
   ],
   "source": [
    "string.octaldigits:"
   ]
  },
  {
   "cell_type": "code",
   "execution_count": 133,
   "id": "17a31cb4",
   "metadata": {},
   "outputs": [
    {
     "data": {
      "text/plain": [
       "'a line with leading and trailing space'"
      ]
     },
     "execution_count": 133,
     "metadata": {},
     "output_type": "execute_result"
    }
   ],
   "source": [
    " \" a line with leading and trailing space \".strip()"
   ]
  },
  {
   "cell_type": "code",
   "execution_count": 136,
   "id": "c4cc06e3",
   "metadata": {},
   "outputs": [
    {
     "data": {
      "text/plain": [
       "'spacious string'"
      ]
     },
     "execution_count": 136,
     "metadata": {},
     "output_type": "execute_result"
    }
   ],
   "source": [
    "\"spacious string \".rstrip()"
   ]
  },
  {
   "cell_type": "code",
   "execution_count": 137,
   "id": "06c2bffd",
   "metadata": {},
   "outputs": [
    {
     "data": {
      "text/plain": [
       "' spacious string'"
      ]
     },
     "execution_count": 137,
     "metadata": {},
     "output_type": "execute_result"
    }
   ],
   "source": [
    "\" spacious string \".rstrip()"
   ]
  },
  {
   "cell_type": "code",
   "execution_count": 139,
   "id": "21b48ca7",
   "metadata": {},
   "outputs": [
    {
     "data": {
      "text/plain": [
       "['o', 'l', 'l', 'e', 'h']"
      ]
     },
     "execution_count": 139,
     "metadata": {},
     "output_type": "execute_result"
    }
   ],
   "source": [
    "reversed('hello')\n",
    "[char for char in reversed('hello')]"
   ]
  },
  {
   "cell_type": "code",
   "execution_count": 140,
   "id": "6f3f5a68",
   "metadata": {},
   "outputs": [
    {
     "data": {
      "text/plain": [
       "'olleh'"
      ]
     },
     "execution_count": 140,
     "metadata": {},
     "output_type": "execute_result"
    }
   ],
   "source": [
    "''.join(reversed('hello'))"
   ]
  },
  {
   "cell_type": "code",
   "execution_count": 141,
   "id": "ccd717f9",
   "metadata": {},
   "outputs": [
    {
     "data": {
      "text/plain": [
       "'olleh'"
      ]
     },
     "execution_count": 141,
     "metadata": {},
     "output_type": "execute_result"
    }
   ],
   "source": [
    "reversed('hello')\n",
    "[char for char in reversed('hello')]\n",
    "''.join(reversed('hello'))"
   ]
  },
  {
   "cell_type": "code",
   "execution_count": 142,
   "id": "11031f90",
   "metadata": {},
   "outputs": [
    {
     "data": {
      "text/plain": [
       "'olleh'"
      ]
     },
     "execution_count": 142,
     "metadata": {},
     "output_type": "execute_result"
    }
   ],
   "source": [
    "reversed('hello')\n",
    "[char for char in reversed('hello')]\n",
    "''.join(reversed('hello'))"
   ]
  },
  {
   "cell_type": "code",
   "execution_count": 143,
   "id": "3d53f118",
   "metadata": {},
   "outputs": [
    {
     "data": {
      "text/plain": [
       "'olleh'"
      ]
     },
     "execution_count": 143,
     "metadata": {},
     "output_type": "execute_result"
    }
   ],
   "source": [
    "reversed('hello')\n",
    "[char for char in reversed('hello')]\n",
    "''.join(reversed('hello'))"
   ]
  },
  {
   "cell_type": "code",
   "execution_count": 144,
   "id": "586c66c9",
   "metadata": {},
   "outputs": [
    {
     "data": {
      "text/plain": [
       "'olleh'"
      ]
     },
     "execution_count": 144,
     "metadata": {},
     "output_type": "execute_result"
    }
   ],
   "source": [
    "def reversed_string(main_string):\n",
    "    return main_string[::-1]\n",
    "reversed_string('hello')\n",
    "\n"
   ]
  },
  {
   "cell_type": "code",
   "execution_count": 145,
   "id": "6352226a",
   "metadata": {},
   "outputs": [
    {
     "data": {
      "text/plain": [
       "'olleh'"
      ]
     },
     "execution_count": 145,
     "metadata": {},
     "output_type": "execute_result"
    }
   ],
   "source": [
    "def reversed_string(main_string):\n",
    "    return main_string[::-1]\n",
    "reversed_string('hello')"
   ]
  },
  {
   "cell_type": "code",
   "execution_count": 152,
   "id": "35b011ec",
   "metadata": {},
   "outputs": [
    {
     "name": "stdout",
     "output_type": "stream",
     "text": [
      "Hello John Welcome to PYnative\n",
      "Your course name is Python\n"
     ]
    }
   ],
   "source": [
    "def course_func(name, course_name):\n",
    "    print(\"Hello\", name, \"Welcome to PYnative\")\n",
    "    print(\"Your course name is\", course_name)\n",
    "    \n",
    "course_func('John', 'Python')"
   ]
  },
  {
   "cell_type": "code",
   "execution_count": 154,
   "id": "3a0e2796",
   "metadata": {},
   "outputs": [
    {
     "name": "stdout",
     "output_type": "stream",
     "text": [
      "num1: 2\n",
      "num2: 4\n",
      "6\n"
     ]
    }
   ],
   "source": [
    "def add(num1,num2):\n",
    "    print(\"num1:\",num1)\n",
    "    print(\"num2:\",num2)\n",
    "    addition = (num1 + num2)\n",
    "    return addition\n",
    "res= add(2,4)\n",
    "print(res)"
   ]
  },
  {
   "cell_type": "code",
   "execution_count": 156,
   "id": "91b23331",
   "metadata": {},
   "outputs": [
    {
     "name": "stdout",
     "output_type": "stream",
     "text": [
      "Welcome to Pynative\n"
     ]
    }
   ],
   "source": [
    "def message():\n",
    "    print(\"Welcome to Pynative\")\n",
    "message()"
   ]
  },
  {
   "cell_type": "code",
   "execution_count": 157,
   "id": "9c8b80ab",
   "metadata": {},
   "outputs": [
    {
     "name": "stdout",
     "output_type": "stream",
     "text": [
      "Odd Number\n"
     ]
    }
   ],
   "source": [
    "def even_odd(n):\n",
    "    if n % 2 == 0:\n",
    "         print('Even number')\n",
    "    else: \n",
    "        print('Odd Number')\n",
    "even_odd(19)"
   ]
  },
  {
   "cell_type": "code",
   "execution_count": 165,
   "id": "e2158d50",
   "metadata": {},
   "outputs": [
    {
     "name": "stdout",
     "output_type": "stream",
     "text": [
      "number is prime\n",
      "number is prime\n",
      "number is prime\n",
      "number is prime\n",
      "number is prime\n",
      "number is prime\n",
      "number is prime\n",
      "number is prime\n",
      "number is prime\n",
      "number is prime\n",
      "number is prime\n",
      "number is prime\n",
      "number is prime\n",
      "number is prime\n",
      "number is prime\n",
      "number is prime\n",
      "number is prime\n",
      "number is prime\n",
      "number is prime\n",
      "number is prime\n",
      "number is prime\n",
      "number is prime\n",
      "number is prime\n",
      "number is prime\n",
      "number is prime\n",
      "number is prime\n",
      "number is prime\n",
      "number is prime\n",
      "number is prime\n"
     ]
    }
   ],
   "source": []
  },
  {
   "cell_type": "code",
   "execution_count": 169,
   "id": "7561e331",
   "metadata": {},
   "outputs": [
    {
     "name": "stdout",
     "output_type": "stream",
     "text": [
      "20\n"
     ]
    }
   ],
   "source": [
    "def add(num1, num2,num3,num4,num5):\n",
    "    addition = (num1 + num2 + num3 + num4+ num5)\n",
    "    return addition\n",
    "res = add(8,2,3,0,7)\n",
    "print(res)"
   ]
  },
  {
   "cell_type": "code",
   "execution_count": 172,
   "id": "384fa631",
   "metadata": {},
   "outputs": [
    {
     "name": "stdout",
     "output_type": "stream",
     "text": [
      "20\n"
     ]
    }
   ],
   "source": [
    "def sum(numbers):\n",
    "    total = 0\n",
    "    for x in numbers:\n",
    "        total += x\n",
    "    return total \n",
    "res = sum((8,2,3,0,7))\n",
    "print(res)"
   ]
  },
  {
   "cell_type": "code",
   "execution_count": 175,
   "id": "c7a76ca0",
   "metadata": {},
   "outputs": [
    {
     "name": "stdout",
     "output_type": "stream",
     "text": [
      "-336\n"
     ]
    }
   ],
   "source": [
    "def mult(num1,num2,num3,num4,num5):\n",
    "    multiplication = (num1 * num2 * num3 *num4 *num5)\n",
    "    return multiplication\n",
    "res = mult(8, 2, 3, -1, 7)\n",
    "print(res)"
   ]
  },
  {
   "cell_type": "code",
   "execution_count": 185,
   "id": "99afaa7f",
   "metadata": {},
   "outputs": [
    {
     "name": "stdout",
     "output_type": "stream",
     "text": [
      "dcba4321\n"
     ]
    }
   ],
   "source": [
    "def string_reverse(str1):\n",
    "\n",
    "    rstr1 = ''\n",
    "    index = len(str1)\n",
    "    while index > 0:\n",
    "        rstr1 += str1[ index - 1 ]\n",
    "        index = index - 1\n",
    "    return rstr1\n",
    "print(string_reverse('1234abcd'))\n"
   ]
  },
  {
   "cell_type": "code",
   "execution_count": 186,
   "id": "3f734464",
   "metadata": {},
   "outputs": [
    {
     "name": "stdout",
     "output_type": "stream",
     "text": [
      "Input a number to compute the factiorial : 9\n",
      "362880\n"
     ]
    }
   ],
   "source": [
    "def factorial(n):\n",
    "    if n == 0:\n",
    "        return 1\n",
    "    else:\n",
    "        return n * factorial(n-1)\n",
    "n=int(input(\"Input a number to compute the factiorial : \"))\n",
    "print(factorial(n))"
   ]
  },
  {
   "cell_type": "code",
   "execution_count": 187,
   "id": "c4f00679",
   "metadata": {},
   "outputs": [
    {
     "name": "stdout",
     "output_type": "stream",
     "text": [
      "Input a number to compute the factorial:6\n",
      "720\n"
     ]
    }
   ],
   "source": [
    "def factorial(n):\n",
    "    if n == 0:\n",
    "        return 1\n",
    "    else:\n",
    "        return n * factorial(n-1)\n",
    "n = int(input(\"Input a number to compute the factorial:\"))\n",
    "print(factorial(n))"
   ]
  },
  {
   "cell_type": "code",
   "execution_count": null,
   "id": "b4907b00",
   "metadata": {},
   "outputs": [],
   "source": []
  },
  {
   "cell_type": "code",
   "execution_count": null,
   "id": "6c886265",
   "metadata": {},
   "outputs": [],
   "source": [
    "\n"
   ]
  },
  {
   "cell_type": "code",
   "execution_count": null,
   "id": "97440235",
   "metadata": {},
   "outputs": [],
   "source": [
    " "
   ]
  },
  {
   "cell_type": "code",
   "execution_count": null,
   "id": "83aaf88b",
   "metadata": {},
   "outputs": [],
   "source": []
  },
  {
   "cell_type": "code",
   "execution_count": null,
   "id": "94880b6d",
   "metadata": {},
   "outputs": [],
   "source": []
  },
  {
   "cell_type": "code",
   "execution_count": null,
   "id": "129fb029",
   "metadata": {},
   "outputs": [],
   "source": []
  },
  {
   "cell_type": "code",
   "execution_count": null,
   "id": "7623aa02",
   "metadata": {},
   "outputs": [],
   "source": []
  },
  {
   "cell_type": "code",
   "execution_count": null,
   "id": "c78b1582",
   "metadata": {},
   "outputs": [],
   "source": []
  },
  {
   "cell_type": "code",
   "execution_count": null,
   "id": "3521fdb2",
   "metadata": {},
   "outputs": [],
   "source": []
  }
 ],
 "metadata": {
  "kernelspec": {
   "display_name": "Python 3 (ipykernel)",
   "language": "python",
   "name": "python3"
  },
  "language_info": {
   "codemirror_mode": {
    "name": "ipython",
    "version": 3
   },
   "file_extension": ".py",
   "mimetype": "text/x-python",
   "name": "python",
   "nbconvert_exporter": "python",
   "pygments_lexer": "ipython3",
   "version": "3.9.7"
  }
 },
 "nbformat": 4,
 "nbformat_minor": 5
}

{
 "cells": [
  {
   "cell_type": "code",
   "execution_count": 1,
   "id": "97d9135a",
   "metadata": {},
   "outputs": [
    {
     "name": "stdout",
     "output_type": "stream",
     "text": [
      "()\n"
     ]
    }
   ],
   "source": [
    "Tuple = tuple()\n",
    "print(Tuple)"
   ]
  },
  {
   "cell_type": "code",
   "execution_count": 2,
   "id": "011e169b",
   "metadata": {},
   "outputs": [
    {
     "name": "stdout",
     "output_type": "stream",
     "text": [
      "('tuple', False, 3.2, 1)\n"
     ]
    }
   ],
   "source": [
    "tuplex = (\"tuple\", False, 3.2, 1)\n",
    "print(tuplex)"
   ]
  },
  {
   "cell_type": "code",
   "execution_count": 4,
   "id": "9bfa7c13",
   "metadata": {},
   "outputs": [
    {
     "name": "stdout",
     "output_type": "stream",
     "text": [
      "(9, 8, 5, 3)\n",
      "5\n"
     ]
    }
   ],
   "source": [
    "tuplex = (9,8,5,3)\n",
    "print(tuplex)\n",
    "print(5)"
   ]
  },
  {
   "cell_type": "code",
   "execution_count": 7,
   "id": "2213f5c1",
   "metadata": {},
   "outputs": [
    {
     "name": "stdout",
     "output_type": "stream",
     "text": [
      "(4, 8, 3)\n",
      "15\n"
     ]
    }
   ],
   "source": [
    "tuplex = 4, 8, 3 \n",
    "print(tuplex)\n",
    "n1, n2, n3 = tuplex\n",
    "print(n1+ n2 +n3)\n",
    "n1, n2 , n3 = tuplex"
   ]
  },
  {
   "cell_type": "code",
   "execution_count": 16,
   "id": "8f84c674",
   "metadata": {},
   "outputs": [
    {
     "name": "stdout",
     "output_type": "stream",
     "text": [
      "Tuple is (10, 20, 30, 40, 50)\n"
     ]
    },
    {
     "ename": "NameError",
     "evalue": "name 'inTuple' is not defined",
     "output_type": "error",
     "traceback": [
      "\u001b[1;31m---------------------------------------------------------------------------\u001b[0m",
      "\u001b[1;31mNameError\u001b[0m                                 Traceback (most recent call last)",
      "\u001b[1;32m~\\AppData\\Local\\Temp/ipykernel_12100/4180316783.py\u001b[0m in \u001b[0;36m<module>\u001b[1;34m\u001b[0m\n\u001b[0;32m      1\u001b[0m \u001b[0mintTuple\u001b[0m \u001b[1;33m=\u001b[0m \u001b[1;33m(\u001b[0m\u001b[1;36m10\u001b[0m\u001b[1;33m,\u001b[0m \u001b[1;36m20\u001b[0m\u001b[1;33m,\u001b[0m \u001b[1;36m30\u001b[0m\u001b[1;33m,\u001b[0m \u001b[1;36m40\u001b[0m\u001b[1;33m,\u001b[0m \u001b[1;36m50\u001b[0m\u001b[1;33m)\u001b[0m\u001b[1;33m\u001b[0m\u001b[1;33m\u001b[0m\u001b[0m\n\u001b[0;32m      2\u001b[0m \u001b[0mprint\u001b[0m\u001b[1;33m(\u001b[0m\u001b[1;34m\"Tuple is\"\u001b[0m\u001b[1;33m,\u001b[0m \u001b[0mintTuple\u001b[0m\u001b[1;33m)\u001b[0m\u001b[1;33m\u001b[0m\u001b[1;33m\u001b[0m\u001b[0m\n\u001b[1;32m----> 3\u001b[1;33m \u001b[0mintTuple\u001b[0m \u001b[1;33m=\u001b[0m \u001b[0minTuple\u001b[0m \u001b[1;33m+\u001b[0m \u001b[1;33m(\u001b[0m\u001b[1;36m70\u001b[0m\u001b[1;33m)\u001b[0m\u001b[1;33m\u001b[0m\u001b[1;33m\u001b[0m\u001b[0m\n\u001b[0m\u001b[0;32m      4\u001b[0m \u001b[0mprint\u001b[0m\u001b[1;33m(\u001b[0m\u001b[0mintTuple\u001b[0m\u001b[1;33m)\u001b[0m\u001b[1;33m\u001b[0m\u001b[1;33m\u001b[0m\u001b[0m\n",
      "\u001b[1;31mNameError\u001b[0m: name 'inTuple' is not defined"
     ]
    }
   ],
   "source": []
  },
  {
   "cell_type": "code",
   "execution_count": null,
   "id": "d2e7dddb",
   "metadata": {},
   "outputs": [],
   "source": []
  },
  {
   "cell_type": "code",
   "execution_count": 22,
   "id": "052f7764",
   "metadata": {},
   "outputs": [
    {
     "name": "stdout",
     "output_type": "stream",
     "text": [
      "(12, 34, 45, 22, 33)\n",
      "(12, 34, 45, 22, 33, 19, 20)\n"
     ]
    }
   ],
   "source": [
    "tupleObj = (12 , 34, 45, 22, 33 )\n",
    "print(tupleObj)\n",
    "tupleObj = tupleObj + (19 ,20)\n",
    "print(tupleObj)"
   ]
  },
  {
   "cell_type": "code",
   "execution_count": 23,
   "id": "8e05ba4a",
   "metadata": {},
   "outputs": [
    {
     "name": "stdout",
     "output_type": "stream",
     "text": [
      "exercises\n"
     ]
    }
   ],
   "source": [
    "tup = ('e', 'x', 'e', 'r', 'c', 'i', 's', 'e', 's')\n",
    "str = ''.join(tup)\n",
    "print(str)"
   ]
  },
  {
   "cell_type": "code",
   "execution_count": 26,
   "id": "a0b3daae",
   "metadata": {},
   "outputs": [
    {
     "name": "stdout",
     "output_type": "stream",
     "text": [
      "arunima\n"
     ]
    }
   ],
   "source": [
    "aru = ('a','r','u','n','i','m','a')\n",
    "string = ''.join(aru)\n",
    "print(string)"
   ]
  },
  {
   "cell_type": "code",
   "execution_count": 31,
   "id": "52156fea",
   "metadata": {},
   "outputs": [
    {
     "name": "stdout",
     "output_type": "stream",
     "text": [
      "('w', 3, 'r', 'e', 's', 'o', 'u', 'r', 'c', 'e')\n",
      "e\n",
      "u\n"
     ]
    }
   ],
   "source": [
    "tuplex = (\"w\", 3, \"r\", \"e\", \"s\", \"o\", \"u\", \"r\", \"c\", \"e\")\n",
    "print(tuplex)\n",
    "item = tuplex[3]\n",
    "print(item)\n",
    "item = tuplex[-4]\n",
    "print(item)"
   ]
  },
  {
   "cell_type": "code",
   "execution_count": 32,
   "id": "81356205",
   "metadata": {},
   "outputs": [
    {
     "name": "stdout",
     "output_type": "stream",
     "text": [
      "('HELLO', 5, [], True)\n"
     ]
    }
   ],
   "source": [
    "from copy import deepcopy\n",
    "tuplex = (\"HELLO\", 5, [], True) \n",
    "print(tuplex)\n",
    "tuplex_colon = deepcopy(tuplex)\n",
    "tuplex_colon[2].append(50)"
   ]
  },
  {
   "cell_type": "code",
   "execution_count": 35,
   "id": "b94aa61b",
   "metadata": {},
   "outputs": [
    {
     "name": "stdout",
     "output_type": "stream",
     "text": [
      "('HELLO', 5, [], True)\n",
      "('HELLO', 5, ['arunima'], True)\n"
     ]
    }
   ],
   "source": [
    "from copy import deepcopy\n",
    "tuplex = (\"HELLO\",5,[],True)\n",
    "print(tuplex)\n",
    "tuplex_colon = deepcopy(tuplex)\n",
    "tuplex_colon[2].append('arunima')\n",
    "print(tuplex_colon)"
   ]
  },
  {
   "cell_type": "code",
   "execution_count": 39,
   "id": "755acab1",
   "metadata": {},
   "outputs": [
    {
     "name": "stdout",
     "output_type": "stream",
     "text": [
      "(2, 4, 5, 6, 2, 3, 4, 4, 7)\n",
      "2\n"
     ]
    }
   ],
   "source": [
    "tuplex = 2, 4, 5, 6, 2, 3, 4, 4, 7 \n",
    "print(tuplex)\n",
    "count = tuplex.count(2)\n",
    "print(count)"
   ]
  },
  {
   "cell_type": "code",
   "execution_count": 40,
   "id": "deddb5e3",
   "metadata": {},
   "outputs": [
    {
     "name": "stdout",
     "output_type": "stream",
     "text": [
      "True\n",
      "False\n"
     ]
    }
   ],
   "source": [
    "tuplex = (\"w\", 3, \"r\", \"e\", \"s\", \"o\", \"u\", \"r\", \"c\", \"e\")\n",
    "print (\"r\" in tuplex)\n",
    "print( 5 in tuplex)"
   ]
  },
  {
   "cell_type": "code",
   "execution_count": 43,
   "id": "6bfe6c8e",
   "metadata": {},
   "outputs": [
    {
     "name": "stdout",
     "output_type": "stream",
     "text": [
      "[5, 10, 7, 4, 15, 3]\n",
      "(5, 10, 7, 4, 15, 3)\n"
     ]
    }
   ],
   "source": [
    "listx = [5, 10, 7, 4, 15, 3]\n",
    "print(listx)\n",
    "tuplex = tuple(listx)\n",
    "print(tuplex)\n"
   ]
  },
  {
   "cell_type": "code",
   "execution_count": 44,
   "id": "ee94f180",
   "metadata": {},
   "outputs": [
    {
     "name": "stdout",
     "output_type": "stream",
     "text": [
      "(5, 4, 3, 2, 1)\n"
     ]
    }
   ],
   "source": [
    "t = (1, 2, 3, 4, 5)\n",
    "t = t[::-1]\n",
    "print(t)"
   ]
  },
  {
   "cell_type": "code",
   "execution_count": 45,
   "id": "be88d30e",
   "metadata": {},
   "outputs": [
    {
     "name": "stdout",
     "output_type": "stream",
     "text": [
      "(1, 2, 3, 4)\n"
     ]
    }
   ],
   "source": [
    "t = (1,2,3,4,5)\n",
    "t = t[:-1]\n",
    "print(t)"
   ]
  },
  {
   "cell_type": "code",
   "execution_count": 46,
   "id": "8016de06",
   "metadata": {},
   "outputs": [
    {
     "name": "stdout",
     "output_type": "stream",
     "text": [
      "(2, 3, 4, 5)\n"
     ]
    }
   ],
   "source": [
    "t = (1,2,3,4,5)\n",
    "t = t[1:]\n",
    "print(t)"
   ]
  },
  {
   "cell_type": "code",
   "execution_count": 50,
   "id": "ec14271a",
   "metadata": {},
   "outputs": [
    {
     "name": "stdout",
     "output_type": "stream",
     "text": [
      "[1, 2, 3, 4, 5, 6]\n",
      "[1, 2, 3, 4, 5]\n"
     ]
    }
   ],
   "source": [
    "tuplex = [1, 2, 3, 4, 5, 6]\n",
    "print(tuplex)\n",
    "slice = tuplex[0:5]\n",
    "print(slice)"
   ]
  },
  {
   "cell_type": "code",
   "execution_count": 52,
   "id": "0952a126",
   "metadata": {},
   "outputs": [
    {
     "name": "stdout",
     "output_type": "stream",
     "text": [
      "('i', 'n', 'd', 'e', 'x', ' ', 't', 'u', 'p', 'l', 'e')\n",
      "8\n",
      "8\n"
     ]
    }
   ],
   "source": [
    "tuplex = tuple(\"index tuple\")\n",
    "print(tuplex)\n",
    "#get index of the first item whose value is passed as parameter\n",
    "index = tuplex.index(\"p\")\n",
    "print(index)\n",
    "#define the index from which you want to search\n",
    "index = tuplex.index(\"p\", 5)\n",
    "print(index)"
   ]
  },
  {
   "cell_type": "code",
   "execution_count": 57,
   "id": "deafa437",
   "metadata": {},
   "outputs": [
    {
     "name": "stdout",
     "output_type": "stream",
     "text": [
      "('i', 'n', 'd', 'e', 'x', 't', 'u', 'p', 'l', 'e')\n",
      "7\n",
      "5\n"
     ]
    }
   ],
   "source": [
    "tuplex = tuple(\"indextuple\")\n",
    "print(tuplex)\n",
    "index = tuplex.index(\"p\")\n",
    "print(index)\n",
    "index = tuplex.index (\"t\", 5)\n",
    "print(index)"
   ]
  },
  {
   "cell_type": "code",
   "execution_count": 59,
   "id": "825c8c08",
   "metadata": {},
   "outputs": [
    {
     "name": "stdout",
     "output_type": "stream",
     "text": [
      "('w', '3', 'r', 'e', 's', 'o', 'u', 'r', 'c', 'e')\n",
      "10\n"
     ]
    }
   ],
   "source": [
    "tuplex = tuple(\"w3resource\")\n",
    "print(tuplex)\n",
    "print(len(tuplex))\n"
   ]
  },
  {
   "cell_type": "code",
   "execution_count": 61,
   "id": "1f3e763b",
   "metadata": {},
   "outputs": [
    {
     "name": "stdout",
     "output_type": "stream",
     "text": [
      "((1, 'x'), (2, 'y'), (3, 'z'))\n",
      "{1: 'x', 2: 'y', 3: 'z'}\n"
     ]
    }
   ],
   "source": [
    "tup = ((1, 'x'), (2, 'y'), (3, 'z'))\n",
    "print(tup)\n",
    "tup_dict = dict(tup)\n",
    "print(tup_dict)"
   ]
  },
  {
   "cell_type": "code",
   "execution_count": 63,
   "id": "d0f1c03a",
   "metadata": {},
   "outputs": [
    {
     "name": "stdout",
     "output_type": "stream",
     "text": [
      "((1, 'x'), (2, 'y'), (3, 'z'))\n",
      "{1: 'x', 2: 'y', 3: 'z'}\n"
     ]
    }
   ],
   "source": [
    "tup = ((1,'x'),(2,'y'),(3,'z'))\n",
    "print(tup)\n",
    "tup_dict = dict(tup)\n",
    "print(tup_dict)"
   ]
  },
  {
   "cell_type": "code",
   "execution_count": 65,
   "id": "eb212ea7",
   "metadata": {},
   "outputs": [
    {
     "name": "stdout",
     "output_type": "stream",
     "text": [
      "{2: 'w', 3: 'r'}\n"
     ]
    }
   ],
   "source": [
    "tuplex = ((2, \"w\"),(3, \"r\"))\n",
    "print(dict((x, y) for x, y in tuplex))"
   ]
  },
  {
   "cell_type": "code",
   "execution_count": 66,
   "id": "7f1327b0",
   "metadata": {},
   "outputs": [
    {
     "name": "stdout",
     "output_type": "stream",
     "text": [
      "{2: 'w', 3: 'r'}\n"
     ]
    }
   ],
   "source": [
    "tuplex = ((2,\"w\"),(3,\"r\"))\n",
    "print(dict((x,y) for x,y in tuplex))"
   ]
  },
  {
   "cell_type": "code",
   "execution_count": 67,
   "id": "d8b4cd70",
   "metadata": {},
   "outputs": [
    {
     "name": "stdout",
     "output_type": "stream",
     "text": [
      "[(1, 3, 8), (2, 4, 9)]\n"
     ]
    }
   ],
   "source": [
    "l = [(1,2), (3,4), (8,9)]\n",
    "print(list(zip(*l)))"
   ]
  },
  {
   "cell_type": "code",
   "execution_count": 69,
   "id": "85907b04",
   "metadata": {},
   "outputs": [
    {
     "name": "stdout",
     "output_type": "stream",
     "text": [
      "('SEVEN', 8, 'Arunima')\n"
     ]
    }
   ],
   "source": [
    "l = (\"Arunima\",8, \"SEVEN\")\n",
    "l_1 = l[::-1]\n",
    "print(l_1)"
   ]
  },
  {
   "cell_type": "code",
   "execution_count": 70,
   "id": "a09115ab",
   "metadata": {},
   "outputs": [
    {
     "name": "stdout",
     "output_type": "stream",
     "text": [
      "{'Key 1': 1, 'Key 2': 2, 'Key 3': 3, 'Key 4': 4, 'Key 5': 5}\n"
     ]
    }
   ],
   "source": [
    "tuples = [('Key 1', 1), ('Key 2', 2), ('Key 3', 3), ('Key 4', 4), ('Key 5', 5)]\n",
    "result = dict(tuples)\n",
    "print(result)\n",
    "\n"
   ]
  },
  {
   "cell_type": "code",
   "execution_count": 71,
   "id": "8e7973a7",
   "metadata": {},
   "outputs": [
    {
     "name": "stdout",
     "output_type": "stream",
     "text": [
      "This is a tuple (100, 200, 300)\n"
     ]
    }
   ],
   "source": [
    "t = (100, 200, 300)\n",
    "print('This is a tuple {0}'.format(t))\n"
   ]
  },
  {
   "cell_type": "code",
   "execution_count": 72,
   "id": "f1db54c5",
   "metadata": {},
   "outputs": [
    {
     "name": "stdout",
     "output_type": "stream",
     "text": [
      "[(10, 20, 100), (40, 50, 100), (70, 80, 100)]\n"
     ]
    }
   ],
   "source": [
    "l = [(10, 20, 40), (40, 50, 60), (70, 80, 90)]\n",
    "print([t[:-1] + (100,) for t in l])"
   ]
  },
  {
   "cell_type": "code",
   "execution_count": 74,
   "id": "b11ef40d",
   "metadata": {},
   "outputs": [
    {
     "name": "stdout",
     "output_type": "stream",
     "text": [
      "[(10, 20, 100), (40, 50, 100), (70, 80, 100)]\n"
     ]
    }
   ],
   "source": [
    "l = [(10,20,40),(40,50,60),(70,80,90)]\n",
    "print([t[:-1] + (100,) for t in l])"
   ]
  },
  {
   "cell_type": "code",
   "execution_count": 75,
   "id": "d730ae5c",
   "metadata": {},
   "outputs": [
    {
     "name": "stdout",
     "output_type": "stream",
     "text": [
      "[(10, 20, 100), (40, 50, 100), (70, 80, 100)]\n"
     ]
    }
   ],
   "source": [
    "l = [(10,20,40),(40,50,60),(70,80,90)]\n",
    "print([t[:-1]+ (100,) for t in l])"
   ]
  },
  {
   "cell_type": "code",
   "execution_count": 76,
   "id": "ad7c5ce9",
   "metadata": {},
   "outputs": [
    {
     "name": "stdout",
     "output_type": "stream",
     "text": [
      "[(10, 20, 100), (40, 50, 100), (70, 80, 100)]\n"
     ]
    }
   ],
   "source": [
    "l = [(10,20,40),(40,50,60),(70,80,90)]\n",
    "print([t[:-1]+ (100,) for t in l])"
   ]
  },
  {
   "cell_type": "code",
   "execution_count": 77,
   "id": "c487660e",
   "metadata": {},
   "outputs": [
    {
     "name": "stdout",
     "output_type": "stream",
     "text": [
      "[('',), ('a', 'b'), ('a', 'b', 'c'), 'd']\n"
     ]
    }
   ],
   "source": [
    "L = [(), (), ('',), ('a', 'b'), ('a', 'b', 'c'), ('d')]\n",
    "L = [t for t in L if t]\n",
    "print(L)"
   ]
  },
  {
   "cell_type": "code",
   "execution_count": 78,
   "id": "cf722e11",
   "metadata": {},
   "outputs": [
    {
     "name": "stdout",
     "output_type": "stream",
     "text": [
      "[('',), ('a', 'b'), ('a', 'b', 'c'), 'd']\n"
     ]
    }
   ],
   "source": [
    "L = [(),(),('',),('a','b'),('a','b','c'),('d')]\n",
    "L = [t for t in L if t]\n",
    "print(L)"
   ]
  },
  {
   "cell_type": "code",
   "execution_count": 79,
   "id": "3897b239",
   "metadata": {},
   "outputs": [
    {
     "name": "stdout",
     "output_type": "stream",
     "text": [
      "[('item3', '24.5'), ('item2', '15.10'), ('item1', '12.20')]\n"
     ]
    }
   ],
   "source": [
    "price = [('item1', '12.20'), ('item2', '15.10'), ('item3', '24.5')]\n",
    "print( sorted(price, key=lambda x: float(x[1]), reverse=True))"
   ]
  },
  {
   "cell_type": "code",
   "execution_count": 80,
   "id": "090eadda",
   "metadata": {},
   "outputs": [
    {
     "name": "stdout",
     "output_type": "stream",
     "text": [
      "[('item3', '24.5'), ('item2', '15.10'), ('item1', '12.20')]\n"
     ]
    }
   ],
   "source": [
    "Price = [('item1', '12.20'),('item2','15.50'),('item3', '24.50')]\n",
    "print(sorted(price, key = lambda x : float(x[1]), reverse = True))"
   ]
  },
  {
   "cell_type": "code",
   "execution_count": 83,
   "id": "39f3782c",
   "metadata": {},
   "outputs": [
    {
     "name": "stdout",
     "output_type": "stream",
     "text": [
      "3\n"
     ]
    }
   ],
   "source": [
    "num = [10,20,30,(10,20),40]\n",
    "ctr = 0\n",
    "for n in num:\n",
    "    if isinstance(n, tuple):\n",
    "        break\n",
    "    ctr += 1\n",
    "print(ctr)\n",
    "\n"
   ]
  },
  {
   "cell_type": "code",
   "execution_count": 84,
   "id": "9519dc9f",
   "metadata": {},
   "outputs": [
    {
     "name": "stdout",
     "output_type": "stream",
     "text": [
      "3\n"
     ]
    }
   ],
   "source": [
    "num  = [10,20,30,(10,20),40]\n",
    "\n",
    "ctr = 0 \n",
    "for n in num:\n",
    "    if isinstance(n,tuple):\n",
    "        break\n",
    "    ctr += 1\n",
    "print(ctr)"
   ]
  },
  {
   "cell_type": "code",
   "execution_count": 85,
   "id": "b465448e",
   "metadata": {},
   "outputs": [
    {
     "name": "stdout",
     "output_type": "stream",
     "text": [
      "Original string:\n",
      "python 3.0\n",
      "<class 'str'>\n",
      "Convert the said string to a tuple:\n",
      "('p', 'y', 't', 'h', 'o', 'n', '3', '.', '0')\n",
      "<class 'tuple'>\n"
     ]
    }
   ],
   "source": [
    "def string_list_to_tuple(str1):\n",
    "    result = tuple(x for x in str1 if not x.isspace()) \n",
    "    return result\n",
    "str1 = \"python 3.0\"\n",
    "print(\"Original string:\")\n",
    "print(str1)\n",
    "print(type(str1))\n",
    "print(\"Convert the said string to a tuple:\") \n",
    "print(string_list_to_tuple(str1))\n",
    "print(type(string_list_to_tuple(str1)))"
   ]
  },
  {
   "cell_type": "code",
   "execution_count": 88,
   "id": "3fa8c90b",
   "metadata": {},
   "outputs": [
    {
     "name": "stdout",
     "output_type": "stream",
     "text": [
      "('P', 'y', 't', 'h', 'o', 'n', '3', '.', '0')\n",
      "<class 'tuple'>\n"
     ]
    }
   ],
   "source": [
    "def string_list_to_tuple(str1):\n",
    "    result = tuple(x for x in str1 if not x.isspace())\n",
    "    return result\n",
    "str1 = \"Python 3.0\"\n",
    "print(string_list_to_tuple(str1))\n",
    "print(type(string_list_to_tuple(str1)))"
   ]
  },
  {
   "cell_type": "code",
   "execution_count": 89,
   "id": "fec3436b",
   "metadata": {},
   "outputs": [
    {
     "name": "stdout",
     "output_type": "stream",
     "text": [
      "Original Tuple: \n",
      "(4, 3, 2, 2, -1, 18)\n",
      "Product - multiplying all the numbers of the said tuple: -864\n",
      "\n",
      "Original Tuple: \n",
      "(2, 4, 8, 8, 3, 2, 9)\n",
      "Product - multiplying all the numbers of the said tuple: 27648\n"
     ]
    }
   ],
   "source": [
    "def mutiple_tuple(nums):\n",
    "    temp = list(nums)\n",
    "    product = 1 \n",
    "    for x in temp:\n",
    "        product *= x\n",
    "    return product\n",
    "\n",
    "nums = (4, 3, 2, 2, -1, 18)\n",
    "print (\"Original Tuple: \")\n",
    "print(nums)\n",
    "print(\"Product - multiplying all the numbers of the said tuple:\",mutiple_tuple(nums))\n",
    "\n",
    "nums = (2, 4, 8, 8, 3, 2, 9)\n",
    "print (\"\\nOriginal Tuple: \")\n",
    "print(nums)\n",
    "print(\"Product - multiplying all the numbers of the said tuple:\",mutiple_tuple(nums))"
   ]
  },
  {
   "cell_type": "code",
   "execution_count": 96,
   "id": "b1c4c43a",
   "metadata": {},
   "outputs": [
    {
     "name": "stdout",
     "output_type": "stream",
     "text": [
      "\n",
      "Original Tuple: \n",
      "(2, 4, 8, 8, 3, 2, 9)\n",
      "Product - multiplying all the numbers of the said tuple: 27648\n"
     ]
    }
   ],
   "source": [
    "def multiple_tuple(nums):\n",
    "    temp = list(nums)\n",
    "    product = 1 \n",
    "    for x in temp:\n",
    "        product *= x\n",
    "    return product\n",
    "\n",
    "nums = (2, 4, 8, 8, 3, 2, 9)\n",
    "print (\"\\nOriginal Tuple: \")\n",
    "print(nums)\n",
    "print(\"Product - multiplying all the numbers of the said tuple:\",multiple_tuple(nums))\n"
   ]
  },
  {
   "cell_type": "code",
   "execution_count": 99,
   "id": "bb6ce4eb",
   "metadata": {},
   "outputs": [
    {
     "name": "stdout",
     "output_type": "stream",
     "text": [
      "\n",
      "Original Tuple: \n",
      "(2, 4, 8, 8, 3, 2, 9)\n",
      "Product - multiplying all the numbers of the said tuple: 27648\n"
     ]
    }
   ],
   "source": [
    "def multiple_tuple(nums):\n",
    "    temp = list(nums)\n",
    "    product = 1 \n",
    "    for x in temp:\n",
    "        product *= x\n",
    "    return product\n",
    "\n",
    "nums = (2, 4, 8, 8, 3, 2, 9)\n",
    "print (\"\\nOriginal Tuple: \")\n",
    "print(nums)\n",
    "print(\"Product - multiplying all the numbers of the said tuple:\",multiple_tuple(nums))\n"
   ]
  },
  {
   "cell_type": "code",
   "execution_count": 100,
   "id": "17a44fd6",
   "metadata": {},
   "outputs": [
    {
     "name": "stdout",
     "output_type": "stream",
     "text": [
      "Original Tuple: \n",
      "((10, 10, 10, 12), (30, 45, 56, 45), (81, 80, 39, 32), (1, 2, 3, 4))\n",
      "\n",
      "Average value of the numbers of the said tuple of tuples:\n",
      " [30.5, 34.25, 27.0, 23.25]\n"
     ]
    }
   ],
   "source": [
    "def average_tuple(nums):\n",
    "    result = [sum(x) / len(x) for x in zip(*nums)]\n",
    "    return result\n",
    "\n",
    "nums = ((10, 10, 10, 12), (30, 45, 56, 45), (81, 80, 39, 32), (1, 2, 3, 4))\n",
    "print (\"Original Tuple: \")\n",
    "print(nums)\n",
    "print(\"\\nAverage value of the numbers of the said tuple of tuples:\\n\",average_tuple(nums))\n"
   ]
  },
  {
   "cell_type": "code",
   "execution_count": 102,
   "id": "f4ed9078",
   "metadata": {},
   "outputs": [
    {
     "name": "stdout",
     "output_type": "stream",
     "text": [
      "Original Tuple\n",
      "((10, 10, 10, 12), (30, 45, 56, 45), (81, 80, 39, 32), (1, 2, 3, 4))\n",
      "\n",
      "Average value of the numbers of the said tuple of tuples:\n",
      " [30.5, 34.25, 27.0, 23.25]\n"
     ]
    }
   ],
   "source": [
    "def average_tuple(nums):\n",
    "    result = [sum(x)/len(x) for x in zip(*nums)]\n",
    "    return result\n",
    "nums = ((10, 10, 10, 12), (30, 45, 56, 45), (81, 80, 39, 32), (1, 2, 3, 4))\n",
    "print(\"Original Tuple\")\n",
    "print(nums)\n",
    "\n",
    "print(\"\\nAverage value of the numbers of the said tuple of tuples:\\n\",average_tuple(nums))"
   ]
  },
  {
   "cell_type": "code",
   "execution_count": 107,
   "id": "f431900d",
   "metadata": {},
   "outputs": [
    {
     "name": "stdout",
     "output_type": "stream",
     "text": [
      "Original tuple values:\n",
      "(('333', '33'), ('1416', '55'))\n",
      "\n",
      "New tuple values:\n",
      "((333, 33), (1416, 55))\n"
     ]
    }
   ],
   "source": [
    "def tuple_int_str(tuple_str):\n",
    "    result = tuple((int(x[0]), int(x[1])) for x in tuple_str)\n",
    "    return result\n",
    "tuple_str =  (('333', '33'), ('1416', '55'))\n",
    "print(\"Original tuple values:\")\n",
    "print(tuple_str)\n",
    "print(\"\\nNew tuple values:\")\n",
    "print(tuple_int_str(tuple_str)) \n",
    "\n"
   ]
  },
  {
   "cell_type": "code",
   "execution_count": 108,
   "id": "f5db3d6e",
   "metadata": {},
   "outputs": [
    {
     "name": "stdout",
     "output_type": "stream",
     "text": [
      "Original lists:\n",
      "(1, 2, 3, 4)\n",
      "(3, 5, 2, 1)\n",
      "(2, 2, 3, 1)\n",
      "\n",
      "Element-wise sum of the said tuples:\n",
      "(6, 9, 8, 6)\n"
     ]
    }
   ],
   "source": [
    "x = (1,2,3,4)\n",
    "y = (3,5,2,1)\n",
    "z = (2,2,3,1)\n",
    "\n",
    "print(\"Original lists:\")\n",
    "print(x)\n",
    "print(y)\n",
    "print(z)\n",
    "\n",
    "print(\"\\nElement-wise sum of the said tuples:\")\n",
    "result = tuple(map(sum, zip(x, y, z)))\n",
    "print(result)"
   ]
  },
  {
   "cell_type": "code",
   "execution_count": 109,
   "id": "21adecdf",
   "metadata": {},
   "outputs": [
    {
     "name": "stdout",
     "output_type": "stream",
     "text": [
      "Original list of tuples:\n",
      "[(1, 2), (2, 3), (3, 4)]\n",
      "\n",
      "Sum of all the elements of each tuple stored inside the said list of tuples:\n",
      "[3, 5, 7]\n",
      "\n",
      "Original list of tuples:\n",
      "[(1, 2, 6), (2, 3, -6), (3, 4), (2, 2, 2, 2)]\n",
      "\n",
      "Sum of all the elements of each tuple stored inside the said list of tuples:\n",
      "[9, -1, 7, 8]\n"
     ]
    }
   ],
   "source": [
    "def test(lst):\n",
    "    result =  map(sum, lst)\n",
    "    return list(result)\n",
    "\n",
    "nums = [(1,2), (2,3), (3,4)]\n",
    "print(\"Original list of tuples:\")\n",
    "print(nums)\n",
    "print(\"\\nSum of all the elements of each tuple stored inside the said list of tuples:\")\n",
    "print(test(nums))\n",
    "\n",
    "nums = [(1,2,6), (2,3,-6), (3,4), (2,2,2,2)]\n",
    "print(\"\\nOriginal list of tuples:\")\n",
    "print(nums)\n",
    "print(\"\\nSum of all the elements of each tuple stored inside the said list of tuples:\")\n",
    "print(test(nums))"
   ]
  },
  {
   "cell_type": "code",
   "execution_count": 110,
   "id": "8c0a4ecc",
   "metadata": {},
   "outputs": [
    {
     "name": "stdout",
     "output_type": "stream",
     "text": [
      "Original list of tuples:\n",
      "[(1, 2), (2, 3), (3, 4)]\n",
      "Convert the said list of tuples to a list of lists:\n",
      "[[1, 2], [2, 3], [3, 4]]\n",
      "\n",
      "Original list of tuples:\n",
      "[(1, 2), (2, 3, 5), (3, 4), (2, 3, 4, 2)]\n",
      "Convert the said list of tuples to a list of lists:\n",
      "[[1, 2], [2, 3, 5], [3, 4], [2, 3, 4, 2]]\n"
     ]
    }
   ],
   "source": [
    "def test(lst_tuples):\n",
    "    result = [list(el) for el in lst_tuples]\n",
    "    return result\n",
    "lst_tuples = [(1,2), (2,3), (3,4)]\n",
    "print(\"Original list of tuples:\")\n",
    "print(lst_tuples)\n",
    "print(\"Convert the said list of tuples to a list of lists:\")\n",
    "print(test(lst_tuples))\n",
    "lst_tuples = [(1,2), (2,3,5), (3,4), (2,3,4,2)]\n",
    "print(\"\\nOriginal list of tuples:\")\n",
    "print(lst_tuples)\n",
    "print(\"Convert the said list of tuples to a list of lists:\")\n",
    "print(test(lst_tuples))"
   ]
  },
  {
   "cell_type": "code",
   "execution_count": null,
   "id": "dc80f3d2",
   "metadata": {},
   "outputs": [],
   "source": []
  }
 ],
 "metadata": {
  "kernelspec": {
   "display_name": "Python 3 (ipykernel)",
   "language": "python",
   "name": "python3"
  },
  "language_info": {
   "codemirror_mode": {
    "name": "ipython",
    "version": 3
   },
   "file_extension": ".py",
   "mimetype": "text/x-python",
   "name": "python",
   "nbconvert_exporter": "python",
   "pygments_lexer": "ipython3",
   "version": "3.9.7"
  }
 },
 "nbformat": 4,
 "nbformat_minor": 5
}

{
 "cells": [
  {
   "cell_type": "code",
   "execution_count": 1,
   "id": "86390399",
   "metadata": {},
   "outputs": [],
   "source": [
    "from collections import Counter"
   ]
  },
  {
   "cell_type": "code",
   "execution_count": 2,
   "id": "88c63ab1",
   "metadata": {},
   "outputs": [],
   "source": [
    "items = ['a', 'b', 'a', 'c', 'd', 'd', 'd', 'c', 'a', 'b']\n"
   ]
  },
  {
   "cell_type": "code",
   "execution_count": 3,
   "id": "6f0fc26e",
   "metadata": {},
   "outputs": [],
   "source": [
    "counts = Counter(items)"
   ]
  },
  {
   "cell_type": "code",
   "execution_count": 4,
   "id": "96d54805",
   "metadata": {},
   "outputs": [
    {
     "name": "stdout",
     "output_type": "stream",
     "text": [
      "Counter({'a': 3, 'd': 3, 'b': 2, 'c': 2})\n"
     ]
    }
   ],
   "source": [
    "print(counts)"
   ]
  },
  {
   "cell_type": "code",
   "execution_count": 5,
   "id": "d6df2e9a",
   "metadata": {},
   "outputs": [],
   "source": [
    "num = 8.3"
   ]
  },
  {
   "cell_type": "code",
   "execution_count": 6,
   "id": "adf218aa",
   "metadata": {},
   "outputs": [],
   "source": [
    "num_1 = int(8.3)"
   ]
  },
  {
   "cell_type": "code",
   "execution_count": 7,
   "id": "95bba52e",
   "metadata": {},
   "outputs": [
    {
     "name": "stdout",
     "output_type": "stream",
     "text": [
      "8\n"
     ]
    }
   ],
   "source": [
    "print(num_1)"
   ]
  },
  {
   "cell_type": "code",
   "execution_count": null,
   "id": "7d79c079",
   "metadata": {},
   "outputs": [],
   "source": []
  }
 ],
 "metadata": {
  "kernelspec": {
   "display_name": "Python 3 (ipykernel)",
   "language": "python",
   "name": "python3"
  },
  "language_info": {
   "codemirror_mode": {
    "name": "ipython",
    "version": 3
   },
   "file_extension": ".py",
   "mimetype": "text/x-python",
   "name": "python",
   "nbconvert_exporter": "python",
   "pygments_lexer": "ipython3",
   "version": "3.9.7"
  }
 },
 "nbformat": 4,
 "nbformat_minor": 5
}

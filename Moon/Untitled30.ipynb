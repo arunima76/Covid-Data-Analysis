{
 "cells": [
  {
   "cell_type": "code",
   "execution_count": 1,
   "id": "5102c9d5",
   "metadata": {},
   "outputs": [
    {
     "name": "stdout",
     "output_type": "stream",
     "text": [
      "Requirement already satisfied: numpy in c:\\users\\arunima\\anaconda3\\lib\\site-packages (1.20.3)\n",
      "Note: you may need to restart the kernel to use updated packages.\n"
     ]
    }
   ],
   "source": [
    "pip install numpy"
   ]
  },
  {
   "cell_type": "code",
   "execution_count": 2,
   "id": "dfc7ffc2",
   "metadata": {},
   "outputs": [],
   "source": [
    "import numpy as np"
   ]
  },
  {
   "cell_type": "code",
   "execution_count": 3,
   "id": "9ba3dab8",
   "metadata": {},
   "outputs": [],
   "source": [
    "a = np.array([1,2,3]) "
   ]
  },
  {
   "cell_type": "code",
   "execution_count": 5,
   "id": "9cc94c95",
   "metadata": {},
   "outputs": [
    {
     "name": "stdout",
     "output_type": "stream",
     "text": [
      "[1 2 3]\n"
     ]
    }
   ],
   "source": [
    "print (a)"
   ]
  },
  {
   "cell_type": "code",
   "execution_count": 7,
   "id": "5f754361",
   "metadata": {},
   "outputs": [],
   "source": [
    "a = np.array([[1,2],[3,4]])"
   ]
  },
  {
   "cell_type": "code",
   "execution_count": 9,
   "id": "836d49c8",
   "metadata": {},
   "outputs": [
    {
     "name": "stdout",
     "output_type": "stream",
     "text": [
      "[[1 2]\n",
      " [3 4]]\n"
     ]
    }
   ],
   "source": [
    "print(a)"
   ]
  },
  {
   "cell_type": "code",
   "execution_count": 10,
   "id": "09db8c1b",
   "metadata": {},
   "outputs": [
    {
     "ename": "SyntaxError",
     "evalue": "Missing parentheses in call to 'print'. Did you mean print(dt)? (Temp/ipykernel_9128/911392988.py, line 3)",
     "output_type": "error",
     "traceback": [
      "\u001b[1;36m  File \u001b[1;32m\"C:\\Users\\Arunima\\AppData\\Local\\Temp/ipykernel_9128/911392988.py\"\u001b[1;36m, line \u001b[1;32m3\u001b[0m\n\u001b[1;33m    print dt\u001b[0m\n\u001b[1;37m          ^\u001b[0m\n\u001b[1;31mSyntaxError\u001b[0m\u001b[1;31m:\u001b[0m Missing parentheses in call to 'print'. Did you mean print(dt)?\n"
     ]
    }
   ],
   "source": [
    "import numpy as np\n",
    "dt = np.dtype(np.int32)\n",
    "print dt"
   ]
  },
  {
   "cell_type": "code",
   "execution_count": 11,
   "id": "5985d541",
   "metadata": {},
   "outputs": [],
   "source": [
    "import numpy as np"
   ]
  },
  {
   "cell_type": "code",
   "execution_count": 12,
   "id": "3a43e07b",
   "metadata": {},
   "outputs": [],
   "source": [
    "dt = np.dtype(np.int32)"
   ]
  },
  {
   "cell_type": "code",
   "execution_count": 13,
   "id": "0c8d929a",
   "metadata": {},
   "outputs": [
    {
     "name": "stdout",
     "output_type": "stream",
     "text": [
      "int32\n"
     ]
    }
   ],
   "source": [
    "print(dt)"
   ]
  },
  {
   "cell_type": "code",
   "execution_count": 14,
   "id": "218bd787",
   "metadata": {},
   "outputs": [],
   "source": [
    "import numpy as np"
   ]
  },
  {
   "cell_type": "code",
   "execution_count": 15,
   "id": "3a0dc9e6",
   "metadata": {},
   "outputs": [],
   "source": [
    "dt = np.dtype('i4')"
   ]
  },
  {
   "cell_type": "code",
   "execution_count": 16,
   "id": "a09c2677",
   "metadata": {},
   "outputs": [
    {
     "name": "stdout",
     "output_type": "stream",
     "text": [
      "int32\n"
     ]
    }
   ],
   "source": [
    "print(dt)"
   ]
  },
  {
   "cell_type": "code",
   "execution_count": 17,
   "id": "ed7f11da",
   "metadata": {},
   "outputs": [],
   "source": [
    "dt = np.dtype(\">i4\")"
   ]
  },
  {
   "cell_type": "code",
   "execution_count": 18,
   "id": "4c5f5201",
   "metadata": {},
   "outputs": [],
   "source": [
    "dt = np.dtype([('age',np.int8)])"
   ]
  },
  {
   "cell_type": "code",
   "execution_count": 20,
   "id": "e443719b",
   "metadata": {},
   "outputs": [
    {
     "name": "stdout",
     "output_type": "stream",
     "text": [
      "[('age', 'i1')]\n"
     ]
    }
   ],
   "source": [
    "print (dt)"
   ]
  },
  {
   "cell_type": "code",
   "execution_count": 21,
   "id": "32aa6d32",
   "metadata": {},
   "outputs": [],
   "source": [
    "import numpy"
   ]
  },
  {
   "cell_type": "code",
   "execution_count": 22,
   "id": "200b953c",
   "metadata": {},
   "outputs": [],
   "source": [
    "firstArray = numpy.empty([4,2], dtype = numpy.uint16) "
   ]
  },
  {
   "cell_type": "code",
   "execution_count": 23,
   "id": "641cfa72",
   "metadata": {},
   "outputs": [
    {
     "name": "stdout",
     "output_type": "stream",
     "text": [
      "[[59546 22029]\n",
      " [42369 33933]\n",
      " [10739  4528]\n",
      " [27818 17198]]\n"
     ]
    }
   ],
   "source": [
    "print(firstArray)"
   ]
  },
  {
   "cell_type": "code",
   "execution_count": 24,
   "id": "6b909711",
   "metadata": {},
   "outputs": [
    {
     "name": "stdout",
     "output_type": "stream",
     "text": [
      "Printing numpy array Attributes\n"
     ]
    }
   ],
   "source": [
    "print(\"Printing numpy array Attributes\")"
   ]
  },
  {
   "cell_type": "code",
   "execution_count": 25,
   "id": "c31b32bc",
   "metadata": {},
   "outputs": [
    {
     "name": "stdout",
     "output_type": "stream",
     "text": [
      "1> Array Shape is:  (4, 2)\n"
     ]
    }
   ],
   "source": [
    "print(\"1> Array Shape is: \", firstArray.shape)"
   ]
  },
  {
   "cell_type": "code",
   "execution_count": 26,
   "id": "dc079739",
   "metadata": {},
   "outputs": [
    {
     "name": "stdout",
     "output_type": "stream",
     "text": [
      "2>. Array dimensions are  2\n"
     ]
    }
   ],
   "source": [
    "print(\"2>. Array dimensions are \", firstArray.ndim)"
   ]
  },
  {
   "cell_type": "code",
   "execution_count": 27,
   "id": "6435e984",
   "metadata": {},
   "outputs": [
    {
     "name": "stdout",
     "output_type": "stream",
     "text": [
      "3>. Length of each element of array in bytes is  2\n"
     ]
    }
   ],
   "source": [
    "print(\"3>. Length of each element of array in bytes is \", firstArray.itemsize)"
   ]
  },
  {
   "cell_type": "code",
   "execution_count": 28,
   "id": "82701f59",
   "metadata": {},
   "outputs": [],
   "source": [
    "import numpy"
   ]
  },
  {
   "cell_type": "code",
   "execution_count": 29,
   "id": "7dee7227",
   "metadata": {},
   "outputs": [],
   "source": [
    "firstarray = numpy.empty([4,2], dtype = numpy.uint16)"
   ]
  },
  {
   "cell_type": "code",
   "execution_count": 30,
   "id": "718ef2ec",
   "metadata": {},
   "outputs": [
    {
     "name": "stdout",
     "output_type": "stream",
     "text": [
      "[[14032 10389]\n",
      " [  665     0]\n",
      " [    0     0]\n",
      " [    0     0]]\n"
     ]
    }
   ],
   "source": [
    "print(firstarray)"
   ]
  },
  {
   "cell_type": "code",
   "execution_count": 31,
   "id": "e84ec178",
   "metadata": {},
   "outputs": [
    {
     "name": "stdout",
     "output_type": "stream",
     "text": [
      "printing numpy array attributes\n"
     ]
    }
   ],
   "source": [
    "print(\"printing numpy array attributes\")"
   ]
  },
  {
   "cell_type": "code",
   "execution_count": 32,
   "id": "70837677",
   "metadata": {},
   "outputs": [
    {
     "name": "stdout",
     "output_type": "stream",
     "text": [
      "1> Array shape is (4, 2)\n"
     ]
    }
   ],
   "source": [
    "print(\"1> Array shape is\",firstArray.shape)"
   ]
  },
  {
   "cell_type": "code",
   "execution_count": 33,
   "id": "1c9a18dc",
   "metadata": {},
   "outputs": [
    {
     "name": "stdout",
     "output_type": "stream",
     "text": [
      "2>Array dimension is 2\n"
     ]
    }
   ],
   "source": [
    "print(\"2>Array dimension is\",firstArray.itemsize)"
   ]
  },
  {
   "cell_type": "code",
   "execution_count": 34,
   "id": "01ff2352",
   "metadata": {},
   "outputs": [
    {
     "ename": "SyntaxError",
     "evalue": "invalid syntax (Temp/ipykernel_9128/3005385284.py, line 1)",
     "output_type": "error",
     "traceback": [
      "\u001b[1;36m  File \u001b[1;32m\"C:\\Users\\Arunima\\AppData\\Local\\Temp/ipykernel_9128/3005385284.py\"\u001b[1;36m, line \u001b[1;32m1\u001b[0m\n\u001b[1;33m    print(\"3> Length of each array in byte is:\"firstArray.itemsize)\u001b[0m\n\u001b[1;37m                                               ^\u001b[0m\n\u001b[1;31mSyntaxError\u001b[0m\u001b[1;31m:\u001b[0m invalid syntax\n"
     ]
    }
   ],
   "source": [
    "print(\"3> Length of each array in byte is:\"firstArray.itemsize)"
   ]
  },
  {
   "cell_type": "code",
   "execution_count": 35,
   "id": "0e3b4939",
   "metadata": {},
   "outputs": [],
   "source": [
    "import numpy "
   ]
  },
  {
   "cell_type": "code",
   "execution_count": 36,
   "id": "f7210f18",
   "metadata": {},
   "outputs": [
    {
     "name": "stdout",
     "output_type": "stream",
     "text": [
      "Creating 5 * 2 array using numpy.arrange \n"
     ]
    }
   ],
   "source": [
    "print(\"Creating 5 * 2 array using numpy.arrange \")"
   ]
  },
  {
   "cell_type": "code",
   "execution_count": 37,
   "id": "923cd15f",
   "metadata": {},
   "outputs": [],
   "source": [
    "sampleArray = numpy.arange(100, 200, 10)"
   ]
  },
  {
   "cell_type": "code",
   "execution_count": 38,
   "id": "e0e94b8b",
   "metadata": {},
   "outputs": [],
   "source": [
    "sampleArray = sampleArray.reshape(5,2)"
   ]
  },
  {
   "cell_type": "code",
   "execution_count": 39,
   "id": "9309986f",
   "metadata": {},
   "outputs": [
    {
     "name": "stdout",
     "output_type": "stream",
     "text": [
      "[[100 110]\n",
      " [120 130]\n",
      " [140 150]\n",
      " [160 170]\n",
      " [180 190]]\n"
     ]
    }
   ],
   "source": [
    "print(sampleArray)"
   ]
  },
  {
   "cell_type": "code",
   "execution_count": 40,
   "id": "24acc3ce",
   "metadata": {},
   "outputs": [
    {
     "ename": "SyntaxError",
     "evalue": "closing parenthesis ']' does not match opening parenthesis '(' (Temp/ipykernel_9128/1466928427.py, line 1)",
     "output_type": "error",
     "traceback": [
      "\u001b[1;36m  File \u001b[1;32m\"C:\\Users\\Arunima\\AppData\\Local\\Temp/ipykernel_9128/1466928427.py\"\u001b[1;36m, line \u001b[1;32m1\u001b[0m\n\u001b[1;33m    sampleArray = numpy.array([[11,22,33],[44,55,66]],[77,88,99]])\u001b[0m\n\u001b[1;37m                                                                ^\u001b[0m\n\u001b[1;31mSyntaxError\u001b[0m\u001b[1;31m:\u001b[0m closing parenthesis ']' does not match opening parenthesis '('\n"
     ]
    }
   ],
   "source": [
    "sampleArray = numpy.array([[11,22,33],[44,55,66]],[77,88,99]])"
   ]
  },
  {
   "cell_type": "code",
   "execution_count": 42,
   "id": "13b74a62",
   "metadata": {},
   "outputs": [],
   "source": [
    "sampleArray = numpy.array([[3 ,6, 9, 12], [15 ,18, 21, 24], \n",
    "[27 ,30, 33, 36], [39 ,42, 45, 48], [51 ,54, 57, 60]])"
   ]
  },
  {
   "cell_type": "code",
   "execution_count": 43,
   "id": "2774d045",
   "metadata": {},
   "outputs": [
    {
     "name": "stdout",
     "output_type": "stream",
     "text": [
      "Printing Array\n"
     ]
    }
   ],
   "source": [
    "print(\"Printing Array\")"
   ]
  },
  {
   "cell_type": "code",
   "execution_count": 44,
   "id": "b94c090f",
   "metadata": {},
   "outputs": [
    {
     "name": "stdout",
     "output_type": "stream",
     "text": [
      "[[ 3  6  9 12]\n",
      " [15 18 21 24]\n",
      " [27 30 33 36]\n",
      " [39 42 45 48]\n",
      " [51 54 57 60]]\n"
     ]
    }
   ],
   "source": [
    "print(sampleArray)"
   ]
  },
  {
   "cell_type": "code",
   "execution_count": 45,
   "id": "e2bdee7c",
   "metadata": {},
   "outputs": [
    {
     "name": "stdout",
     "output_type": "stream",
     "text": [
      "\n",
      " Printing array of odd rows and even columns\n"
     ]
    }
   ],
   "source": [
    "print(\"\\n Printing array of odd rows and even columns\")"
   ]
  },
  {
   "cell_type": "code",
   "execution_count": 46,
   "id": "b7c3dad6",
   "metadata": {},
   "outputs": [],
   "source": [
    "newArray = sampleArray[::2, 1::2]"
   ]
  },
  {
   "cell_type": "code",
   "execution_count": 47,
   "id": "7d205e6e",
   "metadata": {},
   "outputs": [
    {
     "name": "stdout",
     "output_type": "stream",
     "text": [
      "[[ 6 12]\n",
      " [30 36]\n",
      " [54 60]]\n"
     ]
    }
   ],
   "source": [
    "print(newArray)"
   ]
  },
  {
   "cell_type": "code",
   "execution_count": 48,
   "id": "e99c4ce3",
   "metadata": {},
   "outputs": [],
   "source": [
    "import numpy"
   ]
  },
  {
   "cell_type": "code",
   "execution_count": 49,
   "id": "dddcd16e",
   "metadata": {},
   "outputs": [],
   "source": [
    "arrayOne = numpy.array([[5, 6, 9], [21 ,18, 27]])"
   ]
  },
  {
   "cell_type": "code",
   "execution_count": 50,
   "id": "d86069f7",
   "metadata": {},
   "outputs": [],
   "source": [
    "arrayTwo = numpy.array([[15 ,33, 24], [4 ,7, 1]])"
   ]
  },
  {
   "cell_type": "code",
   "execution_count": 51,
   "id": "4273b3dd",
   "metadata": {},
   "outputs": [
    {
     "ename": "NameError",
     "evalue": "name 'arrayone' is not defined",
     "output_type": "error",
     "traceback": [
      "\u001b[1;31m---------------------------------------------------------------------------\u001b[0m",
      "\u001b[1;31mNameError\u001b[0m                                 Traceback (most recent call last)",
      "\u001b[1;32m~\\AppData\\Local\\Temp/ipykernel_9128/1423017323.py\u001b[0m in \u001b[0;36m<module>\u001b[1;34m\u001b[0m\n\u001b[1;32m----> 1\u001b[1;33m \u001b[0mresultarray\u001b[0m \u001b[1;33m=\u001b[0m \u001b[0marrayone\u001b[0m \u001b[1;33m+\u001b[0m \u001b[0marraytwo\u001b[0m\u001b[1;33m\u001b[0m\u001b[1;33m\u001b[0m\u001b[0m\n\u001b[0m",
      "\u001b[1;31mNameError\u001b[0m: name 'arrayone' is not defined"
     ]
    }
   ],
   "source": [
    "resultarray = arrayone + arraytwo"
   ]
  },
  {
   "cell_type": "code",
   "execution_count": 52,
   "id": "b9668d98",
   "metadata": {},
   "outputs": [],
   "source": [
    "resultArray  = arrayOne + arrayTwo"
   ]
  },
  {
   "cell_type": "code",
   "execution_count": 53,
   "id": "74967b39",
   "metadata": {},
   "outputs": [
    {
     "name": "stdout",
     "output_type": "stream",
     "text": [
      "addition of two arrays is \n",
      "\n"
     ]
    }
   ],
   "source": [
    "print(\"addition of two arrays is \\n\")"
   ]
  },
  {
   "cell_type": "code",
   "execution_count": 54,
   "id": "5156fe93",
   "metadata": {},
   "outputs": [
    {
     "name": "stdout",
     "output_type": "stream",
     "text": [
      "resultArray\n"
     ]
    }
   ],
   "source": [
    "print(\"resultArray\")"
   ]
  },
  {
   "cell_type": "code",
   "execution_count": 56,
   "id": "6d11fd05",
   "metadata": {},
   "outputs": [
    {
     "name": "stdout",
     "output_type": "stream",
     "text": [
      "\n",
      "Result array after calculating the square root of all elements\n",
      "\n",
      "[[ 400 1521 1089]\n",
      " [ 625  625  784]]\n"
     ]
    }
   ],
   "source": [
    "for num in numpy.nditer(resultArray, op_flags = ['readwrite']):\n",
    "    num[...] = num*num\n",
    "print(\"\\nResult array after calculating the square root of all elements\\n\")\n",
    "print(resultArray)"
   ]
  },
  {
   "cell_type": "code",
   "execution_count": 57,
   "id": "e35622ed",
   "metadata": {},
   "outputs": [],
   "source": [
    "import numpy "
   ]
  },
  {
   "cell_type": "code",
   "execution_count": 58,
   "id": "7b40c484",
   "metadata": {},
   "outputs": [
    {
     "name": "stdout",
     "output_type": "stream",
     "text": [
      "Creating 8X3 array using numpy.arange\n"
     ]
    }
   ],
   "source": [
    "print(\"Creating 8X3 array using numpy.arange\")"
   ]
  },
  {
   "cell_type": "code",
   "execution_count": 59,
   "id": "0a2d6a20",
   "metadata": {},
   "outputs": [],
   "source": [
    "sampleArray = numpy.arange(10, 34, 1)"
   ]
  },
  {
   "cell_type": "code",
   "execution_count": 60,
   "id": "442231af",
   "metadata": {},
   "outputs": [],
   "source": [
    "sampleArray = sampleArray.reshape(8,3)"
   ]
  },
  {
   "cell_type": "code",
   "execution_count": 61,
   "id": "50343bd5",
   "metadata": {},
   "outputs": [
    {
     "name": "stdout",
     "output_type": "stream",
     "text": [
      "[[10 11 12]\n",
      " [13 14 15]\n",
      " [16 17 18]\n",
      " [19 20 21]\n",
      " [22 23 24]\n",
      " [25 26 27]\n",
      " [28 29 30]\n",
      " [31 32 33]]\n"
     ]
    }
   ],
   "source": [
    "print (sampleArray)"
   ]
  },
  {
   "cell_type": "code",
   "execution_count": 62,
   "id": "f90b15a5",
   "metadata": {},
   "outputs": [
    {
     "name": "stdout",
     "output_type": "stream",
     "text": [
      "\n",
      "Dividing 8X3 array into 4 sub array\n",
      "\n"
     ]
    }
   ],
   "source": [
    "print(\"\\nDividing 8X3 array into 4 sub array\\n\")"
   ]
  },
  {
   "cell_type": "code",
   "execution_count": 63,
   "id": "963ef8d8",
   "metadata": {},
   "outputs": [],
   "source": [
    "subArrays = numpy.split(sampleArray, 4) "
   ]
  },
  {
   "cell_type": "code",
   "execution_count": 64,
   "id": "086c69d4",
   "metadata": {},
   "outputs": [
    {
     "data": {
      "text/plain": [
       "[array([[10, 11, 12],\n",
       "        [13, 14, 15]]),\n",
       " array([[16, 17, 18],\n",
       "        [19, 20, 21]]),\n",
       " array([[22, 23, 24],\n",
       "        [25, 26, 27]]),\n",
       " array([[28, 29, 30],\n",
       "        [31, 32, 33]])]"
      ]
     },
     "execution_count": 64,
     "metadata": {},
     "output_type": "execute_result"
    }
   ],
   "source": [
    "subArrays"
   ]
  },
  {
   "cell_type": "code",
   "execution_count": 65,
   "id": "d74ae0e6",
   "metadata": {},
   "outputs": [],
   "source": [
    "import numpy"
   ]
  },
  {
   "cell_type": "code",
   "execution_count": 68,
   "id": "2a24990a",
   "metadata": {},
   "outputs": [],
   "source": [
    "sampleArray = numpy.array([[34,43,73],[82,22,12],[53,94,66]]) "
   ]
  },
  {
   "cell_type": "code",
   "execution_count": 69,
   "id": "636f41cf",
   "metadata": {},
   "outputs": [
    {
     "name": "stdout",
     "output_type": "stream",
     "text": [
      "[[34 43 73]\n",
      " [82 22 12]\n",
      " [53 94 66]]\n"
     ]
    }
   ],
   "source": [
    "print(sampleArray)"
   ]
  },
  {
   "cell_type": "code",
   "execution_count": 71,
   "id": "53cd28bf",
   "metadata": {},
   "outputs": [
    {
     "name": "stdout",
     "output_type": "stream",
     "text": [
      "Sorting Original array by secoond row\n"
     ]
    }
   ],
   "source": [
    "print(\"Sorting Original array by secoond row\")"
   ]
  },
  {
   "cell_type": "code",
   "execution_count": 72,
   "id": "f0c9cf98",
   "metadata": {},
   "outputs": [],
   "source": [
    "sortArrayByColumn = sampleArray[sampleArray[:,1].argsort()]"
   ]
  },
  {
   "cell_type": "code",
   "execution_count": 73,
   "id": "4a260218",
   "metadata": {},
   "outputs": [
    {
     "name": "stdout",
     "output_type": "stream",
     "text": [
      "[[82 22 12]\n",
      " [34 43 73]\n",
      " [53 94 66]]\n"
     ]
    }
   ],
   "source": [
    "print(sortArrayByColumn)"
   ]
  },
  {
   "cell_type": "code",
   "execution_count": 74,
   "id": "44a91f94",
   "metadata": {},
   "outputs": [],
   "source": [
    "sampleArray = numpy.array([[34,43,73],[82,22,12],[53,94,66]])"
   ]
  },
  {
   "cell_type": "code",
   "execution_count": 75,
   "id": "68a14b7a",
   "metadata": {},
   "outputs": [],
   "source": [
    "import numpy"
   ]
  },
  {
   "cell_type": "code",
   "execution_count": 76,
   "id": "2f055f76",
   "metadata": {},
   "outputs": [],
   "source": [
    "sampleArray = numpy.array([[34,43,73],[82,22,12],[53,94,66]])"
   ]
  },
  {
   "cell_type": "code",
   "execution_count": 77,
   "id": "4426c7f8",
   "metadata": {},
   "outputs": [
    {
     "name": "stdout",
     "output_type": "stream",
     "text": [
      "[[34 43 73]\n",
      " [82 22 12]\n",
      " [53 94 66]]\n"
     ]
    }
   ],
   "source": [
    "print(sampleArray)"
   ]
  },
  {
   "cell_type": "code",
   "execution_count": 78,
   "id": "cc22e85e",
   "metadata": {},
   "outputs": [],
   "source": [
    "minOfAxisOne = numpy.amin(sampleArray, 1) "
   ]
  },
  {
   "cell_type": "code",
   "execution_count": 79,
   "id": "36922d89",
   "metadata": {},
   "outputs": [
    {
     "name": "stdout",
     "output_type": "stream",
     "text": [
      "Printing amin Of Axis 1\n"
     ]
    }
   ],
   "source": [
    "print(\"Printing amin Of Axis 1\")"
   ]
  },
  {
   "cell_type": "code",
   "execution_count": 80,
   "id": "c653379d",
   "metadata": {},
   "outputs": [
    {
     "name": "stdout",
     "output_type": "stream",
     "text": [
      "Printing amin Of Axis 1\n"
     ]
    }
   ],
   "source": [
    "print(\"Printing amin Of Axis 1\")"
   ]
  },
  {
   "cell_type": "code",
   "execution_count": 81,
   "id": "f9b4abeb",
   "metadata": {},
   "outputs": [
    {
     "name": "stdout",
     "output_type": "stream",
     "text": [
      "[34 12 53]\n"
     ]
    }
   ],
   "source": [
    "print(minOfAxisOne)"
   ]
  },
  {
   "cell_type": "code",
   "execution_count": 82,
   "id": "7c58d0f5",
   "metadata": {},
   "outputs": [],
   "source": [
    "maxOfAxisOne = numpy.amax(sampleArray, 0) "
   ]
  },
  {
   "cell_type": "code",
   "execution_count": 83,
   "id": "997baf5d",
   "metadata": {},
   "outputs": [
    {
     "name": "stdout",
     "output_type": "stream",
     "text": [
      "Printing amax Of Axis 0\n"
     ]
    }
   ],
   "source": [
    "print(\"Printing amax Of Axis 0\")"
   ]
  },
  {
   "cell_type": "code",
   "execution_count": 84,
   "id": "6b1a37db",
   "metadata": {},
   "outputs": [
    {
     "name": "stdout",
     "output_type": "stream",
     "text": [
      "[82 94 73]\n"
     ]
    }
   ],
   "source": [
    "print(maxOfAxisOne)"
   ]
  },
  {
   "cell_type": "code",
   "execution_count": 85,
   "id": "f465a1f7",
   "metadata": {},
   "outputs": [
    {
     "name": "stdout",
     "output_type": "stream",
     "text": [
      "Delete the second column from a given array and insert the new column in this place\n"
     ]
    }
   ],
   "source": [
    "print(\"Delete the second column from a given array and insert the new column in this place\")"
   ]
  },
  {
   "cell_type": "code",
   "execution_count": 86,
   "id": "cc1d9eeb",
   "metadata": {},
   "outputs": [],
   "source": [
    "sampleArray = numpy.array([[34,43,73],[82,22,12],[53,94,66]])"
   ]
  },
  {
   "cell_type": "code",
   "execution_count": 87,
   "id": "2e6014f0",
   "metadata": {},
   "outputs": [
    {
     "name": "stdout",
     "output_type": "stream",
     "text": [
      "[[34 43 73]\n",
      " [82 22 12]\n",
      " [53 94 66]]\n"
     ]
    }
   ],
   "source": [
    "print(sampleArray)"
   ]
  },
  {
   "cell_type": "code",
   "execution_count": 88,
   "id": "9fa22eaf",
   "metadata": {},
   "outputs": [],
   "source": [
    "newColumn = numpy.array([[10,10,10]])"
   ]
  },
  {
   "cell_type": "code",
   "execution_count": 89,
   "id": "cbdbe0dd",
   "metadata": {},
   "outputs": [
    {
     "name": "stdout",
     "output_type": "stream",
     "text": [
      "Array after deleting column 2 on axis 1\n"
     ]
    }
   ],
   "source": [
    "print(\"Array after deleting column 2 on axis 1\")"
   ]
  },
  {
   "cell_type": "code",
   "execution_count": 90,
   "id": "4fd164f2",
   "metadata": {},
   "outputs": [],
   "source": [
    "sampleArray = numpy.delete(sampleArray , 1, axis = 1) "
   ]
  },
  {
   "cell_type": "code",
   "execution_count": 91,
   "id": "52e23e0f",
   "metadata": {},
   "outputs": [
    {
     "name": "stdout",
     "output_type": "stream",
     "text": [
      "[[34 73]\n",
      " [82 12]\n",
      " [53 66]]\n"
     ]
    }
   ],
   "source": [
    "print (sampleArray)"
   ]
  },
  {
   "cell_type": "code",
   "execution_count": 92,
   "id": "c1a1a0ba",
   "metadata": {},
   "outputs": [],
   "source": [
    "arr = numpy.array([[10,10,10]])"
   ]
  },
  {
   "cell_type": "code",
   "execution_count": 93,
   "id": "9c28da2f",
   "metadata": {},
   "outputs": [
    {
     "name": "stdout",
     "output_type": "stream",
     "text": [
      "Array after inserting column 2 on axis 1\n"
     ]
    }
   ],
   "source": [
    "print(\"Array after inserting column 2 on axis 1\")"
   ]
  },
  {
   "cell_type": "code",
   "execution_count": 94,
   "id": "e9214adc",
   "metadata": {},
   "outputs": [],
   "source": [
    "sampleArray = numpy.insert(sampleArray , 1, arr, axis = 1) "
   ]
  },
  {
   "cell_type": "code",
   "execution_count": 95,
   "id": "8ca42403",
   "metadata": {},
   "outputs": [
    {
     "name": "stdout",
     "output_type": "stream",
     "text": [
      "[[34 10 73]\n",
      " [82 10 12]\n",
      " [53 10 66]]\n"
     ]
    }
   ],
   "source": [
    "print(sampleArray)"
   ]
  },
  {
   "cell_type": "code",
   "execution_count": 96,
   "id": "e8b70802",
   "metadata": {},
   "outputs": [],
   "source": [
    "import pandas as pd "
   ]
  },
  {
   "cell_type": "code",
   "execution_count": 98,
   "id": "46a23820",
   "metadata": {},
   "outputs": [],
   "source": [
    "file= pd.read_csv(\"C:/Users/Arunima/Downloads/Automobile_data.csv\")"
   ]
  },
  {
   "cell_type": "code",
   "execution_count": 99,
   "id": "8ea5a995",
   "metadata": {},
   "outputs": [
    {
     "name": "stdout",
     "output_type": "stream",
     "text": [
      "file\n"
     ]
    }
   ],
   "source": [
    "print(\"file\")"
   ]
  },
  {
   "cell_type": "code",
   "execution_count": 100,
   "id": "253092f1",
   "metadata": {},
   "outputs": [
    {
     "data": {
      "text/html": [
       "<div>\n",
       "<style scoped>\n",
       "    .dataframe tbody tr th:only-of-type {\n",
       "        vertical-align: middle;\n",
       "    }\n",
       "\n",
       "    .dataframe tbody tr th {\n",
       "        vertical-align: top;\n",
       "    }\n",
       "\n",
       "    .dataframe thead th {\n",
       "        text-align: right;\n",
       "    }\n",
       "</style>\n",
       "<table border=\"1\" class=\"dataframe\">\n",
       "  <thead>\n",
       "    <tr style=\"text-align: right;\">\n",
       "      <th></th>\n",
       "      <th>index</th>\n",
       "      <th>company</th>\n",
       "      <th>body-style</th>\n",
       "      <th>wheel-base</th>\n",
       "      <th>length</th>\n",
       "      <th>engine-type</th>\n",
       "      <th>num-of-cylinders</th>\n",
       "      <th>horsepower</th>\n",
       "      <th>average-mileage</th>\n",
       "      <th>price</th>\n",
       "    </tr>\n",
       "  </thead>\n",
       "  <tbody>\n",
       "    <tr>\n",
       "      <th>0</th>\n",
       "      <td>0</td>\n",
       "      <td>alfa-romero</td>\n",
       "      <td>convertible</td>\n",
       "      <td>88.6</td>\n",
       "      <td>168.8</td>\n",
       "      <td>dohc</td>\n",
       "      <td>four</td>\n",
       "      <td>111</td>\n",
       "      <td>21</td>\n",
       "      <td>13495.0</td>\n",
       "    </tr>\n",
       "    <tr>\n",
       "      <th>1</th>\n",
       "      <td>1</td>\n",
       "      <td>alfa-romero</td>\n",
       "      <td>convertible</td>\n",
       "      <td>88.6</td>\n",
       "      <td>168.8</td>\n",
       "      <td>dohc</td>\n",
       "      <td>four</td>\n",
       "      <td>111</td>\n",
       "      <td>21</td>\n",
       "      <td>16500.0</td>\n",
       "    </tr>\n",
       "    <tr>\n",
       "      <th>2</th>\n",
       "      <td>2</td>\n",
       "      <td>alfa-romero</td>\n",
       "      <td>hatchback</td>\n",
       "      <td>94.5</td>\n",
       "      <td>171.2</td>\n",
       "      <td>ohcv</td>\n",
       "      <td>six</td>\n",
       "      <td>154</td>\n",
       "      <td>19</td>\n",
       "      <td>16500.0</td>\n",
       "    </tr>\n",
       "    <tr>\n",
       "      <th>3</th>\n",
       "      <td>3</td>\n",
       "      <td>audi</td>\n",
       "      <td>sedan</td>\n",
       "      <td>99.8</td>\n",
       "      <td>176.6</td>\n",
       "      <td>ohc</td>\n",
       "      <td>four</td>\n",
       "      <td>102</td>\n",
       "      <td>24</td>\n",
       "      <td>13950.0</td>\n",
       "    </tr>\n",
       "    <tr>\n",
       "      <th>4</th>\n",
       "      <td>4</td>\n",
       "      <td>audi</td>\n",
       "      <td>sedan</td>\n",
       "      <td>99.4</td>\n",
       "      <td>176.6</td>\n",
       "      <td>ohc</td>\n",
       "      <td>five</td>\n",
       "      <td>115</td>\n",
       "      <td>18</td>\n",
       "      <td>17450.0</td>\n",
       "    </tr>\n",
       "    <tr>\n",
       "      <th>...</th>\n",
       "      <td>...</td>\n",
       "      <td>...</td>\n",
       "      <td>...</td>\n",
       "      <td>...</td>\n",
       "      <td>...</td>\n",
       "      <td>...</td>\n",
       "      <td>...</td>\n",
       "      <td>...</td>\n",
       "      <td>...</td>\n",
       "      <td>...</td>\n",
       "    </tr>\n",
       "    <tr>\n",
       "      <th>56</th>\n",
       "      <td>81</td>\n",
       "      <td>volkswagen</td>\n",
       "      <td>sedan</td>\n",
       "      <td>97.3</td>\n",
       "      <td>171.7</td>\n",
       "      <td>ohc</td>\n",
       "      <td>four</td>\n",
       "      <td>85</td>\n",
       "      <td>27</td>\n",
       "      <td>7975.0</td>\n",
       "    </tr>\n",
       "    <tr>\n",
       "      <th>57</th>\n",
       "      <td>82</td>\n",
       "      <td>volkswagen</td>\n",
       "      <td>sedan</td>\n",
       "      <td>97.3</td>\n",
       "      <td>171.7</td>\n",
       "      <td>ohc</td>\n",
       "      <td>four</td>\n",
       "      <td>52</td>\n",
       "      <td>37</td>\n",
       "      <td>7995.0</td>\n",
       "    </tr>\n",
       "    <tr>\n",
       "      <th>58</th>\n",
       "      <td>86</td>\n",
       "      <td>volkswagen</td>\n",
       "      <td>sedan</td>\n",
       "      <td>97.3</td>\n",
       "      <td>171.7</td>\n",
       "      <td>ohc</td>\n",
       "      <td>four</td>\n",
       "      <td>100</td>\n",
       "      <td>26</td>\n",
       "      <td>9995.0</td>\n",
       "    </tr>\n",
       "    <tr>\n",
       "      <th>59</th>\n",
       "      <td>87</td>\n",
       "      <td>volvo</td>\n",
       "      <td>sedan</td>\n",
       "      <td>104.3</td>\n",
       "      <td>188.8</td>\n",
       "      <td>ohc</td>\n",
       "      <td>four</td>\n",
       "      <td>114</td>\n",
       "      <td>23</td>\n",
       "      <td>12940.0</td>\n",
       "    </tr>\n",
       "    <tr>\n",
       "      <th>60</th>\n",
       "      <td>88</td>\n",
       "      <td>volvo</td>\n",
       "      <td>wagon</td>\n",
       "      <td>104.3</td>\n",
       "      <td>188.8</td>\n",
       "      <td>ohc</td>\n",
       "      <td>four</td>\n",
       "      <td>114</td>\n",
       "      <td>23</td>\n",
       "      <td>13415.0</td>\n",
       "    </tr>\n",
       "  </tbody>\n",
       "</table>\n",
       "<p>61 rows × 10 columns</p>\n",
       "</div>"
      ],
      "text/plain": [
       "    index      company   body-style  wheel-base  length engine-type  \\\n",
       "0       0  alfa-romero  convertible        88.6   168.8        dohc   \n",
       "1       1  alfa-romero  convertible        88.6   168.8        dohc   \n",
       "2       2  alfa-romero    hatchback        94.5   171.2        ohcv   \n",
       "3       3         audi        sedan        99.8   176.6         ohc   \n",
       "4       4         audi        sedan        99.4   176.6         ohc   \n",
       "..    ...          ...          ...         ...     ...         ...   \n",
       "56     81   volkswagen        sedan        97.3   171.7         ohc   \n",
       "57     82   volkswagen        sedan        97.3   171.7         ohc   \n",
       "58     86   volkswagen        sedan        97.3   171.7         ohc   \n",
       "59     87        volvo        sedan       104.3   188.8         ohc   \n",
       "60     88        volvo        wagon       104.3   188.8         ohc   \n",
       "\n",
       "   num-of-cylinders  horsepower  average-mileage    price  \n",
       "0              four         111               21  13495.0  \n",
       "1              four         111               21  16500.0  \n",
       "2               six         154               19  16500.0  \n",
       "3              four         102               24  13950.0  \n",
       "4              five         115               18  17450.0  \n",
       "..              ...         ...              ...      ...  \n",
       "56             four          85               27   7975.0  \n",
       "57             four          52               37   7995.0  \n",
       "58             four         100               26   9995.0  \n",
       "59             four         114               23  12940.0  \n",
       "60             four         114               23  13415.0  \n",
       "\n",
       "[61 rows x 10 columns]"
      ]
     },
     "execution_count": 100,
     "metadata": {},
     "output_type": "execute_result"
    }
   ],
   "source": [
    "file"
   ]
  },
  {
   "cell_type": "code",
   "execution_count": 102,
   "id": "c3ee1c39",
   "metadata": {},
   "outputs": [
    {
     "data": {
      "text/html": [
       "<div>\n",
       "<style scoped>\n",
       "    .dataframe tbody tr th:only-of-type {\n",
       "        vertical-align: middle;\n",
       "    }\n",
       "\n",
       "    .dataframe tbody tr th {\n",
       "        vertical-align: top;\n",
       "    }\n",
       "\n",
       "    .dataframe thead th {\n",
       "        text-align: right;\n",
       "    }\n",
       "</style>\n",
       "<table border=\"1\" class=\"dataframe\">\n",
       "  <thead>\n",
       "    <tr style=\"text-align: right;\">\n",
       "      <th></th>\n",
       "      <th>index</th>\n",
       "      <th>company</th>\n",
       "      <th>body-style</th>\n",
       "      <th>wheel-base</th>\n",
       "      <th>length</th>\n",
       "      <th>engine-type</th>\n",
       "      <th>num-of-cylinders</th>\n",
       "      <th>horsepower</th>\n",
       "      <th>average-mileage</th>\n",
       "      <th>price</th>\n",
       "    </tr>\n",
       "  </thead>\n",
       "  <tbody>\n",
       "    <tr>\n",
       "      <th>0</th>\n",
       "      <td>0</td>\n",
       "      <td>alfa-romero</td>\n",
       "      <td>convertible</td>\n",
       "      <td>88.6</td>\n",
       "      <td>168.8</td>\n",
       "      <td>dohc</td>\n",
       "      <td>four</td>\n",
       "      <td>111</td>\n",
       "      <td>21</td>\n",
       "      <td>13495.0</td>\n",
       "    </tr>\n",
       "    <tr>\n",
       "      <th>1</th>\n",
       "      <td>1</td>\n",
       "      <td>alfa-romero</td>\n",
       "      <td>convertible</td>\n",
       "      <td>88.6</td>\n",
       "      <td>168.8</td>\n",
       "      <td>dohc</td>\n",
       "      <td>four</td>\n",
       "      <td>111</td>\n",
       "      <td>21</td>\n",
       "      <td>16500.0</td>\n",
       "    </tr>\n",
       "    <tr>\n",
       "      <th>2</th>\n",
       "      <td>2</td>\n",
       "      <td>alfa-romero</td>\n",
       "      <td>hatchback</td>\n",
       "      <td>94.5</td>\n",
       "      <td>171.2</td>\n",
       "      <td>ohcv</td>\n",
       "      <td>six</td>\n",
       "      <td>154</td>\n",
       "      <td>19</td>\n",
       "      <td>16500.0</td>\n",
       "    </tr>\n",
       "    <tr>\n",
       "      <th>3</th>\n",
       "      <td>3</td>\n",
       "      <td>audi</td>\n",
       "      <td>sedan</td>\n",
       "      <td>99.8</td>\n",
       "      <td>176.6</td>\n",
       "      <td>ohc</td>\n",
       "      <td>four</td>\n",
       "      <td>102</td>\n",
       "      <td>24</td>\n",
       "      <td>13950.0</td>\n",
       "    </tr>\n",
       "    <tr>\n",
       "      <th>4</th>\n",
       "      <td>4</td>\n",
       "      <td>audi</td>\n",
       "      <td>sedan</td>\n",
       "      <td>99.4</td>\n",
       "      <td>176.6</td>\n",
       "      <td>ohc</td>\n",
       "      <td>five</td>\n",
       "      <td>115</td>\n",
       "      <td>18</td>\n",
       "      <td>17450.0</td>\n",
       "    </tr>\n",
       "  </tbody>\n",
       "</table>\n",
       "</div>"
      ],
      "text/plain": [
       "   index      company   body-style  wheel-base  length engine-type  \\\n",
       "0      0  alfa-romero  convertible        88.6   168.8        dohc   \n",
       "1      1  alfa-romero  convertible        88.6   168.8        dohc   \n",
       "2      2  alfa-romero    hatchback        94.5   171.2        ohcv   \n",
       "3      3         audi        sedan        99.8   176.6         ohc   \n",
       "4      4         audi        sedan        99.4   176.6         ohc   \n",
       "\n",
       "  num-of-cylinders  horsepower  average-mileage    price  \n",
       "0             four         111               21  13495.0  \n",
       "1             four         111               21  16500.0  \n",
       "2              six         154               19  16500.0  \n",
       "3             four         102               24  13950.0  \n",
       "4             five         115               18  17450.0  "
      ]
     },
     "execution_count": 102,
     "metadata": {},
     "output_type": "execute_result"
    }
   ],
   "source": [
    "file.head(5)"
   ]
  },
  {
   "cell_type": "code",
   "execution_count": 103,
   "id": "13eded2b",
   "metadata": {},
   "outputs": [
    {
     "data": {
      "text/html": [
       "<div>\n",
       "<style scoped>\n",
       "    .dataframe tbody tr th:only-of-type {\n",
       "        vertical-align: middle;\n",
       "    }\n",
       "\n",
       "    .dataframe tbody tr th {\n",
       "        vertical-align: top;\n",
       "    }\n",
       "\n",
       "    .dataframe thead th {\n",
       "        text-align: right;\n",
       "    }\n",
       "</style>\n",
       "<table border=\"1\" class=\"dataframe\">\n",
       "  <thead>\n",
       "    <tr style=\"text-align: right;\">\n",
       "      <th></th>\n",
       "      <th>index</th>\n",
       "      <th>company</th>\n",
       "      <th>body-style</th>\n",
       "      <th>wheel-base</th>\n",
       "      <th>length</th>\n",
       "      <th>engine-type</th>\n",
       "      <th>num-of-cylinders</th>\n",
       "      <th>horsepower</th>\n",
       "      <th>average-mileage</th>\n",
       "      <th>price</th>\n",
       "    </tr>\n",
       "  </thead>\n",
       "  <tbody>\n",
       "    <tr>\n",
       "      <th>56</th>\n",
       "      <td>81</td>\n",
       "      <td>volkswagen</td>\n",
       "      <td>sedan</td>\n",
       "      <td>97.3</td>\n",
       "      <td>171.7</td>\n",
       "      <td>ohc</td>\n",
       "      <td>four</td>\n",
       "      <td>85</td>\n",
       "      <td>27</td>\n",
       "      <td>7975.0</td>\n",
       "    </tr>\n",
       "    <tr>\n",
       "      <th>57</th>\n",
       "      <td>82</td>\n",
       "      <td>volkswagen</td>\n",
       "      <td>sedan</td>\n",
       "      <td>97.3</td>\n",
       "      <td>171.7</td>\n",
       "      <td>ohc</td>\n",
       "      <td>four</td>\n",
       "      <td>52</td>\n",
       "      <td>37</td>\n",
       "      <td>7995.0</td>\n",
       "    </tr>\n",
       "    <tr>\n",
       "      <th>58</th>\n",
       "      <td>86</td>\n",
       "      <td>volkswagen</td>\n",
       "      <td>sedan</td>\n",
       "      <td>97.3</td>\n",
       "      <td>171.7</td>\n",
       "      <td>ohc</td>\n",
       "      <td>four</td>\n",
       "      <td>100</td>\n",
       "      <td>26</td>\n",
       "      <td>9995.0</td>\n",
       "    </tr>\n",
       "    <tr>\n",
       "      <th>59</th>\n",
       "      <td>87</td>\n",
       "      <td>volvo</td>\n",
       "      <td>sedan</td>\n",
       "      <td>104.3</td>\n",
       "      <td>188.8</td>\n",
       "      <td>ohc</td>\n",
       "      <td>four</td>\n",
       "      <td>114</td>\n",
       "      <td>23</td>\n",
       "      <td>12940.0</td>\n",
       "    </tr>\n",
       "    <tr>\n",
       "      <th>60</th>\n",
       "      <td>88</td>\n",
       "      <td>volvo</td>\n",
       "      <td>wagon</td>\n",
       "      <td>104.3</td>\n",
       "      <td>188.8</td>\n",
       "      <td>ohc</td>\n",
       "      <td>four</td>\n",
       "      <td>114</td>\n",
       "      <td>23</td>\n",
       "      <td>13415.0</td>\n",
       "    </tr>\n",
       "  </tbody>\n",
       "</table>\n",
       "</div>"
      ],
      "text/plain": [
       "    index     company body-style  wheel-base  length engine-type  \\\n",
       "56     81  volkswagen      sedan        97.3   171.7         ohc   \n",
       "57     82  volkswagen      sedan        97.3   171.7         ohc   \n",
       "58     86  volkswagen      sedan        97.3   171.7         ohc   \n",
       "59     87       volvo      sedan       104.3   188.8         ohc   \n",
       "60     88       volvo      wagon       104.3   188.8         ohc   \n",
       "\n",
       "   num-of-cylinders  horsepower  average-mileage    price  \n",
       "56             four          85               27   7975.0  \n",
       "57             four          52               37   7995.0  \n",
       "58             four         100               26   9995.0  \n",
       "59             four         114               23  12940.0  \n",
       "60             four         114               23  13415.0  "
      ]
     },
     "execution_count": 103,
     "metadata": {},
     "output_type": "execute_result"
    }
   ],
   "source": [
    "file.tail(5)"
   ]
  },
  {
   "cell_type": "code",
   "execution_count": 104,
   "id": "e923900f",
   "metadata": {},
   "outputs": [],
   "source": [
    "import pandas as pd"
   ]
  },
  {
   "cell_type": "code",
   "execution_count": 111,
   "id": "78d20fb5",
   "metadata": {},
   "outputs": [],
   "source": [
    "df = pd.read_csv(\"C:/Users/Arunima/Downloads/Sample4.csv\",na_values=\"NAN\")"
   ]
  },
  {
   "cell_type": "code",
   "execution_count": 112,
   "id": "be46824a",
   "metadata": {},
   "outputs": [
    {
     "name": "stdout",
     "output_type": "stream",
     "text": [
      "     Game Number   \"Game Length\"\n",
      "0              1              30\n",
      "1              2              29\n",
      "2              3              31\n",
      "3              4              16\n",
      "4              5              24\n",
      "..           ...             ...\n",
      "995          996              24\n",
      "996          997              21\n",
      "997          998              47\n",
      "998          999              30\n",
      "999         1000              12\n",
      "\n",
      "[1000 rows x 2 columns]\n"
     ]
    }
   ],
   "source": [
    "print(df)"
   ]
  },
  {
   "cell_type": "code",
   "execution_count": 110,
   "id": "32b6ab4b",
   "metadata": {},
   "outputs": [],
   "source": [
    "import pandas as pd"
   ]
  },
  {
   "cell_type": "code",
   "execution_count": 118,
   "id": "5140b28b",
   "metadata": {},
   "outputs": [],
   "source": [
    "df = pd.read_csv(\"C:/Users/Arunima/Downloads/Sample4.csv\",usecols =[\"Game Number\"])"
   ]
  },
  {
   "cell_type": "code",
   "execution_count": 115,
   "id": "5409b456",
   "metadata": {},
   "outputs": [
    {
     "data": {
      "text/html": [
       "<div>\n",
       "<style scoped>\n",
       "    .dataframe tbody tr th:only-of-type {\n",
       "        vertical-align: middle;\n",
       "    }\n",
       "\n",
       "    .dataframe tbody tr th {\n",
       "        vertical-align: top;\n",
       "    }\n",
       "\n",
       "    .dataframe thead th {\n",
       "        text-align: right;\n",
       "    }\n",
       "</style>\n",
       "<table border=\"1\" class=\"dataframe\">\n",
       "  <thead>\n",
       "    <tr style=\"text-align: right;\">\n",
       "      <th></th>\n",
       "      <th>Game Number</th>\n",
       "    </tr>\n",
       "  </thead>\n",
       "  <tbody>\n",
       "    <tr>\n",
       "      <th>0</th>\n",
       "      <td>1</td>\n",
       "    </tr>\n",
       "    <tr>\n",
       "      <th>1</th>\n",
       "      <td>2</td>\n",
       "    </tr>\n",
       "    <tr>\n",
       "      <th>2</th>\n",
       "      <td>3</td>\n",
       "    </tr>\n",
       "    <tr>\n",
       "      <th>3</th>\n",
       "      <td>4</td>\n",
       "    </tr>\n",
       "    <tr>\n",
       "      <th>4</th>\n",
       "      <td>5</td>\n",
       "    </tr>\n",
       "    <tr>\n",
       "      <th>...</th>\n",
       "      <td>...</td>\n",
       "    </tr>\n",
       "    <tr>\n",
       "      <th>995</th>\n",
       "      <td>996</td>\n",
       "    </tr>\n",
       "    <tr>\n",
       "      <th>996</th>\n",
       "      <td>997</td>\n",
       "    </tr>\n",
       "    <tr>\n",
       "      <th>997</th>\n",
       "      <td>998</td>\n",
       "    </tr>\n",
       "    <tr>\n",
       "      <th>998</th>\n",
       "      <td>999</td>\n",
       "    </tr>\n",
       "    <tr>\n",
       "      <th>999</th>\n",
       "      <td>1000</td>\n",
       "    </tr>\n",
       "  </tbody>\n",
       "</table>\n",
       "<p>1000 rows × 1 columns</p>\n",
       "</div>"
      ],
      "text/plain": [
       "     Game Number\n",
       "0              1\n",
       "1              2\n",
       "2              3\n",
       "3              4\n",
       "4              5\n",
       "..           ...\n",
       "995          996\n",
       "996          997\n",
       "997          998\n",
       "998          999\n",
       "999         1000\n",
       "\n",
       "[1000 rows x 1 columns]"
      ]
     },
     "execution_count": 115,
     "metadata": {},
     "output_type": "execute_result"
    }
   ],
   "source": [
    "df"
   ]
  },
  {
   "cell_type": "code",
   "execution_count": 119,
   "id": "8a479362",
   "metadata": {},
   "outputs": [],
   "source": [
    "import pandas as pd"
   ]
  },
  {
   "cell_type": "code",
   "execution_count": 120,
   "id": "66d94a5a",
   "metadata": {},
   "outputs": [],
   "source": [
    "df = pd.read_csv(\"C:/Users/Arunima/Downloads/Automobile_data.csv\") "
   ]
  },
  {
   "cell_type": "code",
   "execution_count": 121,
   "id": "e2b10734",
   "metadata": {
    "scrolled": true
   },
   "outputs": [
    {
     "name": "stdout",
     "output_type": "stream",
     "text": [
      "    index        company   body-style  wheel-base  length engine-type num-of-cylinders  horsepower  average-mileage    price\n",
      "0       0    alfa-romero  convertible        88.6   168.8        dohc             four         111               21  13495.0\n",
      "1       1    alfa-romero  convertible        88.6   168.8        dohc             four         111               21  16500.0\n",
      "2       2    alfa-romero    hatchback        94.5   171.2        ohcv              six         154               19  16500.0\n",
      "3       3           audi        sedan        99.8   176.6         ohc             four         102               24  13950.0\n",
      "4       4           audi        sedan        99.4   176.6         ohc             five         115               18  17450.0\n",
      "5       5           audi        sedan        99.8   177.3         ohc             five         110               19  15250.0\n",
      "6       6           audi        wagon       105.8   192.7         ohc             five         110               19  18920.0\n",
      "7       9            bmw        sedan       101.2   176.8         ohc             four         101               23  16430.0\n",
      "8      10            bmw        sedan       101.2   176.8         ohc             four         101               23  16925.0\n",
      "9      11            bmw        sedan       101.2   176.8         ohc              six         121               21  20970.0\n",
      "10     13            bmw        sedan       103.5   189.0         ohc              six         182               16  30760.0\n",
      "11     14            bmw        sedan       103.5   193.8         ohc              six         182               16  41315.0\n",
      "12     15            bmw        sedan       110.0   197.0         ohc              six         182               15  36880.0\n",
      "13     16      chevrolet    hatchback        88.4   141.1           l            three          48               47   5151.0\n",
      "14     17      chevrolet    hatchback        94.5   155.9         ohc             four          70               38   6295.0\n",
      "15     18      chevrolet        sedan        94.5   158.8         ohc             four          70               38   6575.0\n",
      "16     19          dodge    hatchback        93.7   157.3         ohc             four          68               31   6377.0\n",
      "17     20          dodge    hatchback        93.7   157.3         ohc             four          68               31   6229.0\n",
      "18     27          honda        wagon        96.5   157.1         ohc             four          76               30   7295.0\n",
      "19     28          honda        sedan        96.5   175.4         ohc             four         101               24  12945.0\n",
      "20     29          honda        sedan        96.5   169.1         ohc             four         100               25  10345.0\n",
      "21     30          isuzu        sedan        94.3   170.7         ohc             four          78               24   6785.0\n",
      "22     31          isuzu        sedan        94.5   155.9         ohc             four          70               38      NaN\n",
      "23     32          isuzu        sedan        94.5   155.9         ohc             four          70               38      NaN\n",
      "24     33         jaguar        sedan       113.0   199.6        dohc              six         176               15  32250.0\n",
      "25     34         jaguar        sedan       113.0   199.6        dohc              six         176               15  35550.0\n",
      "26     35         jaguar        sedan       102.0   191.7        ohcv           twelve         262               13  36000.0\n",
      "27     36          mazda    hatchback        93.1   159.1         ohc             four          68               30   5195.0\n",
      "28     37          mazda    hatchback        93.1   159.1         ohc             four          68               31   6095.0\n",
      "29     38          mazda    hatchback        93.1   159.1         ohc             four          68               31   6795.0\n",
      "30     39          mazda    hatchback        95.3   169.0       rotor              two         101               17  11845.0\n",
      "31     43          mazda        sedan       104.9   175.0         ohc             four          72               31  18344.0\n",
      "32     44  mercedes-benz        sedan       110.0   190.9         ohc             five         123               22  25552.0\n",
      "33     45  mercedes-benz        wagon       110.0   190.9         ohc             five         123               22  28248.0\n",
      "34     46  mercedes-benz        sedan       120.9   208.1        ohcv            eight         184               14  40960.0\n",
      "35     47  mercedes-benz      hardtop       112.0   199.2        ohcv            eight         184               14  45400.0\n",
      "36     49     mitsubishi    hatchback        93.7   157.3         ohc             four          68               37   5389.0\n",
      "37     50     mitsubishi    hatchback        93.7   157.3         ohc             four          68               31   6189.0\n",
      "38     51     mitsubishi        sedan        96.3   172.4         ohc             four          88               25   6989.0\n",
      "39     52     mitsubishi        sedan        96.3   172.4         ohc             four          88               25   8189.0\n",
      "40     53         nissan        sedan        94.5   165.3         ohc             four          55               45   7099.0\n",
      "41     54         nissan        sedan        94.5   165.3         ohc             four          69               31   6649.0\n",
      "42     55         nissan        sedan        94.5   165.3         ohc             four          69               31   6849.0\n",
      "43     56         nissan        wagon        94.5   170.2         ohc             four          69               31   7349.0\n",
      "44     57         nissan        sedan       100.4   184.6        ohcv              six         152               19  13499.0\n",
      "45     61        porsche      hardtop        89.5   168.9        ohcf              six         207               17  34028.0\n",
      "46     62        porsche  convertible        89.5   168.9        ohcf              six         207               17  37028.0\n",
      "47     63        porsche    hatchback        98.4   175.7       dohcv            eight         288               17      NaN\n",
      "48     66         toyota    hatchback        95.7   158.7         ohc             four          62               35   5348.0\n",
      "49     67         toyota    hatchback        95.7   158.7         ohc             four          62               31   6338.0\n",
      "50     68         toyota    hatchback        95.7   158.7         ohc             four          62               31   6488.0\n",
      "51     69         toyota        wagon        95.7   169.7         ohc             four          62               31   6918.0\n",
      "52     70         toyota        wagon        95.7   169.7         ohc             four          62               27   7898.0\n",
      "53     71         toyota        wagon        95.7   169.7         ohc             four          62               27   8778.0\n",
      "54     79         toyota        wagon       104.5   187.8        dohc              six         156               19  15750.0\n",
      "55     80     volkswagen        sedan        97.3   171.7         ohc             four          52               37   7775.0\n",
      "56     81     volkswagen        sedan        97.3   171.7         ohc             four          85               27   7975.0\n",
      "57     82     volkswagen        sedan        97.3   171.7         ohc             four          52               37   7995.0\n",
      "58     86     volkswagen        sedan        97.3   171.7         ohc             four         100               26   9995.0\n",
      "59     87          volvo        sedan       104.3   188.8         ohc             four         114               23  12940.0\n",
      "60     88          volvo        wagon       104.3   188.8         ohc             four         114               23  13415.0\n"
     ]
    }
   ],
   "source": [
    "print(df.to_string())"
   ]
  },
  {
   "cell_type": "code",
   "execution_count": 132,
   "id": "31a4cdd8",
   "metadata": {},
   "outputs": [],
   "source": [
    "df = pd.read_csv(\"C:/Users/Arunima/Downloads/Automobile_data.csv\")"
   ]
  },
  {
   "cell_type": "code",
   "execution_count": 135,
   "id": "4a069683",
   "metadata": {},
   "outputs": [
    {
     "data": {
      "text/plain": [
       "94.5     9\n",
       "95.7     6\n",
       "97.3     4\n",
       "93.7     4\n",
       "101.2    3\n",
       "110.0    3\n",
       "93.1     3\n",
       "96.5     3\n",
       "88.6     2\n",
       "113.0    2\n",
       "89.5     2\n",
       "96.3     2\n",
       "104.3    2\n",
       "103.5    2\n",
       "99.8     2\n",
       "94.3     1\n",
       "88.4     1\n",
       "95.3     1\n",
       "104.9    1\n",
       "120.9    1\n",
       "112.0    1\n",
       "100.4    1\n",
       "105.8    1\n",
       "98.4     1\n",
       "99.4     1\n",
       "104.5    1\n",
       "102.0    1\n",
       "Name: wheel-base, dtype: int64"
      ]
     },
     "execution_count": 135,
     "metadata": {},
     "output_type": "execute_result"
    }
   ],
   "source": [
    "df['wheel-base'].value_counts()"
   ]
  },
  {
   "cell_type": "code",
   "execution_count": 136,
   "id": "865a10a7",
   "metadata": {},
   "outputs": [],
   "source": [
    "import pandas as pd"
   ]
  },
  {
   "cell_type": "code",
   "execution_count": 137,
   "id": "f940c520",
   "metadata": {},
   "outputs": [],
   "source": [
    "results = pd.read_csv(\"C:/Users/Arunima/Downloads/Automobile_data.csv\")"
   ]
  },
  {
   "cell_type": "code",
   "execution_count": 138,
   "id": "a645b5d6",
   "metadata": {},
   "outputs": [
    {
     "name": "stdout",
     "output_type": "stream",
     "text": [
      "Number Results 61\n"
     ]
    }
   ],
   "source": [
    "print(\"Number Results\",len(results))"
   ]
  },
  {
   "cell_type": "code",
   "execution_count": 139,
   "id": "6df5b4d1",
   "metadata": {},
   "outputs": [],
   "source": []
  },
  {
   "cell_type": "code",
   "execution_count": 147,
   "id": "231125ec",
   "metadata": {},
   "outputs": [
    {
     "name": "stdout",
     "output_type": "stream",
     "text": [
      "Number of lines present:- 62\n"
     ]
    }
   ],
   "source": [
    "rowcount  = 0\n",
    "#iterating through the whole file\n",
    "for row in open(\"C:/Users/Arunima/Downloads/Automobile_data.csv\"):\n",
    "  rowcount+= 1\n",
    " #printing the result\n",
    "print(\"Number of lines present:-\", rowcount)"
   ]
  },
  {
   "cell_type": "code",
   "execution_count": 148,
   "id": "f2630074",
   "metadata": {},
   "outputs": [],
   "source": [
    "import pandas as pd "
   ]
  },
  {
   "cell_type": "code",
   "execution_count": 149,
   "id": "6a12d173",
   "metadata": {},
   "outputs": [],
   "source": [
    "df = pd.read_csv(\"C:/Users/Arunima/Downloads/Automobile_data.csv\")"
   ]
  },
  {
   "cell_type": "code",
   "execution_count": 150,
   "id": "daa931c7",
   "metadata": {},
   "outputs": [],
   "source": [
    "car_Manufacturers = df.groupby('company')"
   ]
  },
  {
   "cell_type": "code",
   "execution_count": 151,
   "id": "89738abb",
   "metadata": {},
   "outputs": [
    {
     "name": "stderr",
     "output_type": "stream",
     "text": [
      "C:\\Users\\Arunima\\AppData\\Local\\Temp/ipykernel_9128/696153469.py:1: FutureWarning: Indexing with multiple keys (implicitly converted to a tuple of keys) will be deprecated, use a list instead.\n",
      "  priceDf = car_Manufacturers['company','price'].max()\n"
     ]
    }
   ],
   "source": [
    "priceDf = car_Manufacturers['company','price'].max()"
   ]
  },
  {
   "cell_type": "code",
   "execution_count": 152,
   "id": "54b91bc7",
   "metadata": {},
   "outputs": [
    {
     "data": {
      "text/html": [
       "<div>\n",
       "<style scoped>\n",
       "    .dataframe tbody tr th:only-of-type {\n",
       "        vertical-align: middle;\n",
       "    }\n",
       "\n",
       "    .dataframe tbody tr th {\n",
       "        vertical-align: top;\n",
       "    }\n",
       "\n",
       "    .dataframe thead th {\n",
       "        text-align: right;\n",
       "    }\n",
       "</style>\n",
       "<table border=\"1\" class=\"dataframe\">\n",
       "  <thead>\n",
       "    <tr style=\"text-align: right;\">\n",
       "      <th></th>\n",
       "      <th>company</th>\n",
       "      <th>price</th>\n",
       "    </tr>\n",
       "    <tr>\n",
       "      <th>company</th>\n",
       "      <th></th>\n",
       "      <th></th>\n",
       "    </tr>\n",
       "  </thead>\n",
       "  <tbody>\n",
       "    <tr>\n",
       "      <th>alfa-romero</th>\n",
       "      <td>alfa-romero</td>\n",
       "      <td>16500.0</td>\n",
       "    </tr>\n",
       "    <tr>\n",
       "      <th>audi</th>\n",
       "      <td>audi</td>\n",
       "      <td>18920.0</td>\n",
       "    </tr>\n",
       "    <tr>\n",
       "      <th>bmw</th>\n",
       "      <td>bmw</td>\n",
       "      <td>41315.0</td>\n",
       "    </tr>\n",
       "    <tr>\n",
       "      <th>chevrolet</th>\n",
       "      <td>chevrolet</td>\n",
       "      <td>6575.0</td>\n",
       "    </tr>\n",
       "    <tr>\n",
       "      <th>dodge</th>\n",
       "      <td>dodge</td>\n",
       "      <td>6377.0</td>\n",
       "    </tr>\n",
       "    <tr>\n",
       "      <th>honda</th>\n",
       "      <td>honda</td>\n",
       "      <td>12945.0</td>\n",
       "    </tr>\n",
       "    <tr>\n",
       "      <th>isuzu</th>\n",
       "      <td>isuzu</td>\n",
       "      <td>6785.0</td>\n",
       "    </tr>\n",
       "    <tr>\n",
       "      <th>jaguar</th>\n",
       "      <td>jaguar</td>\n",
       "      <td>36000.0</td>\n",
       "    </tr>\n",
       "    <tr>\n",
       "      <th>mazda</th>\n",
       "      <td>mazda</td>\n",
       "      <td>18344.0</td>\n",
       "    </tr>\n",
       "    <tr>\n",
       "      <th>mercedes-benz</th>\n",
       "      <td>mercedes-benz</td>\n",
       "      <td>45400.0</td>\n",
       "    </tr>\n",
       "    <tr>\n",
       "      <th>mitsubishi</th>\n",
       "      <td>mitsubishi</td>\n",
       "      <td>8189.0</td>\n",
       "    </tr>\n",
       "    <tr>\n",
       "      <th>nissan</th>\n",
       "      <td>nissan</td>\n",
       "      <td>13499.0</td>\n",
       "    </tr>\n",
       "    <tr>\n",
       "      <th>porsche</th>\n",
       "      <td>porsche</td>\n",
       "      <td>37028.0</td>\n",
       "    </tr>\n",
       "    <tr>\n",
       "      <th>toyota</th>\n",
       "      <td>toyota</td>\n",
       "      <td>15750.0</td>\n",
       "    </tr>\n",
       "    <tr>\n",
       "      <th>volkswagen</th>\n",
       "      <td>volkswagen</td>\n",
       "      <td>9995.0</td>\n",
       "    </tr>\n",
       "    <tr>\n",
       "      <th>volvo</th>\n",
       "      <td>volvo</td>\n",
       "      <td>13415.0</td>\n",
       "    </tr>\n",
       "  </tbody>\n",
       "</table>\n",
       "</div>"
      ],
      "text/plain": [
       "                     company    price\n",
       "company                              \n",
       "alfa-romero      alfa-romero  16500.0\n",
       "audi                    audi  18920.0\n",
       "bmw                      bmw  41315.0\n",
       "chevrolet          chevrolet   6575.0\n",
       "dodge                  dodge   6377.0\n",
       "honda                  honda  12945.0\n",
       "isuzu                  isuzu   6785.0\n",
       "jaguar                jaguar  36000.0\n",
       "mazda                  mazda  18344.0\n",
       "mercedes-benz  mercedes-benz  45400.0\n",
       "mitsubishi        mitsubishi   8189.0\n",
       "nissan                nissan  13499.0\n",
       "porsche              porsche  37028.0\n",
       "toyota                toyota  15750.0\n",
       "volkswagen        volkswagen   9995.0\n",
       "volvo                  volvo  13415.0"
      ]
     },
     "execution_count": 152,
     "metadata": {},
     "output_type": "execute_result"
    }
   ],
   "source": [
    "priceDf"
   ]
  },
  {
   "cell_type": "code",
   "execution_count": 154,
   "id": "19a71df3",
   "metadata": {},
   "outputs": [],
   "source": [
    "df = pd.read_csv(\"C:/Users/Arunima/Downloads/Automobile_data.csv\")"
   ]
  },
  {
   "cell_type": "code",
   "execution_count": 155,
   "id": "59c48eed",
   "metadata": {},
   "outputs": [],
   "source": [
    "car_Manufacturers = df.groupby('company')"
   ]
  },
  {
   "cell_type": "code",
   "execution_count": 156,
   "id": "deb1108c",
   "metadata": {},
   "outputs": [
    {
     "name": "stderr",
     "output_type": "stream",
     "text": [
      "C:\\Users\\Arunima\\AppData\\Local\\Temp/ipykernel_9128/2566049016.py:1: FutureWarning: Indexing with multiple keys (implicitly converted to a tuple of keys) will be deprecated, use a list instead.\n",
      "  mileageDf = car_Manufacturers['company','average-mileage'].mean()\n"
     ]
    }
   ],
   "source": [
    "mileageDf = car_Manufacturers['company','average-mileage'].mean()"
   ]
  },
  {
   "cell_type": "code",
   "execution_count": 158,
   "id": "b3c89ce9",
   "metadata": {},
   "outputs": [
    {
     "data": {
      "text/html": [
       "<div>\n",
       "<style scoped>\n",
       "    .dataframe tbody tr th:only-of-type {\n",
       "        vertical-align: middle;\n",
       "    }\n",
       "\n",
       "    .dataframe tbody tr th {\n",
       "        vertical-align: top;\n",
       "    }\n",
       "\n",
       "    .dataframe thead th {\n",
       "        text-align: right;\n",
       "    }\n",
       "</style>\n",
       "<table border=\"1\" class=\"dataframe\">\n",
       "  <thead>\n",
       "    <tr style=\"text-align: right;\">\n",
       "      <th></th>\n",
       "      <th>average-mileage</th>\n",
       "    </tr>\n",
       "    <tr>\n",
       "      <th>company</th>\n",
       "      <th></th>\n",
       "    </tr>\n",
       "  </thead>\n",
       "  <tbody>\n",
       "    <tr>\n",
       "      <th>alfa-romero</th>\n",
       "      <td>20.333333</td>\n",
       "    </tr>\n",
       "    <tr>\n",
       "      <th>audi</th>\n",
       "      <td>20.000000</td>\n",
       "    </tr>\n",
       "    <tr>\n",
       "      <th>bmw</th>\n",
       "      <td>19.000000</td>\n",
       "    </tr>\n",
       "    <tr>\n",
       "      <th>chevrolet</th>\n",
       "      <td>41.000000</td>\n",
       "    </tr>\n",
       "    <tr>\n",
       "      <th>dodge</th>\n",
       "      <td>31.000000</td>\n",
       "    </tr>\n",
       "    <tr>\n",
       "      <th>honda</th>\n",
       "      <td>26.333333</td>\n",
       "    </tr>\n",
       "    <tr>\n",
       "      <th>isuzu</th>\n",
       "      <td>33.333333</td>\n",
       "    </tr>\n",
       "    <tr>\n",
       "      <th>jaguar</th>\n",
       "      <td>14.333333</td>\n",
       "    </tr>\n",
       "    <tr>\n",
       "      <th>mazda</th>\n",
       "      <td>28.000000</td>\n",
       "    </tr>\n",
       "    <tr>\n",
       "      <th>mercedes-benz</th>\n",
       "      <td>18.000000</td>\n",
       "    </tr>\n",
       "    <tr>\n",
       "      <th>mitsubishi</th>\n",
       "      <td>29.500000</td>\n",
       "    </tr>\n",
       "    <tr>\n",
       "      <th>nissan</th>\n",
       "      <td>31.400000</td>\n",
       "    </tr>\n",
       "    <tr>\n",
       "      <th>porsche</th>\n",
       "      <td>17.000000</td>\n",
       "    </tr>\n",
       "    <tr>\n",
       "      <th>toyota</th>\n",
       "      <td>28.714286</td>\n",
       "    </tr>\n",
       "    <tr>\n",
       "      <th>volkswagen</th>\n",
       "      <td>31.750000</td>\n",
       "    </tr>\n",
       "    <tr>\n",
       "      <th>volvo</th>\n",
       "      <td>23.000000</td>\n",
       "    </tr>\n",
       "  </tbody>\n",
       "</table>\n",
       "</div>"
      ],
      "text/plain": [
       "               average-mileage\n",
       "company                       \n",
       "alfa-romero          20.333333\n",
       "audi                 20.000000\n",
       "bmw                  19.000000\n",
       "chevrolet            41.000000\n",
       "dodge                31.000000\n",
       "honda                26.333333\n",
       "isuzu                33.333333\n",
       "jaguar               14.333333\n",
       "mazda                28.000000\n",
       "mercedes-benz        18.000000\n",
       "mitsubishi           29.500000\n",
       "nissan               31.400000\n",
       "porsche              17.000000\n",
       "toyota               28.714286\n",
       "volkswagen           31.750000\n",
       "volvo                23.000000"
      ]
     },
     "execution_count": 158,
     "metadata": {},
     "output_type": "execute_result"
    }
   ],
   "source": [
    "mileageDf"
   ]
  },
  {
   "cell_type": "code",
   "execution_count": 159,
   "id": "4568c2a7",
   "metadata": {},
   "outputs": [],
   "source": [
    "GermanCars = {'Company': ['Ford', 'Mercedes', 'BMV', 'Audi'], 'Price': [23845, 171995, 135925 , 71400]}\n",
    "japaneseCars = {'Company': ['Toyota', 'Honda', 'Nissan', 'Mitsubishi '], 'Price': [29995, 23600, 61500 , 58900]}"
   ]
  },
  {
   "cell_type": "code",
   "execution_count": 160,
   "id": "d949216c",
   "metadata": {},
   "outputs": [],
   "source": [
    "GermanCars = {'Company': ['Ford', 'Mercedes', 'BMV', 'Audi'], 'Price': [23845, 171995, 135925 , 71400]}"
   ]
  },
  {
   "cell_type": "code",
   "execution_count": 161,
   "id": "4146cc40",
   "metadata": {},
   "outputs": [],
   "source": [
    "carsDf1 = pd.DataFrame.from_dict(GermanCars)"
   ]
  },
  {
   "cell_type": "code",
   "execution_count": 162,
   "id": "211f56e3",
   "metadata": {},
   "outputs": [
    {
     "data": {
      "text/html": [
       "<div>\n",
       "<style scoped>\n",
       "    .dataframe tbody tr th:only-of-type {\n",
       "        vertical-align: middle;\n",
       "    }\n",
       "\n",
       "    .dataframe tbody tr th {\n",
       "        vertical-align: top;\n",
       "    }\n",
       "\n",
       "    .dataframe thead th {\n",
       "        text-align: right;\n",
       "    }\n",
       "</style>\n",
       "<table border=\"1\" class=\"dataframe\">\n",
       "  <thead>\n",
       "    <tr style=\"text-align: right;\">\n",
       "      <th></th>\n",
       "      <th>Company</th>\n",
       "      <th>Price</th>\n",
       "    </tr>\n",
       "  </thead>\n",
       "  <tbody>\n",
       "    <tr>\n",
       "      <th>0</th>\n",
       "      <td>Ford</td>\n",
       "      <td>23845</td>\n",
       "    </tr>\n",
       "    <tr>\n",
       "      <th>1</th>\n",
       "      <td>Mercedes</td>\n",
       "      <td>171995</td>\n",
       "    </tr>\n",
       "    <tr>\n",
       "      <th>2</th>\n",
       "      <td>BMV</td>\n",
       "      <td>135925</td>\n",
       "    </tr>\n",
       "    <tr>\n",
       "      <th>3</th>\n",
       "      <td>Audi</td>\n",
       "      <td>71400</td>\n",
       "    </tr>\n",
       "  </tbody>\n",
       "</table>\n",
       "</div>"
      ],
      "text/plain": [
       "    Company   Price\n",
       "0      Ford   23845\n",
       "1  Mercedes  171995\n",
       "2       BMV  135925\n",
       "3      Audi   71400"
      ]
     },
     "execution_count": 162,
     "metadata": {},
     "output_type": "execute_result"
    }
   ],
   "source": [
    "carsDf1"
   ]
  },
  {
   "cell_type": "code",
   "execution_count": 163,
   "id": "23bfde5e",
   "metadata": {},
   "outputs": [],
   "source": [
    "japaneseCars = {'Company': ['Toyota', 'Honda', 'Nissan', 'Mitsubishi '], 'Price': [29995, 23600, 61500 , 58900]}"
   ]
  },
  {
   "cell_type": "code",
   "execution_count": 164,
   "id": "8679aa1e",
   "metadata": {},
   "outputs": [],
   "source": [
    "carsDf2 = pd.DataFrame.from_dict(japaneseCars)"
   ]
  },
  {
   "cell_type": "code",
   "execution_count": 165,
   "id": "8ed7575c",
   "metadata": {},
   "outputs": [],
   "source": [
    "carsDf = pd.concat([carsDf1, carsDf2], keys=[\"Germany\", \"Japan\"])"
   ]
  },
  {
   "cell_type": "code",
   "execution_count": 166,
   "id": "0f553d88",
   "metadata": {},
   "outputs": [
    {
     "data": {
      "text/html": [
       "<div>\n",
       "<style scoped>\n",
       "    .dataframe tbody tr th:only-of-type {\n",
       "        vertical-align: middle;\n",
       "    }\n",
       "\n",
       "    .dataframe tbody tr th {\n",
       "        vertical-align: top;\n",
       "    }\n",
       "\n",
       "    .dataframe thead th {\n",
       "        text-align: right;\n",
       "    }\n",
       "</style>\n",
       "<table border=\"1\" class=\"dataframe\">\n",
       "  <thead>\n",
       "    <tr style=\"text-align: right;\">\n",
       "      <th></th>\n",
       "      <th></th>\n",
       "      <th>Company</th>\n",
       "      <th>Price</th>\n",
       "    </tr>\n",
       "  </thead>\n",
       "  <tbody>\n",
       "    <tr>\n",
       "      <th rowspan=\"4\" valign=\"top\">Germany</th>\n",
       "      <th>0</th>\n",
       "      <td>Ford</td>\n",
       "      <td>23845</td>\n",
       "    </tr>\n",
       "    <tr>\n",
       "      <th>1</th>\n",
       "      <td>Mercedes</td>\n",
       "      <td>171995</td>\n",
       "    </tr>\n",
       "    <tr>\n",
       "      <th>2</th>\n",
       "      <td>BMV</td>\n",
       "      <td>135925</td>\n",
       "    </tr>\n",
       "    <tr>\n",
       "      <th>3</th>\n",
       "      <td>Audi</td>\n",
       "      <td>71400</td>\n",
       "    </tr>\n",
       "    <tr>\n",
       "      <th rowspan=\"4\" valign=\"top\">Japan</th>\n",
       "      <th>0</th>\n",
       "      <td>Toyota</td>\n",
       "      <td>29995</td>\n",
       "    </tr>\n",
       "    <tr>\n",
       "      <th>1</th>\n",
       "      <td>Honda</td>\n",
       "      <td>23600</td>\n",
       "    </tr>\n",
       "    <tr>\n",
       "      <th>2</th>\n",
       "      <td>Nissan</td>\n",
       "      <td>61500</td>\n",
       "    </tr>\n",
       "    <tr>\n",
       "      <th>3</th>\n",
       "      <td>Mitsubishi</td>\n",
       "      <td>58900</td>\n",
       "    </tr>\n",
       "  </tbody>\n",
       "</table>\n",
       "</div>"
      ],
      "text/plain": [
       "               Company   Price\n",
       "Germany 0         Ford   23845\n",
       "        1     Mercedes  171995\n",
       "        2          BMV  135925\n",
       "        3         Audi   71400\n",
       "Japan   0       Toyota   29995\n",
       "        1        Honda   23600\n",
       "        2       Nissan   61500\n",
       "        3  Mitsubishi    58900"
      ]
     },
     "execution_count": 166,
     "metadata": {},
     "output_type": "execute_result"
    }
   ],
   "source": [
    "carsDf"
   ]
  },
  {
   "cell_type": "code",
   "execution_count": 168,
   "id": "929be4d7",
   "metadata": {},
   "outputs": [],
   "source": [
    "car_Horsepower = {'Company': ['Toyota', 'Honda', 'BMV', 'Audi'], 'horsepower': [141, 80, 182 , 160]}"
   ]
  },
  {
   "cell_type": "code",
   "execution_count": 169,
   "id": "dfbdf256",
   "metadata": {},
   "outputs": [],
   "source": [
    "carsHorsepowerDf = pd.DataFrame.from_dict(car_Horsepower)"
   ]
  },
  {
   "cell_type": "code",
   "execution_count": 176,
   "id": "8031cb3f",
   "metadata": {},
   "outputs": [
    {
     "ename": "NameError",
     "evalue": "name 'carPriceDf' is not defined",
     "output_type": "error",
     "traceback": [
      "\u001b[1;31m---------------------------------------------------------------------------\u001b[0m",
      "\u001b[1;31mNameError\u001b[0m                                 Traceback (most recent call last)",
      "\u001b[1;32m~\\AppData\\Local\\Temp/ipykernel_9128/2965388340.py\u001b[0m in \u001b[0;36m<module>\u001b[1;34m\u001b[0m\n\u001b[1;32m----> 1\u001b[1;33m \u001b[0mcarsDf\u001b[0m \u001b[1;33m=\u001b[0m \u001b[0mpd\u001b[0m\u001b[1;33m.\u001b[0m\u001b[0mmerge\u001b[0m\u001b[1;33m(\u001b[0m\u001b[0mcarPriceDf\u001b[0m\u001b[1;33m,\u001b[0m \u001b[0mcarsHorsepowerDf\u001b[0m\u001b[1;33m,\u001b[0m \u001b[0mon\u001b[0m\u001b[1;33m=\u001b[0m\u001b[1;34m\"Company\"\u001b[0m\u001b[1;33m)\u001b[0m\u001b[1;33m\u001b[0m\u001b[1;33m\u001b[0m\u001b[0m\n\u001b[0m",
      "\u001b[1;31mNameError\u001b[0m: name 'carPriceDf' is not defined"
     ]
    }
   ],
   "source": []
  },
  {
   "cell_type": "code",
   "execution_count": 177,
   "id": "5daf54a9",
   "metadata": {},
   "outputs": [],
   "source": [
    "import pandas as pd"
   ]
  },
  {
   "cell_type": "code",
   "execution_count": 178,
   "id": "9732c45c",
   "metadata": {},
   "outputs": [],
   "source": [
    "Car_Price = {'Company': ['Toyota', 'Honda', 'BMV', 'Audi'], 'Price': [23845, 17995, 135925 , 71400]}"
   ]
  },
  {
   "cell_type": "code",
   "execution_count": 179,
   "id": "8d502fd9",
   "metadata": {},
   "outputs": [],
   "source": [
    "carPriceDf = pd.DataFrame.from_dict(Car_Price)"
   ]
  },
  {
   "cell_type": "code",
   "execution_count": 180,
   "id": "073f6fdf",
   "metadata": {},
   "outputs": [
    {
     "data": {
      "text/html": [
       "<div>\n",
       "<style scoped>\n",
       "    .dataframe tbody tr th:only-of-type {\n",
       "        vertical-align: middle;\n",
       "    }\n",
       "\n",
       "    .dataframe tbody tr th {\n",
       "        vertical-align: top;\n",
       "    }\n",
       "\n",
       "    .dataframe thead th {\n",
       "        text-align: right;\n",
       "    }\n",
       "</style>\n",
       "<table border=\"1\" class=\"dataframe\">\n",
       "  <thead>\n",
       "    <tr style=\"text-align: right;\">\n",
       "      <th></th>\n",
       "      <th>Company</th>\n",
       "      <th>Price</th>\n",
       "    </tr>\n",
       "  </thead>\n",
       "  <tbody>\n",
       "    <tr>\n",
       "      <th>0</th>\n",
       "      <td>Toyota</td>\n",
       "      <td>23845</td>\n",
       "    </tr>\n",
       "    <tr>\n",
       "      <th>1</th>\n",
       "      <td>Honda</td>\n",
       "      <td>17995</td>\n",
       "    </tr>\n",
       "    <tr>\n",
       "      <th>2</th>\n",
       "      <td>BMV</td>\n",
       "      <td>135925</td>\n",
       "    </tr>\n",
       "    <tr>\n",
       "      <th>3</th>\n",
       "      <td>Audi</td>\n",
       "      <td>71400</td>\n",
       "    </tr>\n",
       "  </tbody>\n",
       "</table>\n",
       "</div>"
      ],
      "text/plain": [
       "  Company   Price\n",
       "0  Toyota   23845\n",
       "1   Honda   17995\n",
       "2     BMV  135925\n",
       "3    Audi   71400"
      ]
     },
     "execution_count": 180,
     "metadata": {},
     "output_type": "execute_result"
    }
   ],
   "source": [
    "carPriceDf"
   ]
  },
  {
   "cell_type": "code",
   "execution_count": 181,
   "id": "cf20a396",
   "metadata": {},
   "outputs": [],
   "source": [
    "car_Horsepower = {'Company': ['Toyota', 'Honda', 'BMV', 'Audi'], 'horsepower': [141, 80, 182 , 160]}"
   ]
  },
  {
   "cell_type": "code",
   "execution_count": 182,
   "id": "b027721a",
   "metadata": {},
   "outputs": [],
   "source": [
    "carsHorsepowerDf = pd.DataFrame.from_dict(car_Horsepower)"
   ]
  },
  {
   "cell_type": "code",
   "execution_count": 183,
   "id": "97abfcc8",
   "metadata": {},
   "outputs": [],
   "source": [
    "carsDf = pd.merge(carPriceDf, carsHorsepowerDf, on=\"Company\")"
   ]
  },
  {
   "cell_type": "code",
   "execution_count": 184,
   "id": "ea97b54a",
   "metadata": {},
   "outputs": [
    {
     "data": {
      "text/html": [
       "<div>\n",
       "<style scoped>\n",
       "    .dataframe tbody tr th:only-of-type {\n",
       "        vertical-align: middle;\n",
       "    }\n",
       "\n",
       "    .dataframe tbody tr th {\n",
       "        vertical-align: top;\n",
       "    }\n",
       "\n",
       "    .dataframe thead th {\n",
       "        text-align: right;\n",
       "    }\n",
       "</style>\n",
       "<table border=\"1\" class=\"dataframe\">\n",
       "  <thead>\n",
       "    <tr style=\"text-align: right;\">\n",
       "      <th></th>\n",
       "      <th>Company</th>\n",
       "      <th>Price</th>\n",
       "      <th>horsepower</th>\n",
       "    </tr>\n",
       "  </thead>\n",
       "  <tbody>\n",
       "    <tr>\n",
       "      <th>0</th>\n",
       "      <td>Toyota</td>\n",
       "      <td>23845</td>\n",
       "      <td>141</td>\n",
       "    </tr>\n",
       "    <tr>\n",
       "      <th>1</th>\n",
       "      <td>Honda</td>\n",
       "      <td>17995</td>\n",
       "      <td>80</td>\n",
       "    </tr>\n",
       "    <tr>\n",
       "      <th>2</th>\n",
       "      <td>BMV</td>\n",
       "      <td>135925</td>\n",
       "      <td>182</td>\n",
       "    </tr>\n",
       "    <tr>\n",
       "      <th>3</th>\n",
       "      <td>Audi</td>\n",
       "      <td>71400</td>\n",
       "      <td>160</td>\n",
       "    </tr>\n",
       "  </tbody>\n",
       "</table>\n",
       "</div>"
      ],
      "text/plain": [
       "  Company   Price  horsepower\n",
       "0  Toyota   23845         141\n",
       "1   Honda   17995          80\n",
       "2     BMV  135925         182\n",
       "3    Audi   71400         160"
      ]
     },
     "execution_count": 184,
     "metadata": {},
     "output_type": "execute_result"
    }
   ],
   "source": [
    "carsDf"
   ]
  },
  {
   "cell_type": "code",
   "execution_count": 185,
   "id": "2e1bb3ee",
   "metadata": {},
   "outputs": [],
   "source": [
    "str1 = \"James\""
   ]
  },
  {
   "cell_type": "code",
   "execution_count": 186,
   "id": "f1a0146f",
   "metadata": {},
   "outputs": [
    {
     "name": "stdout",
     "output_type": "stream",
     "text": [
      "The name of the employee is James\n"
     ]
    }
   ],
   "source": [
    "print(\"The name of the employee is\",str1)"
   ]
  },
  {
   "cell_type": "code",
   "execution_count": 187,
   "id": "f277cc81",
   "metadata": {},
   "outputs": [],
   "source": [
    "res= str1[0]"
   ]
  },
  {
   "cell_type": "code",
   "execution_count": 189,
   "id": "b98e9630",
   "metadata": {},
   "outputs": [
    {
     "name": "stdout",
     "output_type": "stream",
     "text": [
      "J\n"
     ]
    }
   ],
   "source": [
    "print(res)"
   ]
  },
  {
   "cell_type": "code",
   "execution_count": 190,
   "id": "9d3b9a0d",
   "metadata": {},
   "outputs": [],
   "source": [
    "l = len(str1)"
   ]
  },
  {
   "cell_type": "code",
   "execution_count": 191,
   "id": "b93bb990",
   "metadata": {},
   "outputs": [],
   "source": [
    "mi = int(l / 2)"
   ]
  },
  {
   "cell_type": "code",
   "execution_count": 192,
   "id": "a3ada089",
   "metadata": {},
   "outputs": [],
   "source": [
    "res = res + str1[mi]"
   ]
  },
  {
   "cell_type": "code",
   "execution_count": 193,
   "id": "8b51becf",
   "metadata": {},
   "outputs": [],
   "source": [
    "res = res + str1[l - 1]"
   ]
  },
  {
   "cell_type": "code",
   "execution_count": 194,
   "id": "78660c6b",
   "metadata": {},
   "outputs": [
    {
     "name": "stdout",
     "output_type": "stream",
     "text": [
      "New String: Jms\n"
     ]
    }
   ],
   "source": [
    "print(\"New String:\", res)"
   ]
  },
  {
   "cell_type": "code",
   "execution_count": 202,
   "id": "6774e017",
   "metadata": {},
   "outputs": [
    {
     "name": "stdout",
     "output_type": "stream",
     "text": [
      "Original string:  JhonDipPeta\n",
      "Middle character(s) of the said string:  i\n"
     ]
    }
   ],
   "source": [
    "def middle_char(txt):\n",
    "  return txt[(len(txt)-1)//2:(len(txt)+2)//2]\n",
    "\n",
    "txt = \"JhonDipPeta\"\n",
    "print(\"Original string: \",txt)\n",
    "print(\"Middle character(s) of the said string: \",middle_char(txt))\n"
   ]
  },
  {
   "cell_type": "code",
   "execution_count": 207,
   "id": "a4b51608",
   "metadata": {},
   "outputs": [
    {
     "name": "stdout",
     "output_type": "stream",
     "text": [
      "Original String is JhonDipPeta\n",
      "Middle three chars are: Dip\n",
      "Original String is JaSonAy\n",
      "Middle three chars are: Son\n"
     ]
    }
   ],
   "source": [
    "def get_middle_three_chars(str1):\n",
    "    print(\"Original String is\", str1)\n",
    "\n",
    "    # first get middle index number\n",
    "    mi = int(len(str1) / 2)\n",
    "\n",
    "    # use string slicing to get result characters\n",
    "    res = str1[mi - 1:mi + 2]\n",
    "    print(\"Middle three chars are:\", res)\n",
    "\n",
    "get_middle_three_chars(\"JhonDipPeta\")\n",
    "get_middle_three_chars(\"JaSonAy\")"
   ]
  },
  {
   "cell_type": "code",
   "execution_count": 209,
   "id": "55206ad1",
   "metadata": {},
   "outputs": [
    {
     "name": "stdout",
     "output_type": "stream",
     "text": [
      "Original Strings are Ault Kelly\n",
      "After appending new string in middle: AuKellylt\n"
     ]
    }
   ],
   "source": [
    "def append_middle(s1, s2):\n",
    "    print(\"Original Strings are\", s1, s2)\n",
    "\n",
    "    # middle index number of s1\n",
    "    mi = int(len(s1) / 2)\n",
    "\n",
    "    # get character from 0 to the middle index number from s1\n",
    "    x = s1[:mi:]\n",
    "    # concatenate s2 to it\n",
    "    x = x + s2\n",
    "    # append remaining character from s1\n",
    "    x = x + s1[mi:]\n",
    "    print(\"After appending new string in middle:\", x)\n",
    "\n",
    "append_middle(\"Ault\", \"Kelly\")"
   ]
  },
  {
   "cell_type": "code",
   "execution_count": 210,
   "id": "a55287bb",
   "metadata": {},
   "outputs": [
    {
     "name": "stdout",
     "output_type": "stream",
     "text": [
      "Mix String is  AJrpan\n"
     ]
    }
   ],
   "source": [
    "def mix_string(s1, s2):\n",
    "    first_char = s1[0] + s2[0]\n",
    "    middle_char = s1[int(len(s1) / 2):int(len(s1) / 2) + 1] + s2[int(len(s2) / 2):int(len(s2) / 2) + 1]\n",
    "    last_char = s1[len(s1) - 1] + s2[len(s2) - 1]\n",
    "    middle_char = s1[int(len(s1) / 2):int(len(s1) / 2) + 1] + s2[int(len(s2) / 2):int(len(s2) / 2) + 1]\n",
    "\n",
    "    # get last character from both string\n",
    "    last_char = s1[len(s1) - 1] + s2[len(s2) - 1]\n",
    "\n",
    "    # add all\n",
    "    res = first_char + middle_char + last_char\n",
    "    print(\"Mix String is \", res)\n",
    "\n",
    "s1 = \"America\"\n",
    "s2 = \"Japan\"\n",
    "mix_string(s1, s2)"
   ]
  },
  {
   "cell_type": "code",
   "execution_count": 211,
   "id": "6a0e3ba3",
   "metadata": {},
   "outputs": [],
   "source": [
    "str1 = \"PYnAtivE\""
   ]
  },
  {
   "cell_type": "code",
   "execution_count": 212,
   "id": "22daf37c",
   "metadata": {},
   "outputs": [
    {
     "name": "stdout",
     "output_type": "stream",
     "text": [
      "Original String: PYnAtivE\n"
     ]
    }
   ],
   "source": [
    "print('Original String:', str1)"
   ]
  },
  {
   "cell_type": "code",
   "execution_count": 215,
   "id": "c502dc5b",
   "metadata": {},
   "outputs": [
    {
     "name": "stdout",
     "output_type": "stream",
     "text": [
      "Original String: PYnAtivE\n",
      "Result: ntivPYAE\n"
     ]
    }
   ],
   "source": [
    "str1 = \"PYnAtivE\"\n",
    "print('Original String:', str1)\n",
    "lower = []\n",
    "upper = []\n",
    "for char in str1:\n",
    "    if char.islower():\n",
    "        # add lowercase characters to lower list\n",
    "        lower.append(char)\n",
    "    else:\n",
    "        # add uppercase characters to lower list\n",
    "        upper.append(char)\n",
    "\n",
    "# Join both list\n",
    "sorted_str = ''.join(lower + upper)\n",
    "print('Result:', sorted_str)\n"
   ]
  },
  {
   "cell_type": "code",
   "execution_count": null,
   "id": "4924cb09",
   "metadata": {},
   "outputs": [],
   "source": []
  },
  {
   "cell_type": "code",
   "execution_count": 312,
   "id": "8eb177eb",
   "metadata": {},
   "outputs": [
    {
     "ename": "TypeError",
     "evalue": "'str' object is not callable",
     "output_type": "error",
     "traceback": [
      "\u001b[1;31m---------------------------------------------------------------------------\u001b[0m",
      "\u001b[1;31mTypeError\u001b[0m                                 Traceback (most recent call last)",
      "\u001b[1;32m~\\AppData\\Local\\Temp/ipykernel_9128/3303025115.py\u001b[0m in \u001b[0;36m<module>\u001b[1;34m\u001b[0m\n\u001b[0;32m     10\u001b[0m \u001b[1;31m# printing result\u001b[0m\u001b[1;33m\u001b[0m\u001b[1;33m\u001b[0m\u001b[0m\n\u001b[0;32m     11\u001b[0m print (\"Count of e in GeeksforGeeks is : \"\n\u001b[1;32m---> 12\u001b[1;33m                        +  str(count['e']))\n\u001b[0m",
      "\u001b[1;31mTypeError\u001b[0m: 'str' object is not callable"
     ]
    }
   ],
   "source": [
    "from collections import Counter\n",
    "  \n",
    "# initializing string \n",
    "test_str = \"GeeksforGeeks\"\n",
    "  \n",
    "# using collections.Counter() to get count \n",
    "# counting e \n",
    "count = Counter(test_str)\n",
    "  \n",
    "# printing result \n",
    "print (\"Count of e in GeeksforGeeks is : \"\n",
    "                       +  str(count['e']))"
   ]
  },
  {
   "cell_type": "code",
   "execution_count": 221,
   "id": "c670d9af",
   "metadata": {},
   "outputs": [],
   "source": [
    "str1 = \"Welcome to USA. usa awesome, isn't it?\""
   ]
  },
  {
   "cell_type": "code",
   "execution_count": 222,
   "id": "c6900d67",
   "metadata": {},
   "outputs": [
    {
     "ename": "TypeError",
     "evalue": "'builtin_function_or_method' object is not iterable",
     "output_type": "error",
     "traceback": [
      "\u001b[1;31m---------------------------------------------------------------------------\u001b[0m",
      "\u001b[1;31mTypeError\u001b[0m                                 Traceback (most recent call last)",
      "\u001b[1;32m~\\AppData\\Local\\Temp/ipykernel_9128/3489626569.py\u001b[0m in \u001b[0;36m<module>\u001b[1;34m\u001b[0m\n\u001b[1;32m----> 1\u001b[1;33m \u001b[0mcount\u001b[0m \u001b[1;33m=\u001b[0m \u001b[0mCounter\u001b[0m\u001b[1;33m(\u001b[0m\u001b[0mstr1\u001b[0m\u001b[1;33m.\u001b[0m\u001b[0mcount\u001b[0m\u001b[1;33m)\u001b[0m\u001b[1;33m\u001b[0m\u001b[1;33m\u001b[0m\u001b[0m\n\u001b[0m",
      "\u001b[1;32m~\\anaconda3\\lib\\collections\\__init__.py\u001b[0m in \u001b[0;36m__init__\u001b[1;34m(self, iterable, **kwds)\u001b[0m\n\u001b[0;32m    591\u001b[0m         '''\n\u001b[0;32m    592\u001b[0m         \u001b[0msuper\u001b[0m\u001b[1;33m(\u001b[0m\u001b[1;33m)\u001b[0m\u001b[1;33m.\u001b[0m\u001b[0m__init__\u001b[0m\u001b[1;33m(\u001b[0m\u001b[1;33m)\u001b[0m\u001b[1;33m\u001b[0m\u001b[1;33m\u001b[0m\u001b[0m\n\u001b[1;32m--> 593\u001b[1;33m         \u001b[0mself\u001b[0m\u001b[1;33m.\u001b[0m\u001b[0mupdate\u001b[0m\u001b[1;33m(\u001b[0m\u001b[0miterable\u001b[0m\u001b[1;33m,\u001b[0m \u001b[1;33m**\u001b[0m\u001b[0mkwds\u001b[0m\u001b[1;33m)\u001b[0m\u001b[1;33m\u001b[0m\u001b[1;33m\u001b[0m\u001b[0m\n\u001b[0m\u001b[0;32m    594\u001b[0m \u001b[1;33m\u001b[0m\u001b[0m\n\u001b[0;32m    595\u001b[0m     \u001b[1;32mdef\u001b[0m \u001b[0m__missing__\u001b[0m\u001b[1;33m(\u001b[0m\u001b[0mself\u001b[0m\u001b[1;33m,\u001b[0m \u001b[0mkey\u001b[0m\u001b[1;33m)\u001b[0m\u001b[1;33m:\u001b[0m\u001b[1;33m\u001b[0m\u001b[1;33m\u001b[0m\u001b[0m\n",
      "\u001b[1;32m~\\anaconda3\\lib\\collections\\__init__.py\u001b[0m in \u001b[0;36mupdate\u001b[1;34m(self, iterable, **kwds)\u001b[0m\n\u001b[0;32m    677\u001b[0m                     \u001b[0msuper\u001b[0m\u001b[1;33m(\u001b[0m\u001b[1;33m)\u001b[0m\u001b[1;33m.\u001b[0m\u001b[0mupdate\u001b[0m\u001b[1;33m(\u001b[0m\u001b[0miterable\u001b[0m\u001b[1;33m)\u001b[0m\u001b[1;33m\u001b[0m\u001b[1;33m\u001b[0m\u001b[0m\n\u001b[0;32m    678\u001b[0m             \u001b[1;32melse\u001b[0m\u001b[1;33m:\u001b[0m\u001b[1;33m\u001b[0m\u001b[1;33m\u001b[0m\u001b[0m\n\u001b[1;32m--> 679\u001b[1;33m                 \u001b[0m_count_elements\u001b[0m\u001b[1;33m(\u001b[0m\u001b[0mself\u001b[0m\u001b[1;33m,\u001b[0m \u001b[0miterable\u001b[0m\u001b[1;33m)\u001b[0m\u001b[1;33m\u001b[0m\u001b[1;33m\u001b[0m\u001b[0m\n\u001b[0m\u001b[0;32m    680\u001b[0m         \u001b[1;32mif\u001b[0m \u001b[0mkwds\u001b[0m\u001b[1;33m:\u001b[0m\u001b[1;33m\u001b[0m\u001b[1;33m\u001b[0m\u001b[0m\n\u001b[0;32m    681\u001b[0m             \u001b[0mself\u001b[0m\u001b[1;33m.\u001b[0m\u001b[0mupdate\u001b[0m\u001b[1;33m(\u001b[0m\u001b[0mkwds\u001b[0m\u001b[1;33m)\u001b[0m\u001b[1;33m\u001b[0m\u001b[1;33m\u001b[0m\u001b[0m\n",
      "\u001b[1;31mTypeError\u001b[0m: 'builtin_function_or_method' object is not iterable"
     ]
    }
   ],
   "source": [
    "count = Counter(str1)"
   ]
  },
  {
   "cell_type": "code",
   "execution_count": 223,
   "id": "b6d9569f",
   "metadata": {},
   "outputs": [
    {
     "ename": "NameError",
     "evalue": "name 'count' is not defined",
     "output_type": "error",
     "traceback": [
      "\u001b[1;31m---------------------------------------------------------------------------\u001b[0m",
      "\u001b[1;31mNameError\u001b[0m                                 Traceback (most recent call last)",
      "\u001b[1;32m~\\AppData\\Local\\Temp/ipykernel_9128/1077541643.py\u001b[0m in \u001b[0;36m<module>\u001b[1;34m\u001b[0m\n\u001b[0;32m      1\u001b[0m print (\"Count of USA in this list: \"\n\u001b[1;32m----> 2\u001b[1;33m                       + str1(count['USA']))\n\u001b[0m",
      "\u001b[1;31mNameError\u001b[0m: name 'count' is not defined"
     ]
    }
   ],
   "source": [
    "print (\"Count of USA in this list: \"\n",
    "                      + str1(count['USA']))"
   ]
  },
  {
   "cell_type": "code",
   "execution_count": 309,
   "id": "6dfffa31",
   "metadata": {},
   "outputs": [
    {
     "ename": "TypeError",
     "evalue": "'str' object is not callable",
     "output_type": "error",
     "traceback": [
      "\u001b[1;31m---------------------------------------------------------------------------\u001b[0m",
      "\u001b[1;31mTypeError\u001b[0m                                 Traceback (most recent call last)",
      "\u001b[1;32m~\\AppData\\Local\\Temp/ipykernel_9128/3303025115.py\u001b[0m in \u001b[0;36m<module>\u001b[1;34m\u001b[0m\n\u001b[0;32m     10\u001b[0m \u001b[1;31m# printing result\u001b[0m\u001b[1;33m\u001b[0m\u001b[1;33m\u001b[0m\u001b[0m\n\u001b[0;32m     11\u001b[0m print (\"Count of e in GeeksforGeeks is : \"\n\u001b[1;32m---> 12\u001b[1;33m                        +  str(count['e']))\n\u001b[0m",
      "\u001b[1;31mTypeError\u001b[0m: 'str' object is not callable"
     ]
    }
   ],
   "source": [
    "from collections import Counter\n",
    "  \n",
    "# initializing string \n",
    "test_str = \"GeeksforGeeks\"\n",
    "  \n",
    "# using collections.Counter() to get count \n",
    "# counting e \n",
    "count = Counter(test_str)\n",
    "  \n",
    "# printing result \n",
    "print (\"Count of e in GeeksforGeeks is : \"\n",
    "                       +  str(count['e']))"
   ]
  },
  {
   "cell_type": "code",
   "execution_count": 301,
   "id": "9296a9ee",
   "metadata": {},
   "outputs": [
    {
     "name": "stdout",
     "output_type": "stream",
     "text": [
      "The occurance of USA is 2\n"
     ]
    }
   ],
   "source": [
    "str1 = \"Welcome to usa. usa awesome, isn't it?\"\n",
    "sub_string =\"usa\"\n",
    "count = str1.count(sub_string.lower())\n",
    "print(\"The occurance of USA is\",count)"
   ]
  },
  {
   "cell_type": "code",
   "execution_count": 228,
   "id": "ff81c68f",
   "metadata": {},
   "outputs": [
    {
     "name": "stdout",
     "output_type": "stream",
     "text": [
      "Original String is: PYnative\n",
      "<reversed object at 0x000002992BFA0640>\n"
     ]
    }
   ],
   "source": [
    "str1 = \"PYnative\"\n",
    "print(\"Original String is:\", str1)\n",
    "str2 = reversed(str1)"
   ]
  },
  {
   "cell_type": "code",
   "execution_count": 242,
   "id": "9519b58a",
   "metadata": {},
   "outputs": [
    {
     "name": "stdout",
     "output_type": "stream",
     "text": [
      "Original String is: PYnative\n",
      "Reversed String is: evitanYP\n"
     ]
    }
   ],
   "source": [
    "str1 = \"PYnative\"\n",
    "print(\"Original String is:\", str1)\n",
    "str2 = str1[::-1]\n",
    "print(\"Reversed String is:\", str2)"
   ]
  },
  {
   "cell_type": "code",
   "execution_count": 230,
   "id": "00362700",
   "metadata": {},
   "outputs": [
    {
     "ename": "SyntaxError",
     "evalue": "invalid syntax (Temp/ipykernel_9128/2435116448.py, line 1)",
     "output_type": "error",
     "traceback": [
      "\u001b[1;36m  File \u001b[1;32m\"C:\\Users\\Arunima\\AppData\\Local\\Temp/ipykernel_9128/2435116448.py\"\u001b[1;36m, line \u001b[1;32m1\u001b[0m\n\u001b[1;33m    from collections to import Counter\u001b[0m\n\u001b[1;37m                     ^\u001b[0m\n\u001b[1;31mSyntaxError\u001b[0m\u001b[1;31m:\u001b[0m invalid syntax\n"
     ]
    }
   ],
   "source": [
    "from collections to import Counter"
   ]
  },
  {
   "cell_type": "code",
   "execution_count": 231,
   "id": "c67de349",
   "metadata": {},
   "outputs": [],
   "source": [
    "from collections import Counter"
   ]
  },
  {
   "cell_type": "code",
   "execution_count": 294,
   "id": "5cd666a7",
   "metadata": {},
   "outputs": [],
   "source": [
    "str = \"Apple\""
   ]
  },
  {
   "cell_type": "code",
   "execution_count": 233,
   "id": "d1226093",
   "metadata": {},
   "outputs": [],
   "source": [
    "res = Counter(\"Apple\")"
   ]
  },
  {
   "cell_type": "code",
   "execution_count": 234,
   "id": "705ba2f8",
   "metadata": {},
   "outputs": [
    {
     "name": "stdout",
     "output_type": "stream",
     "text": [
      "Counter({'p': 2, 'A': 1, 'l': 1, 'e': 1})\n"
     ]
    }
   ],
   "source": [
    "print(res)"
   ]
  },
  {
   "cell_type": "code",
   "execution_count": 236,
   "id": "fc1b49d4",
   "metadata": {},
   "outputs": [
    {
     "name": "stdout",
     "output_type": "stream",
     "text": [
      "Counter({'s': 1, 't': 1, 'r': 1, '1': 1})\n"
     ]
    }
   ],
   "source": []
  },
  {
   "cell_type": "code",
   "execution_count": 237,
   "id": "5c07de8a",
   "metadata": {},
   "outputs": [],
   "source": []
  },
  {
   "cell_type": "code",
   "execution_count": 238,
   "id": "e1903e7f",
   "metadata": {},
   "outputs": [],
   "source": []
  },
  {
   "cell_type": "code",
   "execution_count": 240,
   "id": "ba81757c",
   "metadata": {},
   "outputs": [
    {
     "ename": "IndentationError",
     "evalue": "unexpected indent (Temp/ipykernel_9128/1965823490.py, line 4)",
     "output_type": "error",
     "traceback": [
      "\u001b[1;36m  File \u001b[1;32m\"C:\\Users\\Arunima\\AppData\\Local\\Temp/ipykernel_9128/1965823490.py\"\u001b[1;36m, line \u001b[1;32m4\u001b[0m\n\u001b[1;33m    cnt += 1\u001b[0m\n\u001b[1;37m    ^\u001b[0m\n\u001b[1;31mIndentationError\u001b[0m\u001b[1;31m:\u001b[0m unexpected indent\n"
     ]
    }
   ],
   "source": []
  },
  {
   "cell_type": "code",
   "execution_count": 241,
   "id": "6c723279",
   "metadata": {},
   "outputs": [
    {
     "name": "stdout",
     "output_type": "stream",
     "text": [
      "Sum is: 38 Average is  6.333333333333333\n"
     ]
    }
   ],
   "source": [
    "input_str = \"PYnative29@#8496\"\n",
    "total = 0\n",
    "cnt = 0\n",
    "for char in input_str:\n",
    "    if char.isdigit():\n",
    "        total += int(char)\n",
    "        cnt += 1\n",
    "\n",
    "# average = sum / count of digits\n",
    "avg = total / cnt\n",
    "print(\"Sum is:\", total, \"Average is \", avg)"
   ]
  },
  {
   "cell_type": "code",
   "execution_count": 244,
   "id": "7cde910c",
   "metadata": {},
   "outputs": [
    {
     "name": "stdout",
     "output_type": "stream",
     "text": [
      "Original String is: PYnative\n",
      "Last occurrence of Emma starts at index: 43\n"
     ]
    }
   ],
   "source": [
    "str = \"Emma is a data scientist who knows Python. Emma works at google.\"\n",
    "print(\"Original String is:\", str1)\n",
    "index = str.rfind(\"Emma\")\n",
    "print(\"Last occurrence of Emma starts at index:\", index)\n"
   ]
  },
  {
   "cell_type": "code",
   "execution_count": 245,
   "id": "9af2628b",
   "metadata": {},
   "outputs": [
    {
     "name": "stdout",
     "output_type": "stream",
     "text": [
      "The orginal strng is Emma is a data scientist\n"
     ]
    }
   ],
   "source": [
    "string = \"Emma is a data scientist\"\n",
    "print(\"The orginal strng is\",string)"
   ]
  },
  {
   "cell_type": "code",
   "execution_count": 247,
   "id": "76e464ab",
   "metadata": {},
   "outputs": [
    {
     "ename": "NameError",
     "evalue": "name 'string' is not defined",
     "output_type": "error",
     "traceback": [
      "\u001b[1;31m---------------------------------------------------------------------------\u001b[0m",
      "\u001b[1;31mNameError\u001b[0m                                 Traceback (most recent call last)",
      "\u001b[1;32m~\\AppData\\Local\\Temp/ipykernel_9128/3998169645.py\u001b[0m in \u001b[0;36m<module>\u001b[1;34m\u001b[0m\n\u001b[1;32m----> 1\u001b[1;33m \u001b[0msub_string\u001b[0m \u001b[1;33m=\u001b[0m \u001b[0mstring\u001b[0m\u001b[1;33m.\u001b[0m\u001b[0msplit\u001b[0m\u001b[1;33m(\u001b[0m\u001b[1;34m\" -\"\u001b[0m\u001b[1;33m)\u001b[0m\u001b[1;33m\u001b[0m\u001b[1;33m\u001b[0m\u001b[0m\n\u001b[0m\u001b[0;32m      2\u001b[0m \u001b[0mprint\u001b[0m\u001b[1;33m(\u001b[0m\u001b[1;34m\"Display any substring\"\u001b[0m\u001b[1;33m)\u001b[0m\u001b[1;33m\u001b[0m\u001b[1;33m\u001b[0m\u001b[0m\n\u001b[0;32m      3\u001b[0m \u001b[1;32mfor\u001b[0m \u001b[0msub\u001b[0m \u001b[1;32min\u001b[0m \u001b[0msubstring\u001b[0m \u001b[1;33m:\u001b[0m\u001b[1;33m\u001b[0m\u001b[1;33m\u001b[0m\u001b[0m\n\u001b[0;32m      4\u001b[0m     \u001b[0mprint\u001b[0m\u001b[1;33m(\u001b[0m\u001b[0msub\u001b[0m\u001b[1;33m)\u001b[0m\u001b[1;33m\u001b[0m\u001b[1;33m\u001b[0m\u001b[0m\n",
      "\u001b[1;31mNameError\u001b[0m: name 'string' is not defined"
     ]
    }
   ],
   "source": [
    "sub_string = string.split(\" -\")\n",
    "print(\"Display any substring\")\n",
    "for sub in substring :\n",
    "    print(sub)"
   ]
  },
  {
   "cell_type": "code",
   "execution_count": 248,
   "id": "80cbec3e",
   "metadata": {},
   "outputs": [
    {
     "name": "stdout",
     "output_type": "stream",
     "text": [
      "Original String is: Emma-is-a-data-scientist\n",
      "Displaying each substring\n",
      "Emma\n",
      "is\n",
      "a\n",
      "data\n",
      "scientist\n"
     ]
    }
   ],
   "source": [
    "str1 = \"Emma-is-a-data-scientist\"\n",
    "print(\"Original String is:\", str1)\n",
    "\n",
    "# split string\n",
    "sub_strings = str1.split(\"-\")\n",
    "\n",
    "print(\"Displaying each substring\")\n",
    "for sub in sub_strings:\n",
    "    print(sub)"
   ]
  },
  {
   "cell_type": "code",
   "execution_count": 249,
   "id": "9ac0e398",
   "metadata": {},
   "outputs": [],
   "source": [
    "str_list = [\"Emma\", \"Jon\", \"\", \"Kelly\", None, \"Eric\", \"\"]"
   ]
  },
  {
   "cell_type": "code",
   "execution_count": 251,
   "id": "747ec6af",
   "metadata": {},
   "outputs": [],
   "source": [
    "new_str_list = list(filter(None,str_list))"
   ]
  },
  {
   "cell_type": "code",
   "execution_count": 252,
   "id": "f1db26d0",
   "metadata": {},
   "outputs": [
    {
     "name": "stdout",
     "output_type": "stream",
     "text": [
      "After removing empty string\n"
     ]
    }
   ],
   "source": [
    "print(\"After removing empty string\")"
   ]
  },
  {
   "cell_type": "code",
   "execution_count": 253,
   "id": "45719931",
   "metadata": {},
   "outputs": [
    {
     "name": "stdout",
     "output_type": "stream",
     "text": [
      "['Emma', 'Jon', 'Kelly', 'Eric']\n"
     ]
    }
   ],
   "source": [
    "print(new_str_list)"
   ]
  },
  {
   "cell_type": "code",
   "execution_count": 254,
   "id": "27bf34d6",
   "metadata": {},
   "outputs": [],
   "source": [
    "sampletuple= tuple(('Gessa',20,78,54))"
   ]
  },
  {
   "cell_type": "code",
   "execution_count": 255,
   "id": "66f542ef",
   "metadata": {},
   "outputs": [
    {
     "name": "stdout",
     "output_type": "stream",
     "text": [
      "('Gessa', 20, 78, 54)\n"
     ]
    }
   ],
   "source": [
    "print(sampletuple)"
   ]
  },
  {
   "cell_type": "code",
   "execution_count": 258,
   "id": "cd8a6c83",
   "metadata": {},
   "outputs": [],
   "source": [
    "single_tuple_datatype = (\"Hello\",)"
   ]
  },
  {
   "cell_type": "code",
   "execution_count": 260,
   "id": "907005c6",
   "metadata": {},
   "outputs": [
    {
     "name": "stdout",
     "output_type": "stream",
     "text": [
      "<class 'tuple'>\n"
     ]
    }
   ],
   "source": [
    "print(type(single_tuple_datatype))"
   ]
  },
  {
   "cell_type": "code",
   "execution_count": 263,
   "id": "367b2e05",
   "metadata": {},
   "outputs": [],
   "source": [
    "tuple = ('p','y','t','h','o','n')"
   ]
  },
  {
   "cell_type": "code",
   "execution_count": 264,
   "id": "76e125fe",
   "metadata": {},
   "outputs": [
    {
     "name": "stdout",
     "output_type": "stream",
     "text": [
      "6\n"
     ]
    }
   ],
   "source": [
    "print(len(tuple))"
   ]
  },
  {
   "cell_type": "code",
   "execution_count": 266,
   "id": "66979ac9",
   "metadata": {},
   "outputs": [
    {
     "ename": "TypeError",
     "evalue": "'tuple' object is not callable",
     "output_type": "error",
     "traceback": [
      "\u001b[1;31m---------------------------------------------------------------------------\u001b[0m",
      "\u001b[1;31mTypeError\u001b[0m                                 Traceback (most recent call last)",
      "\u001b[1;32m~\\AppData\\Local\\Temp/ipykernel_9128/1182410199.py\u001b[0m in \u001b[0;36m<module>\u001b[1;34m\u001b[0m\n\u001b[1;32m----> 1\u001b[1;33m \u001b[0msample_tuple\u001b[0m \u001b[1;33m=\u001b[0m \u001b[0mtuple\u001b[0m\u001b[1;33m(\u001b[0m\u001b[1;33m(\u001b[0m\u001b[1;36m1\u001b[0m\u001b[1;33m,\u001b[0m \u001b[1;36m2\u001b[0m\u001b[1;33m,\u001b[0m \u001b[1;36m3\u001b[0m\u001b[1;33m,\u001b[0m \u001b[1;34m\"Hello\"\u001b[0m\u001b[1;33m,\u001b[0m \u001b[1;33m[\u001b[0m\u001b[1;36m4\u001b[0m\u001b[1;33m,\u001b[0m \u001b[1;36m8\u001b[0m\u001b[1;33m,\u001b[0m \u001b[1;36m16\u001b[0m\u001b[1;33m]\u001b[0m\u001b[1;33m)\u001b[0m\u001b[1;33m)\u001b[0m\u001b[1;33m\u001b[0m\u001b[1;33m\u001b[0m\u001b[0m\n\u001b[0m",
      "\u001b[1;31mTypeError\u001b[0m: 'tuple' object is not callable"
     ]
    }
   ],
   "source": []
  },
  {
   "cell_type": "code",
   "execution_count": 267,
   "id": "523b2bf5",
   "metadata": {},
   "outputs": [
    {
     "ename": "TypeError",
     "evalue": "'tuple' object is not callable",
     "output_type": "error",
     "traceback": [
      "\u001b[1;31m---------------------------------------------------------------------------\u001b[0m",
      "\u001b[1;31mTypeError\u001b[0m                                 Traceback (most recent call last)",
      "\u001b[1;32m~\\AppData\\Local\\Temp/ipykernel_9128/1182410199.py\u001b[0m in \u001b[0;36m<module>\u001b[1;34m\u001b[0m\n\u001b[1;32m----> 1\u001b[1;33m \u001b[0msample_tuple\u001b[0m \u001b[1;33m=\u001b[0m \u001b[0mtuple\u001b[0m\u001b[1;33m(\u001b[0m\u001b[1;33m(\u001b[0m\u001b[1;36m1\u001b[0m\u001b[1;33m,\u001b[0m \u001b[1;36m2\u001b[0m\u001b[1;33m,\u001b[0m \u001b[1;36m3\u001b[0m\u001b[1;33m,\u001b[0m \u001b[1;34m\"Hello\"\u001b[0m\u001b[1;33m,\u001b[0m \u001b[1;33m[\u001b[0m\u001b[1;36m4\u001b[0m\u001b[1;33m,\u001b[0m \u001b[1;36m8\u001b[0m\u001b[1;33m,\u001b[0m \u001b[1;36m16\u001b[0m\u001b[1;33m]\u001b[0m\u001b[1;33m)\u001b[0m\u001b[1;33m)\u001b[0m\u001b[1;33m\u001b[0m\u001b[1;33m\u001b[0m\u001b[0m\n\u001b[0m",
      "\u001b[1;31mTypeError\u001b[0m: 'tuple' object is not callable"
     ]
    }
   ],
   "source": [
    "sample_tuple = tuple((1, 2, 3, \"Hello\", [4, 8, 16]))"
   ]
  },
  {
   "cell_type": "code",
   "execution_count": 271,
   "id": "c9d7f271",
   "metadata": {},
   "outputs": [
    {
     "name": "stdout",
     "output_type": "stream",
     "text": [
      "P\n",
      "Y\n",
      "T\n",
      "H\n"
     ]
    }
   ],
   "source": [
    "tuple1 = ('P', 'Y', 'T', 'H', 'O', 'N')\n",
    "for i in range(4):\n",
    "    print(tuple1[i])"
   ]
  },
  {
   "cell_type": "code",
   "execution_count": 275,
   "id": "c7c5464c",
   "metadata": {},
   "outputs": [
    {
     "name": "stdout",
     "output_type": "stream",
     "text": [
      "P\n",
      "Y\n",
      "T\n",
      "H\n"
     ]
    }
   ],
   "source": [
    "tuple1 = ('P', 'Y', 'T', 'H', 'O', 'N')\n",
    "for i in range(4):\n",
    "    print(tuple1[i])"
   ]
  },
  {
   "cell_type": "code",
   "execution_count": 276,
   "id": "1fc9e0ff",
   "metadata": {},
   "outputs": [],
   "source": [
    "tuple1 = ('P', 'Y', 'T', 'H', 'O', 'N')"
   ]
  },
  {
   "cell_type": "code",
   "execution_count": 278,
   "id": "d2a57218",
   "metadata": {},
   "outputs": [
    {
     "name": "stdout",
     "output_type": "stream",
     "text": [
      "T\n"
     ]
    }
   ],
   "source": [
    "print(tuple1[2])"
   ]
  },
  {
   "cell_type": "code",
   "execution_count": 281,
   "id": "738e7ea6",
   "metadata": {},
   "outputs": [
    {
     "name": "stdout",
     "output_type": "stream",
     "text": [
      "String is Emma is a data scientist\n"
     ]
    }
   ],
   "source": [
    "str1 = \"Emma is a data scientist\"\n",
    "print (\"String is\",str1)"
   ]
  },
  {
   "cell_type": "code",
   "execution_count": 283,
   "id": "cf292b9f",
   "metadata": {},
   "outputs": [
    {
     "name": "stdout",
     "output_type": "stream",
     "text": [
      "Emma is a data scientist\n"
     ]
    }
   ],
   "source": []
  },
  {
   "cell_type": "code",
   "execution_count": 284,
   "id": "0a3650d1",
   "metadata": {},
   "outputs": [
    {
     "name": "stdout",
     "output_type": "stream",
     "text": [
      "Original String is: Emma-is-a-data-scientist\n",
      "Displaying each substring\n",
      "Emma\n",
      "is\n",
      "a\n",
      "data\n",
      "scientist\n"
     ]
    }
   ],
   "source": [
    "str1 = \"Emma-is-a-data-scientist\"\n",
    "print(\"Original String is:\", str1)\n",
    "\n",
    "# split string\n",
    "sub_strings = str1.split(\"-\")\n",
    "\n",
    "print(\"Displaying each substring\")\n",
    "for sub in sub_strings:\n",
    "    print(sub)"
   ]
  },
  {
   "cell_type": "code",
   "execution_count": 287,
   "id": "8a864e68",
   "metadata": {},
   "outputs": [
    {
     "name": "stdout",
     "output_type": "stream",
     "text": [
      "Original String is: Emma-is-a-data-scientist\n",
      "Emma\n",
      "is\n",
      "a\n",
      "data\n",
      "scientist\n"
     ]
    }
   ],
   "source": [
    "str1 = \"Emma-is-a-data-scientist\"\n",
    "print(\"Original String is:\",str1)\n",
    "\n",
    "sub_strings = str1.split(\"-\")\n",
    "for sub in sub_strings:\n",
    "    print(sub)"
   ]
  },
  {
   "cell_type": "code",
   "execution_count": 288,
   "id": "6573fe5b",
   "metadata": {},
   "outputs": [],
   "source": [
    "str_list = [\"Emma\", \"Jon\", \"\", \"Kelly\", None, \"Eric\", \"\"]"
   ]
  },
  {
   "cell_type": "code",
   "execution_count": 289,
   "id": "21a886b5",
   "metadata": {},
   "outputs": [],
   "source": [
    "new_str_list = list(filter(None, str_list))"
   ]
  },
  {
   "cell_type": "code",
   "execution_count": 290,
   "id": "fd9438e5",
   "metadata": {},
   "outputs": [
    {
     "name": "stdout",
     "output_type": "stream",
     "text": [
      "After removing empty string\n"
     ]
    }
   ],
   "source": [
    "print(\"After removing empty string\")"
   ]
  },
  {
   "cell_type": "code",
   "execution_count": 291,
   "id": "9a9336c9",
   "metadata": {},
   "outputs": [
    {
     "name": "stdout",
     "output_type": "stream",
     "text": [
      "['Emma', 'Jon', 'Kelly', 'Eric']\n"
     ]
    }
   ],
   "source": [
    "print(new_str_list)"
   ]
  },
  {
   "cell_type": "code",
   "execution_count": 292,
   "id": "61d97f15",
   "metadata": {},
   "outputs": [
    {
     "name": "stdout",
     "output_type": "stream",
     "text": [
      "Original String is: Emma-is-a-data-scientist\n",
      "Last occurrence of Emma starts at index: 43\n"
     ]
    }
   ],
   "source": [
    "str = \"Emma is a data scientist who knows Python. Emma works at google.\"\n",
    "print(\"Original String is:\", str1)\n",
    "index = str.rfind(\"Emma\")\n",
    "print(\"Last occurrence of Emma starts at index:\", index)"
   ]
  },
  {
   "cell_type": "code",
   "execution_count": 293,
   "id": "dba633c5",
   "metadata": {},
   "outputs": [
    {
     "name": "stdout",
     "output_type": "stream",
     "text": [
      "Original String is Emma-is-a-data-scientist\n",
      "Last occurance of Emma starts at index 43\n"
     ]
    }
   ],
   "source": [
    "str = \"Emma is a data scientist who knows python. Emma works at google.\"\n",
    "print(\"Original String is\",str1)\n",
    "index = str.rfind(\"Emma\")\n",
    "print(\"Last occurance of Emma starts at index\",index)"
   ]
  },
  {
   "cell_type": "code",
   "execution_count": 295,
   "id": "eec8d83f",
   "metadata": {},
   "outputs": [],
   "source": [
    "from collections import Counter"
   ]
  },
  {
   "cell_type": "code",
   "execution_count": 296,
   "id": "63523250",
   "metadata": {},
   "outputs": [],
   "source": [
    "str = \"Apple\""
   ]
  },
  {
   "cell_type": "code",
   "execution_count": 297,
   "id": "fb56e91c",
   "metadata": {},
   "outputs": [],
   "source": [
    "res = Counter(str)"
   ]
  },
  {
   "cell_type": "code",
   "execution_count": 298,
   "id": "891244a9",
   "metadata": {},
   "outputs": [
    {
     "name": "stdout",
     "output_type": "stream",
     "text": [
      "Counter({'p': 2, 'A': 1, 'l': 1, 'e': 1})\n"
     ]
    }
   ],
   "source": [
    "print(res)"
   ]
  },
  {
   "cell_type": "code",
   "execution_count": 299,
   "id": "c3d7307f",
   "metadata": {},
   "outputs": [
    {
     "name": "stdout",
     "output_type": "stream",
     "text": [
      "The original string is Arunima\n",
      "The new string is aminurA\n"
     ]
    }
   ],
   "source": [
    "str1 = \"Arunima\"\n",
    "print (\"The original string is\", str1)\n",
    "new_str = str1[::-1]\n",
    "print(\"The new string is\",new_str)"
   ]
  },
  {
   "cell_type": "code",
   "execution_count": 302,
   "id": "15854033",
   "metadata": {},
   "outputs": [
    {
     "name": "stdout",
     "output_type": "stream",
     "text": [
      "The occurance of USA is 2\n"
     ]
    }
   ],
   "source": [
    "str1 = \"Welcome to usa. usa awesome, isn't it?\"\n",
    "sub_string =\"usa\"\n",
    "count = str1.count(sub_string.lower())\n",
    "print(\"The occurance of USA is\",count)"
   ]
  },
  {
   "cell_type": "code",
   "execution_count": 306,
   "id": "b034e9bf",
   "metadata": {},
   "outputs": [
    {
     "name": "stdout",
     "output_type": "stream",
     "text": [
      "The occurance of asia is 3\n"
     ]
    }
   ],
   "source": [
    "str1 = \"Welcome to asia, asia is hot, interms of asia, is not it?\"\n",
    "sub_string = \"asia\"\n",
    "tmp_str1 = str1.lower()\n",
    "count = tmp_str1.count(sub_string.lower())\n",
    "print(\"The occurance of asia is\", count)"
   ]
  },
  {
   "cell_type": "code",
   "execution_count": 308,
   "id": "2dda5fb7",
   "metadata": {},
   "outputs": [
    {
     "ename": "TypeError",
     "evalue": "'str' object is not callable",
     "output_type": "error",
     "traceback": [
      "\u001b[1;31m---------------------------------------------------------------------------\u001b[0m",
      "\u001b[1;31mTypeError\u001b[0m                                 Traceback (most recent call last)",
      "\u001b[1;32m~\\AppData\\Local\\Temp/ipykernel_9128/2627117520.py\u001b[0m in \u001b[0;36m<module>\u001b[1;34m\u001b[0m\n\u001b[0;32m     10\u001b[0m \u001b[1;31m# printing result\u001b[0m\u001b[1;33m\u001b[0m\u001b[1;33m\u001b[0m\u001b[0m\n\u001b[0;32m     11\u001b[0m print (\"Count of e in GeeksforGeeks is : \"\n\u001b[1;32m---> 12\u001b[1;33m                        +  test_str(count['e']))\n\u001b[0m",
      "\u001b[1;31mTypeError\u001b[0m: 'str' object is not callable"
     ]
    }
   ],
   "source": []
  },
  {
   "cell_type": "code",
   "execution_count": 313,
   "id": "dafeb535",
   "metadata": {},
   "outputs": [
    {
     "ename": "TypeError",
     "evalue": "'str' object is not callable",
     "output_type": "error",
     "traceback": [
      "\u001b[1;31m---------------------------------------------------------------------------\u001b[0m",
      "\u001b[1;31mTypeError\u001b[0m                                 Traceback (most recent call last)",
      "\u001b[1;32m~\\AppData\\Local\\Temp/ipykernel_9128/2627117520.py\u001b[0m in \u001b[0;36m<module>\u001b[1;34m\u001b[0m\n\u001b[0;32m     10\u001b[0m \u001b[1;31m# printing result\u001b[0m\u001b[1;33m\u001b[0m\u001b[1;33m\u001b[0m\u001b[0m\n\u001b[0;32m     11\u001b[0m print (\"Count of e in GeeksforGeeks is : \"\n\u001b[1;32m---> 12\u001b[1;33m                        +  test_str(count['e']))\n\u001b[0m",
      "\u001b[1;31mTypeError\u001b[0m: 'str' object is not callable"
     ]
    }
   ],
   "source": []
  },
  {
   "cell_type": "code",
   "execution_count": 314,
   "id": "761b5afa",
   "metadata": {},
   "outputs": [
    {
     "name": "stdout",
     "output_type": "stream",
     "text": [
      "Original String: PYnAtivE\n",
      "Result: ntivPYAE\n"
     ]
    }
   ],
   "source": [
    "str1 = \"PYnAtivE\"\n",
    "print('Original String:', str1)\n",
    "lower = []\n",
    "upper = []\n",
    "for char in str1:\n",
    "    if char.islower():\n",
    "        # add lowercase characters to lower list\n",
    "        lower.append(char)\n",
    "    else:\n",
    "        # add uppercase characters to lower list\n",
    "        upper.append(char)\n",
    "\n",
    "# Join both list\n",
    "sorted_str = ''.join(lower + upper)\n",
    "print('Result:', sorted_str)\n"
   ]
  },
  {
   "cell_type": "code",
   "execution_count": 317,
   "id": "c5eb4b73",
   "metadata": {},
   "outputs": [
    {
     "name": "stdout",
     "output_type": "stream",
     "text": [
      "Oringinal String PYnAtive\n",
      "Result: ntivePYA\n"
     ]
    }
   ],
   "source": [
    "str1 = \"PYnAtive\"\n",
    "print('Oringinal String',str1)\n",
    "lower = []\n",
    "upper = []\n",
    "for char in str1:\n",
    "    if char.islower():\n",
    "        lower.append(char)\n",
    "    else:\n",
    "        upper.append(char)\n",
    "sorted_str = ''.join(lower + upper)\n",
    "print('Result:',sorted_str)"
   ]
  },
  {
   "cell_type": "code",
   "execution_count": 320,
   "id": "e79f3b5f",
   "metadata": {},
   "outputs": [
    {
     "name": "stdout",
     "output_type": "stream",
     "text": [
      "Oringinal String PYnAtive\n",
      "Result: ntivePYA\n"
     ]
    }
   ],
   "source": [
    " str1 = \"PYnAtive\"\n",
    "print('Oringinal String',str1)\n",
    "lower = []\n",
    "upper = []\n",
    "for char in str1:\n",
    "    if char.islower():\n",
    "        lower.append(char)\n",
    "    else:\n",
    "        upper.append(char)\n",
    "sorted_str = ''.join(lower + upper)\n",
    "print('Result:',sorted_str)"
   ]
  },
  {
   "cell_type": "code",
   "execution_count": null,
   "id": "a948d31b",
   "metadata": {},
   "outputs": [],
   "source": []
  }
 ],
 "metadata": {
  "kernelspec": {
   "display_name": "Python 3 (ipykernel)",
   "language": "python",
   "name": "python3"
  },
  "language_info": {
   "codemirror_mode": {
    "name": "ipython",
    "version": 3
   },
   "file_extension": ".py",
   "mimetype": "text/x-python",
   "name": "python",
   "nbconvert_exporter": "python",
   "pygments_lexer": "ipython3",
   "version": "3.9.7"
  }
 },
 "nbformat": 4,
 "nbformat_minor": 5
}

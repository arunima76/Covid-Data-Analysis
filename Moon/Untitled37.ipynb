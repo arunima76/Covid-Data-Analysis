{
 "cells": [
  {
   "cell_type": "code",
   "execution_count": 1,
   "id": "c8413d98",
   "metadata": {},
   "outputs": [
    {
     "name": "stdout",
     "output_type": "stream",
     "text": [
      "False\n"
     ]
    }
   ],
   "source": []
  },
  {
   "cell_type": "code",
   "execution_count": 2,
   "id": "e2393b7c",
   "metadata": {},
   "outputs": [
    {
     "name": "stdout",
     "output_type": "stream",
     "text": [
      "False\n"
     ]
    }
   ],
   "source": [
    "def test_prime(n):\n",
    "    if (n==1):\n",
    "        return False\n",
    "    elif (n==2):\n",
    "        return True;\n",
    "    else:\n",
    "        for x in range(2,n):\n",
    "            if(n % x==0):\n",
    "                return False\n",
    "        return True             \n",
    "print(test_prime(9))"
   ]
  },
  {
   "cell_type": "code",
   "execution_count": 4,
   "id": "201c596e",
   "metadata": {},
   "outputs": [
    {
     "name": "stdout",
     "output_type": "stream",
     "text": [
      "True\n"
     ]
    }
   ],
   "source": [
    "def test_prime(n):\n",
    "    if (n == 1):\n",
    "        return False\n",
    "    elif (n == 2):\n",
    "        return True\n",
    "    else:\n",
    "        for x in range(2,n): \n",
    "            if(n% 2 == 0):\n",
    "                return False\n",
    "            return True\n",
    "print(test_prime(31))"
   ]
  },
  {
   "cell_type": "code",
   "execution_count": 7,
   "id": "7f915d5b",
   "metadata": {},
   "outputs": [
    {
     "name": "stdout",
     "output_type": "stream",
     "text": [
      "True\n"
     ]
    }
   ],
   "source": [
    "def test_prime(n):\n",
    "    if (n == 1):\n",
    "        return False\n",
    "    elif (n == 2):\n",
    "        return True\n",
    "    else:\n",
    "        for i in range(2,n):\n",
    "            if(n % 2 ==0):\n",
    "                return False\n",
    "            return True\n",
    "print(test_prime(9))"
   ]
  },
  {
   "cell_type": "code",
   "execution_count": 8,
   "id": "f6294da4",
   "metadata": {},
   "outputs": [
    {
     "name": "stdout",
     "output_type": "stream",
     "text": [
      " 5 is in the range\n"
     ]
    }
   ],
   "source": [
    "def test_range(n):\n",
    "    if n in range(3,9):\n",
    "        print( \" %s is in the range\"%str(n))\n",
    "    else :\n",
    "        print(\"The number is outside the given range.\")\n",
    "test_range(5)"
   ]
  },
  {
   "cell_type": "code",
   "execution_count": 11,
   "id": "36b73ed3",
   "metadata": {},
   "outputs": [
    {
     "name": "stdout",
     "output_type": "stream",
     "text": [
      "The number is outside the given range\n"
     ]
    }
   ],
   "source": [
    "def test_range(n):\n",
    "    if n in range(3,9):\n",
    "        print(\"%s is in the range\"%str(n))\n",
    "    else:\n",
    "        print(\"The number is outside the given range\")\n",
    "test_range(19)"
   ]
  },
  {
   "cell_type": "code",
   "execution_count": 16,
   "id": "e9066428",
   "metadata": {},
   "outputs": [
    {
     "name": "stdout",
     "output_type": "stream",
     "text": [
      "[2, 4, 6, 8]\n"
     ]
    }
   ],
   "source": [
    "def is_even_num(l):\n",
    "    enum = []\n",
    "    for n in l:\n",
    "        if n % 2 == 0:\n",
    "            enum.append(n)\n",
    "    return enum\n",
    "print(is_even_num([1, 2, 3, 4, 5, 6, 7, 8, 9]))"
   ]
  },
  {
   "cell_type": "code",
   "execution_count": 18,
   "id": "6c76d6f4",
   "metadata": {},
   "outputs": [
    {
     "name": "stdout",
     "output_type": "stream",
     "text": [
      "None\n",
      "Help on function factorial in module __main__:\n",
      "\n",
      "factorial(x)\n",
      "\n",
      "None\n"
     ]
    }
   ],
   "source": [
    "def factorial(x):\n",
    "    return x\n",
    "print(factorial.__doc__)\n",
    "print(help(factorial))"
   ]
  },
  {
   "cell_type": "code",
   "execution_count": 3,
   "id": "55121e33",
   "metadata": {},
   "outputs": [
    {
     "name": "stdout",
     "output_type": "stream",
     "text": [
      "value of x inside inner function is : 700\n",
      "value of x inside outer function is : 700\n"
     ]
    }
   ],
   "source": [
    "def outer_func():\n",
    "    x = 777\n",
    "\n",
    "    def inner_func():\n",
    "        # local variable now acts as global variable\n",
    "        nonlocal x\n",
    "        x = 700\n",
    "        print(\"value of x inside inner function is :\", x)\n",
    "\n",
    "    inner_func()\n",
    "    print(\"value of x inside outer function is :\", x)\n",
    "\n",
    "outer_func()"
   ]
  },
  {
   "cell_type": "code",
   "execution_count": 19,
   "id": "7fce6b34",
   "metadata": {},
   "outputs": [],
   "source": [
    "def outer_func():\n",
    "    x = 777\n",
    "    \n",
    "    def inner_func():\n",
    "        nonlocal x\n",
    "        x = 700\n",
    "        print(\"value of x inside inner function is\",x)\n",
    "    inner_func()\n",
    "    print (\"Value of x inside outer function is\",x)\n",
    "outer_func()"
   ]
  },
  {
   "cell_type": "code",
   "execution_count": 7,
   "id": "fa6c3e5a",
   "metadata": {},
   "outputs": [
    {
     "name": "stdout",
     "output_type": "stream",
     "text": [
      "factorial of number is 40320\n"
     ]
    }
   ],
   "source": [
    "def factorial(no):\n",
    "    if (no == 0):\n",
    "        return 1\n",
    "    else:\n",
    "        return no * factorial(no -1)\n",
    "print(\"factorial of number is\",factorial(8))"
   ]
  },
  {
   "cell_type": "code",
   "execution_count": 8,
   "id": "e258fbf1",
   "metadata": {},
   "outputs": [
    {
     "name": "stdout",
     "output_type": "stream",
     "text": [
      "Even numbers are: [10, 12, 78, 6]\n"
     ]
    }
   ],
   "source": [
    "def even_numbers(nums):\n",
    "    even_list = []\n",
    "    for n in nums:\n",
    "        if n % 2 == 0:\n",
    "            even_list.append(n)\n",
    "    return even_list\n",
    "\n",
    "num_list = [10, 5, 12, 78, 6, 1, 7, 9]\n",
    "ans = even_numbers(num_list)\n",
    "print(\"Even numbers are:\", ans)"
   ]
  },
  {
   "cell_type": "code",
   "execution_count": 9,
   "id": "8ae12731",
   "metadata": {},
   "outputs": [
    {
     "name": "stdout",
     "output_type": "stream",
     "text": [
      "Even numbers are [10]\n"
     ]
    }
   ],
   "source": [
    "def even_numbers(nums):\n",
    "    even_list = []\n",
    "    for n in nums:\n",
    "        if n % 2 == 0:\n",
    "            even_list.append(n)\n",
    "        return even_list \n",
    "num_list = [10,5,12,78,6,1,7,9]\n",
    "ans = even_numbers(num_list)\n",
    "print(\"Even numbers are\", ans)"
   ]
  },
  {
   "cell_type": "code",
   "execution_count": 10,
   "id": "96546f6e",
   "metadata": {},
   "outputs": [
    {
     "name": "stdout",
     "output_type": "stream",
     "text": [
      "Even numbers are: [10, 12, 78, 6]\n"
     ]
    }
   ],
   "source": [
    "def even_numbers(nums):\n",
    "    even_list = []\n",
    "    for n in nums:\n",
    "        if n % 2 == 0:\n",
    "            even_list.append(n)\n",
    "    return even_list\n",
    "\n",
    "num_list = [10, 5, 12, 78, 6, 1, 7, 9]\n",
    "ans = even_numbers(num_list)\n",
    "print(\"Even numbers are:\", ans)"
   ]
  },
  {
   "cell_type": "code",
   "execution_count": 12,
   "id": "d59146c1",
   "metadata": {},
   "outputs": [
    {
     "name": "stdout",
     "output_type": "stream",
     "text": [
      "apple\n",
      "banana\n",
      "cherry\n"
     ]
    }
   ],
   "source": [
    "def function(food):\n",
    "    for x in food:\n",
    "        print(x)\n",
    "fruits = [\"apple\",\"banana\",\"cherry\"]\n",
    "function(fruits)"
   ]
  },
  {
   "cell_type": "code",
   "execution_count": 16,
   "id": "6d19e7d4",
   "metadata": {},
   "outputs": [
    {
     "name": "stdout",
     "output_type": "stream",
     "text": [
      "Even numbers are [10, 12, 78, 6]\n"
     ]
    }
   ],
   "source": [
    "def even_numbers(nums):\n",
    "    even_list = []\n",
    "    for n in nums:\n",
    "        if n % 2 == 0:\n",
    "             even_list.append(n)\n",
    "    return even_list\n",
    "num_list = [10, 5, 12, 78, 6, 1,7, 9]\n",
    "ans = even_numbers(num_list)\n",
    "print(\"Even numbers are\", ans)"
   ]
  },
  {
   "cell_type": "code",
   "execution_count": 18,
   "id": "066acfb6",
   "metadata": {},
   "outputs": [
    {
     "name": "stdout",
     "output_type": "stream",
     "text": [
      "40\n",
      "-40\n"
     ]
    }
   ],
   "source": [
    "def add(a,b):\n",
    "    print(a-b)\n",
    "add(50,10)\n",
    "add(10,50)"
   ]
  },
  {
   "cell_type": "code",
   "execution_count": 19,
   "id": "20235c51",
   "metadata": {},
   "outputs": [
    {
     "name": "stdout",
     "output_type": "stream",
     "text": [
      "Hello John Wilson\n",
      "Hello Kelly Ault\n"
     ]
    }
   ],
   "source": [
    "def message(name, surname):\n",
    "    print(\"Hello\", name, surname)\n",
    "\n",
    "message(name=\"John\", surname=\"Wilson\")\n",
    "message(surname=\"Ault\", name=\"Kelly\")"
   ]
  },
  {
   "cell_type": "code",
   "execution_count": 20,
   "id": "355c9621",
   "metadata": {},
   "outputs": [
    {
     "name": "stdout",
     "output_type": "stream",
     "text": [
      "Hello John Wilson\n",
      "Hello Kelly Ault\n"
     ]
    }
   ],
   "source": [
    "def message(name, surname):\n",
    "    print(\"Hello\",name, surname)\n",
    "message(name = \"John\", surname = \"Wilson\")\n",
    "message(surname = \"Ault\",name=\"Kelly\")"
   ]
  },
  {
   "cell_type": "code",
   "execution_count": 21,
   "id": "3ef35bb5",
   "metadata": {},
   "outputs": [
    {
     "name": "stdout",
     "output_type": "stream",
     "text": [
      "Hello John\n",
      "Hello Guest\n"
     ]
    }
   ],
   "source": [
    "def message(name=\"Guest\"):\n",
    "    print(\"Hello\", name)\n",
    "\n",
    "# calling function with argument\n",
    "message(\"John\")\n",
    "\n",
    "# calling function without argument\n",
    "message()"
   ]
  },
  {
   "cell_type": "code",
   "execution_count": 22,
   "id": "75d7d202",
   "metadata": {},
   "outputs": [
    {
     "name": "stdout",
     "output_type": "stream",
     "text": [
      "Sum is: 0\n",
      "Sum is: 26\n",
      "Sum is: 87.5\n"
     ]
    }
   ],
   "source": [
    "def addition(*numbers):\n",
    "    total = 0\n",
    "    for no in numbers:\n",
    "        total = total + no\n",
    "    print(\"Sum is:\", total)\n",
    "\n",
    "\n",
    "# 0 arguments\n",
    "addition()\n",
    "\n",
    "# 5 arguments\n",
    "addition(10, 5, 2, 5, 4)\n",
    "\n",
    "\n",
    "# 3 arguments\n",
    "addition(78, 7, 2.5)"
   ]
  },
  {
   "cell_type": "code",
   "execution_count": 23,
   "id": "5f912982",
   "metadata": {},
   "outputs": [
    {
     "name": "stdout",
     "output_type": "stream",
     "text": [
      "Sum is 0\n",
      "Sum is 26\n",
      "Sum is 87.5\n"
     ]
    }
   ],
   "source": [
    "def addition(*numbers):\n",
    "    total = 0\n",
    "    for no in numbers:\n",
    "        total = total + no\n",
    "    print(\"Sum is\", total)\n",
    "addition()  \n",
    "\n",
    "addition(10,5,2,5,4)\n",
    "\n",
    "addition(78, 7, 2.5)"
   ]
  },
  {
   "cell_type": "code",
   "execution_count": 24,
   "id": "a4dca0ac",
   "metadata": {},
   "outputs": [
    {
     "name": "stdout",
     "output_type": "stream",
     "text": [
      "{'first_name': 'Adam', 'middle_name': '', 'last_name': 'Grook'} \n",
      " {'first_name': 'Saik', 'middle_name': 'Ali', 'last_name': 'Grook'}\n"
     ]
    }
   ],
   "source": [
    "def name(first, last, middle=''):\n",
    "  full_name = {'first_name': first, 'middle_name': middle, 'last_name': last}\n",
    "  return full_name\n",
    "\n",
    "data = name('Adam', 'Grook')\n",
    "data1 = name('Saik', 'Grook', 'Ali')\n",
    "print(data,\"\\n\",data1)"
   ]
  },
  {
   "cell_type": "code",
   "execution_count": 25,
   "id": "57ecc696",
   "metadata": {},
   "outputs": [
    {
     "name": "stdout",
     "output_type": "stream",
     "text": [
      "{'first_name': 'Adam', 'middle_name': '', 'last_name': 'Grook'} \n",
      " {'first_name': 'Saik', 'middle_name': 'Ali', 'last_name': 'Grook'}\n"
     ]
    }
   ],
   "source": [
    "def name(first, last, middle =''):\n",
    "    full_name = {'first_name': first, 'middle_name': middle, 'last_name': last }\n",
    "    return full_name\n",
    "data = name('Adam', 'Grook')\n",
    "data1 = name('Saik','Grook','Ali')\n",
    "print(data,\"\\n\",data1)"
   ]
  },
  {
   "cell_type": "code",
   "execution_count": 26,
   "id": "f4c8a9f7",
   "metadata": {},
   "outputs": [
    {
     "name": "stdout",
     "output_type": "stream",
     "text": [
      "Even numbers are [10, 12, 78, 6]\n"
     ]
    }
   ],
   "source": [
    "def even_numbers(nums):\n",
    "    even_list = []\n",
    "    for n in nums:\n",
    "        if n % 2 == 0:\n",
    "             even_list.append(n)\n",
    "    return even_list\n",
    "num_list = [10, 5, 12, 78, 6, 1,7, 9]\n",
    "ans = even_numbers(num_list)\n",
    "print(\"Even numbers are\", ans)"
   ]
  },
  {
   "cell_type": "code",
   "execution_count": 29,
   "id": "ac92d403",
   "metadata": {},
   "outputs": [
    {
     "name": "stdout",
     "output_type": "stream",
     "text": [
      "Even numbers are [10, 12, 78, 6]\n"
     ]
    }
   ],
   "source": [
    "def even_numbers(nums):\n",
    "    even_list = []\n",
    "    for n in nums:\n",
    "        if n % 2 ==0:\n",
    "             even_list.append(n)\n",
    "    return even_list\n",
    "num_list = [10, 5, 12, 78, 6, 1, 7, 9]\n",
    "ans = even_numbers(num_list)\n",
    "print(\"Even numbers are\", ans)"
   ]
  },
  {
   "cell_type": "code",
   "execution_count": 30,
   "id": "b4aa42f9",
   "metadata": {},
   "outputs": [
    {
     "name": "stdout",
     "output_type": "stream",
     "text": [
      "Element 1 of list:\n",
      "{'Alice': 20, 'Bob': 30, 'Kathy': 40}\n",
      "Element 2 of list:\n",
      "{'Alice': 'Engineer', 'Bob': 'Doctor', 'Kathy': 'Helper'}\n",
      "Element 3 of list:\n",
      "{'Alice': 'Nice', 'Bob': 'Great', 'Kathy': 'Super'}\n",
      "Actual List: [{'Alice': 20, 'Bob': 30, 'Kathy': 40}, {'Alice': 'Engineer', 'Bob': 'Doctor', 'Kathy': 'Helper'}]\n"
     ]
    }
   ],
   "source": [
    "real_list = [\n",
    "{\n",
    "  'Alice': 20,\n",
    "  'Bob': 30,\n",
    "  'Kathy': 40\n",
    "},\n",
    "{\n",
    "  'Alice': 'Engineer',\n",
    "  'Bob': 'Doctor',\n",
    "  'Kathy': 'Helper'\n",
    "}\n",
    "]\n",
    "\n",
    "def list_of_names(names):\n",
    "  count = 1\n",
    "  names = names + [{'Alice': 'Nice', 'Bob': 'Great', 'Kathy': 'Super'}]\n",
    "  for name in names:\n",
    "     message = f\"Element {count} of list:\\n{name}\"\n",
    "     print(message)\n",
    "     count = count+1\n",
    "  return names\n",
    "\n",
    "list_of_names(real_list)\n",
    "print(f\"Actual List: {real_list}\")"
   ]
  },
  {
   "cell_type": "code",
   "execution_count": 31,
   "id": "ad408415",
   "metadata": {},
   "outputs": [
    {
     "name": "stdout",
     "output_type": "stream",
     "text": [
      "The youngest child is Linus\n"
     ]
    }
   ],
   "source": [
    "def my_function(child3, child2, child1):\n",
    "  print(\"The youngest child is \" + child3)\n",
    "\n",
    "my_function(child1 = \"Emil\", child2 = \"Tobias\", child3 = \"Linus\")"
   ]
  },
  {
   "cell_type": "code",
   "execution_count": 36,
   "id": "ed9bb60e",
   "metadata": {},
   "outputs": [
    {
     "name": "stdout",
     "output_type": "stream",
     "text": [
      "The youngest child is Linus\n"
     ]
    }
   ],
   "source": [
    "def my_function(*kids):\n",
    "  print(\"The youngest child is \" + kids[2])\n",
    "\n",
    "my_function(\"Emil\", \"Tobias\", \"Linus\")"
   ]
  },
  {
   "cell_type": "code",
   "execution_count": 40,
   "id": "86c7dcfa",
   "metadata": {},
   "outputs": [
    {
     "name": "stdout",
     "output_type": "stream",
     "text": [
      "The ingredients isLemon\n"
     ]
    }
   ],
   "source": [
    "def ingredients(*items):\n",
    " print(\"The ingredients is\" +items[2])\n",
    "\n",
    "\n",
    "ingredients('Water', 'Sugar', 'Lemon')\n"
   ]
  },
  {
   "cell_type": "code",
   "execution_count": 41,
   "id": "2e02b1b6",
   "metadata": {},
   "outputs": [
    {
     "name": "stdout",
     "output_type": "stream",
     "text": [
      "His last name is Refsnes\n"
     ]
    }
   ],
   "source": [
    "def my_function(**kid):\n",
    "  print(\"His last name is \" + kid[\"lname\"])\n",
    "\n",
    "my_function(fname = \"Tobias\", lname = \"Refsnes\")"
   ]
  },
  {
   "cell_type": "code",
   "execution_count": 42,
   "id": "f56f1b3f",
   "metadata": {},
   "outputs": [
    {
     "name": "stdout",
     "output_type": "stream",
     "text": [
      "Even numbers are:  [10, 12, 78, 6]\n"
     ]
    }
   ],
   "source": [
    "l = [10, 5, 12, 78, 6, 1, 7, 9]\n",
    "even_nos = list(filter(lambda x: x % 2 == 0, l))\n",
    "print(\"Even numbers are: \", even_nos)"
   ]
  },
  {
   "cell_type": "code",
   "execution_count": 43,
   "id": "7e493b0a",
   "metadata": {},
   "outputs": [
    {
     "name": "stdout",
     "output_type": "stream",
     "text": [
      "even numbers are [10, 12, 78, 6]\n"
     ]
    }
   ],
   "source": [
    "l = [10, 5, 12, 78, 6, 1, 7, 9]\n",
    "even_nos = list(filter(lambda x :x %2 == 0,l))\n",
    "print(\"even numbers are\",even_nos)"
   ]
  },
  {
   "cell_type": "code",
   "execution_count": 44,
   "id": "52e92e4c",
   "metadata": {},
   "outputs": [
    {
     "name": "stdout",
     "output_type": "stream",
     "text": [
      "Cube values are: [8, 27, 64, 512, 729]\n"
     ]
    }
   ],
   "source": [
    "list1 = [2, 3, 4, 8, 9]\n",
    "list2 = list(map(lambda x: x*x*x, list1))\n",
    "print(\"Cube values are:\", list2)"
   ]
  },
  {
   "cell_type": "code",
   "execution_count": 45,
   "id": "ca06e663",
   "metadata": {},
   "outputs": [
    {
     "name": "stdout",
     "output_type": "stream",
     "text": [
      "Cube values are [8, 27, 64, 512, 729]\n"
     ]
    }
   ],
   "source": [
    "list1 = [2,3,4,8,9]\n",
    "list2 = list(map(lambda x:x*x*x, list1))\n",
    "print(\"Cube values are\",list2)"
   ]
  },
  {
   "cell_type": "code",
   "execution_count": 46,
   "id": "e68374f1",
   "metadata": {},
   "outputs": [
    {
     "name": "stdout",
     "output_type": "stream",
     "text": [
      "Addition of all list elements is :  54\n"
     ]
    }
   ],
   "source": [
    "from functools import reduce\n",
    "list1 = [20, 13, 4, 8, 9]\n",
    "add = reduce(lambda x, y: x+y, list1)\n",
    "print(\"Addition of all list elements is : \", add)"
   ]
  },
  {
   "cell_type": "code",
   "execution_count": 50,
   "id": "e3459317",
   "metadata": {},
   "outputs": [
    {
     "name": "stdout",
     "output_type": "stream",
     "text": [
      "addition of all element is: 54\n"
     ]
    }
   ],
   "source": [
    "from functools import reduce\n",
    "list1 = [20,13,4,8,9]\n",
    "add = reduce(lambda x,y: x+y, list1)\n",
    "print(\"addition of all element is:\",add)"
   ]
  },
  {
   "cell_type": "code",
   "execution_count": null,
   "id": "ffbd57d1",
   "metadata": {},
   "outputs": [],
   "source": []
  }
 ],
 "metadata": {
  "kernelspec": {
   "display_name": "Python 3 (ipykernel)",
   "language": "python",
   "name": "python3"
  },
  "language_info": {
   "codemirror_mode": {
    "name": "ipython",
    "version": 3
   },
   "file_extension": ".py",
   "mimetype": "text/x-python",
   "name": "python",
   "nbconvert_exporter": "python",
   "pygments_lexer": "ipython3",
   "version": "3.9.7"
  }
 },
 "nbformat": 4,
 "nbformat_minor": 5
}

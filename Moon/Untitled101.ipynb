{
 "cells": [
  {
   "cell_type": "code",
   "execution_count": 1,
   "id": "3d889793",
   "metadata": {},
   "outputs": [
    {
     "name": "stdout",
     "output_type": "stream",
     "text": [
      "Sum of all elements in given list:  74\n"
     ]
    }
   ],
   "source": [
    "total = 0\n",
    " \n",
    "# creating a list\n",
    "list1 = [11, 5, 17, 18, 23]\n",
    " \n",
    "# Iterate each element in list\n",
    "# and add them in variable total\n",
    "for ele in range(0, len(list1)):\n",
    "    total = total + list1[ele]\n",
    " \n",
    "# printing total value\n",
    "print(\"Sum of all elements in given list: \", total)"
   ]
  },
  {
   "cell_type": "code",
   "execution_count": 2,
   "id": "7c157f86",
   "metadata": {},
   "outputs": [
    {
     "name": "stdout",
     "output_type": "stream",
     "text": [
      "sum of the list is 14\n"
     ]
    }
   ],
   "source": [
    "list = [8,1, 2,3]\n",
    "count_list = 0\n",
    "for i in list:\n",
    "    count_list += i\n",
    "print(\"sum of the list is\", count_list)"
   ]
  },
  {
   "cell_type": "code",
   "execution_count": 8,
   "id": "7006203e",
   "metadata": {},
   "outputs": [
    {
     "name": "stdout",
     "output_type": "stream",
     "text": [
      "Enter number of elements : 3\n",
      "1\n",
      "2\n",
      "3\n",
      "The Sum of user input even value is : 6\n",
      "[1, 2, 3]\n"
     ]
    }
   ],
   "source": [
    "lst = []\n",
    "total =0\n",
    "total1 = 0\n",
    "  \n",
    "# number of elements as input\n",
    "n = int(input(\"Enter number of elements : \"))\n",
    "  \n",
    "# iterating till the range\n",
    "for i in range(0, n):\n",
    "    ele = int(input())\n",
    "    lst.append(ele) # adding the element\n",
    "    \n",
    "for ele in range(0, len(lst)):\n",
    "    \n",
    "    total = total + lst[ele]\n",
    "\n",
    "    \n",
    "print(\"The Sum of user input even value is :\", total)\n",
    "\n",
    "      \n",
    "print(lst)"
   ]
  },
  {
   "cell_type": "code",
   "execution_count": null,
   "id": "72496117",
   "metadata": {},
   "outputs": [],
   "source": []
  },
  {
   "cell_type": "code",
   "execution_count": null,
   "id": "1d79aee4",
   "metadata": {},
   "outputs": [],
   "source": []
  },
  {
   "cell_type": "code",
   "execution_count": null,
   "id": "6fa1a6cd",
   "metadata": {},
   "outputs": [],
   "source": [
    "list1= []\n",
    "num = int(input('How many numbers'))\n",
    "print(\"***print the numbers***\")\n",
    "for n in range(0,num):\n",
    "        numbers = int(input(\"Enter the numbers \"))\n",
    "        list1.append(numbers)\n",
    "        \n",
    "\n",
    "    \n",
    "    \n",
    " "
   ]
  },
  {
   "cell_type": "code",
   "execution_count": null,
   "id": "cf89130b",
   "metadata": {},
   "outputs": [],
   "source": []
  },
  {
   "cell_type": "code",
   "execution_count": null,
   "id": "03c84308",
   "metadata": {},
   "outputs": [],
   "source": [
    "list1= []\n",
    "num = int(input('How many numbers'))\n",
    "print(\"***print the numbers***\")\n",
    "for n in range(0,num):\n",
    "        numbers = int(input(\"Enter the numbers \"))\n",
    "        list1.append(numbers)\n",
    "        \n"
   ]
  },
  {
   "cell_type": "code",
   "execution_count": null,
   "id": "e3e3af71",
   "metadata": {},
   "outputs": [],
   "source": []
  }
 ],
 "metadata": {
  "kernelspec": {
   "display_name": "Python 3 (ipykernel)",
   "language": "python",
   "name": "python3"
  },
  "language_info": {
   "codemirror_mode": {
    "name": "ipython",
    "version": 3
   },
   "file_extension": ".py",
   "mimetype": "text/x-python",
   "name": "python",
   "nbconvert_exporter": "python",
   "pygments_lexer": "ipython3",
   "version": "3.9.7"
  }
 },
 "nbformat": 4,
 "nbformat_minor": 5
}

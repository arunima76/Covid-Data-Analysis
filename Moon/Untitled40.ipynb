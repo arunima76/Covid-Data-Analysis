{
 "cells": [
  {
   "cell_type": "code",
   "execution_count": 1,
   "id": "6fc7db1f",
   "metadata": {},
   "outputs": [
    {
     "name": "stdout",
     "output_type": "stream",
     "text": [
      "{'name': 'Jessa', 'country': 'USA', 'telephone': 1178}\n"
     ]
    }
   ],
   "source": [
    "person = {\"name\": \"Jessa\", \"country\": \"USA\", \"telephone\": 1178}\n",
    "\n",
    "print(person)"
   ]
  },
  {
   "cell_type": "code",
   "execution_count": 2,
   "id": "04cca6f6",
   "metadata": {},
   "outputs": [],
   "source": [
    "fish = {'name': \"Nemo\", 'hands': \"fins\", 'special': \"gills\"}\n",
    "dog = {'name': \"Clifford\", 'hands': \"paws\", 'color': \"red\"}"
   ]
  },
  {
   "cell_type": "code",
   "execution_count": 7,
   "id": "9fb70f5f",
   "metadata": {},
   "outputs": [
    {
     "name": "stdout",
     "output_type": "stream",
     "text": [
      "{'name': 'Clifford', 'hands': 'paws', 'special': 'gills', 'color': 'red'}\n"
     ]
    }
   ],
   "source": [
    " fishdog = {**fish, **dog}\n",
    "print(fishdog)"
   ]
  },
  {
   "cell_type": "code",
   "execution_count": 8,
   "id": "7a1c68c9",
   "metadata": {},
   "outputs": [
    {
     "name": "stdout",
     "output_type": "stream",
     "text": [
      "{'name': 'Mark', 'country': 'USA', 'telephone': 1178}\n"
     ]
    }
   ],
   "source": [
    "person = dict([(\"name\", \"Mark\"), (\"country\", \"USA\"), (\"telephone\", 1178)])\n",
    "print(person)"
   ]
  },
  {
   "cell_type": "code",
   "execution_count": 9,
   "id": "d3cb81ee",
   "metadata": {},
   "outputs": [
    {
     "name": "stdout",
     "output_type": "stream",
     "text": [
      "{'name': 'Jessa', 10: 'Mobile'}\n"
     ]
    }
   ],
   "source": [
    "sample_dict = {\"name\": \"Jessa\", 10: \"Mobile\"}\n",
    "print(sample_dict)"
   ]
  },
  {
   "cell_type": "code",
   "execution_count": 10,
   "id": "f1fc1cc6",
   "metadata": {},
   "outputs": [
    {
     "name": "stdout",
     "output_type": "stream",
     "text": [
      "{'name': 'Jessa', 'telephones': [1178, 2563, 4569]}\n"
     ]
    }
   ],
   "source": [
    "person = {\"name\": \"Jessa\", \"telephones\": [1178, 2563, 4569]}\n",
    "print(person)"
   ]
  },
  {
   "cell_type": "code",
   "execution_count": 11,
   "id": "e7aa5ea7",
   "metadata": {},
   "outputs": [
    {
     "name": "stdout",
     "output_type": "stream",
     "text": [
      "Jessa\n"
     ]
    }
   ],
   "source": [
    "person = {\"name\": \"Jessa\", \"country\": \"USA\", \"telephone\": 1178}\n",
    "print(person['name'])"
   ]
  },
  {
   "cell_type": "code",
   "execution_count": 12,
   "id": "cc85c0f5",
   "metadata": {},
   "outputs": [
    {
     "data": {
      "text/plain": [
       "{'name': 'Nemo', 'hands': 'fins', 'color': 'red', 'special': 'gills'}"
      ]
     },
     "execution_count": 12,
     "metadata": {},
     "output_type": "execute_result"
    }
   ],
   "source": [
    "from collections import ChainMap\n",
    "dict(ChainMap(fish, dog))"
   ]
  },
  {
   "cell_type": "code",
   "execution_count": 13,
   "id": "46e5a26b",
   "metadata": {},
   "outputs": [
    {
     "name": "stdout",
     "output_type": "stream",
     "text": [
      "dict_keys(['a', 'b'])\n"
     ]
    }
   ],
   "source": [
    "mydict = {\n",
    " 'a': '1',\n",
    " 'b': '2'\n",
    "}\n",
    "print(mydict.keys())"
   ]
  },
  {
   "cell_type": "code",
   "execution_count": 14,
   "id": "68dac501",
   "metadata": {},
   "outputs": [
    {
     "name": "stdout",
     "output_type": "stream",
     "text": [
      "dict_keys(['a', 'b'])\n"
     ]
    }
   ],
   "source": [
    "mydict = {\n",
    "    'a': '1',\n",
    "    'b': '2'\n",
    "}\n",
    "\n",
    "print(mydict.keys())"
   ]
  },
  {
   "cell_type": "code",
   "execution_count": 15,
   "id": "63a9cd01",
   "metadata": {},
   "outputs": [
    {
     "name": "stdout",
     "output_type": "stream",
     "text": [
      "dict_keys(['name', 'country', 'telephone'])\n"
     ]
    }
   ],
   "source": [
    "person = {\"name\": \"Jessa\", \"country\": \"USA\", \"telephone\": 1178}\n",
    "print(person.keys())"
   ]
  },
  {
   "cell_type": "code",
   "execution_count": 16,
   "id": "3600741a",
   "metadata": {},
   "outputs": [
    {
     "name": "stdout",
     "output_type": "stream",
     "text": [
      "<class 'dict_keys'>\n"
     ]
    }
   ],
   "source": [
    "print(type(person.keys()))"
   ]
  },
  {
   "cell_type": "code",
   "execution_count": 17,
   "id": "adf532bf",
   "metadata": {},
   "outputs": [
    {
     "name": "stdout",
     "output_type": "stream",
     "text": [
      "dict_values(['Jessa', 'USA', 1178])\n"
     ]
    }
   ],
   "source": [
    "print(person.values())"
   ]
  },
  {
   "cell_type": "code",
   "execution_count": 18,
   "id": "405e3112",
   "metadata": {},
   "outputs": [
    {
     "name": "stdout",
     "output_type": "stream",
     "text": [
      "<class 'dict_values'>\n"
     ]
    }
   ],
   "source": [
    "print(type(person.values()))  "
   ]
  },
  {
   "cell_type": "code",
   "execution_count": 19,
   "id": "5b83a3ae",
   "metadata": {},
   "outputs": [
    {
     "name": "stdout",
     "output_type": "stream",
     "text": [
      "dict_items([('name', 'Jessa'), ('country', 'USA'), ('telephone', 1178)])\n"
     ]
    }
   ],
   "source": [
    "print(person.items())"
   ]
  },
  {
   "cell_type": "code",
   "execution_count": 22,
   "id": "66eebf1e",
   "metadata": {},
   "outputs": [
    {
     "name": "stdout",
     "output_type": "stream",
     "text": [
      "5678\n"
     ]
    }
   ],
   "source": [
    "dictionary = {\"Hello\": 1234, \"World\": 5678}\n",
    "print(dictionary[\"World\"])"
   ]
  },
  {
   "cell_type": "code",
   "execution_count": 28,
   "id": "d1eccab3",
   "metadata": {},
   "outputs": [
    {
     "name": "stdout",
     "output_type": "stream",
     "text": [
      "key :value\n",
      "name : Jessa\n",
      "country : USA\n",
      "Telephone : 1178\n",
      "key : value\n",
      "name Jessa\n",
      "country USA\n",
      "Telephone 1178\n"
     ]
    }
   ],
   "source": [
    "person = {\"name\": \"Jessa\",\"country\":\"USA\",\"Telephone\": 1178}\n",
    "print('key', ':' 'value')\n",
    "\n",
    "for key in person:\n",
    "    print(key, ':', person[key])\n",
    "    \n"
   ]
  },
  {
   "cell_type": "code",
   "execution_count": 30,
   "id": "f25b2f61",
   "metadata": {},
   "outputs": [
    {
     "name": "stdout",
     "output_type": "stream",
     "text": [
      "3\n"
     ]
    }
   ],
   "source": [
    "person = {\"name\": \"Jessa\", \"country\": \"USA\", \"telephone\": 1178}\n",
    "print(len(person))"
   ]
  },
  {
   "cell_type": "code",
   "execution_count": 33,
   "id": "d326c09f",
   "metadata": {},
   "outputs": [
    {
     "name": "stdout",
     "output_type": "stream",
     "text": [
      "{'name': 'Jessa', 'country': 'USA', 'telephone': 1178, 'weight': 50, 'height': 6}\n"
     ]
    }
   ],
   "source": [
    "person = {\"name\": \"Jessa\", 'country': \"USA\", \"telephone\": 1178}\n",
    "\n",
    "# update dictionary by adding 2 new keys\n",
    "person[\"weight\"] = 50\n",
    "person.update({\"height\": 6})\n",
    "\n",
    "# print the updated dictionary\n",
    "print(person)"
   ]
  },
  {
   "cell_type": "code",
   "execution_count": 35,
   "id": "a3d28101",
   "metadata": {},
   "outputs": [
    {
     "name": "stdout",
     "output_type": "stream",
     "text": [
      "{'name': 'Jessa', 'country': 'USA', 'telephone': 1178, 'weight': 50, 'height': 6}\n"
     ]
    }
   ],
   "source": [
    "person = {\"name\":\"Jessa\",\"country\":\"USA\",\"telephone\": 1178}\n",
    "\n",
    "person[\"weight\"] = 50\n",
    "person.update({\"height\":6})\n",
    "\n",
    "print(person)"
   ]
  },
  {
   "cell_type": "code",
   "execution_count": 38,
   "id": "245ed4e4",
   "metadata": {},
   "outputs": [
    {
     "name": "stdout",
     "output_type": "stream",
     "text": [
      "{'name': 'Jessa', 'country': 'USA', 'weight': 50, 'height': 6}\n",
      "{'name': 'Jessa', 'country': 'USA', 'weight': 50, 'height': 6, 'city': 'Texas', 'company': 'Google'}\n"
     ]
    }
   ],
   "source": [
    "person = {\"name\": \"Jessa\", 'country': \"USA\"}\n",
    "\n",
    "# Adding 2 new keys at once\n",
    "# pass new keys as dict\n",
    "person.update({\"weight\": 50, \"height\": 6})\n",
    "# print the updated dictionary\n",
    "print(person)\n",
    "# output {'name': 'Jessa', 'country': 'USA', 'weight': 50, 'height': 6}\n",
    "\n",
    "# pass new keys as as list of tuple\n",
    "person.update([(\"city\", \"Texas\"), (\"company\", \"Google\")])\n",
    "# print the updted dictionary\n",
    "print(person)"
   ]
  },
  {
   "cell_type": "code",
   "execution_count": 40,
   "id": "f0fa907d",
   "metadata": {},
   "outputs": [
    {
     "name": "stdout",
     "output_type": "stream",
     "text": [
      "{'name': 'Jessa', 'country': 'Alabama'}\n"
     ]
    }
   ],
   "source": [
    "person = {\"name\": \"Jessa\", \"country\": \"USA\"}\n",
    "person.update({\"country\": \"Alabama\"})\n",
    "print(person)"
   ]
  },
  {
   "cell_type": "code",
   "execution_count": 42,
   "id": "7d522759",
   "metadata": {},
   "outputs": [
    {
     "name": "stdout",
     "output_type": "stream",
     "text": [
      "\n",
      "Dictionary with the use of Integer Keys: \n",
      "{1: 'Geeks', 2: 'For', 3: 'Geeks'}\n"
     ]
    }
   ],
   "source": [
    "Dict = {1: 'Geeks', 2: 'For', 3: 'Geeks'}\n",
    "print(\"\\nDictionary with the use of Integer Keys: \")\n",
    "print(Dict)"
   ]
  },
  {
   "cell_type": "code",
   "execution_count": 44,
   "id": "db8de4e1",
   "metadata": {},
   "outputs": [
    {
     "name": "stdout",
     "output_type": "stream",
     "text": [
      "{'name': 'Jessa', 'country': 'USA', 'telephone': 1178, 'weight': 50}\n"
     ]
    }
   ],
   "source": [
    "person = {'name': 'Jessa', 'country': 'USA', 'telephone': 1178, 'weight': 50, 'height': 6}\n",
    "deleted_item = person.popitem()\n",
    "print(person)"
   ]
  },
  {
   "cell_type": "code",
   "execution_count": 47,
   "id": "9ae95dd2",
   "metadata": {},
   "outputs": [
    {
     "name": "stdout",
     "output_type": "stream",
     "text": [
      "The list is: [11, 13, 15, 16, 13, 15, 16, 11]\n",
      "result after removing the list[11, 13, 15, 16]\n"
     ]
    }
   ],
   "source": [
    "sam_list = [11, 13, 15, 16, 13, 15, 16, 11] \n",
    "print (\"The list is: \" + str(sam_list)) \n",
    "result = [] \n",
    "\n",
    "[result.append(x) for x in sam_list if x not in result] \n",
    "print(\"result after removing the list\" + str(result))"
   ]
  },
  {
   "cell_type": "code",
   "execution_count": 48,
   "id": "e02ec916",
   "metadata": {},
   "outputs": [
    {
     "name": "stdout",
     "output_type": "stream",
     "text": [
      "The list is[11, 13, 15, 16, 13, 15, 16, 11]\n",
      "after removing duplicates [11, 13, 15, 16]\n"
     ]
    }
   ],
   "source": [
    "sam_list = [11, 13, 15, 16, 13, 15, 16, 11] \n",
    "print (\"The list is\" + str(sam_list))\n",
    "result = []\n",
    "\n",
    "for x in sam_list:\n",
    "    if x not in result:\n",
    "        result.append(x)\n",
    "print(\"after removing duplicates \" +str(result))\n",
    "    "
   ]
  },
  {
   "cell_type": "code",
   "execution_count": 50,
   "id": "d0b994ac",
   "metadata": {},
   "outputs": [
    {
     "name": "stdout",
     "output_type": "stream",
     "text": [
      "{'name': 'Jessa', 'country': 'USA', 'weight': 50, 'height': 6}\n"
     ]
    }
   ],
   "source": [
    "person = {'name': 'Jessa', 'country': 'USA', 'telephone': 1178, 'weight': 50, 'height': 6}\n",
    "\n",
    "deleted_item = person.pop(\"telephone\")\n",
    "print(person)"
   ]
  },
  {
   "cell_type": "code",
   "execution_count": 54,
   "id": "f506e37d",
   "metadata": {},
   "outputs": [
    {
     "name": "stdout",
     "output_type": "stream",
     "text": [
      "{'name': 'Jessa', 'country': 'USA', 'telephone': 1178, 'height': 6}\n"
     ]
    }
   ],
   "source": [
    "person = {'name': 'Jessa', 'country': 'USA', 'telephone': 1178, 'weight': 50, 'height': 6}\n",
    "del person['weight']\n",
    "print(person)"
   ]
  },
  {
   "cell_type": "code",
   "execution_count": 59,
   "id": "873a6ee5",
   "metadata": {},
   "outputs": [
    {
     "name": "stdout",
     "output_type": "stream",
     "text": [
      "country name is USA\n"
     ]
    }
   ],
   "source": [
    "person = {'name': 'Jessa', 'country': 'USA', 'telephone': 1178}\n",
    "key_name = 'country'\n",
    "if key_name in person.keys():\n",
    "       print(\"country name is\", person[key_name])\n",
    "else:\n",
    "    print(\"Key not found\")\n"
   ]
  },
  {
   "cell_type": "code",
   "execution_count": 61,
   "id": "dcc240ee",
   "metadata": {},
   "outputs": [
    {
     "name": "stdout",
     "output_type": "stream",
     "text": [
      "Key not found\n"
     ]
    }
   ],
   "source": [
    "person = {'name': 'Arunima','country':'India','telephone': 1178}\n",
    "\n",
    "key_name = 'state'\n",
    "\n",
    "if key_name in person.keys():\n",
    "    print (\"country name is \", person[key_name])\n",
    "else:\n",
    "    print(\"Key not found\")"
   ]
  },
  {
   "cell_type": "code",
   "execution_count": 62,
   "id": "4414ec97",
   "metadata": {},
   "outputs": [
    {
     "name": "stdout",
     "output_type": "stream",
     "text": [
      "{'Jessa': 70, 'Arul': 80, 'Emma': 55, 'Kelly': 68, 'Harry': 50, 'Olivia': 66}\n"
     ]
    }
   ],
   "source": [
    "dict1 = {'Jessa': 70, 'Arul': 80, 'Emma': 55}\n",
    "dict2 = {'Kelly': 68, 'Harry': 50, 'Olivia': 66}\n",
    "\n",
    "dict1.update(dict2)\n",
    "print(dict1)"
   ]
  },
  {
   "cell_type": "code",
   "execution_count": 65,
   "id": "4b7b74ca",
   "metadata": {},
   "outputs": [
    {
     "name": "stdout",
     "output_type": "stream",
     "text": [
      "{'Aadya': 1, 'Arul': 2, 'Harry': 5, 'Olivia': 6, 'Nancy': 7, 'Perry': 9}\n"
     ]
    }
   ],
   "source": [
    "student_dict1 = {'Aadya': 1, 'Arul': 2, }\n",
    "student_dict2 = {'Harry': 5, 'Olivia': 6}\n",
    "student_dict3 = {'Nancy': 7, 'Perry': 9}\n",
    "\n",
    "# join three dictionaries \n",
    "student_dict = {**student_dict1, **student_dict2, **student_dict3}\n",
    "# printing the final Merged dictionary\n",
    "print(student_dict)\n"
   ]
  },
  {
   "cell_type": "code",
   "execution_count": 66,
   "id": "a09c948f",
   "metadata": {},
   "outputs": [
    {
     "name": "stdout",
     "output_type": "stream",
     "text": [
      "{'Aadya': 1, 'Arul': 2, 'Harry': 5, 'Olivia': 6, 'Nancy': 7, 'Perry': 9}\n"
     ]
    }
   ],
   "source": [
    "student_dict1 = {'Aadya': 1, 'Arul': 2, }\n",
    "student_dict2 = {'Harry': 5, 'Olivia': 6}\n",
    "student_dict3 = {'Nancy': 7, 'Perry': 9}\n",
    "\n",
    "# join three dictionaries \n",
    "student_dict = {**student_dict1, **student_dict2, **student_dict3}\n",
    "# printing the final Merged dictionary\n",
    "print(student_dict)"
   ]
  },
  {
   "cell_type": "code",
   "execution_count": 68,
   "id": "74dc8e20",
   "metadata": {},
   "outputs": [
    {
     "name": "stdout",
     "output_type": "stream",
     "text": [
      "{'Aadya': 1, 'Arul': 2, 'Harry': 5, 'Olibvia': 6, 'Nancy': 7, 'Perry': 9}\n"
     ]
    }
   ],
   "source": [
    "student_dict1 = {'Aadya': 1, 'Arul':2}\n",
    "student_dict2 = {'Harry': 5,'Olibvia': 6}\n",
    "student_dict3 = {'Nancy': 7, 'Perry':9}\n",
    "\n",
    "student_dict = {**student_dict1, **student_dict2, **student_dict3}\n",
    "print(student_dict)"
   ]
  },
  {
   "cell_type": "code",
   "execution_count": 73,
   "id": "367df798",
   "metadata": {},
   "outputs": [
    {
     "name": "stdout",
     "output_type": "stream",
     "text": [
      "{1: 'Python', 2: 'Java', 3: 'Ruby', 4: 'Scala'}\n",
      "{}\n"
     ]
    }
   ],
   "source": [
    "dict1 = {1: \"Python\", 2: \"Java\", 3: \"Ruby\", 4: \"Scala\"}\n",
    "dict2 = dict1.copy()\n",
    "print(dict2)\n"
   ]
  },
  {
   "cell_type": "code",
   "execution_count": 74,
   "id": "6110003b",
   "metadata": {},
   "outputs": [
    {
     "name": "stdout",
     "output_type": "stream",
     "text": [
      "dict_items([(1, 'Python'), (2, 'Java'), (3, 'Ruby'), (4, 'Scala')])\n"
     ]
    }
   ],
   "source": [
    "print(dict2.items())"
   ]
  },
  {
   "cell_type": "code",
   "execution_count": 75,
   "id": "c2e60139",
   "metadata": {},
   "outputs": [
    {
     "name": "stdout",
     "output_type": "stream",
     "text": [
      "{'Jessa': 90, 'Emma': 55}\n"
     ]
    }
   ],
   "source": [
    "dict1 = {'Jessa': 70, 'Emma': 55}\n",
    "dict2 = dict1\n",
    "\n",
    "dict2.update({'Jessa': 90})\n",
    "print(dict2)\n"
   ]
  },
  {
   "cell_type": "code",
   "execution_count": 79,
   "id": "f71e917d",
   "metadata": {},
   "outputs": [
    {
     "name": "stdout",
     "output_type": "stream",
     "text": [
      "{1: {'name': 'Jod', 'age': 27, 'sex': 'Female'}, 2: {'name': 'Tun', 'age': 30, 'sex': 'Female'}}\n"
     ]
    }
   ],
   "source": [
    "people = {1: {\"name\" : \"Jod\",\"age\": 27,\"sex\":\"Female\"},\n",
    "         2:  {\"name\" : \"Tun\",\"age\": 30,\"sex\":\"Female\"}}\n",
    "\n",
    "print(people)"
   ]
  },
  {
   "cell_type": "code",
   "execution_count": 81,
   "id": "c4d601fb",
   "metadata": {},
   "outputs": [
    {
     "name": "stdout",
     "output_type": "stream",
     "text": [
      "Student 3 name: Kelly\n",
      "\n",
      " Class details\n",
      "student1\n",
      "student2\n",
      "student3\n",
      "name : Kelly\n",
      "state : Texas\n",
      "city : Austin\n",
      "marks : 85\n"
     ]
    }
   ],
   "source": [
    "jessa = {'name': 'Jessa', 'state': 'Texas', 'city': 'Houston', 'marks': 75}\n",
    "emma = {'name': 'Emma', 'state': 'Texas', 'city': 'Dallas', 'marks': 60}\n",
    "kelly = {'name': 'Kelly', 'state': 'Texas', 'city': 'Austin', 'marks': 85}\n",
    "\n",
    "class_six = {'student1': jessa, 'student2': emma, 'student3': kelly}\n",
    "print(\"Student 3 name:\", class_six['student3']['name'])\n",
    "\n",
    "print(\"\\n Class details\")\n",
    "for key, value in class_six.items():\n",
    "    print(key)\n",
    "\n",
    "for nested_key, nested_value in value.items():\n",
    "    print(nested_key, ':', nested_value)\n"
   ]
  },
  {
   "cell_type": "code",
   "execution_count": 82,
   "id": "de4568d2",
   "metadata": {},
   "outputs": [
    {
     "name": "stdout",
     "output_type": "stream",
     "text": [
      "[('a', 35), ('b', 95), ('c', 45)]\n",
      "['a', 'b', 'c']\n"
     ]
    }
   ],
   "source": [
    "dict1 = {'c': 45, 'b': 95, 'a': 35}\n",
    "print(sorted(dict1.items()))\n",
    "print(sorted(dict1))\n"
   ]
  },
  {
   "cell_type": "code",
   "execution_count": 83,
   "id": "4f1a6eb5",
   "metadata": {},
   "outputs": [
    {
     "name": "stdout",
     "output_type": "stream",
     "text": [
      "{2: 4, 8: 64}\n"
     ]
    }
   ],
   "source": [
    "numbers = [1, 3, 5, 2, 8]\n",
    "even_squares = {x: x ** 2 for x in numbers if x % 2 == 0}\n",
    "\n",
    "print(even_squares)"
   ]
  },
  {
   "cell_type": "code",
   "execution_count": 84,
   "id": "6e383bb8",
   "metadata": {},
   "outputs": [
    {
     "name": "stdout",
     "output_type": "stream",
     "text": [
      "{'Jessa': 1178, 'Emma': 4020, 'Kelly': 5786}\n"
     ]
    }
   ],
   "source": [
    "telephone_book = [1178, 4020, 5786]\n",
    "persons = ['Jessa', 'Emma', 'Kelly']\n",
    "\n",
    "telephone_Directory = {key: value for key, value in zip(persons, telephone_book)}\n",
    "print(telephone_Directory)"
   ]
  },
  {
   "cell_type": "code",
   "execution_count": 86,
   "id": "9918bb5b",
   "metadata": {},
   "outputs": [
    {
     "name": "stdout",
     "output_type": "stream",
     "text": [
      "{2: 4, 8: 64}\n"
     ]
    }
   ],
   "source": [
    "numbers = [1,3,5,2, 8]\n",
    "even_squares = { x: x ** 2 for x in numbers if x % 2 == 0 }\n",
    "\n",
    "print(even_squares)"
   ]
  },
  {
   "cell_type": "code",
   "execution_count": 87,
   "id": "3f9b9e57",
   "metadata": {},
   "outputs": [
    {
     "name": "stdout",
     "output_type": "stream",
     "text": [
      "All True Keys:: True\n",
      "One False Key False\n",
      "Empty Dictionary True\n",
      "With 0 in single quotes True\n"
     ]
    }
   ],
   "source": [
    "dict1 = {1:'True',1:'False'}\n",
    "\n",
    "#dictionary with one false key\n",
    "dict2 = {0:'True',1:'False'}\n",
    "\n",
    "#empty dictionary\n",
    "dict3= {}\n",
    "\n",
    "#'0' is true actually\n",
    "dict4 = {'0':False}\n",
    "\n",
    "print('All True Keys::',all(dict1))\n",
    "print('One False Key',all(dict2))\n",
    "print('Empty Dictionary',all(dict3))\n",
    "print('With 0 in single quotes',all(dict4))"
   ]
  },
  {
   "cell_type": "code",
   "execution_count": 88,
   "id": "602a5e28",
   "metadata": {},
   "outputs": [
    {
     "name": "stdout",
     "output_type": "stream",
     "text": [
      "['apple', 'banana', 'cherry']\n"
     ]
    }
   ],
   "source": [
    "thislist = [\"apple\", \"banana\", \"cherry\"]\n",
    "\n",
    "print(thislist)"
   ]
  },
  {
   "cell_type": "code",
   "execution_count": 89,
   "id": "43b1a866",
   "metadata": {},
   "outputs": [
    {
     "name": "stdout",
     "output_type": "stream",
     "text": [
      "cherry\n"
     ]
    }
   ],
   "source": [
    "print(thislist[-1])"
   ]
  },
  {
   "cell_type": "code",
   "execution_count": 90,
   "id": "b43ab29b",
   "metadata": {},
   "outputs": [],
   "source": [
    "thislist = [\"apple\", \"banana\", \"cherry\", \"orange\", \"kiwi\", \"melon\", \"mango\"]"
   ]
  },
  {
   "cell_type": "code",
   "execution_count": 91,
   "id": "e1064d1e",
   "metadata": {},
   "outputs": [
    {
     "name": "stdout",
     "output_type": "stream",
     "text": [
      "['cherry', 'orange', 'kiwi']\n"
     ]
    }
   ],
   "source": [
    "print(thislist[2:5])"
   ]
  },
  {
   "cell_type": "code",
   "execution_count": 92,
   "id": "e1cc3b91",
   "metadata": {},
   "outputs": [
    {
     "name": "stdout",
     "output_type": "stream",
     "text": [
      "['apple', 'banana', 'cherry', 'orange']\n"
     ]
    }
   ],
   "source": [
    "thislist = [\"apple\", \"banana\", \"cherry\", \"orange\", \"kiwi\", \"melon\", \"mango\"]\n",
    "print(thislist[:4])"
   ]
  },
  {
   "cell_type": "code",
   "execution_count": 93,
   "id": "3e3c9c70",
   "metadata": {},
   "outputs": [
    {
     "name": "stdout",
     "output_type": "stream",
     "text": [
      "['cherry', 'orange', 'kiwi', 'melon', 'mango']\n"
     ]
    }
   ],
   "source": [
    "thislist = [\"apple\", \"banana\", \"cherry\", \"orange\", \"kiwi\", \"melon\", \"mango\"]\n",
    "print(thislist[2:])"
   ]
  },
  {
   "cell_type": "code",
   "execution_count": 94,
   "id": "8de35cb1",
   "metadata": {},
   "outputs": [
    {
     "name": "stdout",
     "output_type": "stream",
     "text": [
      "['orange', 'kiwi', 'melon']\n"
     ]
    }
   ],
   "source": [
    "thislist = [\"apple\", \"banana\", \"cherry\", \"orange\", \"kiwi\", \"melon\", \"mango\"]\n",
    "print(thislist[-4:-1])"
   ]
  },
  {
   "cell_type": "code",
   "execution_count": 95,
   "id": "df388de4",
   "metadata": {},
   "outputs": [
    {
     "name": "stdout",
     "output_type": "stream",
     "text": [
      "['orange', 'kiwi']\n"
     ]
    }
   ],
   "source": [
    "thislist = [\"apple\",\"banana\",\"cherry\",\"orange\",\"kiwi\",\"melon\",\"mango\"]\n",
    "\n",
    "print(thislist[-4:-2])"
   ]
  },
  {
   "cell_type": "code",
   "execution_count": 97,
   "id": "d775c9ac",
   "metadata": {},
   "outputs": [
    {
     "name": "stdout",
     "output_type": "stream",
     "text": [
      "[1, 2, 3, 4, 5, 6, 7, 7, [8, 9]]\n"
     ]
    }
   ],
   "source": [
    "a = [1, 2, 3, 4, 5, 6, 7, 7]\n",
    "b = [8,9]\n",
    "a.append(b)\n",
    "print(a)"
   ]
  },
  {
   "cell_type": "code",
   "execution_count": 98,
   "id": "f9c945bb",
   "metadata": {},
   "outputs": [
    {
     "name": "stdout",
     "output_type": "stream",
     "text": [
      "Yes Apple is in the list\n"
     ]
    }
   ],
   "source": [
    "thislist = [\"apple\", \"banana\", \"cherry\"]\n",
    "if \"apple\" in thislist:\n",
    "    print(\"Yes Apple is in the list\")"
   ]
  },
  {
   "cell_type": "code",
   "execution_count": 99,
   "id": "5c83fe22",
   "metadata": {},
   "outputs": [
    {
     "name": "stdout",
     "output_type": "stream",
     "text": [
      "Yes Apple is in the list\n"
     ]
    }
   ],
   "source": [
    "thislist = [\"apple\",\"banana\",\"cherry\"]\n",
    "if \"apple\" in thislist :\n",
    "    print(\"Yes Apple is in the list\")"
   ]
  },
  {
   "cell_type": "code",
   "execution_count": 100,
   "id": "bc07b6a8",
   "metadata": {},
   "outputs": [
    {
     "ename": "NameError",
     "evalue": "name 'lst' is not defined",
     "output_type": "error",
     "traceback": [
      "\u001b[1;31m---------------------------------------------------------------------------\u001b[0m",
      "\u001b[1;31mNameError\u001b[0m                                 Traceback (most recent call last)",
      "\u001b[1;32m~\\AppData\\Local\\Temp/ipykernel_8908/1077128864.py\u001b[0m in \u001b[0;36m<module>\u001b[1;34m\u001b[0m\n\u001b[1;32m----> 1\u001b[1;33m \u001b[0mlst\u001b[0m\u001b[1;33m[\u001b[0m\u001b[1;36m1\u001b[0m\u001b[1;33m:\u001b[0m\u001b[1;33m]\u001b[0m \u001b[1;31m# [2, 3, 4]\u001b[0m\u001b[1;33m\u001b[0m\u001b[1;33m\u001b[0m\u001b[0m\n\u001b[0m\u001b[0;32m      2\u001b[0m \u001b[0mlst\u001b[0m\u001b[1;33m[\u001b[0m\u001b[1;33m:\u001b[0m\u001b[1;36m3\u001b[0m\u001b[1;33m]\u001b[0m \u001b[1;31m# [1, 2, 3]\u001b[0m\u001b[1;33m\u001b[0m\u001b[1;33m\u001b[0m\u001b[0m\n\u001b[0;32m      3\u001b[0m \u001b[0mlst\u001b[0m\u001b[1;33m[\u001b[0m\u001b[1;33m:\u001b[0m\u001b[1;33m:\u001b[0m\u001b[1;36m2\u001b[0m\u001b[1;33m]\u001b[0m \u001b[1;31m# [1, 3]\u001b[0m\u001b[1;33m\u001b[0m\u001b[1;33m\u001b[0m\u001b[0m\n\u001b[0;32m      4\u001b[0m \u001b[0mlst\u001b[0m\u001b[1;33m[\u001b[0m\u001b[1;33m:\u001b[0m\u001b[1;33m:\u001b[0m\u001b[1;33m-\u001b[0m\u001b[1;36m1\u001b[0m\u001b[1;33m]\u001b[0m \u001b[1;31m# [4, 3, 2, 1]\u001b[0m\u001b[1;33m\u001b[0m\u001b[1;33m\u001b[0m\u001b[0m\n\u001b[0;32m      5\u001b[0m \u001b[0mlst\u001b[0m\u001b[1;33m[\u001b[0m\u001b[1;33m-\u001b[0m\u001b[1;36m1\u001b[0m\u001b[1;33m:\u001b[0m\u001b[1;36m0\u001b[0m\u001b[1;33m:\u001b[0m\u001b[1;33m-\u001b[0m\u001b[1;36m1\u001b[0m\u001b[1;33m]\u001b[0m \u001b[1;31m# [4, 3, 2]\u001b[0m\u001b[1;33m\u001b[0m\u001b[1;33m\u001b[0m\u001b[0m\n",
      "\u001b[1;31mNameError\u001b[0m: name 'lst' is not defined"
     ]
    }
   ],
   "source": [
    "lst[1:] # [2, 3, 4]\n",
    "lst[:3] # [1, 2, 3]\n",
    "lst[::2] # [1, 3]\n",
    "lst[::-1] # [4, 3, 2, 1]\n",
    "lst[-1:0:-1] # [4, 3, 2]\n",
    "lst[5:8] # [] since starting index is greater than length of lst, returns empty list\n",
    "lst[1:10]\n",
    "\n"
   ]
  },
  {
   "cell_type": "code",
   "execution_count": 104,
   "id": "bc258a63",
   "metadata": {},
   "outputs": [
    {
     "name": "stdout",
     "output_type": "stream",
     "text": [
      "[2, 3, 4, 5, 6, 7, 7]\n"
     ]
    }
   ],
   "source": [
    "a = [1, 2, 3, 4, 5, 6, 7, 7]\n",
    "print(a[1:])"
   ]
  },
  {
   "cell_type": "code",
   "execution_count": 105,
   "id": "bbe1c475",
   "metadata": {},
   "outputs": [
    {
     "name": "stdout",
     "output_type": "stream",
     "text": [
      "[1, 2, 3]\n"
     ]
    }
   ],
   "source": [
    "a = [1, 2, 3, 4, 5, 6, 7, 7]\n",
    "print(a[:3])"
   ]
  },
  {
   "cell_type": "code",
   "execution_count": 106,
   "id": "29ac4773",
   "metadata": {},
   "outputs": [
    {
     "name": "stdout",
     "output_type": "stream",
     "text": [
      "[1, 3, 5, 7]\n"
     ]
    }
   ],
   "source": [
    "q = [1, 2, 3, 4, 5, 6, 7, 7]\n",
    "print(a[::2])"
   ]
  },
  {
   "cell_type": "code",
   "execution_count": 107,
   "id": "f798983b",
   "metadata": {},
   "outputs": [
    {
     "name": "stdout",
     "output_type": "stream",
     "text": [
      "[7, 7, 6, 5, 4, 3, 2, 1]\n"
     ]
    }
   ],
   "source": [
    "q = [1, 2, 3, 4, 5, 6, 7, 7]\n",
    "print(a[::-1])"
   ]
  },
  {
   "cell_type": "code",
   "execution_count": 110,
   "id": "57e46b66",
   "metadata": {},
   "outputs": [
    {
     "name": "stdout",
     "output_type": "stream",
     "text": [
      "[7, 7, 6, 5, 4, 3, 2]\n"
     ]
    }
   ],
   "source": [
    "q = [1, 2, 3, 4, 5, 6, 7, 7]\n",
    "print(q[-1:0:-1])"
   ]
  },
  {
   "cell_type": "code",
   "execution_count": 111,
   "id": "b9ce0711",
   "metadata": {},
   "outputs": [
    {
     "name": "stdout",
     "output_type": "stream",
     "text": [
      "[6, 7, 7]\n"
     ]
    }
   ],
   "source": [
    "q = [1,2,3,4,5,6,7,7]\n",
    "print(q[5:8])"
   ]
  },
  {
   "cell_type": "code",
   "execution_count": 115,
   "id": "a897763a",
   "metadata": {},
   "outputs": [
    {
     "ename": "TypeError",
     "evalue": "'list_reverseiterator' object is not subscriptable",
     "output_type": "error",
     "traceback": [
      "\u001b[1;31m---------------------------------------------------------------------------\u001b[0m",
      "\u001b[1;31mTypeError\u001b[0m                                 Traceback (most recent call last)",
      "\u001b[1;32m~\\AppData\\Local\\Temp/ipykernel_8908/2721273490.py\u001b[0m in \u001b[0;36m<module>\u001b[1;34m\u001b[0m\n\u001b[0;32m      1\u001b[0m \u001b[0mq\u001b[0m \u001b[1;33m=\u001b[0m \u001b[1;33m[\u001b[0m\u001b[1;36m1\u001b[0m\u001b[1;33m,\u001b[0m\u001b[1;36m2\u001b[0m\u001b[1;33m,\u001b[0m\u001b[1;36m3\u001b[0m\u001b[1;33m,\u001b[0m\u001b[1;36m4\u001b[0m\u001b[1;33m,\u001b[0m\u001b[1;36m5\u001b[0m\u001b[1;33m,\u001b[0m\u001b[1;36m6\u001b[0m\u001b[1;33m,\u001b[0m\u001b[1;36m7\u001b[0m\u001b[1;33m,\u001b[0m\u001b[1;36m7\u001b[0m\u001b[1;33m]\u001b[0m\u001b[1;33m\u001b[0m\u001b[1;33m\u001b[0m\u001b[0m\n\u001b[1;32m----> 2\u001b[1;33m \u001b[0mreversed\u001b[0m\u001b[1;33m(\u001b[0m\u001b[0mq\u001b[0m\u001b[1;33m)\u001b[0m\u001b[1;33m[\u001b[0m\u001b[1;36m0\u001b[0m\u001b[1;33m:\u001b[0m\u001b[1;36m2\u001b[0m\u001b[1;33m]\u001b[0m\u001b[1;33m\u001b[0m\u001b[1;33m\u001b[0m\u001b[0m\n\u001b[0m\u001b[0;32m      3\u001b[0m \u001b[0mprint\u001b[0m\u001b[1;33m(\u001b[0m\u001b[0mq\u001b[0m\u001b[1;33m)\u001b[0m\u001b[1;33m\u001b[0m\u001b[1;33m\u001b[0m\u001b[0m\n",
      "\u001b[1;31mTypeError\u001b[0m: 'list_reverseiterator' object is not subscriptable"
     ]
    }
   ],
   "source": [
    "q = [1,2,3,4,5,6,7,7]\n",
    "reversed(q)[0:2]"
   ]
  },
  {
   "cell_type": "code",
   "execution_count": 116,
   "id": "86224184",
   "metadata": {},
   "outputs": [
    {
     "name": "stdout",
     "output_type": "stream",
     "text": [
      "['apple', 'blackcurrent', 'cherry']\n"
     ]
    }
   ],
   "source": [
    "thislist = [\"apple\",\"banana\",\"cherry\"]\n",
    "thislist[1] = \"blackcurrent\"\n",
    "print(thislist)"
   ]
  },
  {
   "cell_type": "code",
   "execution_count": 117,
   "id": "dcf34dfa",
   "metadata": {},
   "outputs": [
    {
     "name": "stdout",
     "output_type": "stream",
     "text": [
      "It is not in the list\n"
     ]
    }
   ],
   "source": [
    "thislist = [\"apple\",\"banana\",\"cherry\"]\n",
    "if \"kiwi\" in thislist : \n",
    "    print(\" Yes it is in the list\")\n",
    "else: \n",
    "    print(\"It is not in the list\")"
   ]
  },
  {
   "cell_type": "code",
   "execution_count": 118,
   "id": "f606e55d",
   "metadata": {},
   "outputs": [
    {
     "name": "stdout",
     "output_type": "stream",
     "text": [
      "['cherry', 'orange', 'kiwi', 'melon', 'mango']\n"
     ]
    }
   ],
   "source": [
    "thislist = [\"apple\", \"banana\", \"cherry\", \"orange\", \"kiwi\", \"melon\", \"mango\"]\n",
    "print(thislist[2:])"
   ]
  },
  {
   "cell_type": "code",
   "execution_count": 124,
   "id": "b90af34b",
   "metadata": {},
   "outputs": [
    {
     "name": "stdout",
     "output_type": "stream",
     "text": [
      "it exists in the list\n"
     ]
    }
   ],
   "source": [
    "thislist = [\"apple\",\"banana\",\"cherry\",\"orange\",\"kiwi\",\"melon\",\"mango\"]\n",
    "if \"mango\" in thislist:\n",
    "    print(\"it exists in the list\")\n",
    "else: \n",
    "    print(\"This does not exist\")"
   ]
  },
  {
   "cell_type": "code",
   "execution_count": 125,
   "id": "1d1dca39",
   "metadata": {},
   "outputs": [
    {
     "name": "stdout",
     "output_type": "stream",
     "text": [
      "['apple', 'blackcurrent', 'Pineapple', 'Raspaberry', 'orange', 'kiwi', 'mango']\n"
     ]
    }
   ],
   "source": [
    "thislist = [\"apple\", \"banana\", \"cherry\", \"orange\", \"kiwi\", \"mango\"]\n",
    "thislist[1:3] = [\"blackcurrent\",\"Pineapple\",\"Raspaberry\"]\n",
    "print(thislist)"
   ]
  },
  {
   "cell_type": "code",
   "execution_count": 126,
   "id": "082bcd1f",
   "metadata": {},
   "outputs": [
    {
     "name": "stdout",
     "output_type": "stream",
     "text": [
      "['apple', 'blackcurrant', 'watermelon', 'cherry']\n"
     ]
    }
   ],
   "source": [
    "thislist = [\"apple\", \"banana\", \"cherry\"]\n",
    "thislist[1:2] = [\"blackcurrant\", \"watermelon\"]\n",
    "print(thislist)"
   ]
  },
  {
   "cell_type": "code",
   "execution_count": 127,
   "id": "fd275e70",
   "metadata": {},
   "outputs": [
    {
     "name": "stdout",
     "output_type": "stream",
     "text": [
      "['apple', 'watermelon']\n"
     ]
    }
   ],
   "source": [
    "thislist = [\"apple\", \"banana\", \"cherry\"]\n",
    "thislist[1:3] = [\"watermelon\"]\n",
    "print(thislist)"
   ]
  },
  {
   "cell_type": "code",
   "execution_count": 129,
   "id": "b2d38e98",
   "metadata": {},
   "outputs": [
    {
     "name": "stdout",
     "output_type": "stream",
     "text": [
      "['apple', 'banana', 'watermelon', 'cherry']\n"
     ]
    }
   ],
   "source": [
    "thislist = [\"apple\",\"banana\",\"cherry\"]\n",
    "thislist.insert(2, \"watermelon\")\n",
    "print(thislist)"
   ]
  },
  {
   "cell_type": "code",
   "execution_count": 130,
   "id": "355fc4ff",
   "metadata": {},
   "outputs": [
    {
     "name": "stdout",
     "output_type": "stream",
     "text": [
      "['apple', 'banana', 'cherry', 'pineapple', 'watermelon']\n"
     ]
    }
   ],
   "source": [
    "thislist = [\"apple\",\"banana\",\"cherry\",\"watermelon\"]\n",
    "thislist.insert(3,\"pineapple\")\n",
    "print(thislist)"
   ]
  },
  {
   "cell_type": "code",
   "execution_count": 131,
   "id": "48ce58fe",
   "metadata": {},
   "outputs": [
    {
     "name": "stdout",
     "output_type": "stream",
     "text": [
      "apple\n",
      "banana\n",
      "cherry\n"
     ]
    }
   ],
   "source": [
    "thislist = [\"apple\", \"banana\", \"cherry\"]\n",
    "for x in thislist:\n",
    "  print(x)"
   ]
  },
  {
   "cell_type": "code",
   "execution_count": 132,
   "id": "bc69c61a",
   "metadata": {},
   "outputs": [
    {
     "name": "stdout",
     "output_type": "stream",
     "text": [
      "apple\n",
      "banana\n",
      "cherry\n"
     ]
    }
   ],
   "source": [
    "thislist = [\"apple\", \"banana\", \"cherry\"]\n",
    "for i in range(len(thislist)):\n",
    "  print(thislist[i])"
   ]
  },
  {
   "cell_type": "code",
   "execution_count": 136,
   "id": "8f8b6f39",
   "metadata": {},
   "outputs": [
    {
     "name": "stdout",
     "output_type": "stream",
     "text": [
      "apple\n",
      "banana\n",
      "cherry\n"
     ]
    }
   ],
   "source": [
    "thislist = [\"apple\", \"banana\", \"cherry\"]\n",
    "i = 0\n",
    "while i < len(thislist):\n",
    "    print(thislist[i])\n",
    "    i = i + 1"
   ]
  },
  {
   "cell_type": "code",
   "execution_count": 137,
   "id": "5df66343",
   "metadata": {},
   "outputs": [
    {
     "name": "stdout",
     "output_type": "stream",
     "text": [
      "apple\n",
      "banana\n",
      "cherry\n"
     ]
    }
   ],
   "source": [
    "thislist = [\"apple\",\"banana\",\"cherry\"]\n",
    "i = 0 \n",
    "while i < len(thislist):\n",
    "    print(thislist[i])\n",
    "    i = i + 1"
   ]
  },
  {
   "cell_type": "code",
   "execution_count": null,
   "id": "f49dd1ed",
   "metadata": {},
   "outputs": [],
   "source": [
    "i = 1\n",
    "while i < 6:\n",
    "    print(i)\n",
    "i = i + 1"
   ]
  },
  {
   "cell_type": "code",
   "execution_count": null,
   "id": "fb385c5f",
   "metadata": {},
   "outputs": [],
   "source": [
    "i = 1\n",
    "while i < 6:\n",
    "  print(i)\n",
    "  i = i + 1\n",
    "else:\n",
    "  print(\"i is no longer less than 6\")"
   ]
  },
  {
   "cell_type": "code",
   "execution_count": null,
   "id": "12dd824d",
   "metadata": {},
   "outputs": [],
   "source": []
  },
  {
   "cell_type": "code",
   "execution_count": null,
   "id": "bec92f4a",
   "metadata": {},
   "outputs": [],
   "source": []
  },
  {
   "cell_type": "code",
   "execution_count": null,
   "id": "c7ca7636",
   "metadata": {},
   "outputs": [],
   "source": []
  },
  {
   "cell_type": "code",
   "execution_count": null,
   "id": "14a7e837",
   "metadata": {},
   "outputs": [],
   "source": [
    "def even_odd(num):\n",
    "    if a % 2 == 0:\n",
    "        print(\"even no\")\n",
    "    else:\n",
    "        print(\"odd no\")\n",
    "even_odd(9)"
   ]
  },
  {
   "cell_type": "code",
   "execution_count": null,
   "id": "448f888f",
   "metadata": {},
   "outputs": [],
   "source": []
  }
 ],
 "metadata": {
  "kernelspec": {
   "display_name": "Python 3 (ipykernel)",
   "language": "python",
   "name": "python3"
  },
  "language_info": {
   "codemirror_mode": {
    "name": "ipython",
    "version": 3
   },
   "file_extension": ".py",
   "mimetype": "text/x-python",
   "name": "python",
   "nbconvert_exporter": "python",
   "pygments_lexer": "ipython3",
   "version": "3.9.7"
  }
 },
 "nbformat": 4,
 "nbformat_minor": 5
}

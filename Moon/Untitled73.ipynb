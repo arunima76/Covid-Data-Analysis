{
 "cells": [
  {
   "cell_type": "code",
   "execution_count": 7,
   "id": "1814e4fe",
   "metadata": {},
   "outputs": [],
   "source": [
    "class Person:\n",
    "    def __init__(self,name,age,profession):\n",
    "        self.name = name\n",
    "        self.age = age\n",
    "        self.profession = profession\n",
    "        \n",
    "    def show(self):\n",
    "        (\"Name:\",self.name,\"Age\",self.age)\n",
    "        \n",
    "    def work(self):\n",
    "        (self.name, \"working as a\", self.profession)\n",
    "    \n",
    "Arunima= Person('Arunima','31','Python Developer')\n",
    "\n",
    "Arunima.show()\n",
    "Arunima.work()\n",
    "        \n",
    "        \n",
    "        "
   ]
  },
  {
   "cell_type": "code",
   "execution_count": null,
   "id": "6fd1da5b",
   "metadata": {},
   "outputs": [],
   "source": []
  },
  {
   "cell_type": "code",
   "execution_count": null,
   "id": "6732a878",
   "metadata": {},
   "outputs": [],
   "source": []
  },
  {
   "cell_type": "code",
   "execution_count": 8,
   "id": "fee10ed3",
   "metadata": {},
   "outputs": [],
   "source": [
    "class Person:\n",
    "    def __init__(self,name,age,profession):\n",
    "        self.name = name\n",
    "        self.age = age\n",
    "        self.profession = profession\n",
    "        \n",
    "    def show(self):\n",
    "        (\"Name:\",self.name,\"Age\",self.age)\n",
    "        \n",
    "    def work(self):\n",
    "        (self.name, \"working as a\", self.profession)\n",
    "    \n",
    "Arunima= Person('Arunima','31','Python Developer')\n",
    "\n",
    "Arunima.show()\n",
    "Arunima.work()\n",
    "        "
   ]
  },
  {
   "cell_type": "code",
   "execution_count": 18,
   "id": "38223994",
   "metadata": {},
   "outputs": [
    {
     "name": "stdout",
     "output_type": "stream",
     "text": [
      "Name: Arunima Age 31\n",
      "Arunima working as a Python Developer\n"
     ]
    }
   ],
   "source": [
    "class Person:\n",
    "    def __init__(self,name,age,profession):\n",
    "        self.name = name\n",
    "        self.age = age\n",
    "        self.profession = profession\n",
    "        \n",
    "    def show(self):\n",
    "        print(\"Name:\",self.name,\"Age\",self.age)\n",
    "        \n",
    "    def work(self):\n",
    "        print(self.name, \"working as a\", self.profession)\n",
    "    \n",
    "Arunima= Person('Arunima','31','Python Developer')\n",
    "\n",
    "Arunima.show()\n",
    "Arunima.work()"
   ]
  },
  {
   "cell_type": "code",
   "execution_count": 38,
   "id": "7be56a9e",
   "metadata": {
    "scrolled": true
   },
   "outputs": [
    {
     "name": "stdout",
     "output_type": "stream",
     "text": [
      "student: Anuradha 13\n",
      "school name BD school\n",
      "student Rimka 12\n",
      "school name xyz school\n"
     ]
    }
   ],
   "source": [
    "class student:\n",
    "    school_name = 'BD school'\n",
    "    \n",
    "    def __init__(self,name,age):\n",
    "        self.name = name\n",
    "        self.age = age\n",
    "        \n",
    "s1 = student(\"Anuradha\",13)\n",
    "print(\"student:\",s1.name, s1.age)\n",
    "\n",
    "print(\"school name\",student.school_name)\n",
    "\n",
    "s1.name = 'Rimka'\n",
    "s1.age = 12\n",
    "\n",
    "print(\"student\", s1.name, s1.age)\n",
    "\n",
    "student.school_name = 'xyz school'\n",
    "print(\"school name\", student.school_name)\n"
   ]
  },
  {
   "cell_type": "code",
   "execution_count": 28,
   "id": "d96756e0",
   "metadata": {},
   "outputs": [
    {
     "name": "stdout",
     "output_type": "stream",
     "text": [
      "Student: Harry 12 ABC School\n",
      "Student: Harry 14 XYZ School\n"
     ]
    }
   ],
   "source": [
    "class Student:\n",
    "    # class variable\n",
    "    school_name = 'ABC School'\n",
    "\n",
    "    # constructor\n",
    "    def __init__(self, name, age):\n",
    "        # instance variables\n",
    "        self.name = name\n",
    "        self.age = age\n",
    "\n",
    "    # instance method\n",
    "    def show(self):\n",
    "        # access instance variables and class variables\n",
    "        print('Student:', self.name, self.age, Student.school_name)\n",
    "\n",
    "    # instance method\n",
    "    def change_age(self, new_age):\n",
    "        # modify instance variable\n",
    "        self.age = new_age\n",
    "\n",
    "    # class method\n",
    "    @classmethod\n",
    "    def modify_school_name(cls, new_name):\n",
    "        # modify class variable\n",
    "        cls.school_name = new_name\n",
    "\n",
    "s1 = Student(\"Harry\", 12)\n",
    "\n",
    "# call instance methods\n",
    "s1.show()\n",
    "s1.change_age(14)\n",
    "\n",
    "# call class method\n",
    "Student.modify_school_name('XYZ School')\n",
    "# call instance methods\n",
    "s1.show()\n"
   ]
  },
  {
   "cell_type": "code",
   "execution_count": 36,
   "id": "ee514f1d",
   "metadata": {},
   "outputs": [
    {
     "name": "stdout",
     "output_type": "stream",
     "text": [
      "Max speed is 500km\n",
      "Mileage is 250\n"
     ]
    }
   ],
   "source": [
    "class Vehicle:\n",
    "    def __init__(self,max_speed, mileage):\n",
    "        self.max_speed = max_speed\n",
    "        self.mileage = mileage\n",
    "    \n",
    "    \n",
    "    def show(self):\n",
    "        print(\"Max speed is\",self.max_speed)\n",
    "        print(\"Mileage is\", self.mileage)\n",
    "        \n",
    "Audi= Vehicle(\"500km\",250)\n",
    "Audi.show()\n",
    "   "
   ]
  },
  {
   "cell_type": "code",
   "execution_count": 37,
   "id": "0e0bcea9",
   "metadata": {},
   "outputs": [],
   "source": [
    "class Vehicle:\n",
    "    pass"
   ]
  },
  {
   "cell_type": "code",
   "execution_count": 53,
   "id": "c9525ecd",
   "metadata": {},
   "outputs": [
    {
     "name": "stdout",
     "output_type": "stream",
     "text": [
      "student and marks : Anuradha 13\n",
      "Modified student name and marks is: Arunima 13\n"
     ]
    }
   ],
   "source": [
    "class Student_Info:\n",
    "    def __init__(self, name, marks):\n",
    "        self.name = name\n",
    "        self.marks = marks\n",
    "\n",
    "Student = Student_Info(\"Anuradha\",13)\n",
    "print(\"student and marks :\",Student.name, Student.marks)\n",
    "\n",
    "s1.name = 'Arunima'\n",
    "s1.marks = 13\n",
    "\n",
    "print(\"Modified student name and marks is:\",s1.name, s1.marks)\n",
    "\n"
   ]
  },
  {
   "cell_type": "code",
   "execution_count": null,
   "id": "c5dc87d8",
   "metadata": {},
   "outputs": [],
   "source": [
    "class Student:\n",
    "    student_id = 'V10'\n",
    "    student_name = 'Jacqueline Barnett'\n",
    "    def display():\n",
    "        print(f'Student id: {Student.student_id}\\nStudent Name: {Student.student_name}')\n",
    "print(\"Original attributes and their values of the Student class:\")\n",
    "Student.display()"
   ]
  },
  {
   "cell_type": "code",
   "execution_count": 70,
   "id": "73ff616c",
   "metadata": {},
   "outputs": [
    {
     "name": "stdout",
     "output_type": "stream",
     "text": [
      "student: 13 Anuradha\n",
      "student_class -> V\n",
      "\n",
      "After adding the student_class, attributes and their values with the said class:\n",
      "student_class -> V\n",
      "\n",
      "After removing the student_name, attributes and their values from the said class:\n"
     ]
    },
    {
     "ename": "AttributeError",
     "evalue": "student_name",
     "output_type": "error",
     "traceback": [
      "\u001b[1;31m---------------------------------------------------------------------------\u001b[0m",
      "\u001b[1;31mAttributeError\u001b[0m                            Traceback (most recent call last)",
      "\u001b[1;32m~\\AppData\\Local\\Temp/ipykernel_12596/1304655943.py\u001b[0m in \u001b[0;36m<module>\u001b[1;34m\u001b[0m\n\u001b[0;32m     16\u001b[0m \u001b[1;33m\u001b[0m\u001b[0m\n\u001b[0;32m     17\u001b[0m         \u001b[0mprint\u001b[0m\u001b[1;33m(\u001b[0m\u001b[1;34m\"\\nAfter removing the student_name, attributes and their values from the said class:\"\u001b[0m\u001b[1;33m)\u001b[0m\u001b[1;33m\u001b[0m\u001b[1;33m\u001b[0m\u001b[0m\n\u001b[1;32m---> 18\u001b[1;33m \u001b[1;32mdel\u001b[0m \u001b[0mStudent\u001b[0m\u001b[1;33m.\u001b[0m\u001b[0mstudent_name\u001b[0m\u001b[1;33m\u001b[0m\u001b[1;33m\u001b[0m\u001b[0m\n\u001b[0m\u001b[0;32m     19\u001b[0m \u001b[1;31m#delattr(Student, 'student_name')\u001b[0m\u001b[1;33m\u001b[0m\u001b[1;33m\u001b[0m\u001b[0m\n\u001b[0;32m     20\u001b[0m \u001b[1;32mfor\u001b[0m \u001b[0mattr\u001b[0m\u001b[1;33m,\u001b[0m \u001b[0mvalue\u001b[0m \u001b[1;32min\u001b[0m \u001b[0mStudent\u001b[0m\u001b[1;33m.\u001b[0m\u001b[0m__dict__\u001b[0m\u001b[1;33m.\u001b[0m\u001b[0mitems\u001b[0m\u001b[1;33m(\u001b[0m\u001b[1;33m)\u001b[0m\u001b[1;33m:\u001b[0m\u001b[1;33m\u001b[0m\u001b[1;33m\u001b[0m\u001b[0m\n",
      "\u001b[1;31mAttributeError\u001b[0m: student_name"
     ]
    }
   ],
   "source": [
    "class student:\n",
    "    def __init__(self,studentid, name):\n",
    "        self.studentid = studentid\n",
    "        self.name = name\n",
    "       \n",
    "s1 = student(13,\"Anuradha\")\n",
    "print(\"student:\",s1.studentid, s1.name)\n",
    "for attr, value in Student.__dict__.items():\n",
    "    if not attr.startswith('_'):\n",
    "        print(f'{attr} -> {value}')\n",
    "print(\"\\nAfter adding the student_class, attributes and their values with the said class:\")\n",
    "Student.student_class  = 'V'\n",
    "for attr, value in Student.__dict__.items():\n",
    "    if not attr.startswith('_'):\n",
    "        print(f'{attr} -> {value}')\n",
    "        \n",
    "\n",
    "\n",
    "\n",
    "    \n",
    "    \n",
    "   \n",
    "    \n",
    "        \n",
    "        "
   ]
  },
  {
   "cell_type": "code",
   "execution_count": null,
   "id": "4a96200f",
   "metadata": {},
   "outputs": [],
   "source": [
    "import pandas as pd"
   ]
  },
  {
   "cell_type": "code",
   "execution_count": 71,
   "id": "a886bbd2",
   "metadata": {},
   "outputs": [],
   "source": [
    "data = [['Alex',10],['Bob',12],['Clarke',13]]"
   ]
  },
  {
   "cell_type": "code",
   "execution_count": 74,
   "id": "4c5648c6",
   "metadata": {},
   "outputs": [
    {
     "ename": "NameError",
     "evalue": "name 'pd' is not defined",
     "output_type": "error",
     "traceback": [
      "\u001b[1;31m---------------------------------------------------------------------------\u001b[0m",
      "\u001b[1;31mNameError\u001b[0m                                 Traceback (most recent call last)",
      "\u001b[1;32m~\\AppData\\Local\\Temp/ipykernel_12596/2369306987.py\u001b[0m in \u001b[0;36m<module>\u001b[1;34m\u001b[0m\n\u001b[1;32m----> 1\u001b[1;33m \u001b[0mdf\u001b[0m \u001b[1;33m=\u001b[0m \u001b[0mpd\u001b[0m\u001b[1;33m.\u001b[0m\u001b[0mDataFrame\u001b[0m\u001b[1;33m(\u001b[0m\u001b[0mdata\u001b[0m\u001b[1;33m,\u001b[0m\u001b[0mcolumns\u001b[0m\u001b[1;33m=\u001b[0m\u001b[1;33m[\u001b[0m\u001b[1;34m'Name'\u001b[0m\u001b[1;33m,\u001b[0m\u001b[1;34m'Age'\u001b[0m\u001b[1;33m]\u001b[0m\u001b[1;33m,\u001b[0m\u001b[0mdtype\u001b[0m\u001b[1;33m=\u001b[0m\u001b[0mfloat\u001b[0m\u001b[1;33m)\u001b[0m\u001b[1;33m\u001b[0m\u001b[1;33m\u001b[0m\u001b[0m\n\u001b[0m",
      "\u001b[1;31mNameError\u001b[0m: name 'pd' is not defined"
     ]
    }
   ],
   "source": [
    "df = pd.DataFrame(data,columns=['Name','Age'],dtype=float)"
   ]
  },
  {
   "cell_type": "code",
   "execution_count": 75,
   "id": "99e1bff5",
   "metadata": {},
   "outputs": [],
   "source": [
    "import pandas as pd"
   ]
  },
  {
   "cell_type": "code",
   "execution_count": 76,
   "id": "77ae5320",
   "metadata": {},
   "outputs": [],
   "source": [
    "data = [['Alex',10],['Bob',12],['Clarke',13]]"
   ]
  },
  {
   "cell_type": "code",
   "execution_count": 77,
   "id": "caef847c",
   "metadata": {},
   "outputs": [
    {
     "name": "stderr",
     "output_type": "stream",
     "text": [
      "C:\\Users\\Arunima\\anaconda3\\lib\\site-packages\\IPython\\core\\interactiveshell.py:3444: FutureWarning: Could not cast to float64, falling back to object. This behavior is deprecated. In a future version, when a dtype is passed to 'DataFrame', either all columns will be cast to that dtype, or a TypeError will be raised\n",
      "  exec(code_obj, self.user_global_ns, self.user_ns)\n"
     ]
    }
   ],
   "source": [
    "df = pd.DataFrame(data,columns=['Name','Age'],dtype=float)"
   ]
  },
  {
   "cell_type": "code",
   "execution_count": 78,
   "id": "c2334fbb",
   "metadata": {},
   "outputs": [
    {
     "data": {
      "text/html": [
       "<div>\n",
       "<style scoped>\n",
       "    .dataframe tbody tr th:only-of-type {\n",
       "        vertical-align: middle;\n",
       "    }\n",
       "\n",
       "    .dataframe tbody tr th {\n",
       "        vertical-align: top;\n",
       "    }\n",
       "\n",
       "    .dataframe thead th {\n",
       "        text-align: right;\n",
       "    }\n",
       "</style>\n",
       "<table border=\"1\" class=\"dataframe\">\n",
       "  <thead>\n",
       "    <tr style=\"text-align: right;\">\n",
       "      <th></th>\n",
       "      <th>Name</th>\n",
       "      <th>Age</th>\n",
       "    </tr>\n",
       "  </thead>\n",
       "  <tbody>\n",
       "    <tr>\n",
       "      <th>0</th>\n",
       "      <td>Alex</td>\n",
       "      <td>10.0</td>\n",
       "    </tr>\n",
       "    <tr>\n",
       "      <th>1</th>\n",
       "      <td>Bob</td>\n",
       "      <td>12.0</td>\n",
       "    </tr>\n",
       "    <tr>\n",
       "      <th>2</th>\n",
       "      <td>Clarke</td>\n",
       "      <td>13.0</td>\n",
       "    </tr>\n",
       "  </tbody>\n",
       "</table>\n",
       "</div>"
      ],
      "text/plain": [
       "     Name   Age\n",
       "0    Alex  10.0\n",
       "1     Bob  12.0\n",
       "2  Clarke  13.0"
      ]
     },
     "execution_count": 78,
     "metadata": {},
     "output_type": "execute_result"
    }
   ],
   "source": [
    "df"
   ]
  },
  {
   "cell_type": "code",
   "execution_count": 79,
   "id": "4fccc4c3",
   "metadata": {},
   "outputs": [],
   "source": [
    "data = {'Name':['Tom', 'Jack', 'Steve', 'Ricky'],'Age':[28,34,29,42]}"
   ]
  },
  {
   "cell_type": "code",
   "execution_count": 80,
   "id": "39ed27c2",
   "metadata": {},
   "outputs": [],
   "source": [
    "df = pd.DataFrame(data)"
   ]
  },
  {
   "cell_type": "code",
   "execution_count": 81,
   "id": "d7a60e4b",
   "metadata": {},
   "outputs": [
    {
     "data": {
      "text/html": [
       "<div>\n",
       "<style scoped>\n",
       "    .dataframe tbody tr th:only-of-type {\n",
       "        vertical-align: middle;\n",
       "    }\n",
       "\n",
       "    .dataframe tbody tr th {\n",
       "        vertical-align: top;\n",
       "    }\n",
       "\n",
       "    .dataframe thead th {\n",
       "        text-align: right;\n",
       "    }\n",
       "</style>\n",
       "<table border=\"1\" class=\"dataframe\">\n",
       "  <thead>\n",
       "    <tr style=\"text-align: right;\">\n",
       "      <th></th>\n",
       "      <th>Name</th>\n",
       "      <th>Age</th>\n",
       "    </tr>\n",
       "  </thead>\n",
       "  <tbody>\n",
       "    <tr>\n",
       "      <th>0</th>\n",
       "      <td>Tom</td>\n",
       "      <td>28</td>\n",
       "    </tr>\n",
       "    <tr>\n",
       "      <th>1</th>\n",
       "      <td>Jack</td>\n",
       "      <td>34</td>\n",
       "    </tr>\n",
       "    <tr>\n",
       "      <th>2</th>\n",
       "      <td>Steve</td>\n",
       "      <td>29</td>\n",
       "    </tr>\n",
       "    <tr>\n",
       "      <th>3</th>\n",
       "      <td>Ricky</td>\n",
       "      <td>42</td>\n",
       "    </tr>\n",
       "  </tbody>\n",
       "</table>\n",
       "</div>"
      ],
      "text/plain": [
       "    Name  Age\n",
       "0    Tom   28\n",
       "1   Jack   34\n",
       "2  Steve   29\n",
       "3  Ricky   42"
      ]
     },
     "execution_count": 81,
     "metadata": {},
     "output_type": "execute_result"
    }
   ],
   "source": [
    "df"
   ]
  },
  {
   "cell_type": "code",
   "execution_count": 82,
   "id": "88ebe204",
   "metadata": {},
   "outputs": [],
   "source": [
    "data = {'Name':['Tom', 'Jack', 'Steve', 'Ricky'],'Age':[28,34,29,42]}"
   ]
  },
  {
   "cell_type": "code",
   "execution_count": 83,
   "id": "536a9db4",
   "metadata": {},
   "outputs": [],
   "source": [
    "df = pd.DataFrame(data, index=['rank1','rank2','rank3','rank4'])"
   ]
  },
  {
   "cell_type": "code",
   "execution_count": 84,
   "id": "af9a14da",
   "metadata": {},
   "outputs": [
    {
     "data": {
      "text/html": [
       "<div>\n",
       "<style scoped>\n",
       "    .dataframe tbody tr th:only-of-type {\n",
       "        vertical-align: middle;\n",
       "    }\n",
       "\n",
       "    .dataframe tbody tr th {\n",
       "        vertical-align: top;\n",
       "    }\n",
       "\n",
       "    .dataframe thead th {\n",
       "        text-align: right;\n",
       "    }\n",
       "</style>\n",
       "<table border=\"1\" class=\"dataframe\">\n",
       "  <thead>\n",
       "    <tr style=\"text-align: right;\">\n",
       "      <th></th>\n",
       "      <th>Name</th>\n",
       "      <th>Age</th>\n",
       "    </tr>\n",
       "  </thead>\n",
       "  <tbody>\n",
       "    <tr>\n",
       "      <th>rank1</th>\n",
       "      <td>Tom</td>\n",
       "      <td>28</td>\n",
       "    </tr>\n",
       "    <tr>\n",
       "      <th>rank2</th>\n",
       "      <td>Jack</td>\n",
       "      <td>34</td>\n",
       "    </tr>\n",
       "    <tr>\n",
       "      <th>rank3</th>\n",
       "      <td>Steve</td>\n",
       "      <td>29</td>\n",
       "    </tr>\n",
       "    <tr>\n",
       "      <th>rank4</th>\n",
       "      <td>Ricky</td>\n",
       "      <td>42</td>\n",
       "    </tr>\n",
       "  </tbody>\n",
       "</table>\n",
       "</div>"
      ],
      "text/plain": [
       "        Name  Age\n",
       "rank1    Tom   28\n",
       "rank2   Jack   34\n",
       "rank3  Steve   29\n",
       "rank4  Ricky   42"
      ]
     },
     "execution_count": 84,
     "metadata": {},
     "output_type": "execute_result"
    }
   ],
   "source": [
    "df"
   ]
  },
  {
   "cell_type": "code",
   "execution_count": 87,
   "id": "c3cf8846",
   "metadata": {},
   "outputs": [],
   "source": [
    "import pandas as pd"
   ]
  },
  {
   "cell_type": "code",
   "execution_count": 89,
   "id": "b2051198",
   "metadata": {},
   "outputs": [],
   "source": [
    "data = {'Name':['Tom','Jack','Steve','Ricky'],'Age':[90,56,43,45]}"
   ]
  },
  {
   "cell_type": "code",
   "execution_count": 90,
   "id": "926150d4",
   "metadata": {},
   "outputs": [],
   "source": [
    "df = pd.DataFrame(data, index = ['rank1', 'rank2', 'rank3','rank4'])"
   ]
  },
  {
   "cell_type": "code",
   "execution_count": 91,
   "id": "e41c0b12",
   "metadata": {},
   "outputs": [
    {
     "data": {
      "text/html": [
       "<div>\n",
       "<style scoped>\n",
       "    .dataframe tbody tr th:only-of-type {\n",
       "        vertical-align: middle;\n",
       "    }\n",
       "\n",
       "    .dataframe tbody tr th {\n",
       "        vertical-align: top;\n",
       "    }\n",
       "\n",
       "    .dataframe thead th {\n",
       "        text-align: right;\n",
       "    }\n",
       "</style>\n",
       "<table border=\"1\" class=\"dataframe\">\n",
       "  <thead>\n",
       "    <tr style=\"text-align: right;\">\n",
       "      <th></th>\n",
       "      <th>Name</th>\n",
       "      <th>Age</th>\n",
       "    </tr>\n",
       "  </thead>\n",
       "  <tbody>\n",
       "    <tr>\n",
       "      <th>rank1</th>\n",
       "      <td>Tom</td>\n",
       "      <td>90</td>\n",
       "    </tr>\n",
       "    <tr>\n",
       "      <th>rank2</th>\n",
       "      <td>Jack</td>\n",
       "      <td>56</td>\n",
       "    </tr>\n",
       "    <tr>\n",
       "      <th>rank3</th>\n",
       "      <td>Steve</td>\n",
       "      <td>43</td>\n",
       "    </tr>\n",
       "    <tr>\n",
       "      <th>rank4</th>\n",
       "      <td>Ricky</td>\n",
       "      <td>45</td>\n",
       "    </tr>\n",
       "  </tbody>\n",
       "</table>\n",
       "</div>"
      ],
      "text/plain": [
       "        Name  Age\n",
       "rank1    Tom   90\n",
       "rank2   Jack   56\n",
       "rank3  Steve   43\n",
       "rank4  Ricky   45"
      ]
     },
     "execution_count": 91,
     "metadata": {},
     "output_type": "execute_result"
    }
   ],
   "source": [
    "df"
   ]
  },
  {
   "cell_type": "code",
   "execution_count": 92,
   "id": "a85cf190",
   "metadata": {},
   "outputs": [],
   "source": [
    "data = [{'a': 1, 'b': 2},{'a': 5, 'b': 10, 'c': 20}]"
   ]
  },
  {
   "cell_type": "code",
   "execution_count": 93,
   "id": "17b5677b",
   "metadata": {},
   "outputs": [],
   "source": [
    "df = pd.DataFrame(data)"
   ]
  },
  {
   "cell_type": "code",
   "execution_count": 94,
   "id": "3be5bd2f",
   "metadata": {},
   "outputs": [
    {
     "name": "stdout",
     "output_type": "stream",
     "text": [
      "   a   b     c\n",
      "0  1   2   NaN\n",
      "1  5  10  20.0\n"
     ]
    }
   ],
   "source": [
    "print(df)"
   ]
  },
  {
   "cell_type": "code",
   "execution_count": 95,
   "id": "dfa86380",
   "metadata": {},
   "outputs": [],
   "source": [
    "data = [{'a':1,'b':2},{'a':5,'b':6,'c':20}]"
   ]
  },
  {
   "cell_type": "code",
   "execution_count": 97,
   "id": "f8a1a5be",
   "metadata": {},
   "outputs": [
    {
     "ename": "TypeError",
     "evalue": "__init__() got an unexpected keyword argument 'column'",
     "output_type": "error",
     "traceback": [
      "\u001b[1;31m---------------------------------------------------------------------------\u001b[0m",
      "\u001b[1;31mTypeError\u001b[0m                                 Traceback (most recent call last)",
      "\u001b[1;32m~\\AppData\\Local\\Temp/ipykernel_12596/837696614.py\u001b[0m in \u001b[0;36m<module>\u001b[1;34m\u001b[0m\n\u001b[1;32m----> 1\u001b[1;33m \u001b[0mdf\u001b[0m \u001b[1;33m=\u001b[0m \u001b[0mpd\u001b[0m\u001b[1;33m.\u001b[0m\u001b[0mDataFrame\u001b[0m\u001b[1;33m(\u001b[0m\u001b[0mdata\u001b[0m\u001b[1;33m,\u001b[0m \u001b[0mcolumn\u001b[0m\u001b[1;33m=\u001b[0m \u001b[1;33m[\u001b[0m\u001b[1;34m'a'\u001b[0m\u001b[1;33m,\u001b[0m\u001b[1;34m'b'\u001b[0m\u001b[1;33m,\u001b[0m\u001b[1;34m'c'\u001b[0m\u001b[1;33m]\u001b[0m\u001b[1;33m)\u001b[0m\u001b[1;33m\u001b[0m\u001b[1;33m\u001b[0m\u001b[0m\n\u001b[0m",
      "\u001b[1;31mTypeError\u001b[0m: __init__() got an unexpected keyword argument 'column'"
     ]
    }
   ],
   "source": [
    "df = pd.DataFrame(data, column= ['a','b','c'])"
   ]
  },
  {
   "cell_type": "code",
   "execution_count": 98,
   "id": "b784ac6d",
   "metadata": {},
   "outputs": [
    {
     "data": {
      "text/html": [
       "<div>\n",
       "<style scoped>\n",
       "    .dataframe tbody tr th:only-of-type {\n",
       "        vertical-align: middle;\n",
       "    }\n",
       "\n",
       "    .dataframe tbody tr th {\n",
       "        vertical-align: top;\n",
       "    }\n",
       "\n",
       "    .dataframe thead th {\n",
       "        text-align: right;\n",
       "    }\n",
       "</style>\n",
       "<table border=\"1\" class=\"dataframe\">\n",
       "  <thead>\n",
       "    <tr style=\"text-align: right;\">\n",
       "      <th></th>\n",
       "      <th>a</th>\n",
       "      <th>b</th>\n",
       "      <th>c</th>\n",
       "    </tr>\n",
       "  </thead>\n",
       "  <tbody>\n",
       "    <tr>\n",
       "      <th>0</th>\n",
       "      <td>1</td>\n",
       "      <td>2</td>\n",
       "      <td>NaN</td>\n",
       "    </tr>\n",
       "    <tr>\n",
       "      <th>1</th>\n",
       "      <td>5</td>\n",
       "      <td>10</td>\n",
       "      <td>20.0</td>\n",
       "    </tr>\n",
       "  </tbody>\n",
       "</table>\n",
       "</div>"
      ],
      "text/plain": [
       "   a   b     c\n",
       "0  1   2   NaN\n",
       "1  5  10  20.0"
      ]
     },
     "execution_count": 98,
     "metadata": {},
     "output_type": "execute_result"
    }
   ],
   "source": [
    "df"
   ]
  },
  {
   "cell_type": "code",
   "execution_count": 99,
   "id": "d16910a3",
   "metadata": {},
   "outputs": [],
   "source": [
    "data = [{'a':1,'b':2},{'a':5,'b':6,'c':6}]"
   ]
  },
  {
   "cell_type": "code",
   "execution_count": 100,
   "id": "dab6caf7",
   "metadata": {},
   "outputs": [],
   "source": [
    "df = pd.DataFrame(data, index= [1,2])"
   ]
  },
  {
   "cell_type": "code",
   "execution_count": 101,
   "id": "9e8530b0",
   "metadata": {},
   "outputs": [
    {
     "name": "stdout",
     "output_type": "stream",
     "text": [
      "   a  b    c\n",
      "1  1  2  NaN\n",
      "2  5  6  6.0\n"
     ]
    }
   ],
   "source": [
    "print(df)"
   ]
  },
  {
   "cell_type": "code",
   "execution_count": 103,
   "id": "1841ea0b",
   "metadata": {},
   "outputs": [
    {
     "name": "stdout",
     "output_type": "stream",
     "text": [
      "   one  two\n",
      "a  1.0    1\n",
      "b  2.0    2\n",
      "c  3.0    3\n",
      "d  NaN    4\n"
     ]
    }
   ],
   "source": [
    "import pandas as pd\n",
    "\n",
    "d = {'one' : pd.Series([1, 2, 3], index=['a', 'b', 'c']),\n",
    "   'two' : pd.Series([1, 2, 3, 4], index=['a', 'b', 'c', 'd'])}\n",
    "\n",
    "df = pd.DataFrame(d)\n",
    "print (df)"
   ]
  },
  {
   "cell_type": "code",
   "execution_count": 107,
   "id": "c7cca860",
   "metadata": {},
   "outputs": [
    {
     "name": "stdout",
     "output_type": "stream",
     "text": [
      "   one  two\n",
      "a  1.0    1\n",
      "b  2.0    2\n",
      "c  3.0    3\n",
      "d  NaN    4\n"
     ]
    }
   ],
   "source": [
    "import pandas as pd\n",
    "d = {'one':pd.Series([1,2,3], index = ['a','b','c']),\n",
    "     'two' : pd.Series([1,2,3,4], index = ['a','b','c','d'])}\n",
    "\n",
    "df= pd.DataFrame(d)\n",
    "print (df)"
   ]
  },
  {
   "cell_type": "code",
   "execution_count": 111,
   "id": "dfed5dcb",
   "metadata": {},
   "outputs": [
    {
     "name": "stdout",
     "output_type": "stream",
     "text": [
      "a    1.0\n",
      "b    2.0\n",
      "c    3.0\n",
      "d    NaN\n",
      "Name: one, dtype: float64\n"
     ]
    }
   ],
   "source": [
    "import pandas as pd \n",
    "\n",
    "d = {'one':pd.Series([1,2,3], index = ['a','b','c']),\n",
    "     'two' : pd.Series([1,2,3,4], index = ['a','b','c','d'])}\n",
    "\n",
    "df = pd.DataFrame(d)\n",
    "print (df['one'])\n"
   ]
  },
  {
   "cell_type": "code",
   "execution_count": 114,
   "id": "b370fac4",
   "metadata": {},
   "outputs": [
    {
     "name": "stdout",
     "output_type": "stream",
     "text": [
      "   one  two  three\n",
      "a  1.0    1   10.0\n",
      "b  2.0    2   20.0\n",
      "c  3.0    3   30.0\n",
      "d  NaN    4    NaN\n",
      "   one  two  three  four\n",
      "a  1.0    1   10.0  11.0\n",
      "b  2.0    2   20.0  22.0\n",
      "c  3.0    3   30.0  33.0\n",
      "d  NaN    4    NaN   NaN\n"
     ]
    }
   ],
   "source": [
    "import pandas as pd\n",
    "\n",
    "d = {'one' : pd.Series([1, 2, 3], index=['a', 'b', 'c']),\n",
    "   'two' : pd.Series([1, 2, 3, 4], index=['a', 'b', 'c', 'd'])}\n",
    "\n",
    "df = pd.DataFrame(d)\n",
    "\n",
    "df['three'] = pd.Series([10,20,30], index = ['a','b','c'])\n",
    "print(df)\n",
    "\n",
    "df['four'] = df['three'] + df['one']\n",
    "print(df)"
   ]
  },
  {
   "cell_type": "code",
   "execution_count": 115,
   "id": "f4cd51e0",
   "metadata": {},
   "outputs": [
    {
     "name": "stdout",
     "output_type": "stream",
     "text": [
      "   one  three  four\n",
      "a  1.0   10.0  11.0\n",
      "b  2.0   20.0  22.0\n",
      "c  3.0   30.0  33.0\n",
      "d  NaN    NaN   NaN\n"
     ]
    }
   ],
   "source": [
    "df.pop('two') \n",
    "print(df)"
   ]
  },
  {
   "cell_type": "code",
   "execution_count": 117,
   "id": "0cdac140",
   "metadata": {},
   "outputs": [],
   "source": [
    "del df['one']"
   ]
  },
  {
   "cell_type": "code",
   "execution_count": 118,
   "id": "e708fc11",
   "metadata": {},
   "outputs": [
    {
     "data": {
      "text/html": [
       "<div>\n",
       "<style scoped>\n",
       "    .dataframe tbody tr th:only-of-type {\n",
       "        vertical-align: middle;\n",
       "    }\n",
       "\n",
       "    .dataframe tbody tr th {\n",
       "        vertical-align: top;\n",
       "    }\n",
       "\n",
       "    .dataframe thead th {\n",
       "        text-align: right;\n",
       "    }\n",
       "</style>\n",
       "<table border=\"1\" class=\"dataframe\">\n",
       "  <thead>\n",
       "    <tr style=\"text-align: right;\">\n",
       "      <th></th>\n",
       "      <th>three</th>\n",
       "      <th>four</th>\n",
       "    </tr>\n",
       "  </thead>\n",
       "  <tbody>\n",
       "    <tr>\n",
       "      <th>a</th>\n",
       "      <td>10.0</td>\n",
       "      <td>11.0</td>\n",
       "    </tr>\n",
       "    <tr>\n",
       "      <th>b</th>\n",
       "      <td>20.0</td>\n",
       "      <td>22.0</td>\n",
       "    </tr>\n",
       "    <tr>\n",
       "      <th>c</th>\n",
       "      <td>30.0</td>\n",
       "      <td>33.0</td>\n",
       "    </tr>\n",
       "    <tr>\n",
       "      <th>d</th>\n",
       "      <td>NaN</td>\n",
       "      <td>NaN</td>\n",
       "    </tr>\n",
       "  </tbody>\n",
       "</table>\n",
       "</div>"
      ],
      "text/plain": [
       "   three  four\n",
       "a   10.0  11.0\n",
       "b   20.0  22.0\n",
       "c   30.0  33.0\n",
       "d    NaN   NaN"
      ]
     },
     "execution_count": 118,
     "metadata": {},
     "output_type": "execute_result"
    }
   ],
   "source": [
    "df"
   ]
  },
  {
   "cell_type": "code",
   "execution_count": 121,
   "id": "fbc97fc3",
   "metadata": {},
   "outputs": [
    {
     "name": "stdout",
     "output_type": "stream",
     "text": [
      "one    2.0\n",
      "two    2.0\n",
      "Name: b, dtype: float64\n"
     ]
    }
   ],
   "source": [
    "import pandas as pd\n",
    "\n",
    "d = {'one' : pd.Series([1, 2, 3], index=['a', 'b', 'c']), \n",
    "   'two' : pd.Series([1, 2, 3, 4], index=['a', 'b', 'c', 'd'])}\n",
    "\n",
    "df = pd.DataFrame(d)\n",
    "print (df.loc['b'])"
   ]
  },
  {
   "cell_type": "code",
   "execution_count": 123,
   "id": "8b9b9eb6",
   "metadata": {},
   "outputs": [
    {
     "name": "stdout",
     "output_type": "stream",
     "text": [
      "one    3.0\n",
      "two    3.0\n",
      "Name: c, dtype: float64\n"
     ]
    }
   ],
   "source": [
    "import pandas as pd\n",
    "\n",
    "d = {'one' : pd.Series([1, 2, 3], index=['a', 'b', 'c']),\n",
    "   'two' : pd.Series([1, 2, 3, 4], index=['a', 'b', 'c', 'd'])}\n",
    "\n",
    "df = pd.DataFrame(d)\n",
    "print (df.iloc[2])"
   ]
  },
  {
   "cell_type": "code",
   "execution_count": 125,
   "id": "8cb6b317",
   "metadata": {},
   "outputs": [
    {
     "name": "stdout",
     "output_type": "stream",
     "text": [
      "   one  two\n",
      "c  3.0    3\n",
      "d  NaN    4\n"
     ]
    }
   ],
   "source": [
    "import pandas as pd\n",
    "\n",
    "d = {'one' : pd.Series([1, 2, 3], index=['a', 'b', 'c']), \n",
    "   'two' : pd.Series([1, 2, 3, 4], index=['a', 'b', 'c', 'd'])}\n",
    "\n",
    "df = pd.DataFrame(d)\n",
    "print (df[2:4])"
   ]
  },
  {
   "cell_type": "code",
   "execution_count": 134,
   "id": "edf77f42",
   "metadata": {},
   "outputs": [
    {
     "name": "stdout",
     "output_type": "stream",
     "text": [
      "   a  b\n",
      "0  1  2\n",
      "1  3  4\n",
      "0  5  6\n",
      "1  7  8\n"
     ]
    },
    {
     "data": {
      "text/html": [
       "<div>\n",
       "<style scoped>\n",
       "    .dataframe tbody tr th:only-of-type {\n",
       "        vertical-align: middle;\n",
       "    }\n",
       "\n",
       "    .dataframe tbody tr th {\n",
       "        vertical-align: top;\n",
       "    }\n",
       "\n",
       "    .dataframe thead th {\n",
       "        text-align: right;\n",
       "    }\n",
       "</style>\n",
       "<table border=\"1\" class=\"dataframe\">\n",
       "  <thead>\n",
       "    <tr style=\"text-align: right;\">\n",
       "      <th></th>\n",
       "      <th>a</th>\n",
       "      <th>b</th>\n",
       "    </tr>\n",
       "  </thead>\n",
       "  <tbody>\n",
       "    <tr>\n",
       "      <th>1</th>\n",
       "      <td>3</td>\n",
       "      <td>4</td>\n",
       "    </tr>\n",
       "    <tr>\n",
       "      <th>1</th>\n",
       "      <td>7</td>\n",
       "      <td>8</td>\n",
       "    </tr>\n",
       "  </tbody>\n",
       "</table>\n",
       "</div>"
      ],
      "text/plain": [
       "   a  b\n",
       "1  3  4\n",
       "1  7  8"
      ]
     },
     "execution_count": 134,
     "metadata": {},
     "output_type": "execute_result"
    }
   ],
   "source": [
    "import pandas as pd\n",
    "df = pd.DataFrame([[1, 2], [3, 4]], columns = ['a','b'])\n",
    "df2 = pd.DataFrame([[5, 6], [7, 8]], columns = ['a','b'])\n",
    "\n",
    "df = df.append(df2)\n",
    "print(df)\n",
    "df = df.drop(0)\n",
    "df"
   ]
  },
  {
   "cell_type": "code",
   "execution_count": 136,
   "id": "30ed407b",
   "metadata": {},
   "outputs": [
    {
     "name": "stdout",
     "output_type": "stream",
     "text": [
      "0    1.236843\n",
      "1    1.267970\n",
      "2    0.041212\n",
      "3   -0.255410\n",
      "dtype: float64\n"
     ]
    }
   ],
   "source": [
    "import pandas as pd\n",
    "import numpy as np\n",
    "\n",
    "s = pd.Series(np.random.randn(4))\n",
    "print (s)"
   ]
  },
  {
   "cell_type": "code",
   "execution_count": 138,
   "id": "63fad555",
   "metadata": {},
   "outputs": [
    {
     "name": "stdout",
     "output_type": "stream",
     "text": [
      "The axes are:\n",
      "[RangeIndex(start=0, stop=4, step=1)]\n"
     ]
    }
   ],
   "source": [
    "import pandas as pd\n",
    "import numpy as np\n",
    "\n",
    "s = pd.Series(np.random.randn(4))\n",
    "print (\"The axes are:\")\n",
    "print (s.axes)"
   ]
  },
  {
   "cell_type": "code",
   "execution_count": 139,
   "id": "88496f22",
   "metadata": {},
   "outputs": [
    {
     "name": "stdout",
     "output_type": "stream",
     "text": [
      "Is the Object empty?\n",
      "False\n"
     ]
    }
   ],
   "source": [
    "import pandas as pd\n",
    "import numpy as np\n",
    "\n",
    "#Create a series with 100 random numbers\n",
    "s = pd.Series(np.random.randn(4))\n",
    "print (\"Is the Object empty?\")\n",
    "print (s.empty)"
   ]
  },
  {
   "cell_type": "code",
   "execution_count": 141,
   "id": "40ed9343",
   "metadata": {},
   "outputs": [
    {
     "name": "stdout",
     "output_type": "stream",
     "text": [
      "0    0.908755\n",
      "1    0.647418\n",
      "2   -0.551001\n",
      "3   -1.733496\n",
      "dtype: float64\n",
      "The dimensions of the object:\n",
      "1\n"
     ]
    }
   ],
   "source": [
    "import pandas as pd\n",
    "import numpy as np\n",
    "\n",
    "#Create a series with 4 random numbers\n",
    "s = pd.Series(np.random.randn(4))\n",
    "print (s)\n",
    "\n",
    "print (\"The dimensions of the object:\")\n",
    "print (s.ndim)"
   ]
  },
  {
   "cell_type": "code",
   "execution_count": 142,
   "id": "531c1d14",
   "metadata": {},
   "outputs": [
    {
     "name": "stdout",
     "output_type": "stream",
     "text": [
      "0    1.695592\n",
      "1   -0.446886\n",
      "dtype: float64\n",
      "The size of the object:\n",
      "2\n"
     ]
    }
   ],
   "source": [
    "import pandas as pd\n",
    "import numpy as np\n",
    "\n",
    "#Create a series with 4 random numbers\n",
    "s = pd.Series(np.random.randn(2))\n",
    "print (s)\n",
    "print (\"The size of the object:\")\n",
    "print (s.size)"
   ]
  },
  {
   "cell_type": "code",
   "execution_count": 143,
   "id": "e5d99f5f",
   "metadata": {},
   "outputs": [
    {
     "name": "stdout",
     "output_type": "stream",
     "text": [
      "0   -0.489163\n",
      "1   -0.446809\n",
      "2   -1.939180\n",
      "3    0.358515\n",
      "dtype: float64\n",
      "The actual data series is:\n",
      "[-0.48916294 -0.44680917 -1.93918012  0.35851541]\n"
     ]
    }
   ],
   "source": [
    "import pandas as pd\n",
    "import numpy as np\n",
    "\n",
    "#Create a series with 4 random numbers\n",
    "s = pd.Series(np.random.randn(4))\n",
    "print (s)\n",
    "\n",
    "print (\"The actual data series is:\")\n",
    "print (s.values)"
   ]
  },
  {
   "cell_type": "code",
   "execution_count": 145,
   "id": "e263ddcc",
   "metadata": {},
   "outputs": [
    {
     "name": "stdout",
     "output_type": "stream",
     "text": [
      "The original series is:\n",
      "0   -1.188445\n",
      "1    0.709026\n",
      "2   -0.616301\n",
      "3    0.418511\n",
      "dtype: float64\n",
      "The last two rows of the data series:\n",
      "2   -0.616301\n",
      "3    0.418511\n",
      "dtype: float64\n"
     ]
    }
   ],
   "source": [
    "import pandas as pd\n",
    "import numpy as np\n",
    "\n",
    "#Create a series with 4 random numbers\n",
    "s = pd.Series(np.random.randn(4))\n",
    "print (\"The original series is:\")\n",
    "print (s)\n",
    "\n",
    "print (\"The last two rows of the data series:\")\n",
    "print (s.tail(2))"
   ]
  },
  {
   "cell_type": "code",
   "execution_count": 147,
   "id": "df1e4438",
   "metadata": {},
   "outputs": [
    {
     "name": "stdout",
     "output_type": "stream",
     "text": [
      "Our data series is:\n",
      "    Name  Age  Rating\n",
      "0    Tom   25    4.23\n",
      "1  James   26    3.24\n",
      "2  Ricky   25    3.98\n",
      "3    Vin   23    2.56\n",
      "4  Steve   30    3.20\n",
      "5  Smith   29    4.60\n",
      "6   Jack   23    3.80\n"
     ]
    }
   ],
   "source": [
    "import pandas as pd\n",
    "import numpy as np\n",
    "\n",
    "#Create a Dictionary of series\n",
    "d = {'Name':pd.Series(['Tom','James','Ricky','Vin','Steve','Smith','Jack']),\n",
    "   'Age':pd.Series([25,26,25,23,30,29,23]),\n",
    "   'Rating':pd.Series([4.23,3.24,3.98,2.56,3.20,4.6,3.8])}\n",
    "\n",
    "#Create a DataFrame\n",
    "df = pd.DataFrame(d)\n",
    "print (\"Our data series is:\")\n",
    "print (df)"
   ]
  },
  {
   "cell_type": "code",
   "execution_count": 149,
   "id": "abd19ee8",
   "metadata": {},
   "outputs": [
    {
     "name": "stdout",
     "output_type": "stream",
     "text": [
      "The transpose of the data series is:\n",
      "           0      1      2     3      4      5     6\n",
      "Name     Tom  James  Ricky   Vin  Steve  Smith  Jack\n",
      "Age       25     26     25    23     30     29    23\n",
      "Rating  4.23   3.24   3.98  2.56    3.2    4.6   3.8\n"
     ]
    }
   ],
   "source": [
    "import pandas as pd\n",
    "import numpy as np\n",
    " \n",
    "# Create a Dictionary of series\n",
    "d = {'Name':pd.Series(['Tom','James','Ricky','Vin','Steve','Smith','Jack']),\n",
    "   'Age':pd.Series([25,26,25,23,30,29,23]),\n",
    "   'Rating':pd.Series([4.23,3.24,3.98,2.56,3.20,4.6,3.8])}\n",
    "\n",
    "# Create a DataFrame\n",
    "df = pd.DataFrame(d)\n",
    "print (\"The transpose of the data series is:\")\n",
    "print (df.T)"
   ]
  },
  {
   "cell_type": "code",
   "execution_count": 150,
   "id": "de405966",
   "metadata": {},
   "outputs": [
    {
     "name": "stdout",
     "output_type": "stream",
     "text": [
      "the transpose of series is\n",
      "           0      1      2     3      4      5     6\n",
      "Name     Tom  James  Ricky   Vin  Steve  Smith  Jack\n",
      "Age       25     26     25    23     30     29    23\n",
      "Rating  4.23   3.24   3.98  2.56    3.2    4.6   3.8\n"
     ]
    }
   ],
   "source": [
    "import pandas as pd\n",
    "import numpy as np\n",
    " \n",
    "# Create a Dictionary of series\n",
    "d = {'Name':pd.Series(['Tom','James','Ricky','Vin','Steve','Smith','Jack']),\n",
    "   'Age':pd.Series([25,26,25,23,30,29,23]),\n",
    "   'Rating':pd.Series([4.23,3.24,3.98,2.56,3.20,4.6,3.8])}\n",
    "\n",
    "df = pd.DataFrame(d)\n",
    "print(\"the transpose of series is\")\n",
    "print(df.T)"
   ]
  },
  {
   "cell_type": "code",
   "execution_count": 152,
   "id": "89e88522",
   "metadata": {},
   "outputs": [
    {
     "name": "stdout",
     "output_type": "stream",
     "text": [
      "Row axis labels and column axis labels are:\n",
      "[RangeIndex(start=0, stop=7, step=1), Index(['Name', 'Age', 'Rating'], dtype='object')]\n"
     ]
    }
   ],
   "source": [
    "import pandas as pd\n",
    "import numpy as np\n",
    "\n",
    "#Create a Dictionary of series\n",
    "d = {'Name':pd.Series(['Tom','James','Ricky','Vin','Steve','Smith','Jack']),\n",
    "   'Age':pd.Series([25,26,25,23,30,29,23]),\n",
    "   'Rating':pd.Series([4.23,3.24,3.98,2.56,3.20,4.6,3.8])}\n",
    "\n",
    "#Create a DataFrame\n",
    "df = pd.DataFrame(d)\n",
    "print (\"Row axis labels and column axis labels are:\")\n",
    "print (df.axes)"
   ]
  },
  {
   "cell_type": "code",
   "execution_count": 153,
   "id": "a2022e0f",
   "metadata": {},
   "outputs": [
    {
     "name": "stdout",
     "output_type": "stream",
     "text": [
      "The data types of each column are:\n",
      "Name       object\n",
      "Age         int64\n",
      "Rating    float64\n",
      "dtype: object\n"
     ]
    }
   ],
   "source": [
    "import pandas as pd\n",
    "import numpy as np\n",
    "\n",
    "#Create a Dictionary of series\n",
    "d = {'Name':pd.Series(['Tom','James','Ricky','Vin','Steve','Smith','Jack']),\n",
    "   'Age':pd.Series([25,26,25,23,30,29,23]),\n",
    "   'Rating':pd.Series([4.23,3.24,3.98,2.56,3.20,4.6,3.8])}\n",
    "\n",
    "#Create a DataFrame\n",
    "df = pd.DataFrame(d)\n",
    "print (\"The data types of each column are:\")\n",
    "print (df.dtypes)"
   ]
  },
  {
   "cell_type": "code",
   "execution_count": null,
   "id": "3bc3e9be",
   "metadata": {},
   "outputs": [],
   "source": []
  }
 ],
 "metadata": {
  "kernelspec": {
   "display_name": "Python 3 (ipykernel)",
   "language": "python",
   "name": "python3"
  },
  "language_info": {
   "codemirror_mode": {
    "name": "ipython",
    "version": 3
   },
   "file_extension": ".py",
   "mimetype": "text/x-python",
   "name": "python",
   "nbconvert_exporter": "python",
   "pygments_lexer": "ipython3",
   "version": "3.9.7"
  }
 },
 "nbformat": 4,
 "nbformat_minor": 5
}

{
 "cells": [
  {
   "cell_type": "code",
   "execution_count": 1,
   "id": "a683a53f",
   "metadata": {},
   "outputs": [
    {
     "name": "stdout",
     "output_type": "stream",
     "text": [
      "1\n",
      "2\n",
      "3\n",
      "4\n",
      "5\n",
      "6\n",
      "7\n",
      "8\n",
      "9\n",
      "10\n"
     ]
    }
   ],
   "source": [
    "i = 1\n",
    "while i<=10:\n",
    "    print(i)\n",
    "    i += 1\n",
    "\n"
   ]
  },
  {
   "cell_type": "code",
   "execution_count": 6,
   "id": "b43d22b1",
   "metadata": {},
   "outputs": [
    {
     "name": "stdout",
     "output_type": "stream",
     "text": [
      "Number Pattern \n",
      "1 \n",
      "1 2 \n",
      "1 2 3 \n",
      "1 2 3 4 \n",
      "1 2 3 4 5 \n"
     ]
    }
   ],
   "source": [
    "print(\"Number Pattern \")\n",
    "\n",
    "# Decide the row count. (above pattern contains 5 rows)\n",
    "row = 5\n",
    "# start: 1\n",
    "# stop: row+1 (range never include stop number in result)\n",
    "# step: 1\n",
    "# run loop 5 times\n",
    "for i in range(1, row + 1, 1):\n",
    "    # Run inner loop i+1 times\n",
    "    for j in range(1, i + 1):\n",
    "        print(j, end=' ')\n",
    "    # empty line after each row\n",
    "    print(\"\")\n"
   ]
  },
  {
   "cell_type": "code",
   "execution_count": 10,
   "id": "ffd653d5",
   "metadata": {},
   "outputs": [
    {
     "ename": "IndentationError",
     "evalue": "unexpected indent (Temp/ipykernel_10364/3097995462.py, line 3)",
     "output_type": "error",
     "traceback": [
      "\u001b[1;36m  File \u001b[1;32m\"C:\\Users\\Arunima\\AppData\\Local\\Temp/ipykernel_10364/3097995462.py\"\u001b[1;36m, line \u001b[1;32m3\u001b[0m\n\u001b[1;33m    for i in range(1,  row + 1, 1):\u001b[0m\n\u001b[1;37m    ^\u001b[0m\n\u001b[1;31mIndentationError\u001b[0m\u001b[1;31m:\u001b[0m unexpected indent\n"
     ]
    }
   ],
   "source": []
  },
  {
   "cell_type": "code",
   "execution_count": 13,
   "id": "60db2c33",
   "metadata": {},
   "outputs": [
    {
     "name": "stdout",
     "output_type": "stream",
     "text": [
      "Number Pattern \n",
      "1 \n",
      "1 2 \n",
      "1 2 3 \n",
      "1 2 3 4 \n",
      "1 2 3 4 5 \n"
     ]
    }
   ],
   "source": [
    "print(\"Number Pattern \")\n",
    "\n",
    "# Decide the row count. (above pattern contains 5 rows)\n",
    "row = 5\n",
    "for i in range(1, row + 1, 1):\n",
    "    for j in range(1, i + 1):\n",
    "        print(j, end = ' ')\n",
    "    print(\"\")"
   ]
  },
  {
   "cell_type": "code",
   "execution_count": 14,
   "id": "a541d09f",
   "metadata": {},
   "outputs": [
    {
     "name": "stdout",
     "output_type": "stream",
     "text": [
      "Enter a number10\n",
      "the number is 55\n"
     ]
    }
   ],
   "source": [
    "n = int(input(\"Enter given number\"))\n",
    "x = sum(range(1,n+1))\n",
    "print(\"the number is\",x)"
   ]
  },
  {
   "cell_type": "code",
   "execution_count": 16,
   "id": "ca849c4f",
   "metadata": {},
   "outputs": [
    {
     "name": "stdout",
     "output_type": "stream",
     "text": [
      "Enter number 90\n",
      "sum of numbers are 4095\n",
      "avarage is 45.5\n"
     ]
    }
   ],
   "source": [
    "n = int(input(\"Enter number \"))\n",
    "sum= 0\n",
    "for num in range(1,n+1,1):\n",
    "    sum= sum + num\n",
    "print(\"sum of numbers are\",sum)\n",
    "avg= sum/n\n",
    "print(\"avarage is\",avg)"
   ]
  },
  {
   "cell_type": "code",
   "execution_count": 24,
   "id": "8c1e7604",
   "metadata": {},
   "outputs": [
    {
     "name": "stdout",
     "output_type": "stream",
     "text": [
      "2\n",
      "4\n",
      "6\n",
      "8\n",
      "10\n",
      "12\n",
      "14\n",
      "16\n",
      "18\n",
      "20\n"
     ]
    }
   ],
   "source": [
    "n = 2\n",
    "# stop: 11 (because range never include stop number in result)\n",
    "# run loop 10 times\n",
    "for i in range(1, 11, 1):\n",
    "    # 2 *i (current number)\n",
    "    product = n * i\n",
    "    print(product)"
   ]
  },
  {
   "cell_type": "code",
   "execution_count": 26,
   "id": "bca0d174",
   "metadata": {},
   "outputs": [
    {
     "name": "stdout",
     "output_type": "stream",
     "text": [
      "count the number of this string is 2\n"
     ]
    }
   ],
   "source": [
    "name = \"arunima\"\n",
    "print(\"count the number of this string is\",name.count(\"a\"))"
   ]
  },
  {
   "cell_type": "code",
   "execution_count": 28,
   "id": "082d6696",
   "metadata": {},
   "outputs": [
    {
     "name": "stdout",
     "output_type": "stream",
     "text": [
      "Count Counter({5: 3, 8: 2, 7: 1, 4: 1, 2: 1})\n"
     ]
    }
   ],
   "source": [
    "from collections import Counter\n",
    "name_list= [8,7,5,5,4,2,8,5]\n",
    "res=Counter(name_list)\n",
    "print(\"Count\",res)"
   ]
  },
  {
   "cell_type": "code",
   "execution_count": 33,
   "id": "0798d8e6",
   "metadata": {},
   "outputs": [
    {
     "name": "stdout",
     "output_type": "stream",
     "text": [
      "Total digits are: 1\n"
     ]
    }
   ],
   "source": [
    "#Count total digits are "
   ]
  },
  {
   "cell_type": "code",
   "execution_count": 34,
   "id": "7a3c8cf9",
   "metadata": {},
   "outputs": [
    {
     "name": "stdout",
     "output_type": "stream",
     "text": [
      "5 4 3 2 1  \n",
      "4 3 2 1  \n",
      "3 2 1  \n",
      "2 1  \n",
      "1  \n",
      " \n"
     ]
    }
   ],
   "source": [
    "n = 5\n",
    "k = 5\n",
    "for i in range(0,n+1):\n",
    "    for j in range(k-i,0,-1):\n",
    "        print(j, end=\" \")\n",
    "    print(' ')"
   ]
  },
  {
   "cell_type": "code",
   "execution_count": 35,
   "id": "62c1c33c",
   "metadata": {},
   "outputs": [
    {
     "name": "stdout",
     "output_type": "stream",
     "text": [
      "50\n",
      "40\n",
      "30\n",
      "20\n",
      "10\n"
     ]
    }
   ],
   "source": [
    "list = [10,20,30,40,50]\n",
    "new_list = reversed(list)\n",
    "for item in new_list:\n",
    "    print(item)"
   ]
  },
  {
   "cell_type": "code",
   "execution_count": 40,
   "id": "d6094b50",
   "metadata": {},
   "outputs": [],
   "source": []
  },
  {
   "cell_type": "code",
   "execution_count": null,
   "id": "a3d1d39b",
   "metadata": {},
   "outputs": [],
   "source": []
  },
  {
   "cell_type": "code",
   "execution_count": 41,
   "id": "a42f75d9",
   "metadata": {},
   "outputs": [
    {
     "name": "stdout",
     "output_type": "stream",
     "text": [
      "-10\n",
      "-9\n",
      "-8\n",
      "-7\n",
      "-6\n",
      "-5\n",
      "-4\n",
      "-3\n",
      "-2\n",
      "-1\n"
     ]
    }
   ],
   "source": [
    "\n",
    "for num in range(-10, 0, 1):\n",
    "    print(num)\n",
    " \n"
   ]
  },
  {
   "cell_type": "code",
   "execution_count": 44,
   "id": "b144df3d",
   "metadata": {},
   "outputs": [
    {
     "name": "stdout",
     "output_type": "stream",
     "text": [
      "0\n",
      "1\n",
      "2\n",
      "3\n",
      "4\n"
     ]
    }
   ],
   "source": [
    "for i in range(5):\n",
    "    print(i)\n"
   ]
  },
  {
   "cell_type": "code",
   "execution_count": 47,
   "id": "80e96779",
   "metadata": {},
   "outputs": [
    {
     "name": "stdout",
     "output_type": "stream",
     "text": [
      "Prime numbers between 25 and 50 are:\n",
      "29\n",
      "31\n",
      "37\n",
      "41\n",
      "43\n",
      "47\n"
     ]
    }
   ],
   "source": [
    "start = 25\n",
    "end = 50\n",
    "print(\"Prime numbers between\", start, \"and\", end, \"are:\")\n",
    "\n",
    "for num in range(start, end + 1):\n",
    "    # all prime numbers are greater than 1\n",
    "    # if number is less than or equal to 1, it is not prime\n",
    "    if num > 1:\n",
    "        for i in range(2, num):\n",
    "            # check for factors\n",
    "            if (num % i) == 0:\n",
    "                # not a prime number so break inner loop and\n",
    "                # look for next number\n",
    "                break\n",
    "        else:\n",
    "            print(num)"
   ]
  },
  {
   "cell_type": "code",
   "execution_count": 62,
   "id": "cc377e45",
   "metadata": {},
   "outputs": [
    {
     "name": "stdout",
     "output_type": "stream",
     "text": [
      "The factorial of 5 is 120\n"
     ]
    }
   ],
   "source": [
    "num = 5\n",
    "factorial = 1\n",
    "if num < 0:\n",
    "    print(\"Factorial does not exist for negative numbers\")\n",
    "elif num == 0:\n",
    "    print(\"The factorial of 0 is 1\")\n",
    "else:\n",
    "    # run loop 5 times\n",
    "    for i in range(1, num + 1):\n",
    "        # multiply factorial by current number\n",
    "        factorial = factorial * i\n",
    "    print(\"The factorial of\", num, \"is\", factorial)\n",
    "        \n",
    "        \n",
    "    "
   ]
  },
  {
   "cell_type": "code",
   "execution_count": 66,
   "id": "3a1c0c99",
   "metadata": {},
   "outputs": [
    {
     "name": "stdout",
     "output_type": "stream",
     "text": [
      "Enter a number6\n",
      "The factorial of 6 is 720\n"
     ]
    }
   ],
   "source": [
    "num = int(input(\"Enter a number\"))\n",
    "factorial = 1\n",
    "if num < 0 :\n",
    "    print(\"Factorial does not exist for negative numbers\")\n",
    "elif num == 0:\n",
    "    print(\"The factorial of 0 is 1\")\n",
    "else: \n",
    "    for i in range(1, num+1):\n",
    "        factorial = factorial * i\n",
    "    print(\"The factorial of\", num, \"is\",factorial)"
   ]
  },
  {
   "cell_type": "code",
   "execution_count": 73,
   "id": "11dcb2cc",
   "metadata": {},
   "outputs": [
    {
     "name": "stdout",
     "output_type": "stream",
     "text": [
      "Fibonacci sequence:\n",
      "0  1  1  2  3  5  8  13  21  34  "
     ]
    }
   ],
   "source": [
    "num1, num2 = 0, 1\n",
    "\n",
    "print(\"Fibonacci sequence:\")\n",
    "# run loop 10 times\n",
    "for i in range(10):\n",
    "    # print next number of a series\n",
    "    print(num1, end=\"  \")\n",
    "    # add last two numbers to get next number\n",
    "    res = num1 + num2\n",
    "\n",
    "    # update values\n",
    "    num1 = num2\n",
    "    num2 = res"
   ]
  },
  {
   "cell_type": "code",
   "execution_count": 75,
   "id": "1a2053da",
   "metadata": {},
   "outputs": [
    {
     "name": "stdout",
     "output_type": "stream",
     "text": [
      "Fibonacci sequence:\n",
      "0 1 1 2 3 5 8 13 21 34 "
     ]
    }
   ],
   "source": [
    "num1, num2 = 0, 1\n",
    "print(\"Fibonacci sequence:\")\n",
    "for i in range(10):\n",
    "    print (num1, end =\" \")\n",
    "    res = num1 + num2\n",
    "    num1 = num2\n",
    "    num2 = res\n",
    "    "
   ]
  },
  {
   "cell_type": "code",
   "execution_count": 76,
   "id": "67c28d98",
   "metadata": {},
   "outputs": [
    {
     "name": "stdout",
     "output_type": "stream",
     "text": [
      "Given Number  76542\n",
      "Revere Number  24567\n"
     ]
    }
   ],
   "source": [
    "num = 76542\n",
    "reverse_number = 0\n",
    "print(\"Given Number \", num)\n",
    "while num > 0:\n",
    "    reminder = num % 10\n",
    "    reverse_number = (reverse_number * 10) + reminder\n",
    "    num = num // 10\n",
    "print(\"Revere Number \", reverse_number)"
   ]
  },
  {
   "cell_type": "code",
   "execution_count": 77,
   "id": "98f5674d",
   "metadata": {},
   "outputs": [
    {
     "name": "stdout",
     "output_type": "stream",
     "text": [
      "Given Number 89\n",
      "Reverse Number 98\n"
     ]
    }
   ],
   "source": [
    "num = 89\n",
    "reverse_number = 0\n",
    "print(\"Given Number\", num)\n",
    "while num > 0 :\n",
    "    reminder = num % 10\n",
    "    reverse_number = (reverse_number * 10) + reminder\n",
    "    num = num//10\n",
    "print(\"Reverse Number\", reverse_number)"
   ]
  },
  {
   "cell_type": "code",
   "execution_count": 78,
   "id": "09f8e24b",
   "metadata": {},
   "outputs": [
    {
     "name": "stdout",
     "output_type": "stream",
     "text": [
      "20 40 60 80 100 "
     ]
    }
   ],
   "source": [
    "my_list = [10, 20, 30, 40, 50, 60, 70, 80, 90, 100]\n",
    "for i in my_list[1::2]:\n",
    "    print(i, end=\" \")"
   ]
  },
  {
   "cell_type": "code",
   "execution_count": 79,
   "id": "fdbf6303",
   "metadata": {},
   "outputs": [
    {
     "name": "stdout",
     "output_type": "stream",
     "text": [
      "20 40 60 80 100 "
     ]
    }
   ],
   "source": [
    "my_list = [10,20,30,40,50,60,70,80,90,100]\n",
    "for i in my_list[1::2]:\n",
    "    print(i, end = \" \")"
   ]
  },
  {
   "cell_type": "code",
   "execution_count": null,
   "id": "096c299c",
   "metadata": {},
   "outputs": [],
   "source": [
    "input_number = 6\n",
    "for i in range(1, input_number + 1):\n",
    "    print(\"Current Number is :\", i, \" and the cube is\", (i * i * i))"
   ]
  },
  {
   "cell_type": "code",
   "execution_count": 81,
   "id": "96569c34",
   "metadata": {},
   "outputs": [
    {
     "name": "stdout",
     "output_type": "stream",
     "text": [
      "Current number is 1 and the cube is 1\n",
      "Current number is 2 and the cube is 8\n",
      "Current number is 3 and the cube is 27\n",
      "Current number is 4 and the cube is 64\n",
      "Current number is 5 and the cube is 125\n",
      "Current number is 6 and the cube is 216\n",
      "Current number is 7 and the cube is 343\n",
      "Current number is 8 and the cube is 512\n",
      "Current number is 9 and the cube is 729\n"
     ]
    }
   ],
   "source": [
    "input_number = 9\n",
    "for i in range (1, input_number + 1): \n",
    "    print(\"Current number is\",i,\"and the cube is\",(i* i* i))"
   ]
  },
  {
   "cell_type": "code",
   "execution_count": 82,
   "id": "4187e0f2",
   "metadata": {},
   "outputs": [
    {
     "name": "stdout",
     "output_type": "stream",
     "text": [
      "2+22+222+2222+22222+\n",
      "Sum of above series is: 24690\n"
     ]
    }
   ],
   "source": [
    "n = 5\n",
    "# first number of sequence\n",
    "start = 2\n",
    "sum_seq = 0\n",
    "\n",
    "# run loop n times\n",
    "for i in range(0, n):\n",
    "    print(start, end=\"+\")\n",
    "    sum_seq += start\n",
    "    # calculate the next term\n",
    "    start = start * 10 + 2\n",
    "print(\"\\nSum of above series is:\", sum_seq)"
   ]
  },
  {
   "cell_type": "code",
   "execution_count": 84,
   "id": "c1a4b0fe",
   "metadata": {},
   "outputs": [
    {
     "name": "stdout",
     "output_type": "stream",
     "text": [
      "5+52+522+5222+52222+\n",
      " sum of the above series is: 58023\n"
     ]
    }
   ],
   "source": [
    "n = 5 \n",
    "start = 5 \n",
    "sum_seq = 0\n",
    "\n",
    "for i in range(0,n):\n",
    "    print(start, end = \"+\")\n",
    "    sum_seq += start \n",
    "    start = start * 10 + 2\n",
    "print (\"\\n sum of the above series is:\",sum_seq) "
   ]
  },
  {
   "cell_type": "code",
   "execution_count": null,
   "id": "e5c73f2e",
   "metadata": {},
   "outputs": [],
   "source": [
    "rows = 5\n",
    "for i in range(0, rows):\n",
    "    for j in range(0, i + 1):\n",
    "        print(\"*\", end=' ')\n",
    "    print(\"\\r\")\n",
    "\n",
    "for i in range(rows, 0, -1):\n",
    "    for j in range(0, i - 1):\n",
    "        print(\"*\", end=' ')\n",
    "    print(\"\\r\")"
   ]
  },
  {
   "cell_type": "code",
   "execution_count": 85,
   "id": "b8baf3f7",
   "metadata": {},
   "outputs": [
    {
     "name": "stdout",
     "output_type": "stream",
     "text": [
      "* \r\n",
      "* * \r\n",
      "* * * \r\n",
      "* * * * \r\n",
      "* * * * * \r\n",
      "* * * * \r\n",
      "* * * \r\n",
      "* * \r\n",
      "* \r\n",
      "\r\n"
     ]
    }
   ],
   "source": [
    "rows = 5 \n",
    "for i in range (0,rows): \n",
    "    for j in range(0, i + 1):\n",
    "        print(\"*\", end =' ')\n",
    "    print(\"\\r\")\n",
    "for i in range(rows, 0, -1):\n",
    "    for j in range(0,i-1):\n",
    "        print(\"*\", end = ' ')\n",
    "    print(\"\\r\")"
   ]
  },
  {
   "cell_type": "code",
   "execution_count": 87,
   "id": "91a2126f",
   "metadata": {},
   "outputs": [
    {
     "name": "stdout",
     "output_type": "stream",
     "text": [
      "{'Name': ['Joe', 'Nat'], 'Age': [20, 21], 'Marks': [85.1, 77.8]}\n",
      "  Name  Age  Marks\n",
      "0  Joe   20   85.1\n",
      "1  Nat   21   77.8\n"
     ]
    }
   ],
   "source": [
    "import pandas as pd \n",
    "student_dict = {'Name': ['Joe', 'Nat'], 'Age': [20, 21], 'Marks': [85.10, 77.80]}\n",
    "print(student_dict)\n",
    "\n",
    "# Create DataFrame from dict\n",
    "student_df = pd.DataFrame(student_dict)\n",
    "print(student_df)"
   ]
  },
  {
   "cell_type": "code",
   "execution_count": 88,
   "id": "591849c4",
   "metadata": {},
   "outputs": [
    {
     "name": "stdout",
     "output_type": "stream",
     "text": [
      "{'Name': ['Arunima', 'Tutul'], 'Age': [20, 21], 'Marks': [89, 98]}\n",
      "      Name  Age  Marks\n",
      "0  Arunima   20     89\n",
      "1    Tutul   21     98\n"
     ]
    }
   ],
   "source": [
    "import pandas as pd\n",
    "student_dict = {'Name':['Arunima','Tutul'],'Age':[20,21],'Marks':[89,98]}\n",
    "print(student_dict)\n",
    "student_df = pd.DataFrame(student_dict)\n",
    "print(student_df)"
   ]
  },
  {
   "cell_type": "code",
   "execution_count": 91,
   "id": "3c2de4f1",
   "metadata": {},
   "outputs": [
    {
     "name": "stdout",
     "output_type": "stream",
     "text": [
      "    index      company   body-style  wheel-base  length engine-type  \\\n",
      "0       0  alfa-romero  convertible        88.6   168.8        dohc   \n",
      "1       1  alfa-romero  convertible        88.6   168.8        dohc   \n",
      "2       2  alfa-romero    hatchback        94.5   171.2        ohcv   \n",
      "3       3         audi        sedan        99.8   176.6         ohc   \n",
      "4       4         audi        sedan        99.4   176.6         ohc   \n",
      "..    ...          ...          ...         ...     ...         ...   \n",
      "56     81   volkswagen        sedan        97.3   171.7         ohc   \n",
      "57     82   volkswagen        sedan        97.3   171.7         ohc   \n",
      "58     86   volkswagen        sedan        97.3   171.7         ohc   \n",
      "59     87        volvo        sedan       104.3   188.8         ohc   \n",
      "60     88        volvo        wagon       104.3   188.8         ohc   \n",
      "\n",
      "   num-of-cylinders  horsepower  average-mileage    price  \n",
      "0              four         111               21  13495.0  \n",
      "1              four         111               21  16500.0  \n",
      "2               six         154               19  16500.0  \n",
      "3              four         102               24  13950.0  \n",
      "4              five         115               18  17450.0  \n",
      "..              ...         ...              ...      ...  \n",
      "56             four          85               27   7975.0  \n",
      "57             four          52               37   7995.0  \n",
      "58             four         100               26   9995.0  \n",
      "59             four         114               23  12940.0  \n",
      "60             four         114               23  13415.0  \n",
      "\n",
      "[61 rows x 10 columns]\n"
     ]
    }
   ],
   "source": [
    "import pandas as pd \n",
    "df= pd.read_csv(\"C:/Users/Arunima/Downloads/Automobile_data.csv\")\n",
    "print(df)"
   ]
  },
  {
   "cell_type": "code",
   "execution_count": 92,
   "id": "64fc4ace",
   "metadata": {},
   "outputs": [
    {
     "ename": "NameError",
     "evalue": "name 'cars' is not defined",
     "output_type": "error",
     "traceback": [
      "\u001b[1;31m---------------------------------------------------------------------------\u001b[0m",
      "\u001b[1;31mNameError\u001b[0m                                 Traceback (most recent call last)",
      "\u001b[1;32m~\\AppData\\Local\\Temp/ipykernel_10364/3999747376.py\u001b[0m in \u001b[0;36m<module>\u001b[1;34m\u001b[0m\n\u001b[0;32m      8\u001b[0m \u001b[1;33m\u001b[0m\u001b[0m\n\u001b[0;32m      9\u001b[0m \u001b[1;31m# Print DataFrame\u001b[0m\u001b[1;33m\u001b[0m\u001b[1;33m\u001b[0m\u001b[0m\n\u001b[1;32m---> 10\u001b[1;33m \u001b[0mprint\u001b[0m\u001b[1;33m(\u001b[0m\u001b[0mcars\u001b[0m\u001b[1;33m)\u001b[0m\u001b[1;33m\u001b[0m\u001b[1;33m\u001b[0m\u001b[0m\n\u001b[0m",
      "\u001b[1;31mNameError\u001b[0m: name 'cars' is not defined"
     ]
    }
   ],
   "source": [
    "import pandas as pd\n",
    "\n",
    "# Setting maximum rows to be shown \n",
    "pd.options.display.max_rows = 20\n",
    "\n",
    "# Setting minimum rows to be shown\n",
    "pd.set_option(\"display.min_rows\", 5)\n",
    "\n",
    "# Print DataFrame\n",
    "print(cars)"
   ]
  },
  {
   "cell_type": "code",
   "execution_count": 94,
   "id": "b18e070c",
   "metadata": {},
   "outputs": [
    {
     "name": "stdout",
     "output_type": "stream",
     "text": [
      "<class 'pandas.core.frame.DataFrame'>\n",
      "RangeIndex: 2 entries, 0 to 1\n",
      "Data columns (total 3 columns):\n",
      " #   Column  Non-Null Count  Dtype \n",
      "---  ------  --------------  ----- \n",
      " 0   Name    2 non-null      object\n",
      " 1   Age     2 non-null      int64 \n",
      " 2   Marks   2 non-null      int64 \n",
      "dtypes: int64(2), object(1)\n",
      "memory usage: 176.0+ bytes\n"
     ]
    }
   ],
   "source": [
    "student_df.info()"
   ]
  },
  {
   "cell_type": "code",
   "execution_count": 97,
   "id": "d64f47db",
   "metadata": {},
   "outputs": [
    {
     "data": {
      "text/html": [
       "<div>\n",
       "<style scoped>\n",
       "    .dataframe tbody tr th:only-of-type {\n",
       "        vertical-align: middle;\n",
       "    }\n",
       "\n",
       "    .dataframe tbody tr th {\n",
       "        vertical-align: top;\n",
       "    }\n",
       "\n",
       "    .dataframe thead th {\n",
       "        text-align: right;\n",
       "    }\n",
       "</style>\n",
       "<table border=\"1\" class=\"dataframe\">\n",
       "  <thead>\n",
       "    <tr style=\"text-align: right;\">\n",
       "      <th></th>\n",
       "      <th>index</th>\n",
       "      <th>company</th>\n",
       "      <th>body-style</th>\n",
       "      <th>wheel-base</th>\n",
       "      <th>length</th>\n",
       "      <th>engine-type</th>\n",
       "      <th>num-of-cylinders</th>\n",
       "      <th>horsepower</th>\n",
       "      <th>average-mileage</th>\n",
       "      <th>price</th>\n",
       "    </tr>\n",
       "  </thead>\n",
       "  <tbody>\n",
       "    <tr>\n",
       "      <th>0</th>\n",
       "      <td>0</td>\n",
       "      <td>alfa-romero</td>\n",
       "      <td>convertible</td>\n",
       "      <td>88.6</td>\n",
       "      <td>168.8</td>\n",
       "      <td>dohc</td>\n",
       "      <td>four</td>\n",
       "      <td>111</td>\n",
       "      <td>21</td>\n",
       "      <td>13495.0</td>\n",
       "    </tr>\n",
       "    <tr>\n",
       "      <th>1</th>\n",
       "      <td>1</td>\n",
       "      <td>alfa-romero</td>\n",
       "      <td>convertible</td>\n",
       "      <td>88.6</td>\n",
       "      <td>168.8</td>\n",
       "      <td>dohc</td>\n",
       "      <td>four</td>\n",
       "      <td>111</td>\n",
       "      <td>21</td>\n",
       "      <td>16500.0</td>\n",
       "    </tr>\n",
       "    <tr>\n",
       "      <th>...</th>\n",
       "      <td>...</td>\n",
       "      <td>...</td>\n",
       "      <td>...</td>\n",
       "      <td>...</td>\n",
       "      <td>...</td>\n",
       "      <td>...</td>\n",
       "      <td>...</td>\n",
       "      <td>...</td>\n",
       "      <td>...</td>\n",
       "      <td>...</td>\n",
       "    </tr>\n",
       "    <tr>\n",
       "      <th>59</th>\n",
       "      <td>87</td>\n",
       "      <td>volvo</td>\n",
       "      <td>sedan</td>\n",
       "      <td>104.3</td>\n",
       "      <td>188.8</td>\n",
       "      <td>ohc</td>\n",
       "      <td>four</td>\n",
       "      <td>114</td>\n",
       "      <td>23</td>\n",
       "      <td>12940.0</td>\n",
       "    </tr>\n",
       "    <tr>\n",
       "      <th>60</th>\n",
       "      <td>88</td>\n",
       "      <td>volvo</td>\n",
       "      <td>wagon</td>\n",
       "      <td>104.3</td>\n",
       "      <td>188.8</td>\n",
       "      <td>ohc</td>\n",
       "      <td>four</td>\n",
       "      <td>114</td>\n",
       "      <td>23</td>\n",
       "      <td>13415.0</td>\n",
       "    </tr>\n",
       "  </tbody>\n",
       "</table>\n",
       "<p>61 rows × 10 columns</p>\n",
       "</div>"
      ],
      "text/plain": [
       "    index      company   body-style  wheel-base  length engine-type  \\\n",
       "0       0  alfa-romero  convertible        88.6   168.8        dohc   \n",
       "1       1  alfa-romero  convertible        88.6   168.8        dohc   \n",
       "..    ...          ...          ...         ...     ...         ...   \n",
       "59     87        volvo        sedan       104.3   188.8         ohc   \n",
       "60     88        volvo        wagon       104.3   188.8         ohc   \n",
       "\n",
       "   num-of-cylinders  horsepower  average-mileage    price  \n",
       "0              four         111               21  13495.0  \n",
       "1              four         111               21  16500.0  \n",
       "..              ...         ...              ...      ...  \n",
       "59             four         114               23  12940.0  \n",
       "60             four         114               23  13415.0  \n",
       "\n",
       "[61 rows x 10 columns]"
      ]
     },
     "execution_count": 97,
     "metadata": {},
     "output_type": "execute_result"
    }
   ],
   "source": [
    "df"
   ]
  },
  {
   "cell_type": "code",
   "execution_count": 106,
   "id": "41f2e2f2",
   "metadata": {},
   "outputs": [
    {
     "data": {
      "text/html": [
       "<div>\n",
       "<style scoped>\n",
       "    .dataframe tbody tr th:only-of-type {\n",
       "        vertical-align: middle;\n",
       "    }\n",
       "\n",
       "    .dataframe tbody tr th {\n",
       "        vertical-align: top;\n",
       "    }\n",
       "\n",
       "    .dataframe thead th {\n",
       "        text-align: right;\n",
       "    }\n",
       "</style>\n",
       "<table border=\"1\" class=\"dataframe\">\n",
       "  <thead>\n",
       "    <tr style=\"text-align: right;\">\n",
       "      <th></th>\n",
       "      <th>Age</th>\n",
       "      <th>Marks</th>\n",
       "    </tr>\n",
       "  </thead>\n",
       "  <tbody>\n",
       "    <tr>\n",
       "      <th>count</th>\n",
       "      <td>2.000000</td>\n",
       "      <td>2.000000</td>\n",
       "    </tr>\n",
       "    <tr>\n",
       "      <th>mean</th>\n",
       "      <td>20.500000</td>\n",
       "      <td>93.500000</td>\n",
       "    </tr>\n",
       "    <tr>\n",
       "      <th>std</th>\n",
       "      <td>0.707107</td>\n",
       "      <td>6.363961</td>\n",
       "    </tr>\n",
       "    <tr>\n",
       "      <th>min</th>\n",
       "      <td>20.000000</td>\n",
       "      <td>89.000000</td>\n",
       "    </tr>\n",
       "    <tr>\n",
       "      <th>25%</th>\n",
       "      <td>20.250000</td>\n",
       "      <td>91.250000</td>\n",
       "    </tr>\n",
       "    <tr>\n",
       "      <th>50%</th>\n",
       "      <td>20.500000</td>\n",
       "      <td>93.500000</td>\n",
       "    </tr>\n",
       "    <tr>\n",
       "      <th>75%</th>\n",
       "      <td>20.750000</td>\n",
       "      <td>95.750000</td>\n",
       "    </tr>\n",
       "    <tr>\n",
       "      <th>max</th>\n",
       "      <td>21.000000</td>\n",
       "      <td>98.000000</td>\n",
       "    </tr>\n",
       "  </tbody>\n",
       "</table>\n",
       "</div>"
      ],
      "text/plain": [
       "             Age      Marks\n",
       "count   2.000000   2.000000\n",
       "mean   20.500000  93.500000\n",
       "std     0.707107   6.363961\n",
       "min    20.000000  89.000000\n",
       "25%    20.250000  91.250000\n",
       "50%    20.500000  93.500000\n",
       "75%    20.750000  95.750000\n",
       "max    21.000000  98.000000"
      ]
     },
     "execution_count": 106,
     "metadata": {},
     "output_type": "execute_result"
    }
   ],
   "source": [
    "student_df.describe()"
   ]
  },
  {
   "cell_type": "code",
   "execution_count": 107,
   "id": "740df9b2",
   "metadata": {},
   "outputs": [
    {
     "data": {
      "text/html": [
       "<div>\n",
       "<style scoped>\n",
       "    .dataframe tbody tr th:only-of-type {\n",
       "        vertical-align: middle;\n",
       "    }\n",
       "\n",
       "    .dataframe tbody tr th {\n",
       "        vertical-align: top;\n",
       "    }\n",
       "\n",
       "    .dataframe thead th {\n",
       "        text-align: right;\n",
       "    }\n",
       "</style>\n",
       "<table border=\"1\" class=\"dataframe\">\n",
       "  <thead>\n",
       "    <tr style=\"text-align: right;\">\n",
       "      <th></th>\n",
       "      <th>index</th>\n",
       "      <th>company</th>\n",
       "      <th>body-style</th>\n",
       "      <th>wheel-base</th>\n",
       "      <th>length</th>\n",
       "      <th>engine-type</th>\n",
       "      <th>num-of-cylinders</th>\n",
       "      <th>horsepower</th>\n",
       "      <th>average-mileage</th>\n",
       "      <th>price</th>\n",
       "    </tr>\n",
       "  </thead>\n",
       "  <tbody>\n",
       "    <tr>\n",
       "      <th>0</th>\n",
       "      <td>0</td>\n",
       "      <td>alfa-romero</td>\n",
       "      <td>convertible</td>\n",
       "      <td>88.6</td>\n",
       "      <td>168.8</td>\n",
       "      <td>dohc</td>\n",
       "      <td>four</td>\n",
       "      <td>111</td>\n",
       "      <td>21</td>\n",
       "      <td>13495.0</td>\n",
       "    </tr>\n",
       "    <tr>\n",
       "      <th>1</th>\n",
       "      <td>1</td>\n",
       "      <td>alfa-romero</td>\n",
       "      <td>convertible</td>\n",
       "      <td>88.6</td>\n",
       "      <td>168.8</td>\n",
       "      <td>dohc</td>\n",
       "      <td>four</td>\n",
       "      <td>111</td>\n",
       "      <td>21</td>\n",
       "      <td>16500.0</td>\n",
       "    </tr>\n",
       "    <tr>\n",
       "      <th>2</th>\n",
       "      <td>2</td>\n",
       "      <td>alfa-romero</td>\n",
       "      <td>hatchback</td>\n",
       "      <td>94.5</td>\n",
       "      <td>171.2</td>\n",
       "      <td>ohcv</td>\n",
       "      <td>six</td>\n",
       "      <td>154</td>\n",
       "      <td>19</td>\n",
       "      <td>16500.0</td>\n",
       "    </tr>\n",
       "    <tr>\n",
       "      <th>3</th>\n",
       "      <td>3</td>\n",
       "      <td>audi</td>\n",
       "      <td>sedan</td>\n",
       "      <td>99.8</td>\n",
       "      <td>176.6</td>\n",
       "      <td>ohc</td>\n",
       "      <td>four</td>\n",
       "      <td>102</td>\n",
       "      <td>24</td>\n",
       "      <td>13950.0</td>\n",
       "    </tr>\n",
       "    <tr>\n",
       "      <th>4</th>\n",
       "      <td>4</td>\n",
       "      <td>audi</td>\n",
       "      <td>sedan</td>\n",
       "      <td>99.4</td>\n",
       "      <td>176.6</td>\n",
       "      <td>ohc</td>\n",
       "      <td>five</td>\n",
       "      <td>115</td>\n",
       "      <td>18</td>\n",
       "      <td>17450.0</td>\n",
       "    </tr>\n",
       "  </tbody>\n",
       "</table>\n",
       "</div>"
      ],
      "text/plain": [
       "   index      company   body-style  wheel-base  length engine-type  \\\n",
       "0      0  alfa-romero  convertible        88.6   168.8        dohc   \n",
       "1      1  alfa-romero  convertible        88.6   168.8        dohc   \n",
       "2      2  alfa-romero    hatchback        94.5   171.2        ohcv   \n",
       "3      3         audi        sedan        99.8   176.6         ohc   \n",
       "4      4         audi        sedan        99.4   176.6         ohc   \n",
       "\n",
       "  num-of-cylinders  horsepower  average-mileage    price  \n",
       "0             four         111               21  13495.0  \n",
       "1             four         111               21  16500.0  \n",
       "2              six         154               19  16500.0  \n",
       "3             four         102               24  13950.0  \n",
       "4             five         115               18  17450.0  "
      ]
     },
     "execution_count": 107,
     "metadata": {},
     "output_type": "execute_result"
    }
   ],
   "source": [
    "df.head()"
   ]
  },
  {
   "cell_type": "code",
   "execution_count": 108,
   "id": "73a3e345",
   "metadata": {},
   "outputs": [
    {
     "data": {
      "text/html": [
       "<div>\n",
       "<style scoped>\n",
       "    .dataframe tbody tr th:only-of-type {\n",
       "        vertical-align: middle;\n",
       "    }\n",
       "\n",
       "    .dataframe tbody tr th {\n",
       "        vertical-align: top;\n",
       "    }\n",
       "\n",
       "    .dataframe thead th {\n",
       "        text-align: right;\n",
       "    }\n",
       "</style>\n",
       "<table border=\"1\" class=\"dataframe\">\n",
       "  <thead>\n",
       "    <tr style=\"text-align: right;\">\n",
       "      <th></th>\n",
       "      <th>index</th>\n",
       "      <th>company</th>\n",
       "      <th>body-style</th>\n",
       "      <th>wheel-base</th>\n",
       "      <th>length</th>\n",
       "      <th>engine-type</th>\n",
       "      <th>num-of-cylinders</th>\n",
       "      <th>horsepower</th>\n",
       "      <th>average-mileage</th>\n",
       "      <th>price</th>\n",
       "    </tr>\n",
       "  </thead>\n",
       "  <tbody>\n",
       "    <tr>\n",
       "      <th>56</th>\n",
       "      <td>81</td>\n",
       "      <td>volkswagen</td>\n",
       "      <td>sedan</td>\n",
       "      <td>97.3</td>\n",
       "      <td>171.7</td>\n",
       "      <td>ohc</td>\n",
       "      <td>four</td>\n",
       "      <td>85</td>\n",
       "      <td>27</td>\n",
       "      <td>7975.0</td>\n",
       "    </tr>\n",
       "    <tr>\n",
       "      <th>57</th>\n",
       "      <td>82</td>\n",
       "      <td>volkswagen</td>\n",
       "      <td>sedan</td>\n",
       "      <td>97.3</td>\n",
       "      <td>171.7</td>\n",
       "      <td>ohc</td>\n",
       "      <td>four</td>\n",
       "      <td>52</td>\n",
       "      <td>37</td>\n",
       "      <td>7995.0</td>\n",
       "    </tr>\n",
       "    <tr>\n",
       "      <th>58</th>\n",
       "      <td>86</td>\n",
       "      <td>volkswagen</td>\n",
       "      <td>sedan</td>\n",
       "      <td>97.3</td>\n",
       "      <td>171.7</td>\n",
       "      <td>ohc</td>\n",
       "      <td>four</td>\n",
       "      <td>100</td>\n",
       "      <td>26</td>\n",
       "      <td>9995.0</td>\n",
       "    </tr>\n",
       "    <tr>\n",
       "      <th>59</th>\n",
       "      <td>87</td>\n",
       "      <td>volvo</td>\n",
       "      <td>sedan</td>\n",
       "      <td>104.3</td>\n",
       "      <td>188.8</td>\n",
       "      <td>ohc</td>\n",
       "      <td>four</td>\n",
       "      <td>114</td>\n",
       "      <td>23</td>\n",
       "      <td>12940.0</td>\n",
       "    </tr>\n",
       "    <tr>\n",
       "      <th>60</th>\n",
       "      <td>88</td>\n",
       "      <td>volvo</td>\n",
       "      <td>wagon</td>\n",
       "      <td>104.3</td>\n",
       "      <td>188.8</td>\n",
       "      <td>ohc</td>\n",
       "      <td>four</td>\n",
       "      <td>114</td>\n",
       "      <td>23</td>\n",
       "      <td>13415.0</td>\n",
       "    </tr>\n",
       "  </tbody>\n",
       "</table>\n",
       "</div>"
      ],
      "text/plain": [
       "    index     company body-style  wheel-base  length engine-type  \\\n",
       "56     81  volkswagen      sedan        97.3   171.7         ohc   \n",
       "57     82  volkswagen      sedan        97.3   171.7         ohc   \n",
       "58     86  volkswagen      sedan        97.3   171.7         ohc   \n",
       "59     87       volvo      sedan       104.3   188.8         ohc   \n",
       "60     88       volvo      wagon       104.3   188.8         ohc   \n",
       "\n",
       "   num-of-cylinders  horsepower  average-mileage    price  \n",
       "56             four          85               27   7975.0  \n",
       "57             four          52               37   7995.0  \n",
       "58             four         100               26   9995.0  \n",
       "59             four         114               23  12940.0  \n",
       "60             four         114               23  13415.0  "
      ]
     },
     "execution_count": 108,
     "metadata": {},
     "output_type": "execute_result"
    }
   ],
   "source": [
    "df.tail()"
   ]
  },
  {
   "cell_type": "code",
   "execution_count": 109,
   "id": "cc4c0285",
   "metadata": {},
   "outputs": [
    {
     "name": "stdout",
     "output_type": "stream",
     "text": [
      "DataFrame :      Name  Age  Marks\n",
      "0    Joe   20  85.10\n",
      "1    Nat   21  77.80\n",
      "2  Harry   19  91.54\n",
      "DataFrame Index :  RangeIndex(start=0, stop=3, step=1)\n",
      "DataFrame Columns :  Index(['Name', 'Age', 'Marks'], dtype='object')\n",
      "DataFrame Column types :  Name      object\n",
      "Age        int64\n",
      "Marks    float64\n",
      "dtype: object\n",
      "DataFrame is empty? :  False\n",
      "DataFrame Shape :  (3, 3)\n",
      "DataFrame Size :  9\n",
      "DataFrame Values :  [['Joe' 20 85.1]\n",
      " ['Nat' 21 77.8]\n",
      " ['Harry' 19 91.54]]\n"
     ]
    }
   ],
   "source": [
    "import pandas as pd\n",
    "\n",
    "# Create DataFrame from dict\n",
    "student_dict = {'Name': ['Joe', 'Nat', 'Harry'], 'Age': [20, 21, 19], 'Marks': [85.10, 77.80, 91.54]}\n",
    "\n",
    "student_df = pd.DataFrame(student_dict)\n",
    "\n",
    "print(\"DataFrame : \", student_df)\n",
    "\n",
    "print(\"DataFrame Index : \", student_df.index)\n",
    "print(\"DataFrame Columns : \", student_df.columns)\n",
    "\n",
    "print(\"DataFrame Column types : \", student_df.dtypes)\n",
    "\n",
    "print(\"DataFrame is empty? : \", student_df.empty)\n",
    "\n",
    "print(\"DataFrame Shape : \", student_df.shape)\n",
    "print(\"DataFrame Size : \", student_df.size)\n",
    "\n",
    "print(\"DataFrame Values : \", student_df.values)"
   ]
  },
  {
   "cell_type": "code",
   "execution_count": 112,
   "id": "eb039a31",
   "metadata": {},
   "outputs": [
    {
     "name": "stdout",
     "output_type": "stream",
     "text": [
      "20\n"
     ]
    }
   ],
   "source": [
    "print(student_df.at[0, 'Age'])"
   ]
  },
  {
   "cell_type": "code",
   "execution_count": 115,
   "id": "b538cb9a",
   "metadata": {},
   "outputs": [
    {
     "name": "stdout",
     "output_type": "stream",
     "text": [
      "21\n"
     ]
    }
   ],
   "source": [
    "print(student_df.iat[1, 1])"
   ]
  },
  {
   "cell_type": "code",
   "execution_count": 118,
   "id": "478a60f1",
   "metadata": {},
   "outputs": [
    {
     "name": "stdout",
     "output_type": "stream",
     "text": [
      "0      Joe\n",
      "1      Nat\n",
      "2    Harry\n",
      "Name: Name, dtype: object\n"
     ]
    }
   ],
   "source": [
    "print(student_df.get('Name'))"
   ]
  },
  {
   "cell_type": "code",
   "execution_count": 119,
   "id": "e9d3b659",
   "metadata": {},
   "outputs": [
    {
     "name": "stdout",
     "output_type": "stream",
     "text": [
      "    Name\n",
      "0    Joe\n",
      "1    Nat\n",
      "2  Harry\n"
     ]
    }
   ],
   "source": [
    "print(student_df.loc[0:2, ['Name']])"
   ]
  },
  {
   "cell_type": "code",
   "execution_count": 120,
   "id": "5b744efb",
   "metadata": {},
   "outputs": [
    {
     "name": "stdout",
     "output_type": "stream",
     "text": [
      "  Name  Age\n",
      "0  Joe   20\n",
      "1  Nat   21\n"
     ]
    }
   ],
   "source": [
    "print(student_df.iloc[0:2, 0:2])"
   ]
  },
  {
   "cell_type": "code",
   "execution_count": 121,
   "id": "83f73c50",
   "metadata": {},
   "outputs": [
    {
     "name": "stdout",
     "output_type": "stream",
     "text": [
      "    Name  Age  Marks\n",
      "0    Joe   20  85.10\n",
      "1    Nat   21  77.80\n",
      "2  Harry   19  91.54\n",
      "    Name  Age Class  Marks\n",
      "0    Joe   20     A  85.10\n",
      "1    Nat   21     A  77.80\n",
      "2  Harry   19     A  91.54\n"
     ]
    }
   ],
   "source": [
    "import pandas as pd\n",
    "\n",
    "# Create DataFrame from dict\n",
    "student_dict = {'Name': ['Joe', 'Nat', 'Harry'], 'Age': [20, 21, 19], 'Marks': [85.10, 77.80, 91.54]}\n",
    "student_df = pd.DataFrame(student_dict)\n",
    "print(student_df)\n",
    "\n",
    "# insert new column in dataframe and display\n",
    "student_df.insert(loc=2, column=\"Class\", value='A')\n",
    "print(student_df)"
   ]
  },
  {
   "cell_type": "code",
   "execution_count": 122,
   "id": "612c4b18",
   "metadata": {},
   "outputs": [
    {
     "name": "stdout",
     "output_type": "stream",
     "text": [
      "    Name  Age  Marks\n",
      "0    Joe   20  85.10\n",
      "1    Nat   21  77.80\n",
      "2  Harry   19  91.54\n",
      "    Name  Age Class  Marks\n",
      "0    Joe   20     A  85.10\n",
      "1    Nat   21     A  77.80\n",
      "2  Harry   19     A  91.54\n"
     ]
    }
   ],
   "source": [
    "import pandas as pd\n",
    "student_dict = {'Name':['Joe','Nat','Harry'],'Age': [20,21,19],'Marks':[85.10,77.80,91.54]}\n",
    "student_df = pd.DataFrame(student_dict)\n",
    "print(student_df)\n",
    "\n",
    "student_df.insert(loc=2,column =\"Class\",value='A')\n",
    "print(student_df)"
   ]
  },
  {
   "cell_type": "code",
   "execution_count": 123,
   "id": "f170ce41",
   "metadata": {},
   "outputs": [
    {
     "name": "stdout",
     "output_type": "stream",
     "text": [
      "    Name  Age  Marks\n",
      "0    Joe   20  85.10\n",
      "1    Nat   21  77.80\n",
      "2  Harry   19  91.54\n",
      "    Name  Marks\n",
      "0    Joe  85.10\n",
      "1    Nat  77.80\n",
      "2  Harry  91.54\n"
     ]
    }
   ],
   "source": [
    "import pandas as pd\n",
    "\n",
    "# Create DataFrame from dict\n",
    "student_dict = {'Name': ['Joe', 'Nat', 'Harry'], 'Age': [20, 21, 19], 'Marks': [85.10, 77.80, 91.54]}\n",
    "\n",
    "student_df = pd.DataFrame(student_dict)\n",
    "print(student_df)\n",
    "\n",
    "# delete column from dataframe\n",
    "student_df = student_df.drop(columns='Age')\n",
    "print(student_df)\n"
   ]
  },
  {
   "cell_type": "code",
   "execution_count": 124,
   "id": "68554470",
   "metadata": {},
   "outputs": [
    {
     "name": "stdout",
     "output_type": "stream",
     "text": [
      "    Name  Age  Marks\n",
      "0    Joe   20  85.10\n",
      "1    Nat   21  77.80\n",
      "2  Harry   19  91.54\n",
      "    Name  Age  Marks\n",
      "0    Joe   20  85.10\n",
      "1    Nat   21   0.00\n",
      "2  Harry   19  91.54\n"
     ]
    }
   ],
   "source": [
    "import pandas as pd\n",
    "\n",
    "# Create DataFrame from dict\n",
    "student_dict = {'Name': ['Joe', 'Nat', 'Harry'], 'Age': [20, 21, 19], 'Marks': [85.10, 77.80, 91.54]}\n",
    "\n",
    "student_df = pd.DataFrame(student_dict)\n",
    "print(student_df)\n",
    "\n",
    "# Define filter condition\n",
    "filter = student_df['Marks'] > 80\n",
    "\n",
    "student_df['Marks'].where(filter, other=0, inplace=True)\n",
    "print(student_df)"
   ]
  },
  {
   "cell_type": "code",
   "execution_count": 128,
   "id": "1f198f2a",
   "metadata": {},
   "outputs": [
    {
     "name": "stdout",
     "output_type": "stream",
     "text": [
      "    Name  Age  Marks\n",
      "0    Joe   20  85.10\n",
      "1    Nat   21   0.00\n",
      "2  Harry   19  91.54\n",
      "    Name  Age  Marks\n",
      "0    Joe   20  85.10\n",
      "1    Nat   21   0.00\n",
      "2  Harry   19  91.54\n"
     ]
    }
   ],
   "source": [
    "print(student_df)\n",
    "filter = student_df['Marks'] > 80 \n",
    "\n",
    "student_df['Marks'].where(filter, other=0, inplace=True)\n",
    "print(student_df)"
   ]
  },
  {
   "cell_type": "code",
   "execution_count": 129,
   "id": "cb036d0c",
   "metadata": {},
   "outputs": [
    {
     "name": "stdout",
     "output_type": "stream",
     "text": [
      "    Name  Age  Marks\n",
      "0    Joe   20  85.10\n",
      "1    Nat   21  77.80\n",
      "2  Harry   19  91.54\n",
      "    Name\n",
      "0    Joe\n",
      "1    Nat\n",
      "2  Harry\n"
     ]
    }
   ],
   "source": [
    "import pandas as pd\n",
    "\n",
    "# Create DataFrame from dict\n",
    "student_dict = {'Name': ['Joe', 'Nat', 'Harry'], 'Age': [20, 21, 19], 'Marks': [85.10, 77.80, 91.54]}\n",
    "\n",
    "student_df = pd.DataFrame(student_dict)\n",
    "print(student_df)\n",
    "\n",
    "# apply filter on dataframe\n",
    "student_df = student_df.filter(like='N', axis='columns')\n",
    "print(student_df)"
   ]
  },
  {
   "cell_type": "code",
   "execution_count": 130,
   "id": "cb21af8a",
   "metadata": {},
   "outputs": [
    {
     "name": "stdout",
     "output_type": "stream",
     "text": [
      "    Name  Age  Marks\n",
      "0    Joe   20  85.10\n",
      "1    Nat   21  77.80\n",
      "2  Harry   19  91.54\n",
      "    Name  Age  Percentage\n",
      "0    Joe   20       85.10\n",
      "1    Nat   21       77.80\n",
      "2  Harry   19       91.54\n"
     ]
    }
   ],
   "source": [
    "import pandas as pd\n",
    "\n",
    "# Create DataFrame from dict\n",
    "student_dict = {'Name': ['Joe', 'Nat', 'Harry'], 'Age': [20, 21, 19], 'Marks': [85.10, 77.80, 91.54]}\n",
    "\n",
    "student_df = pd.DataFrame(student_dict)\n",
    "print(student_df)\n",
    "\n",
    "# rename column\n",
    "student_df = student_df.rename(columns={'Marks': 'Percentage'})\n",
    "print(student_df)"
   ]
  },
  {
   "cell_type": "code",
   "execution_count": 131,
   "id": "bf0588c4",
   "metadata": {},
   "outputs": [
    {
     "name": "stdout",
     "output_type": "stream",
     "text": [
      "  Name  Age\n",
      "0  Joe   20\n",
      "1  Nat   21\n",
      "   Marks\n",
      "0   85.1\n",
      "1   77.8\n",
      "  Name  Age  Marks\n",
      "0  Joe   20   85.1\n",
      "1  Nat   21   77.8\n"
     ]
    }
   ],
   "source": [
    "import pandas as pd\n",
    "\n",
    "# create dataframe from dict \n",
    "student_dict = {'Name': ['Joe', 'Nat'], 'Age': [20, 21]}\n",
    "student_df = pd.DataFrame(student_dict)\n",
    "print(student_df)\n",
    "\n",
    "# create dataframe from dict \n",
    "marks_dict = {'Marks': [85.10, 77.80]}\n",
    "marks_df = pd.DataFrame(marks_dict)\n",
    "print(marks_df)\n",
    "\n",
    "# join dfs\n",
    "joined_df = student_df.join(marks_df)\n",
    "print(joined_df)"
   ]
  },
  {
   "cell_type": "code",
   "execution_count": 133,
   "id": "3181fb02",
   "metadata": {},
   "outputs": [
    {
     "name": "stdout",
     "output_type": "stream",
     "text": [
      "  Name  Age\n",
      "0  Joe   20\n",
      "1  Nat   21\n",
      "   Marks\n",
      "0   85.1\n",
      "1   77.8\n",
      "  Name  Age  Marks\n",
      "0  Joe   20   85.1\n",
      "1  Nat   21   77.8\n"
     ]
    }
   ],
   "source": [
    "import pandas as pd\n",
    "\n",
    "student_dict = {'Name': ['Joe','Nat'],'Age': [20,21]}\n",
    "student_df = pd.DataFrame(student_dict)\n",
    "print(student_df)\n",
    "\n",
    "marks_dict ={'Marks': [87.0,77.6]}\n",
    "narks_df = pd.DataFrame(marks_dict)\n",
    "\n",
    "print(marks_df)\n",
    "\n",
    "joined_df = student_df.join(marks_df)\n",
    "print(joined_df)"
   ]
  },
  {
   "cell_type": "code",
   "execution_count": 134,
   "id": "2635323b",
   "metadata": {},
   "outputs": [
    {
     "name": "stdout",
     "output_type": "stream",
     "text": [
      "    Name Class  Marks\n",
      "0    Joe     A  85.10\n",
      "1    Nat     B  77.80\n",
      "2  Harry     A  91.54\n",
      "       Marks\n",
      "Class       \n",
      "A      88.32\n",
      "B      77.80\n"
     ]
    }
   ],
   "source": [
    "import pandas as pd\n",
    "\n",
    "# Create DataFrame from dict\n",
    "student_dict = {'Name': ['Joe', 'Nat', 'Harry'], 'Class': ['A', 'B', 'A'], 'Marks': [85.10, 77.80, 91.54]}\n",
    "student_df = pd.DataFrame(student_dict)\n",
    "print(student_df)\n",
    "\n",
    "# apply group by \n",
    "student_df = student_df.groupby('Class').mean()\n",
    "print(student_df)\n"
   ]
  },
  {
   "cell_type": "code",
   "execution_count": 135,
   "id": "9870f3d9",
   "metadata": {},
   "outputs": [
    {
     "name": "stdout",
     "output_type": "stream",
     "text": [
      "    Name Class  Marks\n",
      "0    Joe     A  85.10\n",
      "1    Nat     B  77.80\n",
      "2  Harry     A  91.54\n"
     ]
    },
    {
     "ename": "KeyError",
     "evalue": "'class'",
     "output_type": "error",
     "traceback": [
      "\u001b[1;31m---------------------------------------------------------------------------\u001b[0m",
      "\u001b[1;31mKeyError\u001b[0m                                  Traceback (most recent call last)",
      "\u001b[1;32m~\\AppData\\Local\\Temp/ipykernel_10364/572508748.py\u001b[0m in \u001b[0;36m<module>\u001b[1;34m\u001b[0m\n\u001b[0;32m      4\u001b[0m \u001b[0mprint\u001b[0m\u001b[1;33m(\u001b[0m\u001b[0mstudent_df\u001b[0m\u001b[1;33m)\u001b[0m\u001b[1;33m\u001b[0m\u001b[1;33m\u001b[0m\u001b[0m\n\u001b[0;32m      5\u001b[0m \u001b[1;33m\u001b[0m\u001b[0m\n\u001b[1;32m----> 6\u001b[1;33m \u001b[0mstudent_df\u001b[0m \u001b[1;33m=\u001b[0m \u001b[0mstudent_df\u001b[0m\u001b[1;33m.\u001b[0m\u001b[0mgroupby\u001b[0m\u001b[1;33m(\u001b[0m\u001b[1;34m'class'\u001b[0m\u001b[1;33m)\u001b[0m\u001b[1;33m.\u001b[0m\u001b[0mmean\u001b[0m\u001b[1;33m(\u001b[0m\u001b[1;33m)\u001b[0m\u001b[1;33m\u001b[0m\u001b[1;33m\u001b[0m\u001b[0m\n\u001b[0m\u001b[0;32m      7\u001b[0m \u001b[0mprint\u001b[0m\u001b[1;33m(\u001b[0m\u001b[0mstudent_df\u001b[0m\u001b[1;33m)\u001b[0m\u001b[1;33m\u001b[0m\u001b[1;33m\u001b[0m\u001b[0m\n",
      "\u001b[1;32m~\\anaconda3\\lib\\site-packages\\pandas\\core\\frame.py\u001b[0m in \u001b[0;36mgroupby\u001b[1;34m(self, by, axis, level, as_index, sort, group_keys, squeeze, observed, dropna)\u001b[0m\n\u001b[0;32m   7629\u001b[0m         \u001b[1;31m# error: Argument \"squeeze\" to \"DataFrameGroupBy\" has incompatible type\u001b[0m\u001b[1;33m\u001b[0m\u001b[1;33m\u001b[0m\u001b[0m\n\u001b[0;32m   7630\u001b[0m         \u001b[1;31m# \"Union[bool, NoDefault]\"; expected \"bool\"\u001b[0m\u001b[1;33m\u001b[0m\u001b[1;33m\u001b[0m\u001b[0m\n\u001b[1;32m-> 7631\u001b[1;33m         return DataFrameGroupBy(\n\u001b[0m\u001b[0;32m   7632\u001b[0m             \u001b[0mobj\u001b[0m\u001b[1;33m=\u001b[0m\u001b[0mself\u001b[0m\u001b[1;33m,\u001b[0m\u001b[1;33m\u001b[0m\u001b[1;33m\u001b[0m\u001b[0m\n\u001b[0;32m   7633\u001b[0m             \u001b[0mkeys\u001b[0m\u001b[1;33m=\u001b[0m\u001b[0mby\u001b[0m\u001b[1;33m,\u001b[0m\u001b[1;33m\u001b[0m\u001b[1;33m\u001b[0m\u001b[0m\n",
      "\u001b[1;32m~\\anaconda3\\lib\\site-packages\\pandas\\core\\groupby\\groupby.py\u001b[0m in \u001b[0;36m__init__\u001b[1;34m(self, obj, keys, axis, level, grouper, exclusions, selection, as_index, sort, group_keys, squeeze, observed, mutated, dropna)\u001b[0m\n\u001b[0;32m    887\u001b[0m             \u001b[1;32mfrom\u001b[0m \u001b[0mpandas\u001b[0m\u001b[1;33m.\u001b[0m\u001b[0mcore\u001b[0m\u001b[1;33m.\u001b[0m\u001b[0mgroupby\u001b[0m\u001b[1;33m.\u001b[0m\u001b[0mgrouper\u001b[0m \u001b[1;32mimport\u001b[0m \u001b[0mget_grouper\u001b[0m\u001b[1;33m\u001b[0m\u001b[1;33m\u001b[0m\u001b[0m\n\u001b[0;32m    888\u001b[0m \u001b[1;33m\u001b[0m\u001b[0m\n\u001b[1;32m--> 889\u001b[1;33m             grouper, exclusions, obj = get_grouper(\n\u001b[0m\u001b[0;32m    890\u001b[0m                 \u001b[0mobj\u001b[0m\u001b[1;33m,\u001b[0m\u001b[1;33m\u001b[0m\u001b[1;33m\u001b[0m\u001b[0m\n\u001b[0;32m    891\u001b[0m                 \u001b[0mkeys\u001b[0m\u001b[1;33m,\u001b[0m\u001b[1;33m\u001b[0m\u001b[1;33m\u001b[0m\u001b[0m\n",
      "\u001b[1;32m~\\anaconda3\\lib\\site-packages\\pandas\\core\\groupby\\grouper.py\u001b[0m in \u001b[0;36mget_grouper\u001b[1;34m(obj, key, axis, level, sort, observed, mutated, validate, dropna)\u001b[0m\n\u001b[0;32m    860\u001b[0m                 \u001b[0min_axis\u001b[0m\u001b[1;33m,\u001b[0m \u001b[0mlevel\u001b[0m\u001b[1;33m,\u001b[0m \u001b[0mgpr\u001b[0m \u001b[1;33m=\u001b[0m \u001b[1;32mFalse\u001b[0m\u001b[1;33m,\u001b[0m \u001b[0mgpr\u001b[0m\u001b[1;33m,\u001b[0m \u001b[1;32mNone\u001b[0m\u001b[1;33m\u001b[0m\u001b[1;33m\u001b[0m\u001b[0m\n\u001b[0;32m    861\u001b[0m             \u001b[1;32melse\u001b[0m\u001b[1;33m:\u001b[0m\u001b[1;33m\u001b[0m\u001b[1;33m\u001b[0m\u001b[0m\n\u001b[1;32m--> 862\u001b[1;33m                 \u001b[1;32mraise\u001b[0m \u001b[0mKeyError\u001b[0m\u001b[1;33m(\u001b[0m\u001b[0mgpr\u001b[0m\u001b[1;33m)\u001b[0m\u001b[1;33m\u001b[0m\u001b[1;33m\u001b[0m\u001b[0m\n\u001b[0m\u001b[0;32m    863\u001b[0m         \u001b[1;32melif\u001b[0m \u001b[0misinstance\u001b[0m\u001b[1;33m(\u001b[0m\u001b[0mgpr\u001b[0m\u001b[1;33m,\u001b[0m \u001b[0mGrouper\u001b[0m\u001b[1;33m)\u001b[0m \u001b[1;32mand\u001b[0m \u001b[0mgpr\u001b[0m\u001b[1;33m.\u001b[0m\u001b[0mkey\u001b[0m \u001b[1;32mis\u001b[0m \u001b[1;32mnot\u001b[0m \u001b[1;32mNone\u001b[0m\u001b[1;33m:\u001b[0m\u001b[1;33m\u001b[0m\u001b[1;33m\u001b[0m\u001b[0m\n\u001b[0;32m    864\u001b[0m             \u001b[1;31m# Add key to exclusions\u001b[0m\u001b[1;33m\u001b[0m\u001b[1;33m\u001b[0m\u001b[0m\n",
      "\u001b[1;31mKeyError\u001b[0m: 'class'"
     ]
    }
   ],
   "source": [
    "import pandas as pd\n",
    "student_dict = {'Name': ['Joe', 'Nat', 'Harry'], 'Class': ['A', 'B', 'A'], 'Marks': [85.10, 77.80, 91.54]}\n",
    "student_df = pd.DataFrame(student_dict)\n",
    "print(student_df)\n",
    "\n",
    "student_df = student_df.groupby('class').mean()\n",
    "print(student_df)"
   ]
  },
  {
   "cell_type": "code",
   "execution_count": null,
   "id": "dad7e65b",
   "metadata": {},
   "outputs": [],
   "source": []
  },
  {
   "cell_type": "code",
   "execution_count": 136,
   "id": "15047e54",
   "metadata": {},
   "outputs": [
    {
     "name": "stdout",
     "output_type": "stream",
     "text": [
      "    Name Class  Marks\n",
      "0    Joe     A  85.10\n",
      "1    Nat     B  77.80\n",
      "2  Harry     A  91.54\n",
      "       Marks\n",
      "Class       \n",
      "A      88.32\n",
      "B      77.80\n"
     ]
    }
   ],
   "source": [
    "import pandas as pd\n",
    "\n",
    "# Create DataFrame from dict\n",
    "student_dict = {'Name': ['Joe', 'Nat', 'Harry'], 'Class': ['A', 'B', 'A'], 'Marks': [85.10, 77.80, 91.54]}\n",
    "student_df = pd.DataFrame(student_dict)\n",
    "print(student_df)\n",
    "\n",
    "# apply group by \n",
    "student_df = student_df.groupby('Class').mean()\n",
    "print(student_df)\n"
   ]
  },
  {
   "cell_type": "code",
   "execution_count": 137,
   "id": "a0ceb61c",
   "metadata": {},
   "outputs": [
    {
     "name": "stdout",
     "output_type": "stream",
     "text": [
      "0 Name     Joe\n",
      "Age       20\n",
      "Marks     85\n",
      "Name: 0, dtype: object\n",
      "1 Name     Nat\n",
      "Age       21\n",
      "Marks     77\n",
      "Name: 1, dtype: object\n"
     ]
    }
   ],
   "source": [
    "import pandas as pd\n",
    "\n",
    "# Create DataFrame from dict\n",
    "student_dict = {'Name': ['Joe', 'Nat'], 'Age': [20, 21], 'Marks': [85, 77]}\n",
    "student_df = pd.DataFrame(student_dict)\n",
    "\n",
    "# Iterate all the rows of DataFrame\n",
    "for index, row in student_df.iterrows():\n",
    "    print(index, row)"
   ]
  },
  {
   "cell_type": "code",
   "execution_count": 138,
   "id": "00c749f2",
   "metadata": {},
   "outputs": [
    {
     "name": "stdout",
     "output_type": "stream",
     "text": [
      "    Name  Age  Marks\n",
      "0    Joe   20  85.10\n",
      "1    Nat   21  77.80\n",
      "2  Harry   19  91.54\n",
      "    Name  Age  Marks\n",
      "1    Nat   21  77.80\n",
      "0    Joe   20  85.10\n",
      "2  Harry   19  91.54\n"
     ]
    }
   ],
   "source": [
    "import pandas as pd\n",
    "\n",
    "# Create DataFrame from dict\n",
    "student_dict = {'Name': ['Joe', 'Nat', 'Harry'], 'Age': [20, 21, 19], 'Marks': [85.10, 77.80, 91.54]}\n",
    "student_df = pd.DataFrame(student_dict)\n",
    "print(student_df)\n",
    "\n",
    "# rename column\n",
    "student_df = student_df.sort_values(by=['Marks'])\n",
    "print(student_df)"
   ]
  },
  {
   "cell_type": "code",
   "execution_count": 139,
   "id": "150b5880",
   "metadata": {},
   "outputs": [
    {
     "name": "stdout",
     "output_type": "stream",
     "text": [
      "{'Name': {1: 'Nat', 0: 'Joe', 2: 'Harry'}, 'Age': {1: 21, 0: 20, 2: 19}, 'Marks': {1: 77.8, 0: 85.1, 2: 91.54}}\n"
     ]
    }
   ],
   "source": [
    "dict = student_df.to_dict()\n",
    "print(dict)"
   ]
  },
  {
   "cell_type": "code",
   "execution_count": 140,
   "id": "c1223d81",
   "metadata": {},
   "outputs": [
    {
     "name": "stdout",
     "output_type": "stream",
     "text": [
      "    name  age  marks\n",
      "0    Joe   20  85.10\n",
      "1    Nat   21  77.80\n",
      "2  Harry   19  91.54\n",
      "3    Joe   20  85.10\n",
      "4    Nat   21  77.80\n",
      "    name  age  marks\n",
      "0    Joe   20  85.10\n",
      "1    Nat   21  77.80\n",
      "2  Harry   19  91.54\n"
     ]
    }
   ],
   "source": [
    "import pandas as pd\n",
    "\n",
    "student_dict = {\"name\": [\"Joe\", \"Nat\", \"Harry\", \"Joe\", \"Nat\"], \"age\": [20, 21, 19, 20, 21],\n",
    "                \"marks\": [85.10, 77.80, 91.54, 85.10, 77.80]}\n",
    "\n",
    "# Create DataFrame from dict\n",
    "student_df = pd.DataFrame(student_dict)\n",
    "print(student_df)\n",
    "\n",
    "# drop duplicate rows\n",
    "student_df = student_df.drop_duplicates()\n",
    "\n",
    "print(student_df)"
   ]
  },
  {
   "cell_type": "code",
   "execution_count": 141,
   "id": "54536c4b",
   "metadata": {},
   "outputs": [
    {
     "name": "stdout",
     "output_type": "stream",
     "text": [
      "    name  age  marks\n",
      "0    Joe   20  85.10\n",
      "1    Nat   21  77.80\n",
      "2  Harry   19  91.54\n",
      "3    Sam   21  77.80\n",
      "    name  age  marks\n",
      "0    Joe   20  85.10\n",
      "1    Nat   21  77.80\n",
      "2  Harry   19  91.54\n"
     ]
    }
   ],
   "source": [
    "import pandas as pd\n",
    "\n",
    "student_dict = {\"name\":[\"Joe\",\"Nat\",\"Harry\",\"Sam\" ], \"age\":[20,21,19,21], \"marks\":[85.10, 77.80, 91.54, 77.80]}\n",
    "\n",
    "# Create DataFrame from dict\n",
    "student_df = pd.DataFrame(student_dict)\n",
    "print(student_df)\n",
    "\n",
    "# drop duplicate rows\n",
    "student_df = student_df.drop_duplicates(subset=['age','marks'])\n",
    "\n",
    "print(student_df)"
   ]
  },
  {
   "cell_type": "code",
   "execution_count": 143,
   "id": "ec7ebdd8",
   "metadata": {},
   "outputs": [
    {
     "name": "stdout",
     "output_type": "stream",
     "text": [
      "    name  age  marks\n",
      "0    Joe   20  85.10\n",
      "1    Nat   21  77.80\n",
      "2  Harry   19  91.54\n",
      "3    Nat   21  77.80\n",
      "    name  age  marks\n",
      "0    Joe   20  85.10\n",
      "2  Harry   19  91.54\n",
      "3    Nat   21  77.80\n"
     ]
    }
   ],
   "source": [
    "import pandas as pd\n",
    "\n",
    "student_dict = {\"name\": [\"Joe\", \"Nat\", \"Harry\", \"Nat\"], \"age\": [20, 21, 19, 21], \"marks\": [85.10, 77.80, 91.54, 77.80]}\n",
    "\n",
    "# Create DataFrame from dict\n",
    "student_df = pd.DataFrame(student_dict)\n",
    "print(student_df)\n",
    "\n",
    "# drop duplicate rows\n",
    "student_df = student_df.drop_duplicates(keep='last')\n",
    "\n",
    "print(student_df)"
   ]
  },
  {
   "cell_type": "code",
   "execution_count": 144,
   "id": "af94a2b4",
   "metadata": {},
   "outputs": [
    {
     "name": "stdout",
     "output_type": "stream",
     "text": [
      "    name  age  marks\n",
      "0    Joe   20  85.10\n",
      "1    Nat   21  77.80\n",
      "2  Harry   19  91.54\n",
      "3    Nat   21  77.80\n",
      "    name  age  marks\n",
      "0    Joe   20  85.10\n",
      "2  Harry   19  91.54\n"
     ]
    }
   ],
   "source": [
    "import pandas as pd\n",
    "\n",
    "student_dict = {\"name\": [\"Joe\", \"Nat\", \"Harry\", \"Nat\"], \"age\": [20, 21, 19, 21], \"marks\": [85.10, 77.80, 91.54, 77.80]}\n",
    "\n",
    "# Create DataFrame from dict\n",
    "student_df = pd.DataFrame(student_dict)\n",
    "print(student_df)\n",
    "\n",
    "# drop all duplicate rows\n",
    "student_df = student_df.drop_duplicates(keep=False)\n",
    "\n",
    "print(student_df)"
   ]
  },
  {
   "cell_type": "code",
   "execution_count": 146,
   "id": "82c05554",
   "metadata": {},
   "outputs": [
    {
     "name": "stdout",
     "output_type": "stream",
     "text": [
      "    name  age  marks\n",
      "0    Joe   20  85.10\n",
      "1    Nat   21  77.80\n",
      "2  Harry   19  91.54\n",
      "3    Joe   20  85.10\n",
      "4    Nat   21  77.80\n",
      "    name  age  marks\n",
      "0    Joe   20  85.10\n",
      "1    Nat   21  77.80\n",
      "2  Harry   19  91.54\n"
     ]
    }
   ],
   "source": [
    "import pandas as pd\n",
    "\n",
    "student_dict = {\"name\": [\"Joe\", \"Nat\", \"Harry\", \"Joe\", \"Nat\"], \"age\": [20, 21, 19, 20, 21],\n",
    "                \"marks\": [85.10, 77.80, 91.54, 85.10, 77.80]}\n",
    "\n",
    "# Create DataFrame from dict\n",
    "student_df = pd.DataFrame(student_dict)\n",
    "print(student_df)\n",
    "\n",
    "# drop duplicate rows\n",
    "student_df.drop_duplicates(inplace=True)\n",
    "\n",
    "print(student_df)"
   ]
  },
  {
   "cell_type": "code",
   "execution_count": 147,
   "id": "d5df6131",
   "metadata": {},
   "outputs": [
    {
     "name": "stdout",
     "output_type": "stream",
     "text": [
      "    name  age  marks\n",
      "a    Joe   20  85.10\n",
      "b    Nat   21  77.80\n",
      "c  Harry   19  91.54\n",
      "d    Nat   21  77.80\n",
      "    name  age  marks\n",
      "0    Joe   20  85.10\n",
      "1  Harry   19  91.54\n"
     ]
    }
   ],
   "source": [
    "import pandas as pd\n",
    "\n",
    "student_dict = {\"name\": [\"Joe\", \"Nat\", \"Harry\", \"Nat\"], \"age\": [20, 21, 19, 21], \"marks\": [85.10, 77.80, 91.54, 77.80]}\n",
    "\n",
    "# Create DataFrame from dict\n",
    "student_df = pd.DataFrame(student_dict, index=['a', 'b', 'c', 'd'])\n",
    "print(student_df)\n",
    "\n",
    "# drop duplicate rows\n",
    "student_df = student_df.drop_duplicates(keep=False, ignore_index=True)\n",
    "\n",
    "print(student_df)"
   ]
  },
  {
   "cell_type": "code",
   "execution_count": 148,
   "id": "ff9769c0",
   "metadata": {},
   "outputs": [
    {
     "name": "stdout",
     "output_type": "stream",
     "text": [
      "   Courses    Fee Duration  Subject    Fee  Discount\n",
      "0    Spark  20000   30days    Spark  20000      1000\n",
      "1  Pyspark  23000   35days  Pyspark  23000      1500\n",
      "2   Pandas  25000   40days   Pandas  25000      2000\n",
      "3    Spark  20000   30days    Spark  20000      1000\n"
     ]
    }
   ],
   "source": [
    "import pandas as pd\n",
    "technologies = [ [\"Spark\",20000, \"30days\",\"Spark\",20000,1000], \n",
    "                 [\"Pyspark\",23000,\"35days\",\"Pyspark\",23000,1500], \n",
    "                 [\"Pandas\",25000, \"40days\",\"Pandas\",25000,2000],\n",
    "                 [\"Spark\",20000, \"30days\",\"Spark\",20000,1000]\n",
    "               ]\n",
    "columns = [\"Courses\",\"Fee\", \"Duration\", \"Subject\",\"Fee\", \"Discount\" ]\n",
    "df=pd.DataFrame(technologies, columns= columns)\n",
    "print(df)"
   ]
  },
  {
   "cell_type": "code",
   "execution_count": 149,
   "id": "f67a0f7a",
   "metadata": {},
   "outputs": [
    {
     "name": "stdout",
     "output_type": "stream",
     "text": [
      "   Courses    Fee Duration  Subject    Fee  Discount\n",
      "0    Spark  20000   30days    Spark  20000      1000\n",
      "1  Pyspark  23000   35days  Pyspark  23000      1500\n",
      "2   Pandas  25000   40days   Pandas  25000      2000\n"
     ]
    }
   ],
   "source": [
    "df2 = df.drop_duplicates()\n",
    "print(df2)\n"
   ]
  },
  {
   "cell_type": "code",
   "execution_count": 151,
   "id": "5f393f93",
   "metadata": {},
   "outputs": [
    {
     "name": "stdout",
     "output_type": "stream",
     "text": [
      "  name  age  marks\n",
      "0  Joe   20   85.1\n",
      "1  Nat   21   77.8\n",
      "  name  marks\n",
      "0  Joe   85.1\n",
      "1  Nat   77.8\n"
     ]
    }
   ],
   "source": [
    "import pandas as pd\n",
    "\n",
    "student_dict = {\"name\": [\"Joe\", \"Nat\"], \"age\": [20, 21], \"marks\": [85.10, 77.80]}\n",
    "\n",
    "# Create DataFrame from dict\n",
    "student_df = pd.DataFrame(student_dict)\n",
    "print(student_df)\n",
    "\n",
    "# drop column\n",
    "student_df = student_df.drop(columns='age')\n",
    "\n",
    "print(student_df)"
   ]
  },
  {
   "cell_type": "code",
   "execution_count": 153,
   "id": "4c8cc57f",
   "metadata": {},
   "outputs": [
    {
     "name": "stdout",
     "output_type": "stream",
     "text": [
      "['name' 'age' 'marks']\n",
      "  name\n",
      "0  Joe\n",
      "1  Nat\n"
     ]
    }
   ],
   "source": [
    "import pandas as pd\n",
    "\n",
    "student_dict = {\"name\": [\"Joe\", \"Nat\"], \"age\": [20, 21], \"marks\": [85.10, 77.80]}\n",
    "\n",
    "student_df = pd.DataFrame(student_dict)\n",
    "print(student_df.columns.values)\n",
    "\n",
    "# drop 2 columns at a time\n",
    "student_df = student_df.drop(columns=['age', 'marks'])\n",
    "\n",
    "print(student_df)"
   ]
  },
  {
   "cell_type": "code",
   "execution_count": 155,
   "id": "bfca1f3b",
   "metadata": {},
   "outputs": [
    {
     "name": "stdout",
     "output_type": "stream",
     "text": [
      "    name   age  marks\n",
      "0    Joe  20.0  85.10\n",
      "1    Sam   NaN    NaN\n",
      "2  Harry  19.0  91.54\n",
      "    name\n",
      "0    Joe\n",
      "1    Sam\n",
      "2  Harry\n"
     ]
    }
   ],
   "source": [
    "import pandas as pd\n",
    "import numpy as np\n",
    "\n",
    "student_dict = {\"name\": [\"Joe\", \"Sam\", \"Harry\"], \"age\": [20, np.nan, 19], \"marks\": [85.10, np.nan, 91.54]}\n",
    "\n",
    "# Create DataFrame from dict\n",
    "student_df = pd.DataFrame(student_dict)\n",
    "print(student_df)\n",
    "\n",
    "# drop column with NaN\n",
    "student_df = student_df.dropna(axis='columns')\n",
    "\n",
    "print(student_df)"
   ]
  },
  {
   "cell_type": "code",
   "execution_count": 156,
   "id": "fadeafbd",
   "metadata": {},
   "outputs": [
    {
     "name": "stdout",
     "output_type": "stream",
     "text": [
      "    name  age  marks\n",
      "0    Joe  NaN  85.10\n",
      "1    Sam  NaN    NaN\n",
      "2    NaN  NaN    NaN\n",
      "3  Harry  NaN  91.54\n",
      "    name\n",
      "0    Joe\n",
      "1    Sam\n",
      "2    NaN\n",
      "3  Harry\n"
     ]
    }
   ],
   "source": [
    "import pandas as pd\n",
    "import numpy as np\n",
    "\n",
    "student_dict = {\"name\": [\"Joe\", \"Sam\", np.nan, \"Harry\"], \"age\": [np.nan, np.nan, np.nan, np.nan],\n",
    "                \"marks\": [85.10, np.nan, np.nan, 91.54]}\n",
    "\n",
    "# Create DataFrame from dict\n",
    "student_df = pd.DataFrame(student_dict)\n",
    "print(student_df)\n",
    "\n",
    "# keep column with 3 or more non-NA values\n",
    "student_df = student_df.dropna(axis='columns', thresh=3)\n",
    "\n",
    "print(student_df)"
   ]
  },
  {
   "cell_type": "code",
   "execution_count": 157,
   "id": "a4cd4037",
   "metadata": {},
   "outputs": [
    {
     "name": "stdout",
     "output_type": "stream",
     "text": [
      "    name  age  marks\n",
      "0    Joe  NaN  85.10\n",
      "1    Sam  NaN    NaN\n",
      "2  Harry  NaN  91.54\n",
      "    name  marks\n",
      "0    Joe  85.10\n",
      "1    Sam    NaN\n",
      "2  Harry  91.54\n"
     ]
    }
   ],
   "source": [
    "import pandas as pd\n",
    "import numpy as np\n",
    "\n",
    "student_dict = {\"name\": [\"Joe\", \"Sam\", \"Harry\"], \"age\": [np.nan, np.nan, np.nan], \"marks\": [85.10, np.nan, 91.54]}\n",
    "\n",
    "# Create DataFrame from dict\n",
    "student_df = pd.DataFrame(student_dict)\n",
    "print(student_df)\n",
    "\n",
    "# drop marks column with NaN\n",
    "student_df = student_df.dropna(axis='columns', subset=[0, 2])\n",
    "\n",
    "print(student_df)"
   ]
  },
  {
   "cell_type": "code",
   "execution_count": null,
   "id": "0d6267d6",
   "metadata": {},
   "outputs": [],
   "source": []
  }
 ],
 "metadata": {
  "kernelspec": {
   "display_name": "Python 3 (ipykernel)",
   "language": "python",
   "name": "python3"
  },
  "language_info": {
   "codemirror_mode": {
    "name": "ipython",
    "version": 3
   },
   "file_extension": ".py",
   "mimetype": "text/x-python",
   "name": "python",
   "nbconvert_exporter": "python",
   "pygments_lexer": "ipython3",
   "version": "3.9.7"
  }
 },
 "nbformat": 4,
 "nbformat_minor": 5
}

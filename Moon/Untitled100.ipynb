{
 "cells": [
  {
   "cell_type": "code",
   "execution_count": 1,
   "id": "ef59ef8e",
   "metadata": {},
   "outputs": [
    {
     "name": "stdout",
     "output_type": "stream",
     "text": [
      "multiplication of the list is 48\n"
     ]
    }
   ],
   "source": [
    "list = [8,1, 2,3]\n",
    "count_list = 1\n",
    "for i in list:\n",
    "    count_list *= i\n",
    "print(\"multiplication of the list is\", count_list)"
   ]
  },
  {
   "cell_type": "code",
   "execution_count": null,
   "id": "db4b4fa0",
   "metadata": {},
   "outputs": [],
   "source": []
  },
  {
   "cell_type": "code",
   "execution_count": null,
   "id": "2d5b8ba9",
   "metadata": {},
   "outputs": [],
   "source": [
    "lst = []\n",
    "num = int(input('How many numbers: '))\n",
    "\n",
    "for n in range(num):\n",
    "    numbers = int(input('Enter number '))\n",
    "    lst.append(numbers)\n",
    "    \n",
    "print(\"Sum of elements in given list is :\", mult(lst))"
   ]
  },
  {
   "cell_type": "code",
   "execution_count": null,
   "id": "4386707a",
   "metadata": {},
   "outputs": [],
   "source": []
  }
 ],
 "metadata": {
  "kernelspec": {
   "display_name": "Python 3 (ipykernel)",
   "language": "python",
   "name": "python3"
  },
  "language_info": {
   "codemirror_mode": {
    "name": "ipython",
    "version": 3
   },
   "file_extension": ".py",
   "mimetype": "text/x-python",
   "name": "python",
   "nbconvert_exporter": "python",
   "pygments_lexer": "ipython3",
   "version": "3.9.7"
  }
 },
 "nbformat": 4,
 "nbformat_minor": 5
}

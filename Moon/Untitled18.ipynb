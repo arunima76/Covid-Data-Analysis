{
 "cells": [
  {
   "cell_type": "code",
   "execution_count": 19,
   "id": "a4da7e7c",
   "metadata": {},
   "outputs": [
    {
     "ename": "IndentationError",
     "evalue": "unexpected indent (Temp/ipykernel_704/3270954752.py, line 4)",
     "output_type": "error",
     "traceback": [
      "\u001b[1;36m  File \u001b[1;32m\"C:\\Users\\Arunima\\AppData\\Local\\Temp/ipykernel_704/3270954752.py\"\u001b[1;36m, line \u001b[1;32m4\u001b[0m\n\u001b[1;33m    for char in reversed greeting:\u001b[0m\n\u001b[1;37m    ^\u001b[0m\n\u001b[1;31mIndentationError\u001b[0m\u001b[1;31m:\u001b[0m unexpected indent\n"
     ]
    }
   ],
   "source": [
    "\n",
    "    "
   ]
  },
  {
   "cell_type": "code",
   "execution_count": 20,
   "id": "eaec3d0b",
   "metadata": {},
   "outputs": [
    {
     "name": "stdout",
     "output_type": "stream",
     "text": [
      "!\n",
      "d\n",
      "l\n",
      "r\n",
      "o\n",
      "W\n",
      " \n",
      ",\n",
      "o\n",
      "l\n",
      "l\n",
      "e\n",
      "H\n"
     ]
    }
   ],
   "source": [
    "greeting = \"Hello, World!\"\n",
    "\n",
    "for char in reversed(greeting):\n",
    "    print(char)"
   ]
  },
  {
   "cell_type": "code",
   "execution_count": 18,
   "id": "2833f8be",
   "metadata": {},
   "outputs": [
    {
     "name": "stdout",
     "output_type": "stream",
     "text": [
      "Counter({1: 2, 2: 2, 6: 2, 3: 1, 8: 1})\n"
     ]
    }
   ],
   "source": [
    "from collections import Counter\n",
    "\n",
    "My_list = [1,2,1,2,3,8,6,6]\n",
    "res= Counter(My_list)\n",
    "print(res)"
   ]
  },
  {
   "cell_type": "code",
   "execution_count": 16,
   "id": "2106b2ce",
   "metadata": {},
   "outputs": [
    {
     "name": "stdout",
     "output_type": "stream",
     "text": [
      "['a', 'b', 'c']\n"
     ]
    }
   ],
   "source": [
    "#remove duplicate from a list\n",
    "\n",
    "mylist = [\"a\", \"b\", \"a\", \"c\", \"c\"]\n",
    "mylist = list(dict.fromkeys(mylist))\n",
    "print(mylist)\n",
    "\n"
   ]
  },
  {
   "cell_type": "code",
   "execution_count": 21,
   "id": "794bc1b0",
   "metadata": {},
   "outputs": [
    {
     "ename": "ModuleNotFoundError",
     "evalue": "No module named 'mysql'",
     "output_type": "error",
     "traceback": [
      "\u001b[1;31m---------------------------------------------------------------------------\u001b[0m",
      "\u001b[1;31mModuleNotFoundError\u001b[0m                       Traceback (most recent call last)",
      "\u001b[1;32m~\\AppData\\Local\\Temp/ipykernel_704/2868246411.py\u001b[0m in \u001b[0;36m<module>\u001b[1;34m\u001b[0m\n\u001b[1;32m----> 1\u001b[1;33m \u001b[1;32mimport\u001b[0m \u001b[0mmysql\u001b[0m\u001b[1;33m.\u001b[0m\u001b[0mconnector\u001b[0m\u001b[1;33m\u001b[0m\u001b[1;33m\u001b[0m\u001b[0m\n\u001b[0m\u001b[0;32m      2\u001b[0m \u001b[1;33m\u001b[0m\u001b[0m\n\u001b[0;32m      3\u001b[0m mydb = mysql.connector.connect(\n\u001b[0;32m      4\u001b[0m   \u001b[0mhost\u001b[0m\u001b[1;33m=\u001b[0m\u001b[1;34m\"localhost\"\u001b[0m\u001b[1;33m,\u001b[0m\u001b[1;33m\u001b[0m\u001b[1;33m\u001b[0m\u001b[0m\n\u001b[0;32m      5\u001b[0m   \u001b[0muser\u001b[0m\u001b[1;33m=\u001b[0m\u001b[1;34m\"yourusername\"\u001b[0m\u001b[1;33m,\u001b[0m\u001b[1;33m\u001b[0m\u001b[1;33m\u001b[0m\u001b[0m\n",
      "\u001b[1;31mModuleNotFoundError\u001b[0m: No module named 'mysql'"
     ]
    }
   ],
   "source": [
    "import mysql.connector\n",
    "\n",
    "mydb = mysql.connector.connect(\n",
    "  host=\"localhost\",\n",
    "  user=\"yourusername\",\n",
    "  password=\"yourpassword\"\n",
    ")\n",
    "\n",
    "print(mydb)"
   ]
  },
  {
   "cell_type": "code",
   "execution_count": 22,
   "id": "a648600a",
   "metadata": {},
   "outputs": [
    {
     "ename": "ModuleNotFoundError",
     "evalue": "No module named 'mysql'",
     "output_type": "error",
     "traceback": [
      "\u001b[1;31m---------------------------------------------------------------------------\u001b[0m",
      "\u001b[1;31mModuleNotFoundError\u001b[0m                       Traceback (most recent call last)",
      "\u001b[1;32m~\\AppData\\Local\\Temp/ipykernel_704/4131037277.py\u001b[0m in \u001b[0;36m<module>\u001b[1;34m\u001b[0m\n\u001b[1;32m----> 1\u001b[1;33m \u001b[1;32mimport\u001b[0m \u001b[0mmysql\u001b[0m\u001b[1;33m.\u001b[0m\u001b[0mconnector\u001b[0m\u001b[1;33m\u001b[0m\u001b[1;33m\u001b[0m\u001b[0m\n\u001b[0m",
      "\u001b[1;31mModuleNotFoundError\u001b[0m: No module named 'mysql'"
     ]
    }
   ],
   "source": [
    "import mysql.connector"
   ]
  },
  {
   "cell_type": "code",
   "execution_count": 35,
   "id": "b91530e6",
   "metadata": {},
   "outputs": [
    {
     "name": "stdout",
     "output_type": "stream",
     "text": [
      "The result is 600\n",
      "The result is 100\n"
     ]
    }
   ],
   "source": [
    "def multiplication_sum(num1,num2):\n",
    "    product = num1 * num2\n",
    "    if product <=1000:\n",
    "        return product \n",
    "    else:\n",
    "        return num1 + num2 \n",
    "result = multiplication_sum(20,30)\n",
    "print (\"The result is\",result)\n",
    "result = multiplication_sum(40,60)\n",
    "print (\"The result is\", result)\n",
    "    "
   ]
  },
  {
   "cell_type": "code",
   "execution_count": 34,
   "id": "875f95dd",
   "metadata": {},
   "outputs": [
    {
     "name": "stdout",
     "output_type": "stream",
     "text": [
      "The result is 600\n",
      "The result is 70\n"
     ]
    }
   ],
   "source": [
    "def multiplication_or_sum(num1, num2):\n",
    "    # calculate product of two number\n",
    "    product = num1 * num2\n",
    "    # check if product is less then 1000\n",
    "    if product <= 1000:\n",
    "        return product\n",
    "    else:\n",
    "        # product is greater than 1000 calculate sum\n",
    "        return num1 + num2\n",
    "\n",
    "# first condition\n",
    "result = multiplication_or_sum(20, 30)\n",
    "print(\"The result is\", result)\n",
    "\n",
    "# Second condition\n",
    "result = multiplication_or_sum(40, 30)\n",
    "print(\"The result is\", result)"
   ]
  },
  {
   "cell_type": "code",
   "execution_count": 37,
   "id": "d72d8558",
   "metadata": {},
   "outputs": [
    {
     "name": "stdout",
     "output_type": "stream",
     "text": [
      "Enter your Name, Age, Percentage separated by space Arunima 30 80.05 \n",
      "User Details:  Arunima 30 80.05\n"
     ]
    }
   ],
   "source": [
    "name, age, marks = input(\"Enter your Name, Age, Percentage separated by space \").split()\n",
    "print(\"User Details: \", name, age, marks)"
   ]
  },
  {
   "cell_type": "code",
   "execution_count": 38,
   "id": "a540ac51",
   "metadata": {},
   "outputs": [
    {
     "name": "stdout",
     "output_type": "stream",
     "text": [
      "Tell me about yourself\n",
      "Arunima De \n",
      "Python programmer\n",
      "Lives in Saltlake city\n"
     ]
    },
    {
     "ename": "KeyboardInterrupt",
     "evalue": "Interrupted by user",
     "output_type": "error",
     "traceback": [
      "\u001b[1;31m---------------------------------------------------------------------------\u001b[0m",
      "\u001b[1;31mKeyboardInterrupt\u001b[0m                         Traceback (most recent call last)",
      "\u001b[1;32m~\\AppData\\Local\\Temp/ipykernel_704/2589066678.py\u001b[0m in \u001b[0;36m<module>\u001b[1;34m\u001b[0m\n\u001b[0;32m      4\u001b[0m \u001b[0mprint\u001b[0m\u001b[1;33m(\u001b[0m\u001b[1;34m\"Tell me about yourself\"\u001b[0m\u001b[1;33m)\u001b[0m\u001b[1;33m\u001b[0m\u001b[1;33m\u001b[0m\u001b[0m\n\u001b[0;32m      5\u001b[0m \u001b[1;32mwhile\u001b[0m \u001b[1;32mTrue\u001b[0m\u001b[1;33m:\u001b[0m\u001b[1;33m\u001b[0m\u001b[1;33m\u001b[0m\u001b[0m\n\u001b[1;32m----> 6\u001b[1;33m     \u001b[0mline\u001b[0m \u001b[1;33m=\u001b[0m \u001b[0minput\u001b[0m\u001b[1;33m(\u001b[0m\u001b[1;33m)\u001b[0m\u001b[1;33m\u001b[0m\u001b[1;33m\u001b[0m\u001b[0m\n\u001b[0m\u001b[0;32m      7\u001b[0m     \u001b[1;32mif\u001b[0m \u001b[0mline\u001b[0m\u001b[1;33m:\u001b[0m\u001b[1;33m\u001b[0m\u001b[1;33m\u001b[0m\u001b[0m\n\u001b[0;32m      8\u001b[0m         \u001b[0mdata\u001b[0m\u001b[1;33m.\u001b[0m\u001b[0mappend\u001b[0m\u001b[1;33m(\u001b[0m\u001b[0mline\u001b[0m\u001b[1;33m)\u001b[0m\u001b[1;33m\u001b[0m\u001b[1;33m\u001b[0m\u001b[0m\n",
      "\u001b[1;32m~\\anaconda3\\lib\\site-packages\\ipykernel\\kernelbase.py\u001b[0m in \u001b[0;36mraw_input\u001b[1;34m(self, prompt)\u001b[0m\n\u001b[0;32m   1004\u001b[0m                 \u001b[1;34m\"raw_input was called, but this frontend does not support input requests.\"\u001b[0m\u001b[1;33m\u001b[0m\u001b[1;33m\u001b[0m\u001b[0m\n\u001b[0;32m   1005\u001b[0m             )\n\u001b[1;32m-> 1006\u001b[1;33m         return self._input_request(\n\u001b[0m\u001b[0;32m   1007\u001b[0m             \u001b[0mstr\u001b[0m\u001b[1;33m(\u001b[0m\u001b[0mprompt\u001b[0m\u001b[1;33m)\u001b[0m\u001b[1;33m,\u001b[0m\u001b[1;33m\u001b[0m\u001b[1;33m\u001b[0m\u001b[0m\n\u001b[0;32m   1008\u001b[0m             \u001b[0mself\u001b[0m\u001b[1;33m.\u001b[0m\u001b[0m_parent_ident\u001b[0m\u001b[1;33m[\u001b[0m\u001b[1;34m\"shell\"\u001b[0m\u001b[1;33m]\u001b[0m\u001b[1;33m,\u001b[0m\u001b[1;33m\u001b[0m\u001b[1;33m\u001b[0m\u001b[0m\n",
      "\u001b[1;32m~\\anaconda3\\lib\\site-packages\\ipykernel\\kernelbase.py\u001b[0m in \u001b[0;36m_input_request\u001b[1;34m(self, prompt, ident, parent, password)\u001b[0m\n\u001b[0;32m   1049\u001b[0m             \u001b[1;32mexcept\u001b[0m \u001b[0mKeyboardInterrupt\u001b[0m\u001b[1;33m:\u001b[0m\u001b[1;33m\u001b[0m\u001b[1;33m\u001b[0m\u001b[0m\n\u001b[0;32m   1050\u001b[0m                 \u001b[1;31m# re-raise KeyboardInterrupt, to truncate traceback\u001b[0m\u001b[1;33m\u001b[0m\u001b[1;33m\u001b[0m\u001b[0m\n\u001b[1;32m-> 1051\u001b[1;33m                 \u001b[1;32mraise\u001b[0m \u001b[0mKeyboardInterrupt\u001b[0m\u001b[1;33m(\u001b[0m\u001b[1;34m\"Interrupted by user\"\u001b[0m\u001b[1;33m)\u001b[0m \u001b[1;32mfrom\u001b[0m \u001b[1;32mNone\u001b[0m\u001b[1;33m\u001b[0m\u001b[1;33m\u001b[0m\u001b[0m\n\u001b[0m\u001b[0;32m   1052\u001b[0m             \u001b[1;32mexcept\u001b[0m \u001b[0mException\u001b[0m\u001b[1;33m:\u001b[0m\u001b[1;33m\u001b[0m\u001b[1;33m\u001b[0m\u001b[0m\n\u001b[0;32m   1053\u001b[0m                 \u001b[0mself\u001b[0m\u001b[1;33m.\u001b[0m\u001b[0mlog\u001b[0m\u001b[1;33m.\u001b[0m\u001b[0mwarning\u001b[0m\u001b[1;33m(\u001b[0m\u001b[1;34m\"Invalid Message:\"\u001b[0m\u001b[1;33m,\u001b[0m \u001b[0mexc_info\u001b[0m\u001b[1;33m=\u001b[0m\u001b[1;32mTrue\u001b[0m\u001b[1;33m)\u001b[0m\u001b[1;33m\u001b[0m\u001b[1;33m\u001b[0m\u001b[0m\n",
      "\u001b[1;31mKeyboardInterrupt\u001b[0m: Interrupted by user"
     ]
    }
   ],
   "source": [
    "#Accept multiline input from user\n",
    "\n",
    "data = []\n",
    "print(\"Tell me about yourself\")\n",
    "while True:\n",
    "    line = input()\n",
    "    if line:\n",
    "        data.append(line)\n",
    "    else:\n",
    "        break\n",
    "finalText = '\\n'.join(data)\n",
    "print(\"\\n\")\n",
    "print(\"Final text input\")\n",
    "print(finalText)"
   ]
  },
  {
   "cell_type": "code",
   "execution_count": null,
   "id": "6806937d",
   "metadata": {},
   "outputs": [],
   "source": [
    "data = []\n",
    "print(\"Tell me about yourself\")\n",
    "while True:\n",
    "    line = input()\n",
    "    if line:\n",
    "        data.append(line)\n",
    "    else:\n",
    "        break\n",
    "finalText = '\\n'.join(data)\n",
    "print(\"\\n\")\n",
    "print(\"Final text input\")\n",
    "print(finalText)"
   ]
  },
  {
   "cell_type": "code",
   "execution_count": 39,
   "id": "5b017aac",
   "metadata": {},
   "outputs": [
    {
     "name": "stdout",
     "output_type": "stream",
     "text": [
      "sum is:  156.0 Average is:  31.2\n"
     ]
    }
   ],
   "source": [
    "num_list = [10, 20.5, 30, 45.5, 50]\n",
    "res1 =0\n",
    "for num in num_list:\n",
    "    res1 += num \n",
    "    avg1 = res1/len(num_list)\n",
    "print(\"sum is: \", res1, \"Average is: \", avg1)\n"
   ]
  },
  {
   "cell_type": "code",
   "execution_count": 40,
   "id": "e422f634",
   "metadata": {},
   "outputs": [
    {
     "name": "stdout",
     "output_type": "stream",
     "text": [
      "sum of first 20 numbers is: 210.0\n",
      "Average of first 20 numbers is: 10.5\n"
     ]
    }
   ],
   "source": [
    "#Sum and average using a mathematical formula\n",
    "n = 20\n",
    "# formula to calculate sum\n",
    "res = n * (n + 1) / 2\n",
    "print('sum of first', n, 'numbers is:', res)\n",
    "# Output sum of first 20 numbers is: 210.0\n",
    "\n",
    "# formula to calculate average\n",
    "average = (n * (n + 1) / 2) / n\n",
    "print('Average of first', n, 'numbers is:', average)"
   ]
  },
  {
   "cell_type": "code",
   "execution_count": 41,
   "id": "cb4050fa",
   "metadata": {},
   "outputs": [
    {
     "name": "stdout",
     "output_type": "stream",
     "text": [
      "Enter numbers separated by space 10 20 30 40 50\n",
      "\n",
      "\n",
      "Sum =  150\n",
      "Average =  30.0\n"
     ]
    }
   ],
   "source": [
    "input_string = input('Enter numbers separated by space ')\n",
    "print(\"\\n\")\n",
    "# Take input numbers into list\n",
    "numbers = input_string.split()\n",
    "\n",
    "# convert each item to int type\n",
    "for i in range(len(numbers)):\n",
    "    # convert each item to int type\n",
    "    numbers[i] = int(numbers[i])\n",
    "\n",
    "# Calculating the sum and average\n",
    "print(\"Sum = \", sum(numbers))\n",
    "print(\"Average = \", sum(numbers) / len(numbers))\n"
   ]
  },
  {
   "cell_type": "code",
   "execution_count": 42,
   "id": "deda1fcc",
   "metadata": {},
   "outputs": [
    {
     "name": "stdout",
     "output_type": "stream",
     "text": [
      "Enter numbers separated by space10 20 30 40 50\n",
      "\n",
      "\n",
      "Sum 150\n",
      "Average 30.0\n"
     ]
    }
   ],
   "source": [
    "input_string = input(\"Enter numbers separated by space\")\n",
    "print(\"\\n\")\n",
    "numbers = input_string.split()\n",
    "\n",
    "for i in range(len(numbers)):\n",
    "    numbers[i] = int(numbers[i])\n",
    "print(\"Sum\",sum(numbers))\n",
    "print(\"Average\",sum(numbers)/len(numbers))"
   ]
  },
  {
   "cell_type": "code",
   "execution_count": 43,
   "id": "25b2c390",
   "metadata": {},
   "outputs": [
    {
     "name": "stdout",
     "output_type": "stream",
     "text": [
      "sum = 210\n",
      "Average =  10.5\n"
     ]
    }
   ],
   "source": [
    "# Write a while loop for calculate sum and average \n",
    "\n",
    "n = 20\n",
    "total_numbers = n\n",
    "sum = 0\n",
    "while n >= 0:\n",
    "    sum += n\n",
    "    n -= 1\n",
    "print(\"sum =\", sum)\n",
    "# Output sum = 210\n",
    "\n",
    "average = sum / total_numbers\n",
    "print(\"Average = \", average)\n",
    "# Output Average =  10.5"
   ]
  },
  {
   "cell_type": "code",
   "execution_count": 53,
   "id": "2110bd6f",
   "metadata": {},
   "outputs": [
    {
     "name": "stdout",
     "output_type": "stream",
     "text": [
      "sum = 210\n",
      "Average =  10.5\n"
     ]
    }
   ],
   "source": [
    "n = 20\n",
    "total_numbers = n\n",
    "sum = 0\n",
    "while n >= 0:\n",
    "    sum += n\n",
    "    n -= 1\n",
    "print(\"sum =\", sum)\n",
    "# Output sum = 210\n",
    "\n",
    "average = sum / total_numbers\n",
    "print(\"Average = \", average)"
   ]
  },
  {
   "cell_type": "code",
   "execution_count": 54,
   "id": "f32a1df0",
   "metadata": {},
   "outputs": [
    {
     "name": "stdout",
     "output_type": "stream",
     "text": [
      "Addition of two Matrix In Python\n",
      "[21, 27, 22]\n",
      "[28, 19, 27]\n"
     ]
    }
   ],
   "source": [
    "matrixOne = [[6,9,11],\n",
    "    [2 ,3,8]]\n",
    "\n",
    "matrixTwo = [[15,18,11],\n",
    "    [26,16,19]]\n",
    "\n",
    "result = [[0,0,0],\n",
    "         [0,0,0]]\n",
    "\n",
    "# First iterate rows\n",
    "for i in range(len(matrixOne)):\n",
    "   # Second iterate columns\n",
    "   for j in range(len(matrixOne[0])):\n",
    "       result[i][j] = matrixOne[i][j] + matrixTwo[i][j]\n",
    "print(\"Addition of two Matrix In Python\")\n",
    "for res in result:\n",
    "   print(res)"
   ]
  },
  {
   "cell_type": "code",
   "execution_count": 62,
   "id": "22638bf3",
   "metadata": {},
   "outputs": [
    {
     "name": "stdout",
     "output_type": "stream",
     "text": [
      "Addition of two matrix in Python\n",
      "[21, 27, 22]\n",
      "[28, 19, 27]\n"
     ]
    }
   ],
   "source": [
    "matrixOne = [[6,9,11],\n",
    "    [2 ,3,8]]\n",
    "\n",
    "matrixTwo = [[15,18,11],\n",
    "    [26,16,19]]\n",
    "\n",
    "result = [[0,0,0],\n",
    "         [0,0,0]]\n",
    "\n",
    "for i in range (len(matrixOne)):\n",
    "    for j in range (len(matrixOne[0])):\n",
    "        result[i][j] = matrixOne[i][j] + matrixTwo[i][j]\n",
    "        \n",
    "print (\"Addition of two matrix in Python\")\n",
    "for res in result:\n",
    "    print(res)\n",
    "        "
   ]
  },
  {
   "cell_type": "code",
   "execution_count": 63,
   "id": "c7804116",
   "metadata": {},
   "outputs": [
    {
     "name": "stdout",
     "output_type": "stream",
     "text": [
      "Removing characters from a string\n",
      "Original string: pynative\n",
      "tive\n",
      "Original string: pynative\n",
      "native\n"
     ]
    }
   ],
   "source": [
    "def remove_chars(word, n):\n",
    "    print('Original string:', word)\n",
    "    x = word[n:]\n",
    "    return x\n",
    "\n",
    "print(\"Removing characters from a string\")\n",
    "print(remove_chars(\"pynative\", 4))\n",
    "print(remove_chars(\"pynative\", 2))\n"
   ]
  },
  {
   "cell_type": "code",
   "execution_count": 64,
   "id": "6340d75f",
   "metadata": {},
   "outputs": [
    {
     "name": "stdout",
     "output_type": "stream",
     "text": [
      "Given list: [10, 20, 30, 40, 10]\n",
      "result is True\n",
      "Given list: [75, 65, 35, 75, 30]\n",
      "result is False\n"
     ]
    }
   ],
   "source": [
    "def first_last_same(numberList):\n",
    "    print(\"Given list:\", numberList)\n",
    "    \n",
    "    first_num = numberList[0]\n",
    "    last_num = numberList[-1]\n",
    "    \n",
    "    if first_num == last_num:\n",
    "        return True\n",
    "    else:\n",
    "        return False\n",
    "\n",
    "numbers_x = [10, 20, 30, 40, 10]\n",
    "print(\"result is\", first_last_same(numbers_x))\n",
    "\n",
    "numbers_y = [75, 65, 35, 75, 30]\n",
    "print(\"result is\", first_last_same(numbers_y))\n"
   ]
  },
  {
   "cell_type": "code",
   "execution_count": 70,
   "id": "75c8d69e",
   "metadata": {},
   "outputs": [
    {
     "name": "stdout",
     "output_type": "stream",
     "text": [
      "Given list: [10, 20, 30, 40, 10]\n",
      "result is True\n",
      "Given list: [75, 65, 35, 75, 30]\n",
      "result is False\n"
     ]
    }
   ],
   "source": [
    "def first_last_same(numberList):\n",
    "    print(\"Given list:\", numberList)\n",
    "    \n",
    "    first_num = numberList[0]\n",
    "    last_num = numberList[-1]\n",
    "    \n",
    "    if first_num == last_num:\n",
    "        return True\n",
    "    else:\n",
    "        return False\n",
    "\n",
    "numbers_x = [10, 20, 30, 40, 10]\n",
    "print(\"result is\", first_last_same(numbers_x))\n",
    "\n",
    "numbers_y = [75, 65, 35, 75, 30]\n",
    "print(\"result is\", first_last_same(numbers_y))"
   ]
  },
  {
   "cell_type": "code",
   "execution_count": 75,
   "id": "38722018",
   "metadata": {
    "scrolled": true
   },
   "outputs": [
    {
     "name": "stdout",
     "output_type": "stream",
     "text": [
      "given list [9, 7, 15, 35, 8]\n",
      "divisible by 5\n",
      "15\n",
      "35\n"
     ]
    }
   ],
   "source": [
    "num_list = [9,7,15,35,8]\n",
    "print(\"given list\",num_list)\n",
    "print(\"divisible by 5\")\n",
    "for num in num_list:\n",
    "    if (num % 5)==0:\n",
    "        print(num)"
   ]
  },
  {
   "cell_type": "code",
   "execution_count": 77,
   "id": "18f1ecc6",
   "metadata": {},
   "outputs": [
    {
     "name": "stdout",
     "output_type": "stream",
     "text": [
      "the occurance of emma appear in a string 2\n"
     ]
    }
   ],
   "source": [
    "str_x = \"Emma is good developer. Emma is a writer\"\n",
    "print(\"the occurance of emma appear in a string\",str_x.count(\"Emma\"))"
   ]
  },
  {
   "cell_type": "code",
   "execution_count": 79,
   "id": "5d1b363c",
   "metadata": {},
   "outputs": [
    {
     "name": "stdout",
     "output_type": "stream",
     "text": [
      "\n",
      "\n",
      "1 \n",
      "\n",
      "2 2 \n",
      "\n",
      "3 3 3 \n",
      "\n",
      "4 4 4 4 \n",
      "\n",
      "5 5 5 5 5 \n",
      "\n",
      "6 6 6 6 6 6 \n",
      "\n",
      "7 7 7 7 7 7 7 \n",
      "\n"
     ]
    }
   ],
   "source": [
    "for num in range(8):\n",
    "    for i in range(num):\n",
    "        print(num, end=\" \")\n",
    "    print(\"\\n\")\n",
    "        "
   ]
  },
  {
   "cell_type": "code",
   "execution_count": 80,
   "id": "2fa2e1b7",
   "metadata": {},
   "outputs": [
    {
     "name": "stdout",
     "output_type": "stream",
     "text": [
      "original number 121\n",
      "Given number palindrome\n",
      "original number 125\n",
      "Given number is not palindrome\n"
     ]
    }
   ],
   "source": [
    "def palindrome(number):\n",
    "    print(\"original number\", number)\n",
    "    original_num = number\n",
    "    \n",
    "    # reverse the given number\n",
    "    reverse_num = 0\n",
    "    while number > 0:\n",
    "        reminder = number % 10\n",
    "        reverse_num = (reverse_num * 10) + reminder\n",
    "        number = number // 10\n",
    "\n",
    "    # check numbers\n",
    "    if original_num == reverse_num:\n",
    "        print(\"Given number palindrome\")\n",
    "    else:\n",
    "        print(\"Given number is not palindrome\")\n",
    "\n",
    "palindrome(121)\n",
    "palindrome(125)"
   ]
  },
  {
   "cell_type": "code",
   "execution_count": 87,
   "id": "6e8d7a73",
   "metadata": {},
   "outputs": [
    {
     "name": "stdout",
     "output_type": "stream",
     "text": [
      "original number 121\n",
      "Given number is not palindrome\n",
      "Given number is not palindrome\n",
      "given number is palindrome\n",
      "original number 125\n",
      "Given number is not palindrome\n",
      "Given number is not palindrome\n",
      "Given number is not palindrome\n"
     ]
    }
   ],
   "source": [
    "def palindrome (number):\n",
    "    print(\"original number\",number)\n",
    "    original_num = number\n",
    "    reverse_num =0\n",
    "    while number > 0:\n",
    "        reminder = number % 10\n",
    "        reverse_num = (reverse_num * 10)+ reminder \n",
    "        number = number // 10\n",
    "        \n",
    "        if original_num == reverse_num:\n",
    "            print(\"given number is palindrome\")\n",
    "        else:\n",
    "            print(\"Given number is not palindrome\")\n",
    "            \n",
    "palindrome(121)\n",
    "palindrome (125)"
   ]
  },
  {
   "cell_type": "code",
   "execution_count": null,
   "id": "7fb09e1d",
   "metadata": {},
   "outputs": [],
   "source": [
    "#Create a new list from a two list using the following condition"
   ]
  },
  {
   "cell_type": "code",
   "execution_count": 88,
   "id": "5278250d",
   "metadata": {},
   "outputs": [
    {
     "name": "stdout",
     "output_type": "stream",
     "text": [
      "result list: [25, 35, 40, 60, 90]\n"
     ]
    }
   ],
   "source": [
    "def merge_list(list1, list2):\n",
    "    result_list = []\n",
    "    \n",
    "    # iterate first list\n",
    "    for num in list1:\n",
    "        # check if current number is odd\n",
    "        if num % 2 != 0:\n",
    "            # add odd number to result list\n",
    "            result_list.append(num)\n",
    "    \n",
    "    # iterate second list\n",
    "    for num in list2:\n",
    "        # check if current number is even\n",
    "        if num % 2 == 0:\n",
    "            # add even number to result list\n",
    "            result_list.append(num)\n",
    "    return result_list\n",
    "\n",
    "list1 = [10, 20, 25, 30, 35]\n",
    "list2 = [40, 45, 60, 75, 90]\n",
    "print(\"result list:\", merge_list(list1, list2))"
   ]
  },
  {
   "cell_type": "code",
   "execution_count": 2,
   "id": "1b378198",
   "metadata": {},
   "outputs": [
    {
     "ename": "SyntaxError",
     "evalue": "invalid syntax (Temp/ipykernel_9692/1185458606.py, line 1)",
     "output_type": "error",
     "traceback": [
      "\u001b[1;36m  File \u001b[1;32m\"C:\\Users\\Arunima\\AppData\\Local\\Temp/ipykernel_9692/1185458606.py\"\u001b[1;36m, line \u001b[1;32m1\u001b[0m\n\u001b[1;33m    python -m pip install mysql-connector-python\u001b[0m\n\u001b[1;37m              ^\u001b[0m\n\u001b[1;31mSyntaxError\u001b[0m\u001b[1;31m:\u001b[0m invalid syntax\n"
     ]
    }
   ],
   "source": []
  },
  {
   "cell_type": "code",
   "execution_count": 3,
   "id": "e9e73ddb",
   "metadata": {},
   "outputs": [
    {
     "name": "stdout",
     "output_type": "stream",
     "text": [
      "['Weekdays', 'Weekends', 'Weekdays', 'Weekends', 'Weekdays', 'Weekends']\n"
     ]
    }
   ],
   "source": [
    "example = [\"Sunday\",\"Monday\",\"Tuesday\"]\n",
    "\n",
    "example1 = [\"Weekdays\",\"Weekends\"]\n",
    "\n",
    "example1 = example1 * 3\n",
    "print(example1)"
   ]
  },
  {
   "cell_type": "code",
   "execution_count": 4,
   "id": "fb4aec03",
   "metadata": {},
   "outputs": [
    {
     "name": "stdout",
     "output_type": "stream",
     "text": [
      "Enter a elements of a list separated by value60 70 54 65 23\n",
      "\n",
      "\n",
      "list ['60', '70', '54', '65', '23']\n"
     ]
    }
   ],
   "source": [
    "python -m pip install mysql-connector-python"
   ]
  },
  {
   "cell_type": "code",
   "execution_count": null,
   "id": "4eb00b26",
   "metadata": {
    "scrolled": true
   },
   "outputs": [],
   "source": [
    "n = int(input(\"Enter number of lists\"))\n",
    "list1 = []\n",
    "for i in range(n):\n",
    "    list.append(int(input()))\n",
    "    \n",
    "    sum_list1=0\n",
    "    for i in list1:\n",
    "        sum_list1 = sum_list1 + i \n",
    "    print(\"sum of list are\", sum_list1)"
   ]
  },
  {
   "cell_type": "code",
   "execution_count": null,
   "id": "73bc37f3",
   "metadata": {},
   "outputs": [],
   "source": []
  },
  {
   "cell_type": "code",
   "execution_count": null,
   "id": "33de2c31",
   "metadata": {},
   "outputs": [],
   "source": []
  },
  {
   "cell_type": "code",
   "execution_count": null,
   "id": "a6eda08c",
   "metadata": {},
   "outputs": [],
   "source": []
  }
 ],
 "metadata": {
  "kernelspec": {
   "display_name": "Python 3 (ipykernel)",
   "language": "python",
   "name": "python3"
  },
  "language_info": {
   "codemirror_mode": {
    "name": "ipython",
    "version": 3
   },
   "file_extension": ".py",
   "mimetype": "text/x-python",
   "name": "python",
   "nbconvert_exporter": "python",
   "pygments_lexer": "ipython3",
   "version": "3.9.7"
  }
 },
 "nbformat": 4,
 "nbformat_minor": 5
}

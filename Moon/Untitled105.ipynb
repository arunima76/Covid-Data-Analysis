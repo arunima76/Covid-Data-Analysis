{
 "cells": [
  {
   "cell_type": "code",
   "execution_count": 1,
   "id": "5cbfef1f",
   "metadata": {},
   "outputs": [
    {
     "name": "stdout",
     "output_type": "stream",
     "text": [
      "Enter a number7\n",
      "Count 2\n",
      "7 prime\n"
     ]
    }
   ],
   "source": [
    "x= int(input(\"Enter a number\"))\n",
    "term = x\n",
    "i = 1\n",
    "c= 0\n",
    "\n",
    "while i<=x:\n",
    "    if x%i==0:\n",
    "        c= c+1\n",
    "    i = i +1\n",
    "print(\"Count\",c)\n",
    "if c == 2:\n",
    "    print(x,\"prime\")\n",
    "else:\n",
    "    print(x,\"prime\")"
   ]
  },
  {
   "cell_type": "code",
   "execution_count": 4,
   "id": "40e12a65",
   "metadata": {},
   "outputs": [
    {
     "name": "stdout",
     "output_type": "stream",
     "text": [
      "Enter a number5\n",
      "Count 2\n",
      "5 prime\n",
      "enter the range6\n",
      "enter the numbers\n",
      "1\n",
      "2\n",
      "3\n",
      "4\n",
      "5\n",
      "6\n",
      "[1, 2, 3, 4, 5, 6]\n"
     ]
    },
    {
     "ename": "NameError",
     "evalue": "name 'prime' is not defined",
     "output_type": "error",
     "traceback": [
      "\u001b[1;31m---------------------------------------------------------------------------\u001b[0m",
      "\u001b[1;31mNameError\u001b[0m                                 Traceback (most recent call last)",
      "\u001b[1;32m~\\AppData\\Local\\Temp/ipykernel_9604/3566860769.py\u001b[0m in \u001b[0;36m<module>\u001b[1;34m\u001b[0m\n\u001b[0;32m     23\u001b[0m \u001b[1;33m\u001b[0m\u001b[0m\n\u001b[0;32m     24\u001b[0m \u001b[1;32mfor\u001b[0m \u001b[0mi\u001b[0m \u001b[1;32min\u001b[0m \u001b[0mrange\u001b[0m\u001b[1;33m(\u001b[0m\u001b[1;36m0\u001b[0m\u001b[1;33m,\u001b[0m\u001b[0mn\u001b[0m\u001b[1;33m)\u001b[0m\u001b[1;33m:\u001b[0m\u001b[1;33m\u001b[0m\u001b[1;33m\u001b[0m\u001b[0m\n\u001b[1;32m---> 25\u001b[1;33m     \u001b[0mb\u001b[0m \u001b[1;33m=\u001b[0m \u001b[0mprime\u001b[0m\u001b[1;33m(\u001b[0m\u001b[0mlist1\u001b[0m\u001b[1;33m[\u001b[0m\u001b[0mi\u001b[0m\u001b[1;33m]\u001b[0m\u001b[1;33m)\u001b[0m\u001b[1;33m\u001b[0m\u001b[1;33m\u001b[0m\u001b[0m\n\u001b[0m\u001b[0;32m     26\u001b[0m     \u001b[1;32mif\u001b[0m \u001b[0mb\u001b[0m \u001b[1;33m==\u001b[0m \u001b[1;36m1\u001b[0m\u001b[1;33m:\u001b[0m\u001b[1;33m\u001b[0m\u001b[1;33m\u001b[0m\u001b[0m\n\u001b[0;32m     27\u001b[0m         \u001b[0msu\u001b[0m \u001b[1;33m=\u001b[0m \u001b[0msu\u001b[0m \u001b[1;33m+\u001b[0m \u001b[0mlist1\u001b[0m\u001b[1;33m[\u001b[0m\u001b[0mi\u001b[0m\u001b[1;33m]\u001b[0m\u001b[1;33m\u001b[0m\u001b[1;33m\u001b[0m\u001b[0m\n",
      "\u001b[1;31mNameError\u001b[0m: name 'prime' is not defined"
     ]
    }
   ],
   "source": [
    "x= int(input(\"Enter a number\"))\n",
    "term = x\n",
    "i = 1\n",
    "c= 0\n",
    "\n",
    "while i<=x:\n",
    "    if x%i==0:\n",
    "        c= c+1\n",
    "    i = i +1\n",
    "print(\"Count\",c)\n",
    "if c == 2:\n",
    "    print(x,\"prime\")\n",
    "else:\n",
    "    print(x,\"prime\")\n",
    "\n",
    "list1 = []\n",
    "n = int(input(\"enter the range\"))\n",
    "print(\"enter the numbers\")\n",
    "for i in range(0,n):\n",
    "    list1.append(int(input('')))\n",
    "su = 0\n",
    "print(list1)\n",
    "\n",
    "for i in range(0,n):\n",
    "    b = prime(list1[i])\n",
    "    if b == 1:\n",
    "        su = su + list1[i]\n",
    "print(su)\n",
    "    \n",
    "    "
   ]
  },
  {
   "cell_type": "code",
   "execution_count": 5,
   "id": "b71c0e27",
   "metadata": {},
   "outputs": [
    {
     "name": "stdout",
     "output_type": "stream",
     "text": [
      "enter the range-->6\n",
      "enter the numbers-->\n",
      "1\n",
      "2\n",
      "3\n",
      "4\n",
      "5\n",
      "6\n",
      "[1, 2, 3, 4, 5, 6]\n",
      "Count 1\n",
      "Count 2\n",
      "Count 2\n",
      "Count 3\n",
      "Count 2\n",
      "Count 4\n",
      "10\n"
     ]
    }
   ],
   "source": [
    "def prime(x):\n",
    "    tem=x\n",
    "    i=1\n",
    "    c=0\n",
    " \n",
    "    while i<=x:\n",
    "        if x %i ==0:\n",
    "            c=c+1\n",
    "        i=i+1\n",
    "    print(\"Count\",c)\n",
    "    if c==2:\n",
    "        return 1\n",
    "    else:\n",
    "        return 0\n",
    "list=[]\n",
    "n=int(input('enter the range-->'))\n",
    "print('enter the numbers-->')\n",
    "for i in range(0,n):\n",
    "    list.append(int(input('')))\n",
    "su=0\n",
    "print(list)\n",
    "for i in range(0,n):\n",
    "    b=prime(list[i])\n",
    "    if b==1:\n",
    "        su=su+list[i]\n",
    "print(su)\n"
   ]
  },
  {
   "cell_type": "code",
   "execution_count": 6,
   "id": "4659af85",
   "metadata": {},
   "outputs": [
    {
     "name": "stdout",
     "output_type": "stream",
     "text": [
      "2\n"
     ]
    }
   ],
   "source": [
    "def match_words(words):\n",
    "  ctr = 0\n",
    "\n",
    "  for word in words:\n",
    "    if len(word) > 1 and word[0] == word[-1]:\n",
    "      ctr += 1\n",
    "  return ctr\n",
    "\n",
    "print(match_words(['abc', 'xyz', 'aba', '1221']))"
   ]
  },
  {
   "cell_type": "code",
   "execution_count": 7,
   "id": "63f02752",
   "metadata": {},
   "outputs": [
    {
     "name": "stdout",
     "output_type": "stream",
     "text": [
      "[(2, 1), (1, 2), (2, 3), (4, 4), (2, 5)]\n"
     ]
    }
   ],
   "source": [
    "def last(n): return n[-1]\n",
    "\n",
    "def sort_list_last(tuples):\n",
    "  return sorted(tuples, key=last)\n",
    "\n",
    "print(sort_list_last([(2, 5), (1, 2), (4, 4), (2, 3), (2, 1)]))"
   ]
  },
  {
   "cell_type": "code",
   "execution_count": null,
   "id": "a10b6737",
   "metadata": {},
   "outputs": [],
   "source": []
  }
 ],
 "metadata": {
  "kernelspec": {
   "display_name": "Python 3 (ipykernel)",
   "language": "python",
   "name": "python3"
  },
  "language_info": {
   "codemirror_mode": {
    "name": "ipython",
    "version": 3
   },
   "file_extension": ".py",
   "mimetype": "text/x-python",
   "name": "python",
   "nbconvert_exporter": "python",
   "pygments_lexer": "ipython3",
   "version": "3.9.7"
  }
 },
 "nbformat": 4,
 "nbformat_minor": 5
}

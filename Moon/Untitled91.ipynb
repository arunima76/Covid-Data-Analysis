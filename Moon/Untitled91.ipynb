{
 "cells": [
  {
   "cell_type": "code",
   "execution_count": 13,
   "id": "bdcc3394",
   "metadata": {},
   "outputs": [
    {
     "name": "stdout",
     "output_type": "stream",
     "text": [
      "14\n",
      "Input must be integers\n"
     ]
    }
   ],
   "source": [
    "def addnumbers(a,b):\n",
    "    if (isinstance(a, int) and (b, int)):\n",
    "        return a+ b\n",
    "    else:\n",
    "        return \"Input must be integers\"\n",
    "    \n",
    "print(addnumbers(8,6))\n",
    "print(addnumbers(0.0,5))"
   ]
  },
  {
   "cell_type": "code",
   "execution_count": null,
   "id": "6f2b40d7",
   "metadata": {},
   "outputs": [],
   "source": []
  },
  {
   "cell_type": "code",
   "execution_count": 16,
   "id": "2b5dc3e6",
   "metadata": {},
   "outputs": [
    {
     "name": "stdout",
     "output_type": "stream",
     "text": [
      "14\n",
      "Input must be integers\n"
     ]
    }
   ],
   "source": [
    "def addnumbers(a,b):\n",
    "    if (isinstance(a, int) and (b, int)):\n",
    "        return a+ b\n",
    "    else:\n",
    "        return \"Input must be integers\"\n",
    "    \n",
    "print(addnumbers(8,6))\n",
    "print(addnumbers(0.0,5))"
   ]
  },
  {
   "cell_type": "code",
   "execution_count": 17,
   "id": "8a606b53",
   "metadata": {},
   "outputs": [
    {
     "name": "stdout",
     "output_type": "stream",
     "text": [
      "Enter nameArunima\n",
      "Name are Arunima\n",
      "Enter age31\n",
      "Age are 31\n",
      "Address:Saltlake\n",
      "Address are Saltlake\n"
     ]
    }
   ],
   "source": [
    "x = input(\"Enter name\")\n",
    "print(\"Name are\",x)\n",
    "\n",
    "y = input(\"Enter age\")\n",
    "print(\"Age are\", y)\n",
    "\n",
    "z = input (\"Address:\")\n",
    "print(\"Address are\",z)\n",
    "\n"
   ]
  },
  {
   "cell_type": "code",
   "execution_count": 21,
   "id": "a32617aa",
   "metadata": {},
   "outputs": [
    {
     "name": "stdout",
     "output_type": "stream",
     "text": [
      "Name: Simon\n",
      "Age: 19\n",
      "Address: Bangalore, Karnataka, India\n"
     ]
    }
   ],
   "source": [
    "def personal_details():\n",
    "    name, age = \"Simon\", 19\n",
    "    address = \"Bangalore, Karnataka, India\"\n",
    "    print(\"Name: {}\\nAge: {}\\nAddress: {}\".format(name, age, address))\n",
    "\n",
    "\n",
    "personal_details()"
   ]
  },
  {
   "cell_type": "code",
   "execution_count": 23,
   "id": "1faa8d12",
   "metadata": {},
   "outputs": [
    {
     "name": "stdout",
     "output_type": "stream",
     "text": [
      "Name:Simon\n",
      " Age: 19\n",
      " Adress:Bangalore, Karnataka, India\n"
     ]
    }
   ],
   "source": [
    "def personal_details():\n",
    "    name, age = \"Simon\", 19\n",
    "    address = \"Bangalore, Karnataka, India\"\n",
    "    print(\"Name:{}\\n Age: {}\\n Adress:{}\".format(name, age, address))\n",
    "    \n",
    "personal_details()"
   ]
  },
  {
   "cell_type": "code",
   "execution_count": 27,
   "id": "a0942916",
   "metadata": {},
   "outputs": [
    {
     "name": "stdout",
     "output_type": "stream",
     "text": [
      "4+3^2=49\n"
     ]
    }
   ],
   "source": [
    "x, y = 4, 3\n",
    "result = x * x + 2 * x * y + y * y\n",
    "\n",
    "print(\"{}+{}^2={}\".format(x,y, result))"
   ]
  },
  {
   "cell_type": "code",
   "execution_count": 30,
   "id": "1d82bde5",
   "metadata": {},
   "outputs": [
    {
     "name": "stdout",
     "output_type": "stream",
     "text": [
      "1505, 1540, 1575, 1610, 1645, 1680, 1715, 1750, 1785, 1820, 1855, 1890, 1925, 1960, 1995, 2030, 2065, 2100, 2135, 2170, 2205, 2240, 2275, 2310, 2345, 2380, 2415, 2450, 2485, 2520, 2555, 2590, 2625, 2660, 2695\n"
     ]
    }
   ],
   "source": [
    "    nl = []\n",
    "    for num in range(1500,2700):\n",
    "        if (num % 7 == 0) and (num %  5 == 0):\n",
    "            nl.append(str(num))\n",
    "            \n",
    "print(\", \".join(nl))\n",
    "            \n"
   ]
  },
  {
   "cell_type": "code",
   "execution_count": null,
   "id": "23f46716",
   "metadata": {},
   "outputs": [],
   "source": []
  },
  {
   "cell_type": "code",
   "execution_count": null,
   "id": "f2fdf20d",
   "metadata": {},
   "outputs": [],
   "source": []
  },
  {
   "cell_type": "code",
   "execution_count": null,
   "id": "12f11488",
   "metadata": {},
   "outputs": [],
   "source": []
  },
  {
   "cell_type": "code",
   "execution_count": null,
   "id": "2f20a60e",
   "metadata": {},
   "outputs": [],
   "source": []
  },
  {
   "cell_type": "code",
   "execution_count": null,
   "id": "5328e28b",
   "metadata": {},
   "outputs": [],
   "source": []
  },
  {
   "cell_type": "code",
   "execution_count": null,
   "id": "60f82e81",
   "metadata": {},
   "outputs": [],
   "source": []
  },
  {
   "cell_type": "code",
   "execution_count": null,
   "id": "bd84bc4d",
   "metadata": {},
   "outputs": [],
   "source": []
  }
 ],
 "metadata": {
  "kernelspec": {
   "display_name": "Python 3 (ipykernel)",
   "language": "python",
   "name": "python3"
  },
  "language_info": {
   "codemirror_mode": {
    "name": "ipython",
    "version": 3
   },
   "file_extension": ".py",
   "mimetype": "text/x-python",
   "name": "python",
   "nbconvert_exporter": "python",
   "pygments_lexer": "ipython3",
   "version": "3.9.7"
  }
 },
 "nbformat": 4,
 "nbformat_minor": 5
}

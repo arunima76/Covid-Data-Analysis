{
 "cells": [
  {
   "cell_type": "code",
   "execution_count": 1,
   "id": "ba47e833",
   "metadata": {},
   "outputs": [
    {
     "name": "stdout",
     "output_type": "stream",
     "text": [
      "list are: [1, 1, 2, 3, 6, 7]\n",
      "[1, 2, 3, 6, 7]\n"
     ]
    }
   ],
   "source": [
    "list = [1,1,2,3,6,7]\n",
    "print(\"list are:\",list)\n",
    "\n",
    "newlist = []\n",
    "for i in list:\n",
    "    if i not in newlist:\n",
    "        newlist.append(i)\n",
    "print(newlist)\n",
    "    "
   ]
  },
  {
   "cell_type": "code",
   "execution_count": 6,
   "id": "9e93e19b",
   "metadata": {},
   "outputs": [
    {
     "name": "stdout",
     "output_type": "stream",
     "text": [
      "{'Name': ['Arunima', 'Arunima', 'Anuradha'], 'Branch': ['Bioinformatics', 'ECE'], 'Age': [31, 31], 'Address': ['Kolkata', 'Kolkata']}\n"
     ]
    }
   ],
   "source": [
    "Dictionary = {'Name': ['Arunima', 'Arunima','Anuradha'],\n",
    "              'Branch':['Bioinformatics', 'ECE'],\n",
    "              'Age':[ 31, 31],\n",
    "               'Address': ['Kolkata','Kolkata']\n",
    "              }\n",
    "\n",
    "print(Dictionary)\n",
    "\n"
   ]
  },
  {
   "cell_type": "code",
   "execution_count": 7,
   "id": "45497eac",
   "metadata": {},
   "outputs": [
    {
     "name": "stdout",
     "output_type": "stream",
     "text": [
      "['Arunima', 'Arunima', 'Anuradha']\n"
     ]
    }
   ],
   "source": [
    "print(Dictionary['Name'])"
   ]
  },
  {
   "cell_type": "code",
   "execution_count": 20,
   "id": "34ef1eef",
   "metadata": {},
   "outputs": [
    {
     "name": "stdout",
     "output_type": "stream",
     "text": [
      "['Kolkata', 'Kolkata']\n"
     ]
    }
   ],
   "source": [
    "print(Dictionary['Address'])\n",
    "\n"
   ]
  },
  {
   "cell_type": "code",
   "execution_count": 22,
   "id": "2e194cf9",
   "metadata": {},
   "outputs": [
    {
     "name": "stdout",
     "output_type": "stream",
     "text": [
      "{'Name': ['Arunima', 'Arunima', 'Anuradha'], 'Branch': ['Bioinformatics', 'ECE'], 'Age': (32, 33), 'Address': ('Kolkata', 'Downtown'), 'address': 'Downtown'}\n"
     ]
    }
   ],
   "source": [
    "Dictionary['Address'] = \"Kolkata\" , \"Downtown\"\n",
    "print(Dictionary)"
   ]
  },
  {
   "cell_type": "code",
   "execution_count": 23,
   "id": "1257f372",
   "metadata": {},
   "outputs": [
    {
     "name": "stdout",
     "output_type": "stream",
     "text": [
      "Downtown\n"
     ]
    }
   ],
   "source": [
    "print(Dictionary.pop('address'))"
   ]
  },
  {
   "cell_type": "code",
   "execution_count": 24,
   "id": "8dd5931a",
   "metadata": {},
   "outputs": [
    {
     "name": "stdout",
     "output_type": "stream",
     "text": [
      "{'Name': ['Arunima', 'Arunima', 'Anuradha'], 'Branch': ['Bioinformatics', 'ECE'], 'Age': (32, 33), 'Address': ('Kolkata', 'Downtown')}\n"
     ]
    }
   ],
   "source": [
    "print(Dictionary)"
   ]
  },
  {
   "cell_type": "code",
   "execution_count": 28,
   "id": "274ef815",
   "metadata": {},
   "outputs": [
    {
     "name": "stdout",
     "output_type": "stream",
     "text": [
      "{1: 1, 2: 4, 3: 9, 4: 16, 5: 25, 6: 36}\n",
      "16\n",
      "{1: 1, 2: 4, 3: 9, 5: 25, 6: 36}\n"
     ]
    }
   ],
   "source": [
    "sqaures = {1: 1, 2: 4, 3:9,4:16,5:25,6:36}\n",
    "print(sqaures)\n",
    "print(sqaures.pop(4))\n",
    "print(sqaures)\n"
   ]
  },
  {
   "cell_type": "code",
   "execution_count": 29,
   "id": "18378de4",
   "metadata": {},
   "outputs": [],
   "source": [
    "sqaures.clear()"
   ]
  },
  {
   "cell_type": "code",
   "execution_count": 30,
   "id": "c583862b",
   "metadata": {},
   "outputs": [
    {
     "name": "stdout",
     "output_type": "stream",
     "text": [
      "{}\n"
     ]
    }
   ],
   "source": [
    "print(sqaures)"
   ]
  },
  {
   "cell_type": "code",
   "execution_count": 31,
   "id": "93439d25",
   "metadata": {},
   "outputs": [
    {
     "name": "stdout",
     "output_type": "stream",
     "text": [
      "{0: 0, 1: 1, 2: 4, 3: 9, 4: 16, 5: 25, 6: 36, 7: 49, 8: 64, 9: 81}\n"
     ]
    }
   ],
   "source": [
    "squares = { x : x * x for x in range(10)}\n",
    "\n",
    "print(sqaures)"
   ]
  },
  {
   "cell_type": "code",
   "execution_count": 34,
   "id": "670c6856",
   "metadata": {},
   "outputs": [
    {
     "name": "stdout",
     "output_type": "stream",
     "text": [
      "{0: 0, 1: 1, 2: 4, 3: 9, 4: 16, 5: 25, 6: 36, 7: 49, 8: 64, 9: 81}\n"
     ]
    }
   ],
   "source": [
    "squares = {}\n",
    "\n",
    "for x in range(10):\n",
    "    sqaures[x] = x*x\n",
    "    \n",
    "print(sqaures)"
   ]
  },
  {
   "cell_type": "code",
   "execution_count": 35,
   "id": "b4a4709b",
   "metadata": {},
   "outputs": [
    {
     "name": "stdout",
     "output_type": "stream",
     "text": [
      "{1: 1, 3: 9, 5: 25, 7: 49, 9: 81}\n"
     ]
    }
   ],
   "source": [
    "odd_squares = { x : x * x for x in range(11) if x % 2 == 1}\n",
    "\n",
    "print(odd_squares)"
   ]
  },
  {
   "cell_type": "code",
   "execution_count": 44,
   "id": "2c62ec78",
   "metadata": {},
   "outputs": [
    {
     "name": "stdout",
     "output_type": "stream",
     "text": [
      "Hello Geek\n",
      "Hello Geek\n",
      "Hello Geek\n"
     ]
    }
   ],
   "source": [
    "count = 0\n",
    "while (count < 3):\n",
    "    count = count + 1\n",
    "    print(\"Hello Geek\")"
   ]
  },
  {
   "cell_type": "code",
   "execution_count": 45,
   "id": "8ccf5c8f",
   "metadata": {},
   "outputs": [
    {
     "name": "stdout",
     "output_type": "stream",
     "text": [
      "Hello Geek\n",
      "Hello Geek\n",
      "Hello Geek\n"
     ]
    }
   ],
   "source": [
    "count = 0 \n",
    "while(count< 3):\n",
    "    count = count + 1\n",
    "    print(\"Hello Geek\")"
   ]
  },
  {
   "cell_type": "code",
   "execution_count": 47,
   "id": "b63f12a5",
   "metadata": {},
   "outputs": [
    {
     "name": "stdout",
     "output_type": "stream",
     "text": [
      "50\n",
      "40\n",
      "30\n",
      "20\n",
      "10\n"
     ]
    }
   ],
   "source": [
    " a = [10,20,30,40,50]\n",
    "while a: \n",
    "    print (a.pop())\n",
    "        "
   ]
  },
  {
   "cell_type": "code",
   "execution_count": 48,
   "id": "afe9fbed",
   "metadata": {},
   "outputs": [
    {
     "name": "stdout",
     "output_type": "stream",
     "text": [
      "Hello Geek\n",
      "Hello Geek\n",
      "Hello Geek\n",
      "Hello Geek\n",
      "Hello Geek\n"
     ]
    }
   ],
   "source": [
    "count = 0\n",
    "while (count < 5): \n",
    "    count = count + 1; \n",
    "    print(\"Hello Geek\")"
   ]
  },
  {
   "cell_type": "code",
   "execution_count": 49,
   "id": "e2a3c479",
   "metadata": {},
   "outputs": [
    {
     "name": "stdout",
     "output_type": "stream",
     "text": [
      "Hello Geek\n",
      "Hello Geek\n",
      "Hello Geek\n",
      "Hello Geek\n",
      "Hello Geek\n"
     ]
    }
   ],
   "source": [
    "count = 0\n",
    "while(count<5): count += 1; print(\"Hello Geek\")"
   ]
  },
  {
   "cell_type": "code",
   "execution_count": null,
   "id": "7ea22937",
   "metadata": {},
   "outputs": [],
   "source": [
    "def even_odd(num):\n",
    "    if a % 2 == 0:\n",
    "        print(\"even no\")\n",
    "    else:\n",
    "        print(\"odd no\")\n",
    "even_odd(9)"
   ]
  },
  {
   "cell_type": "code",
   "execution_count": null,
   "id": "f9b193b3",
   "metadata": {},
   "outputs": [],
   "source": [
    "def even_odd(num):\n",
    "    if a % 2 == 0:\n",
    "        print(\"even no\")\n",
    "    else:\n",
    "        print(\"odd no\")\n",
    "even_odd(9)"
   ]
  },
  {
   "cell_type": "code",
   "execution_count": null,
   "id": "af013417",
   "metadata": {},
   "outputs": [],
   "source": [
    "def addition(numbers):\n",
    "    total = 0\n",
    "    for x in numbers:\n",
    "        total += x \n",
    "        return total \n",
    "    \n",
    "    print(addition(6,7,8))\n"
   ]
  },
  {
   "cell_type": "code",
   "execution_count": null,
   "id": "28f79a16",
   "metadata": {},
   "outputs": [],
   "source": []
  },
  {
   "cell_type": "code",
   "execution_count": null,
   "id": "e8c988b6",
   "metadata": {},
   "outputs": [],
   "source": []
  },
  {
   "cell_type": "code",
   "execution_count": null,
   "id": "b117e5c2",
   "metadata": {},
   "outputs": [],
   "source": []
  }
 ],
 "metadata": {
  "kernelspec": {
   "display_name": "Python 3 (ipykernel)",
   "language": "python",
   "name": "python3"
  },
  "language_info": {
   "codemirror_mode": {
    "name": "ipython",
    "version": 3
   },
   "file_extension": ".py",
   "mimetype": "text/x-python",
   "name": "python",
   "nbconvert_exporter": "python",
   "pygments_lexer": "ipython3",
   "version": "3.9.7"
  }
 },
 "nbformat": 4,
 "nbformat_minor": 5
}

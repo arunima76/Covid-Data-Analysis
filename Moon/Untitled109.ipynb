{
 "cells": [
  {
   "cell_type": "code",
   "execution_count": 5,
   "id": "832dbf66",
   "metadata": {},
   "outputs": [
    {
     "name": "stdout",
     "output_type": "stream",
     "text": [
      "dictionary {'b': 20, 'c': 30}\n"
     ]
    }
   ],
   "source": [
    "dict1 = {'a': 10,'b':20,'c':30}\n",
    "if 'a' in dict1:\n",
    "    del dict1['a']\n",
    "print(\"dictionary\", dict1)"
   ]
  },
  {
   "cell_type": "code",
   "execution_count": 6,
   "id": "3641c7a4",
   "metadata": {},
   "outputs": [
    {
     "name": "stdout",
     "output_type": "stream",
     "text": [
      "{'Smith': 89, 'John': 53, 'Priska': 92, 'Abhi': 86}\n"
     ]
    }
   ],
   "source": [
    "students = ['Smith', 'John', 'Priska', 'Abhi']\n",
    "marks = [89, 53, 92, 86]\n",
    "\n",
    "students_dict = dict(zip(students, marks))\n",
    "print(students_dict)\n"
   ]
  },
  {
   "cell_type": "code",
   "execution_count": 7,
   "id": "f7ed2cdd",
   "metadata": {},
   "outputs": [
    {
     "name": "stdout",
     "output_type": "stream",
     "text": [
      "7\n"
     ]
    }
   ],
   "source": [
    "str1 =\"Arunima\"\n",
    "print(len(str1))"
   ]
  },
  {
   "cell_type": "code",
   "execution_count": 8,
   "id": "0e003945",
   "metadata": {},
   "outputs": [
    {
     "name": "stdout",
     "output_type": "stream",
     "text": [
      "Iloveindia\n"
     ]
    }
   ],
   "source": [
    "str1 = \"iloveindia\"\n",
    "print(str1.capitalize())"
   ]
  },
  {
   "cell_type": "code",
   "execution_count": 9,
   "id": "055641a2",
   "metadata": {},
   "outputs": [
    {
     "name": "stdout",
     "output_type": "stream",
     "text": [
      "Iloveindia\n"
     ]
    }
   ],
   "source": [
    "str1 = \"iloveindia\"\n",
    "print(str1.title())"
   ]
  },
  {
   "cell_type": "code",
   "execution_count": 10,
   "id": "39d0948e",
   "metadata": {},
   "outputs": [
    {
     "name": "stdout",
     "output_type": "stream",
     "text": [
      "ILOVEINDIA\n"
     ]
    }
   ],
   "source": [
    "str1 = \"iloveindia\"\n",
    "print(str1.upper())"
   ]
  },
  {
   "cell_type": "code",
   "execution_count": 13,
   "id": "8f6e5dce",
   "metadata": {},
   "outputs": [
    {
     "data": {
      "text/plain": [
       "3"
      ]
     },
     "execution_count": 13,
     "metadata": {},
     "output_type": "execute_result"
    }
   ],
   "source": [
    "str1 = \"i love india, we love india\"\n",
    "str1.index('o')"
   ]
  },
  {
   "cell_type": "code",
   "execution_count": 15,
   "id": "d24f8d79",
   "metadata": {},
   "outputs": [
    {
     "name": "stdout",
     "output_type": "stream",
     "text": [
      "True\n"
     ]
    }
   ],
   "source": [
    "str1 = \"A23\"\n",
    "print(str1.isalnum())"
   ]
  },
  {
   "cell_type": "code",
   "execution_count": 16,
   "id": "1c6112f7",
   "metadata": {},
   "outputs": [
    {
     "data": {
      "text/plain": [
       "True"
      ]
     },
     "execution_count": 16,
     "metadata": {},
     "output_type": "execute_result"
    }
   ],
   "source": [
    "str1 = \" \"\n",
    "str1.isspace()"
   ]
  },
  {
   "cell_type": "code",
   "execution_count": 17,
   "id": "428a3654",
   "metadata": {},
   "outputs": [
    {
     "name": "stdout",
     "output_type": "stream",
     "text": [
      "you are i see everyone\n"
     ]
    }
   ],
   "source": [
    "msg1 = \"you are i sea everyone\"\n",
    "msg1 = msg1.replace('sea','see')\n",
    "print(msg1)"
   ]
  },
  {
   "cell_type": "code",
   "execution_count": 19,
   "id": "91250e3d",
   "metadata": {},
   "outputs": [
    {
     "name": "stdout",
     "output_type": "stream",
     "text": [
      "Enter a string: school\n",
      "sChOoL\n"
     ]
    }
   ],
   "source": [
    "s = input(\"Enter a string: \")\n",
    "\n",
    "ls = list(s)\n",
    "\n",
    "for i in range(1, len(s), 2):\n",
    "\n",
    "   ls[i] = ls[i].capitalize()\n",
    "\n",
    "es = \"\"\n",
    "\n",
    "for i in ls:\n",
    "\n",
    "   es = es + i\n",
    "\n",
    "print(es)"
   ]
  },
  {
   "cell_type": "code",
   "execution_count": 23,
   "id": "cf445b68",
   "metadata": {},
   "outputs": [
    {
     "name": "stdout",
     "output_type": "stream",
     "text": [
      "Enter a stringmaruti suzuki 800\n",
      "Enter substringmaruti\n",
      "['maruti', 'suzuki', '800']\n",
      "number of substring 1\n"
     ]
    }
   ],
   "source": [
    "s = input(\"Enter a string\")\n",
    "s1 = input(\"Enter substring\")\n",
    "\n",
    "l = s.split()\n",
    "print(l)\n",
    "\n",
    "c = 0\n",
    "for i in l:\n",
    "    if i ==s1:\n",
    "        c = c+1\n",
    "print(\"number of substring\",c)"
   ]
  },
  {
   "cell_type": "code",
   "execution_count": 24,
   "id": "589b8292",
   "metadata": {},
   "outputs": [
    {
     "name": "stdout",
     "output_type": "stream",
     "text": [
      "\n",
      "After removing Vowels:  Prpnst\n"
     ]
    }
   ],
   "source": [
    "string = \"PrepInsta\"\n",
    "vowels = ['a', 'e', 'i', 'o', 'u', 'A', 'E', 'I', 'O', 'U']\n",
    "result = \"\"\n",
    "for i in range(len(string)):\n",
    "    if string[i] not in vowels:\n",
    "        result = result + string[i]\n",
    "print(\"\\nAfter removing Vowels: \", result)"
   ]
  },
  {
   "cell_type": "code",
   "execution_count": 25,
   "id": "8f82411b",
   "metadata": {},
   "outputs": [
    {
     "name": "stdout",
     "output_type": "stream",
     "text": [
      "Enter sentence:  It is in the eveving\n",
      "Longest word is:  eveving\n",
      "And its length is:  7\n"
     ]
    }
   ],
   "source": [
    "sentence = input(\"Enter sentence: \")\n",
    "\n",
    "# Finding longest word\n",
    "longest = max(sentence.split(), key=len)\n",
    "\n",
    "# Displaying longest word\n",
    "print(\"Longest word is: \", longest)\n",
    "print(\"And its length is: \", len(longest))"
   ]
  },
  {
   "cell_type": "code",
   "execution_count": 27,
   "id": "1b7416c5",
   "metadata": {},
   "outputs": [
    {
     "name": "stdout",
     "output_type": "stream",
     "text": [
      "Enter sentence: a pink ballon\n",
      "smallest word is:  a\n",
      "And its length is:  1\n"
     ]
    }
   ],
   "source": [
    "sentence = input(\"Enter sentence: \")\n",
    "\n",
    "# Finding longest word\n",
    "smallest = min(sentence.split(), key=len)\n",
    "\n",
    "# Displaying longest word\n",
    "print(\"smallest word is: \", smallest)\n",
    "print(\"And its length is: \", len(smallest))"
   ]
  },
  {
   "cell_type": "code",
   "execution_count": null,
   "id": "639523e0",
   "metadata": {},
   "outputs": [],
   "source": []
  },
  {
   "cell_type": "code",
   "execution_count": null,
   "id": "00e8e777",
   "metadata": {},
   "outputs": [],
   "source": []
  }
 ],
 "metadata": {
  "kernelspec": {
   "display_name": "Python 3 (ipykernel)",
   "language": "python",
   "name": "python3"
  },
  "language_info": {
   "codemirror_mode": {
    "name": "ipython",
    "version": 3
   },
   "file_extension": ".py",
   "mimetype": "text/x-python",
   "name": "python",
   "nbconvert_exporter": "python",
   "pygments_lexer": "ipython3",
   "version": "3.9.7"
  }
 },
 "nbformat": 4,
 "nbformat_minor": 5
}

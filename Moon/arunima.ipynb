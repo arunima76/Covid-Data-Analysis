{
 "cells": [
  {
   "cell_type": "code",
   "execution_count": 1,
   "id": "1e60666f",
   "metadata": {},
   "outputs": [
    {
     "data": {
      "text/plain": [
       "[5, 7, 4, 2]"
      ]
     },
     "execution_count": 1,
     "metadata": {},
     "output_type": "execute_result"
    }
   ],
   "source": [
    "list1 = [5,7,4,2]\n",
    "list1"
   ]
  },
  {
   "cell_type": "code",
   "execution_count": 2,
   "id": "212e0038",
   "metadata": {},
   "outputs": [
    {
     "name": "stdout",
     "output_type": "stream",
     "text": [
      "enter list to be entered6,7,2,1,5\n",
      "list is (6, 7, 2, 1, 5)\n"
     ]
    }
   ],
   "source": [
    "list1= eval(input(\"enter list to be entered\"))\n",
    "\n",
    "print(\"list is\", list1)"
   ]
  },
  {
   "cell_type": "code",
   "execution_count": 3,
   "id": "2b73d594",
   "metadata": {},
   "outputs": [
    {
     "name": "stdout",
     "output_type": "stream",
     "text": [
      "[10, 20, 30]\n"
     ]
    }
   ],
   "source": [
    "val = [10,20,30,40,1,2,3,100,200]\n",
    "print(val[0:3])"
   ]
  },
  {
   "cell_type": "code",
   "execution_count": 4,
   "id": "2b642267",
   "metadata": {},
   "outputs": [
    {
     "name": "stdout",
     "output_type": "stream",
     "text": [
      "[40, 1, 2, 3, 100]\n"
     ]
    }
   ],
   "source": [
    "print(val[3:8])"
   ]
  },
  {
   "cell_type": "code",
   "execution_count": 5,
   "id": "957fb6ff",
   "metadata": {},
   "outputs": [
    {
     "name": "stdout",
     "output_type": "stream",
     "text": [
      "[2, 3, 100]\n"
     ]
    }
   ],
   "source": [
    "print(val[-4:-1])"
   ]
  },
  {
   "cell_type": "code",
   "execution_count": 6,
   "id": "fa48499c",
   "metadata": {},
   "outputs": [
    {
     "name": "stdout",
     "output_type": "stream",
     "text": [
      "[30, 40, 1, 2, 3]\n"
     ]
    }
   ],
   "source": [
    "val2 = val[2:-2]\n",
    "print(val2)"
   ]
  },
  {
   "cell_type": "code",
   "execution_count": 7,
   "id": "17655b78",
   "metadata": {},
   "outputs": [
    {
     "name": "stdout",
     "output_type": "stream",
     "text": [
      "[30, 40, 1, 2, 3]\n"
     ]
    }
   ],
   "source": [
    "print(val2[0:])"
   ]
  },
  {
   "cell_type": "code",
   "execution_count": 8,
   "id": "bb886d87",
   "metadata": {},
   "outputs": [
    {
     "name": "stdout",
     "output_type": "stream",
     "text": [
      "[30, 40, 1, 2, 3]\n"
     ]
    }
   ],
   "source": [
    "print(val2[0:])"
   ]
  },
  {
   "cell_type": "code",
   "execution_count": 9,
   "id": "fb388ce7",
   "metadata": {},
   "outputs": [
    {
     "name": "stdout",
     "output_type": "stream",
     "text": [
      "[200, 100, 3, 2, 1, 40, 30, 20, 10]\n"
     ]
    }
   ],
   "source": [
    "print(val[::-1])"
   ]
  },
  {
   "cell_type": "code",
   "execution_count": 10,
   "id": "4ec1eefa",
   "metadata": {},
   "outputs": [],
   "source": [
    "val[5] =101"
   ]
  },
  {
   "cell_type": "code",
   "execution_count": 12,
   "id": "4b28ec11",
   "metadata": {},
   "outputs": [
    {
     "name": "stdout",
     "output_type": "stream",
     "text": [
      "[20, 30, 40, 1, 101, 3]\n"
     ]
    }
   ],
   "source": [
    "print(val[-8:-2])"
   ]
  },
  {
   "cell_type": "code",
   "execution_count": 13,
   "id": "605f1bfd",
   "metadata": {},
   "outputs": [
    {
     "name": "stdout",
     "output_type": "stream",
     "text": [
      "[30, 40, 1, 101, 3, 100, 200]\n"
     ]
    }
   ],
   "source": [
    "print(val[2::])"
   ]
  },
  {
   "cell_type": "code",
   "execution_count": 17,
   "id": "885028b1",
   "metadata": {},
   "outputs": [
    {
     "name": "stdout",
     "output_type": "stream",
     "text": [
      "[2, 100, 10, 30, 12]\n",
      "[10, 1, 200, 11, 19]\n",
      "2 ==sum of slice1 elements are 2\n",
      "100 ==sum of slice1 elements are 102\n",
      "10 ==sum of slice1 elements are 112\n",
      "30 ==sum of slice1 elements are 142\n",
      "12 ==sum of slice1 elements are 154\n",
      "10 == 1 == 200 == 11 == 19 == Average of slice2= 48.2\n"
     ]
    }
   ],
   "source": [
    "val = [10,20,30,40,1,2,3,100,200,10,20,30,11,12,15,17,19,90,77,35]\n",
    "slice1 = val[5:15:2]\n",
    "print(slice1)\n",
    "slice2 = val[::4]\n",
    "print(slice2)\n",
    "\n",
    "sum = 0\n",
    "for x in slice1:\n",
    "    print(x,\"==\", end= \"\")\n",
    "    sum+= x\n",
    "    print(\"sum of slice1 elements are\",sum)\n",
    "sum = 0\n",
    "for x in slice2:\n",
    "    print(x,\"==\",end= \" \")\n",
    "    sum+= x\n",
    "avg = sum/len(slice2)\n",
    "print(\"Average of slice2=\", avg)\n"
   ]
  },
  {
   "cell_type": "code",
   "execution_count": 20,
   "id": "5fa14cd6",
   "metadata": {},
   "outputs": [
    {
     "name": "stdout",
     "output_type": "stream",
     "text": [
      "12threefour\n",
      "fantasticfour"
     ]
    }
   ],
   "source": [
    "items = [\"one\",\"two\",\"three\",\"four\"]\n",
    "items[0:2]= [1,2]\n",
    "for i in items:\n",
    "    print(i, end='')\n",
    "items[0:3] = \"fantastic\"\n",
    "print()\n",
    "for i in items:\n",
    "    print(i, end='')"
   ]
  },
  {
   "cell_type": "code",
   "execution_count": null,
   "id": "469d9e34",
   "metadata": {},
   "outputs": [],
   "source": [
    "a = [10,20,30]\n",
    "b ="
   ]
  }
 ],
 "metadata": {
  "kernelspec": {
   "display_name": "Python 3 (ipykernel)",
   "language": "python",
   "name": "python3"
  },
  "language_info": {
   "codemirror_mode": {
    "name": "ipython",
    "version": 3
   },
   "file_extension": ".py",
   "mimetype": "text/x-python",
   "name": "python",
   "nbconvert_exporter": "python",
   "pygments_lexer": "ipython3",
   "version": "3.9.7"
  }
 },
 "nbformat": 4,
 "nbformat_minor": 5
}

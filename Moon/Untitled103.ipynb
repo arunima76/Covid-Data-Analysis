{
 "cells": [
  {
   "cell_type": "code",
   "execution_count": null,
   "id": "f6d1692e",
   "metadata": {},
   "outputs": [],
   "source": []
  },
  {
   "cell_type": "code",
   "execution_count": null,
   "id": "c50e1c9f",
   "metadata": {},
   "outputs": [],
   "source": []
  },
  {
   "cell_type": "code",
   "execution_count": null,
   "id": "7ea4b1f1",
   "metadata": {},
   "outputs": [],
   "source": [
    "x= int(input(\"Enter a number\"))\n",
    "term = x\n",
    "i = 1\n",
    "c= 0\n",
    "\n",
    "while i<=x:\n",
    "    if x%i==0:\n",
    "        c= c+1\n",
    "    i = i +1\n",
    "print(\"Count\",c)\n",
    "if c == 2:\n",
    "    print(x,\"prime\")\n",
    "else:\n",
    "    print(x,\"prime\")"
   ]
  },
  {
   "cell_type": "code",
   "execution_count": null,
   "id": "bedcbaa7",
   "metadata": {},
   "outputs": [],
   "source": []
  }
 ],
 "metadata": {
  "kernelspec": {
   "display_name": "Python 3 (ipykernel)",
   "language": "python",
   "name": "python3"
  },
  "language_info": {
   "codemirror_mode": {
    "name": "ipython",
    "version": 3
   },
   "file_extension": ".py",
   "mimetype": "text/x-python",
   "name": "python",
   "nbconvert_exporter": "python",
   "pygments_lexer": "ipython3",
   "version": "3.9.7"
  }
 },
 "nbformat": 4,
 "nbformat_minor": 5
}

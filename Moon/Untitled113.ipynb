{
 "cells": [
  {
   "cell_type": "code",
   "execution_count": 3,
   "id": "5a6a4ba8",
   "metadata": {},
   "outputs": [
    {
     "name": "stdout",
     "output_type": "stream",
     "text": [
      "Enter First Number6\n",
      "Enter Second Number8\n",
      "Enter Third Number10\n",
      "The maximum number is 10\n"
     ]
    }
   ],
   "source": [
    "a = int(input(\"Enter First Number\"))\n",
    "b = int(input(\"Enter Second Number\"))\n",
    "c = int(input(\"Enter Third Number\"))\n",
    "max = 0\n",
    "if (a>b and a>c):\n",
    "    max = a\n",
    "elif (b>a and b>c):\n",
    "    max = b\n",
    "else:\n",
    "    max = c\n",
    "    \n",
    "print(\"The maximum number is\", max)"
   ]
  },
  {
   "cell_type": "code",
   "execution_count": null,
   "id": "8c59a2e3",
   "metadata": {},
   "outputs": [],
   "source": []
  },
  {
   "cell_type": "code",
   "execution_count": null,
   "id": "af588eb1",
   "metadata": {},
   "outputs": [],
   "source": []
  },
  {
   "cell_type": "code",
   "execution_count": null,
   "id": "157a12e2",
   "metadata": {},
   "outputs": [],
   "source": []
  },
  {
   "cell_type": "code",
   "execution_count": null,
   "id": "094600fd",
   "metadata": {},
   "outputs": [],
   "source": []
  }
 ],
 "metadata": {
  "kernelspec": {
   "display_name": "Python 3 (ipykernel)",
   "language": "python",
   "name": "python3"
  },
  "language_info": {
   "codemirror_mode": {
    "name": "ipython",
    "version": 3
   },
   "file_extension": ".py",
   "mimetype": "text/x-python",
   "name": "python",
   "nbconvert_exporter": "python",
   "pygments_lexer": "ipython3",
   "version": "3.9.7"
  }
 },
 "nbformat": 4,
 "nbformat_minor": 5
}

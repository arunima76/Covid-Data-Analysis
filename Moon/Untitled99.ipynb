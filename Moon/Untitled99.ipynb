{
 "cells": [
  {
   "cell_type": "code",
   "execution_count": 3,
   "id": "b022d6f4",
   "metadata": {},
   "outputs": [
    {
     "name": "stdout",
     "output_type": "stream",
     "text": [
      "sum of the list is 14\n"
     ]
    }
   ],
   "source": [
    "list = [8,1, 2,3]\n",
    "count_list = 0\n",
    "for i in list:\n",
    "    count_list += i\n",
    "print(\"sum of the list is\", count_list)\n",
    "    "
   ]
  },
  {
   "cell_type": "code",
   "execution_count": 7,
   "id": "98210570",
   "metadata": {},
   "outputs": [
    {
     "name": "stdout",
     "output_type": "stream",
     "text": [
      "Enter number of elements : 3\n",
      "4\n",
      "8\n",
      "9\n",
      "[4, 8, 9]\n"
     ]
    }
   ],
   "source": [
    "lst = []\n",
    "  \n",
    "# number of elements as input\n",
    "n = int(input(\"Enter number of elements : \"))\n",
    "  \n",
    "# iterating till the range\n",
    "for i in range(0, n):\n",
    "    ele = int(input())\n",
    "  \n",
    "    lst.append(ele) # adding the element\n",
    "      \n",
    "print(lst)"
   ]
  },
  {
   "cell_type": "code",
   "execution_count": 9,
   "id": "f9c8ca2b",
   "metadata": {},
   "outputs": [
    {
     "name": "stdout",
     "output_type": "stream",
     "text": [
      "Enter number of elements3\n",
      "9\n",
      "8\n",
      "7\n",
      "[9, 8, 7]\n",
      "list are 3\n"
     ]
    }
   ],
   "source": [
    "list1 = []\n",
    "n = int(input(\"Enter number of elements\"))\n",
    "for i in range(0,n):\n",
    "    ele = int(input())\n",
    "    list1.append(ele)\n",
    "    \n",
    "    \n",
    "print(list1)\n",
    "print(\"list are\", count_list)"
   ]
  },
  {
   "cell_type": "code",
   "execution_count": 10,
   "id": "37103cf6",
   "metadata": {},
   "outputs": [
    {
     "name": "stdout",
     "output_type": "stream",
     "text": [
      "How many numbers: 3\n",
      "Enter number 7\n",
      "Enter number 7\n",
      "Enter number 7\n",
      "Sum of elements in given list is : 21\n"
     ]
    }
   ],
   "source": [
    "lst = []\n",
    "num = int(input('How many numbers: '))\n",
    "\n",
    "for n in range(num):\n",
    "    numbers = int(input('Enter number '))\n",
    "    lst.append(numbers)\n",
    "    \n",
    "print(\"Sum of elements in given list is :\", sum(lst))"
   ]
  },
  {
   "cell_type": "code",
   "execution_count": null,
   "id": "3b5c3a83",
   "metadata": {},
   "outputs": [],
   "source": []
  },
  {
   "cell_type": "code",
   "execution_count": null,
   "id": "1fa0fb27",
   "metadata": {},
   "outputs": [],
   "source": []
  },
  {
   "cell_type": "code",
   "execution_count": null,
   "id": "53ad2254",
   "metadata": {},
   "outputs": [],
   "source": [
    "lst = []\n",
    "num = int(input('How many numbers: '))\n",
    "\n",
    "for n in range(num):\n",
    "    numbers = int(input('Enter number '))\n",
    "    lst.append(numbers)\n",
    "    \n",
    "print(\"Sum of elements in given list is :\", mult(lst))"
   ]
  },
  {
   "cell_type": "code",
   "execution_count": null,
   "id": "a8aa3c50",
   "metadata": {},
   "outputs": [],
   "source": [
    "total = 0\n",
    " \n",
    "# creating a list\n",
    "list1 = [11, 5, 17, 18, 23]\n",
    " \n",
    "# Iterate each element in list\n",
    "# and add them in variable total\n",
    "for ele in range(0, len(list1)):\n",
    "    total = total + list1[ele]\n",
    " \n",
    "# printing total value\n",
    "print(\"Sum of all elements in given list: \", total)"
   ]
  },
  {
   "cell_type": "code",
   "execution_count": null,
   "id": "f863081b",
   "metadata": {},
   "outputs": [],
   "source": [
    "list1= []\n",
    "num = int(input('How many numbers'))\n",
    "max = 0\n",
    "\n",
    "for n in range(num):\n",
    "     numbers = int(input(\"Enter number\"))\n",
    "    list1.append(numbers)\n",
    "    \n",
    "    if numbers > max:\n",
    "        print(\"the numbers are:\",numbers)\n",
    " \n",
    "    \n",
    "    \n"
   ]
  },
  {
   "cell_type": "code",
   "execution_count": null,
   "id": "1f7758bb",
   "metadata": {},
   "outputs": [],
   "source": []
  }
 ],
 "metadata": {
  "kernelspec": {
   "display_name": "Python 3 (ipykernel)",
   "language": "python",
   "name": "python3"
  },
  "language_info": {
   "codemirror_mode": {
    "name": "ipython",
    "version": 3
   },
   "file_extension": ".py",
   "mimetype": "text/x-python",
   "name": "python",
   "nbconvert_exporter": "python",
   "pygments_lexer": "ipython3",
   "version": "3.9.7"
  }
 },
 "nbformat": 4,
 "nbformat_minor": 5
}

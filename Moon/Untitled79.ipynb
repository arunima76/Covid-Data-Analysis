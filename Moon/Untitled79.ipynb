{
 "cells": [
  {
   "cell_type": "code",
   "execution_count": 2,
   "id": "d03d59c8",
   "metadata": {},
   "outputs": [
    {
     "name": "stdout",
     "output_type": "stream",
     "text": [
      "5 is in the range\n"
     ]
    }
   ],
   "source": [
    "def test_range(n):\n",
    "    if n in range(3,9):\n",
    "        print(\"%s is in the range\"%str(n))\n",
    "    else:\n",
    "        print(\"The number is outside the range\")\n",
    "        \n",
    "test_range(5)\n",
    "            "
   ]
  },
  {
   "cell_type": "code",
   "execution_count": 4,
   "id": "edd27bd4",
   "metadata": {},
   "outputs": [
    {
     "name": "stdout",
     "output_type": "stream",
     "text": [
      "Original string is:\n",
      "Number of Uppercase of original string is 2\n",
      "Number of lowercase of original string is 25\n"
     ]
    }
   ],
   "source": [
    "def string_test(s):\n",
    "    d = {\"UPPERCASE\" :0, \"LOWERCASE\" :0}\n",
    "    for c in s:\n",
    "        if c.isupper():\n",
    "            d[\"UPPERCASE\"] += 1\n",
    "        elif c.islower():\n",
    "            d[\"LOWERCASE\"] += 1\n",
    "        else:\n",
    "            pass\n",
    "    print(\"Original string is:\")\n",
    "    print (\"Number of Uppercase of original string is\", d[\"UPPERCASE\"])\n",
    "    print(\"Number of lowercase of original string is\",d[\"LOWERCASE\"])\n",
    "    \n",
    "string_test(\"The quick brown fox in the Jungle\")"
   ]
  },
  {
   "cell_type": "code",
   "execution_count": 9,
   "id": "edf1bd71",
   "metadata": {},
   "outputs": [
    {
     "name": "stdout",
     "output_type": "stream",
     "text": [
      "[7, 6, 1, 2, 4, 9, 12]\n"
     ]
    }
   ],
   "source": [
    "def list_number(numbers):\n",
    "    uniq_number = []\n",
    "    for a in numbers:\n",
    "        if a not in uniq_number:\n",
    "            uniq_number.append(a)\n",
    "            \n",
    "    return uniq_number\n",
    "\n",
    "print(list_number([7,6,1,2,4,9,12,4,12,9]))"
   ]
  },
  {
   "cell_type": "code",
   "execution_count": 14,
   "id": "f8359be3",
   "metadata": {},
   "outputs": [
    {
     "name": "stdout",
     "output_type": "stream",
     "text": [
      "[6, 2, 4, 12, 4, 12]\n"
     ]
    }
   ],
   "source": [
    "def list_even_numbers(list):\n",
    "    e_num = []\n",
    "    for a in list:\n",
    "        if a % 2 == 0:\n",
    "            e_num.append(a)\n",
    "    return e_num\n",
    "print(list_even_numbers([7,6,1,2,4,9,12,4,12,9]))"
   ]
  },
  {
   "cell_type": "code",
   "execution_count": 15,
   "id": "f444d4a5",
   "metadata": {},
   "outputs": [
    {
     "ename": "SyntaxError",
     "evalue": "invalid syntax (Temp/ipykernel_8492/2288653913.py, line 8)",
     "output_type": "error",
     "traceback": [
      "\u001b[1;36m  File \u001b[1;32m\"C:\\Users\\Arunima\\AppData\\Local\\Temp/ipykernel_8492/2288653913.py\"\u001b[1;36m, line \u001b[1;32m8\u001b[0m\n\u001b[1;33m    print grab_children(top)\u001b[0m\n\u001b[1;37m          ^\u001b[0m\n\u001b[1;31mSyntaxError\u001b[0m\u001b[1;31m:\u001b[0m invalid syntax\n"
     ]
    }
   ],
   "source": [
    "def grab_children(father):\n",
    "    local_list = []\n",
    "    for key, value in father.iteritems():\n",
    "        local_list.append(key)\n",
    "        local_list.extend(grab_children(value))\n",
    "    return local_list\n",
    "\n",
    "print grab_children(top)"
   ]
  },
  {
   "cell_type": "code",
   "execution_count": 16,
   "id": "8efd2726",
   "metadata": {},
   "outputs": [
    {
     "name": "stdout",
     "output_type": "stream",
     "text": [
      "[('new_dic1', {'Country': 'Indonesia', 'Value': '240'}), ('new_dic2', {'student': 'George', 'stu_age': '39'})]\n"
     ]
    }
   ],
   "source": [
    "my_dict = { 'new_dic1': {'Country': 'Indonesia', 'Value': '240'},\n",
    "         'new_dic2': {'student': 'George', 'stu_age': '39'}}\n",
    "new_val = [(ne_key, ne_value) for ne_key, ne_value in my_dict.items()] \n",
    "print(new_val)"
   ]
  },
  {
   "cell_type": "code",
   "execution_count": 23,
   "id": "93e1c7b7",
   "metadata": {},
   "outputs": [
    {
     "name": "stdout",
     "output_type": "stream",
     "text": [
      "[[('new_dic1', {'Country': 'Indonesia', 'Value': '240'}), ('new_dic2', {'student': 'George', 'stu_age': '39'})]]\n"
     ]
    }
   ],
   "source": [
    "new_val =[('new_dic1', {'Country': 'Indonesia', 'Value': '240'}),\n",
    " ('new_dic2', {'student': 'George', 'stu_age': '39'})]\n",
    "\n"
   ]
  },
  {
   "cell_type": "code",
   "execution_count": 41,
   "id": "de72b198",
   "metadata": {},
   "outputs": [
    {
     "name": "stdout",
     "output_type": "stream",
     "text": [
      "[[('new_dic1', {'Country': 'Indonesia', 'Value': '240'})], [('new_dic2', {'student': 'George', 'stu_age': '39'})]]\n"
     ]
    }
   ],
   "source": [
    "def divide_chunks(l, n):\n",
    "     \n",
    "    # looping till length l\n",
    "    for i in range(0, len(l), n):\n",
    "        yield l[i:i + n]\n",
    " \n",
    "# How many elements each\n",
    "# list should have\n",
    "n = 1\n",
    " \n",
    "x = list(divide_chunks(new_val, n))\n",
    "print (x)"
   ]
  },
  {
   "cell_type": "code",
   "execution_count": 45,
   "id": "9f35f3bf",
   "metadata": {},
   "outputs": [
    {
     "data": {
      "text/plain": [
       "[[('new_dic1', {'Country': 'Indonesia', 'Value': '240'})],\n",
       " [('new_dic2', {'student': 'George', 'stu_age': '39'})]]"
      ]
     },
     "execution_count": 45,
     "metadata": {},
     "output_type": "execute_result"
    }
   ],
   "source": [
    "x"
   ]
  },
  {
   "cell_type": "code",
   "execution_count": 54,
   "id": "ac4ca4fb",
   "metadata": {},
   "outputs": [
    {
     "data": {
      "text/html": [
       "<div>\n",
       "<style scoped>\n",
       "    .dataframe tbody tr th:only-of-type {\n",
       "        vertical-align: middle;\n",
       "    }\n",
       "\n",
       "    .dataframe tbody tr th {\n",
       "        vertical-align: top;\n",
       "    }\n",
       "\n",
       "    .dataframe thead th {\n",
       "        text-align: right;\n",
       "    }\n",
       "</style>\n",
       "<table border=\"1\" class=\"dataframe\">\n",
       "  <thead>\n",
       "    <tr style=\"text-align: right;\">\n",
       "      <th></th>\n",
       "      <th>0</th>\n",
       "    </tr>\n",
       "  </thead>\n",
       "  <tbody>\n",
       "    <tr>\n",
       "      <th>0</th>\n",
       "      <td>(new_dic1, {'Country': 'Indonesia', 'Value': '...</td>\n",
       "    </tr>\n",
       "    <tr>\n",
       "      <th>1</th>\n",
       "      <td>(new_dic2, {'student': 'George', 'stu_age': '3...</td>\n",
       "    </tr>\n",
       "  </tbody>\n",
       "</table>\n",
       "</div>"
      ],
      "text/plain": [
       "                                                   0\n",
       "0  (new_dic1, {'Country': 'Indonesia', 'Value': '...\n",
       "1  (new_dic2, {'student': 'George', 'stu_age': '3..."
      ]
     },
     "execution_count": 54,
     "metadata": {},
     "output_type": "execute_result"
    }
   ],
   "source": [
    "import pandas as pd\n",
    "# create a dataframe\n",
    "df = pd.DataFrame(x)\n",
    "df"
   ]
  },
  {
   "cell_type": "code",
   "execution_count": 55,
   "id": "eded93bb",
   "metadata": {
    "scrolled": true
   },
   "outputs": [
    {
     "data": {
      "text/html": [
       "<div>\n",
       "<style scoped>\n",
       "    .dataframe tbody tr th:only-of-type {\n",
       "        vertical-align: middle;\n",
       "    }\n",
       "\n",
       "    .dataframe tbody tr th {\n",
       "        vertical-align: top;\n",
       "    }\n",
       "\n",
       "    .dataframe thead th {\n",
       "        text-align: right;\n",
       "    }\n",
       "</style>\n",
       "<table border=\"1\" class=\"dataframe\">\n",
       "  <thead>\n",
       "    <tr style=\"text-align: right;\">\n",
       "      <th></th>\n",
       "      <th>0</th>\n",
       "      <th>1</th>\n",
       "    </tr>\n",
       "  </thead>\n",
       "  <tbody>\n",
       "    <tr>\n",
       "      <th>0</th>\n",
       "      <td>new_dic1</td>\n",
       "      <td>{'Country': 'Indonesia', 'Value': '240'}</td>\n",
       "    </tr>\n",
       "    <tr>\n",
       "      <th>1</th>\n",
       "      <td>new_dic2</td>\n",
       "      <td>{'student': 'George', 'stu_age': '39'}</td>\n",
       "    </tr>\n",
       "  </tbody>\n",
       "</table>\n",
       "</div>"
      ],
      "text/plain": [
       "          0                                         1\n",
       "0  new_dic1  {'Country': 'Indonesia', 'Value': '240'}\n",
       "1  new_dic2    {'student': 'George', 'stu_age': '39'}"
      ]
     },
     "execution_count": 55,
     "metadata": {},
     "output_type": "execute_result"
    }
   ],
   "source": [
    "split_df = pd.DataFrame(df[0].tolist())\n",
    "split_df"
   ]
  },
  {
   "cell_type": "code",
   "execution_count": 60,
   "id": "00c63f65",
   "metadata": {},
   "outputs": [
    {
     "data": {
      "text/html": [
       "<div>\n",
       "<style scoped>\n",
       "    .dataframe tbody tr th:only-of-type {\n",
       "        vertical-align: middle;\n",
       "    }\n",
       "\n",
       "    .dataframe tbody tr th {\n",
       "        vertical-align: top;\n",
       "    }\n",
       "\n",
       "    .dataframe thead th {\n",
       "        text-align: right;\n",
       "    }\n",
       "</style>\n",
       "<table border=\"1\" class=\"dataframe\">\n",
       "  <thead>\n",
       "    <tr style=\"text-align: right;\">\n",
       "      <th></th>\n",
       "      <th>Country</th>\n",
       "      <th>Value</th>\n",
       "      <th>student</th>\n",
       "      <th>stu_age</th>\n",
       "    </tr>\n",
       "  </thead>\n",
       "  <tbody>\n",
       "    <tr>\n",
       "      <th>0</th>\n",
       "      <td>Indonesia</td>\n",
       "      <td>240</td>\n",
       "      <td>NaN</td>\n",
       "      <td>NaN</td>\n",
       "    </tr>\n",
       "    <tr>\n",
       "      <th>1</th>\n",
       "      <td>NaN</td>\n",
       "      <td>NaN</td>\n",
       "      <td>George</td>\n",
       "      <td>39</td>\n",
       "    </tr>\n",
       "  </tbody>\n",
       "</table>\n",
       "</div>"
      ],
      "text/plain": [
       "     Country Value student stu_age\n",
       "0  Indonesia   240     NaN     NaN\n",
       "1        NaN   NaN  George      39"
      ]
     },
     "execution_count": 60,
     "metadata": {},
     "output_type": "execute_result"
    }
   ],
   "source": [
    "s = pd.DataFrame(split_df[1].tolist())\n",
    "s\n"
   ]
  },
  {
   "cell_type": "code",
   "execution_count": null,
   "id": "b4335b6f",
   "metadata": {},
   "outputs": [],
   "source": []
  }
 ],
 "metadata": {
  "kernelspec": {
   "display_name": "Python 3 (ipykernel)",
   "language": "python",
   "name": "python3"
  },
  "language_info": {
   "codemirror_mode": {
    "name": "ipython",
    "version": 3
   },
   "file_extension": ".py",
   "mimetype": "text/x-python",
   "name": "python",
   "nbconvert_exporter": "python",
   "pygments_lexer": "ipython3",
   "version": "3.9.7"
  }
 },
 "nbformat": 4,
 "nbformat_minor": 5
}

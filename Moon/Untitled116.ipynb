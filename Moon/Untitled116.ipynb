{
 "cells": [
  {
   "cell_type": "code",
   "execution_count": 3,
   "id": "05754c3e",
   "metadata": {},
   "outputs": [
    {
     "name": "stdout",
     "output_type": "stream",
     "text": [
      "['num1', 'num2', 'num3', 'num4', 'num5', 'num6']\n"
     ]
    }
   ],
   "source": [
    "my_dict = { 'num6': 6, 'num3': 3, 'num2': 2, 'num4': 4, 'num1': 1, 'num5': 5}\n",
    "sortedDict = sorted(my_dict)\n",
    "print(sortedDict)\n"
   ]
  },
  {
   "cell_type": "code",
   "execution_count": 4,
   "id": "8e4fd843",
   "metadata": {},
   "outputs": [
    {
     "name": "stdout",
     "output_type": "stream",
     "text": [
      "ascending order :  [(0, 0), (2, 1), (1, 2), (4, 3), (3, 4)]\n",
      "descending order :  {3: 4, 4: 3, 1: 2, 2: 1, 0: 0}\n"
     ]
    }
   ],
   "source": [
    "import operator\n",
    "\n",
    "d = {1: 2, 3: 4, 4: 3, 2: 1, 0: 0}\n",
    "\n",
    "s= sorted(d.items(), key=operator.itemgetter(1))\n",
    "\n",
    "print('ascending order : ',s)\n",
    "\n",
    "s1= dict( sorted(d.items(), key=operator.itemgetter(1),reverse=True))\n",
    "\n",
    "print('descending order : ',s1)"
   ]
  },
  {
   "cell_type": "code",
   "execution_count": 6,
   "id": "9b623537",
   "metadata": {},
   "outputs": [
    {
     "name": "stdout",
     "output_type": "stream",
     "text": [
      "ascending order: [(0, 0), (2, 1), (1, 2), (4, 3), (3, 4)]\n",
      "descending order: {3: 4, 4: 3, 1: 2, 2: 1, 0: 0}\n"
     ]
    }
   ],
   "source": [
    "import operator\n",
    "\n",
    "d = {1:2,3:4, 4:3, 2:1,0:0}\n",
    "s = sorted(d.items(), key = operator.itemgetter(1))\n",
    "\n",
    "print('ascending order:',s)\n",
    "s1 = dict(sorted(d.items(), key = operator.itemgetter(1), reverse = True))\n",
    "\n",
    "print('descending order:', s1)\n"
   ]
  },
  {
   "cell_type": "code",
   "execution_count": null,
   "id": "21d1d6f1",
   "metadata": {},
   "outputs": [],
   "source": []
  },
  {
   "cell_type": "code",
   "execution_count": null,
   "id": "fcdcde1b",
   "metadata": {},
   "outputs": [],
   "source": []
  }
 ],
 "metadata": {
  "kernelspec": {
   "display_name": "Python 3 (ipykernel)",
   "language": "python",
   "name": "python3"
  },
  "language_info": {
   "codemirror_mode": {
    "name": "ipython",
    "version": 3
   },
   "file_extension": ".py",
   "mimetype": "text/x-python",
   "name": "python",
   "nbconvert_exporter": "python",
   "pygments_lexer": "ipython3",
   "version": "3.9.7"
  }
 },
 "nbformat": 4,
 "nbformat_minor": 5
}

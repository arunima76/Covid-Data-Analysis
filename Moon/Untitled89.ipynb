{
 "cells": [
  {
   "cell_type": "code",
   "execution_count": 2,
   "id": "8309917e",
   "metadata": {},
   "outputs": [
    {
     "name": "stdout",
     "output_type": "stream",
     "text": [
      "1\n",
      "2\n",
      "3\n",
      "4\n",
      "5\n",
      "6\n",
      "7\n",
      "8\n",
      "9\n",
      "10\n"
     ]
    }
   ],
   "source": [
    "i = 1\n",
    "while i <= 10:\n",
    "    print(i)\n",
    "    i = i +  1"
   ]
  },
  {
   "cell_type": "code",
   "execution_count": 7,
   "id": "71e8aa26",
   "metadata": {},
   "outputs": [
    {
     "name": "stdout",
     "output_type": "stream",
     "text": [
      "Number Pattern \n",
      "1 \n",
      "1 2 \n",
      "1 2 3 \n",
      "1 2 3 4 \n",
      "1 2 3 4 5 \n"
     ]
    }
   ],
   "source": [
    "print(\"Number Pattern \")\n",
    "\n",
    "# Decide the row count. (above pattern contains 5 rows)\n",
    "row = 5\n",
    "# start: 1\n",
    "# stop: row+1 (range never include stop number in result)\n",
    "# step: 1\n",
    "# run loop 5 times\n",
    "for i in range(1, row + 1, 1):\n",
    "    # Run inner loop i+1 times\n",
    "    for j in range(1, i + 1):\n",
    "        print(j, end=' ')\n",
    "    # empty line after each row\n",
    "    print(\"\")"
   ]
  },
  {
   "cell_type": "code",
   "execution_count": 8,
   "id": "5d229df3",
   "metadata": {},
   "outputs": [
    {
     "name": "stdout",
     "output_type": "stream",
     "text": [
      "Number Pattern\n",
      "1\n",
      "12\n",
      "123\n",
      "1234\n",
      "12345\n"
     ]
    }
   ],
   "source": [
    "print(\"Number Pattern\")\n",
    "#Decide the row count (above pattern contains 5 rows)\n",
    "row = 5\n",
    "#start : 1\n",
    "#stop : row + 1(range never include stop number in result)\n",
    "# step : 1\n",
    "\n",
    "for i in range(1, row+1, 1):\n",
    "    for j in range(1,i+1):\n",
    "        print(j, end = '')\n",
    "    print(\"\")"
   ]
  },
  {
   "cell_type": "code",
   "execution_count": 12,
   "id": "440eaecd",
   "metadata": {},
   "outputs": [
    {
     "name": "stdout",
     "output_type": "stream",
     "text": [
      "Calculate the sum of all numbers from 1 to a given number\n",
      "Enter a number10\n",
      "sum are 55\n"
     ]
    }
   ],
   "source": [
    "print(\"Calculate the sum of all numbers from 1 to a given number\")\n",
    "\n",
    "sum = 0\n",
    "n = int(input(\"Enter a number\"))\n",
    "\n",
    "#Initialize a for loop and set a range between start and stop number\n",
    "# Start \n",
    "# stop  (range never include stop number in result)\n",
    "#step  \n",
    "\n",
    "for i in range(1, n+ 1, 1):\n",
    "    sum = sum + i\n",
    "print(\"sum are\", sum)\n",
    "\n"
   ]
  },
  {
   "cell_type": "code",
   "execution_count": 15,
   "id": "9ce36d7c",
   "metadata": {},
   "outputs": [
    {
     "name": "stdout",
     "output_type": "stream",
     "text": [
      "Write a program to print multiplication table of a given number\n",
      "multiplication of number are 20\n"
     ]
    }
   ],
   "source": []
  },
  {
   "cell_type": "code",
   "execution_count": null,
   "id": "8257f5d5",
   "metadata": {},
   "outputs": [],
   "source": []
  },
  {
   "cell_type": "code",
   "execution_count": 17,
   "id": "5c3b7086",
   "metadata": {},
   "outputs": [
    {
     "name": "stdout",
     "output_type": "stream",
     "text": [
      "Write a program to print multiplication table of a given number\n",
      "multiplication of number are 2\n",
      "multiplication of number are 4\n",
      "multiplication of number are 6\n",
      "multiplication of number are 8\n",
      "multiplication of number are 10\n",
      "multiplication of number are 12\n",
      "multiplication of number are 14\n",
      "multiplication of number are 16\n",
      "multiplication of number are 18\n",
      "multiplication of number are 20\n"
     ]
    }
   ],
   "source": [
    "print(\"Write a program to print multiplication table of a given number\")\n",
    "num = 2\n",
    "for i in range(1, 11,1):\n",
    "    p = num * i\n",
    "    print(\"multiplication of number are\", p)\n",
    "    "
   ]
  },
  {
   "cell_type": "code",
   "execution_count": 18,
   "id": "96a6e555",
   "metadata": {},
   "outputs": [
    {
     "name": "stdout",
     "output_type": "stream",
     "text": [
      "Write a program to print multiplication table of a given number\n",
      "multiplication of number are 2\n",
      "multiplication of number are 4\n",
      "multiplication of number are 6\n",
      "multiplication of number are 8\n",
      "multiplication of number are 10\n",
      "multiplication of number are 12\n",
      "multiplication of number are 14\n",
      "multiplication of number are 16\n",
      "multiplication of number are 18\n",
      "multiplication of number are 20\n"
     ]
    }
   ],
   "source": [
    "print(\"Write a program to print multiplication table of a given number\")\n",
    "n = 2\n",
    "for i in range(1, 11, 1):\n",
    "    p = num * i\n",
    "    print(\"multiplication of number are\", p)"
   ]
  },
  {
   "cell_type": "code",
   "execution_count": 19,
   "id": "e325babb",
   "metadata": {},
   "outputs": [
    {
     "name": "stdout",
     "output_type": "stream",
     "text": [
      "75\n",
      "150\n",
      "145\n"
     ]
    }
   ],
   "source": [
    "numbers = [12, 75, 150, 180, 145, 525, 50]\n",
    "for item in numbers:\n",
    "    if item > 500:\n",
    "        break\n",
    "    elif item > 150:\n",
    "        continue\n",
    "    elif item % 5 == 0:\n",
    "        print(item)\n",
    "        "
   ]
  },
  {
   "cell_type": "code",
   "execution_count": 24,
   "id": "f1c7ed6f",
   "metadata": {},
   "outputs": [
    {
     "name": "stdout",
     "output_type": "stream",
     "text": [
      "The numbers are 5\n"
     ]
    }
   ],
   "source": [
    "number = 78967\n",
    "counter = 0\n",
    "while number != 0:\n",
    "    number = number // 10\n",
    "    counter = counter + 1\n",
    "    \n",
    "print(\"The numbers are\", counter)\n",
    "\n",
    "\n",
    "\n",
    "\n"
   ]
  },
  {
   "cell_type": "code",
   "execution_count": 28,
   "id": "72b2d45d",
   "metadata": {},
   "outputs": [
    {
     "name": "stdout",
     "output_type": "stream",
     "text": [
      "* \n",
      "* * \n",
      "* * * \n",
      "* * * * \n",
      "* * * * * \n",
      "* * * * * * \n",
      "* * * * * * * \n",
      "* * * * * * * * \n",
      "* * * * * * * * * \n"
     ]
    }
   ],
   "source": [
    "n_rows = 10\n",
    "for i in range(1,n_rows):\n",
    "    for j in range(1,i + 1,1):\n",
    "        print(\"*\", end = \" \")\n",
    "    print()\n",
    "         "
   ]
  },
  {
   "cell_type": "code",
   "execution_count": 30,
   "id": "fe73633d",
   "metadata": {},
   "outputs": [
    {
     "name": "stdout",
     "output_type": "stream",
     "text": [
      "* * * * * * * * * \n",
      "* * * * * * * * \n",
      "* * * * * * * \n",
      "* * * * * * \n",
      "* * * * * \n",
      "* * * * \n",
      "* * * \n",
      "* * \n",
      "* \n"
     ]
    }
   ],
   "source": [
    "n_rows = 10\n",
    "for i in range(1, n_rows):\n",
    "    for j in range(n_rows - i):\n",
    "        print(\"*\", end = \" \")\n",
    "    print()"
   ]
  },
  {
   "cell_type": "code",
   "execution_count": 31,
   "id": "eb4c0354",
   "metadata": {},
   "outputs": [
    {
     "name": "stdout",
     "output_type": "stream",
     "text": [
      "* * * * * * * * * \n",
      "* * * * * * * * \n",
      "* * * * * * * \n",
      "* * * * * * \n",
      "* * * * * \n",
      "* * * * \n",
      "* * * \n",
      "* * \n",
      "* \n"
     ]
    }
   ],
   "source": [
    "n_rows = 10\n",
    "for i in range(1, n_rows):\n",
    "    for j in range(n_rows -i):\n",
    "        print(\"*\",end = \" \")\n",
    "    print()"
   ]
  },
  {
   "cell_type": "code",
   "execution_count": 44,
   "id": "12c1cdc1",
   "metadata": {},
   "outputs": [
    {
     "name": "stdout",
     "output_type": "stream",
     "text": [
      "Enter number of rows: 8\n",
      "1 2 3 4 5 6 7 8 \n",
      "\n",
      "1 2 3 4 5 6 7 \n",
      "\n",
      "1 2 3 4 5 6 \n",
      "\n",
      "1 2 3 4 5 \n",
      "\n",
      "1 2 3 4 \n",
      "\n",
      "1 2 3 \n",
      "\n",
      "1 2 \n",
      "\n",
      "1 \n",
      "\n"
     ]
    }
   ],
   "source": [
    "rows = int(input(\"Enter number of rows: \"))\n",
    "for i in range(rows, 0, -1):\n",
    "    for j in range(1, i + 1):\n",
    "        print(j, end = \" \")\n",
    "    print(\"\\n\")"
   ]
  },
  {
   "cell_type": "code",
   "execution_count": 45,
   "id": "a41962d5",
   "metadata": {},
   "outputs": [
    {
     "name": "stdout",
     "output_type": "stream",
     "text": [
      "Enter a number7\n",
      "1 \n",
      "\n",
      "1 2 \n",
      "\n",
      "1 2 3 \n",
      "\n",
      "1 2 3 4 \n",
      "\n",
      "1 2 3 4 5 \n",
      "\n",
      "1 2 3 4 5 6 \n",
      "\n",
      "1 2 3 4 5 6 7 \n",
      "\n"
     ]
    }
   ],
   "source": [
    "rows = int(input(\"Enter a number\"))\n",
    "\n",
    "for i in range(rows):\n",
    "    for j in range(i + 1):\n",
    "        print(j + 1, end = \" \")\n",
    "    print(\"\\n\")"
   ]
  },
  {
   "cell_type": "code",
   "execution_count": 46,
   "id": "fdd68190",
   "metadata": {},
   "outputs": [
    {
     "name": "stdout",
     "output_type": "stream",
     "text": [
      "Start a number3\n",
      "Start end number9\n",
      "3\n",
      "4\n",
      "5\n",
      "6\n",
      "7\n",
      "8\n",
      "9\n"
     ]
    }
   ],
   "source": [
    "a = int(input(\"Start a number\"))\n",
    "b = int(input(\"Start end number\"))\n",
    "\n",
    "for i in range(a, b + 1):\n",
    "    print(i)\n",
    "    \n"
   ]
  },
  {
   "cell_type": "code",
   "execution_count": null,
   "id": "9ddf4b7a",
   "metadata": {},
   "outputs": [],
   "source": [
    "#Determine if number is prime\n",
    "\n",
    "a = int(input())"
   ]
  }
 ],
 "metadata": {
  "kernelspec": {
   "display_name": "Python 3 (ipykernel)",
   "language": "python",
   "name": "python3"
  },
  "language_info": {
   "codemirror_mode": {
    "name": "ipython",
    "version": 3
   },
   "file_extension": ".py",
   "mimetype": "text/x-python",
   "name": "python",
   "nbconvert_exporter": "python",
   "pygments_lexer": "ipython3",
   "version": "3.9.7"
  }
 },
 "nbformat": 4,
 "nbformat_minor": 5
}

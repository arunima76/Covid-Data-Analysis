{
 "cells": [
  {
   "cell_type": "code",
   "execution_count": 1,
   "id": "676067a8",
   "metadata": {},
   "outputs": [
    {
     "name": "stdout",
     "output_type": "stream",
     "text": [
      "1\n",
      "2\n",
      "3\n"
     ]
    }
   ],
   "source": [
    "i = 1\n",
    "while i < 6:\n",
    "  print(i)\n",
    "  if i == 3:\n",
    "    break\n",
    "  i += 1"
   ]
  },
  {
   "cell_type": "code",
   "execution_count": 3,
   "id": "85f52f60",
   "metadata": {},
   "outputs": [
    {
     "name": "stdout",
     "output_type": "stream",
     "text": [
      "1\n",
      "2\n",
      "4\n",
      "5\n",
      "6\n"
     ]
    }
   ],
   "source": [
    "i = 0\n",
    "while i < 6:\n",
    "    i = i +  1\n",
    "    if i == 3:\n",
    "    continue\n",
    "    print(i)"
   ]
  },
  {
   "cell_type": "code",
   "execution_count": 6,
   "id": "f2a44f32",
   "metadata": {},
   "outputs": [
    {
     "name": "stdout",
     "output_type": "stream",
     "text": [
      "apple\n",
      "banana\n",
      "cherry\n"
     ]
    },
    {
     "data": {
      "text/plain": [
       "[None, None, None]"
      ]
     },
     "execution_count": 6,
     "metadata": {},
     "output_type": "execute_result"
    }
   ],
   "source": [
    "thislist = [\"apple\", \"banana\", \"cherry\"]\n",
    "[print(x) for x in thislist]"
   ]
  },
  {
   "cell_type": "code",
   "execution_count": 7,
   "id": "6cc612e5",
   "metadata": {},
   "outputs": [
    {
     "name": "stdout",
     "output_type": "stream",
     "text": [
      "['apple', 'banana', 'mango']\n"
     ]
    }
   ],
   "source": [
    "fruits = [\"apple\", \"banana\", \"cherry\", \"kiwi\", \"mango\"]\n",
    "newlist = []\n",
    "\n",
    "for x in fruits:\n",
    "  if \"a\" in x:\n",
    "    newlist.append(x)\n",
    "\n",
    "print(newlist)"
   ]
  },
  {
   "cell_type": "code",
   "execution_count": 13,
   "id": "b5fdeee3",
   "metadata": {},
   "outputs": [
    {
     "name": "stdout",
     "output_type": "stream",
     "text": [
      "['apple', 'banana', 'mango']\n"
     ]
    }
   ],
   "source": [
    "fruits = [\"apple\",\"banana\",\"cherry\",\"kiwi\",\"mango\"]\n",
    "newlist =[]\n",
    "\n",
    "for x in fruits:\n",
    " if \"a\" in x:\n",
    "    newlist.append(x)\n",
    "    \n",
    "print(newlist)"
   ]
  },
  {
   "cell_type": "code",
   "execution_count": 14,
   "id": "d9486e93",
   "metadata": {},
   "outputs": [
    {
     "name": "stdout",
     "output_type": "stream",
     "text": [
      "[1, 4, 9, 16]\n"
     ]
    }
   ],
   "source": [
    "squares = [x * x for x in (1, 2, 3, 4)]\n",
    "print(squares)"
   ]
  },
  {
   "cell_type": "code",
   "execution_count": 15,
   "id": "e2ff7217",
   "metadata": {},
   "outputs": [
    {
     "name": "stdout",
     "output_type": "stream",
     "text": [
      "[1, 4, 9, 16]\n"
     ]
    }
   ],
   "source": [
    "squares = []\n",
    "for x in (1,2,3,4):\n",
    "    squares.append(x*x)\n",
    "print(squares)"
   ]
  },
  {
   "cell_type": "code",
   "execution_count": 16,
   "id": "9609f09e",
   "metadata": {},
   "outputs": [
    {
     "name": "stdout",
     "output_type": "stream",
     "text": [
      "[1, 4, 9, 16]\n"
     ]
    }
   ],
   "source": [
    "sq = [ x * x for x in (1,2,3,4)]\n",
    "print(sq)"
   ]
  },
  {
   "cell_type": "code",
   "execution_count": 31,
   "id": "a3d64b99",
   "metadata": {},
   "outputs": [
    {
     "name": "stdout",
     "output_type": "stream",
     "text": [
      "['apple', 'cherry']\n",
      "['banana', 'cherry', 'kiwi', 'mango']\n"
     ]
    }
   ],
   "source": [
    "fruits = [\"apple\", \"banana\", \"cherry\", \"kiwi\", \"mango\"]\n",
    "newlist = [ x for x in fruits if \"e\" in x]\n",
    "print(newlist)\n",
    "\n",
    "newlist =  [x for x in fruits if x!= \"apple\"]\n",
    "print(newlist)"
   ]
  },
  {
   "cell_type": "code",
   "execution_count": 30,
   "id": "83cd2572",
   "metadata": {},
   "outputs": [
    {
     "name": "stdout",
     "output_type": "stream",
     "text": [
      "[0, 1, 2, 3, 4, 5, 6, 7, 8, 9]\n"
     ]
    }
   ],
   "source": [
    "fruits = [\"apple\", \"banana\", \"cherry\", \"kiwi\", \"mango\"]\n",
    "newlist = [x for x in range(10)]\n",
    "print(newlist)"
   ]
  },
  {
   "cell_type": "code",
   "execution_count": 27,
   "id": "2c48cf7d",
   "metadata": {},
   "outputs": [
    {
     "name": "stdout",
     "output_type": "stream",
     "text": [
      "['apple', 'banana', 'cherry', 'kiwi', 'mango']\n"
     ]
    }
   ],
   "source": [
    "fruits = [ \"apple\",\"banana\",\"cherry\",\"kiwi\",\"mango\"]\n",
    "bewlist = []\n",
    "for x in fruits:\n",
    "    bewlist.append(x)\n",
    "print(bewlist)"
   ]
  },
  {
   "cell_type": "code",
   "execution_count": 32,
   "id": "727ea81c",
   "metadata": {},
   "outputs": [
    {
     "data": {
      "text/plain": [
       "[2, 4, 6, 8]"
      ]
     },
     "execution_count": 32,
     "metadata": {},
     "output_type": "execute_result"
    }
   ],
   "source": [
    "[x for x in [1,2,3,4,6,7,8] if x % 2 == 0]"
   ]
  },
  {
   "cell_type": "code",
   "execution_count": null,
   "id": "b604ca0a",
   "metadata": {},
   "outputs": [],
   "source": []
  },
  {
   "cell_type": "code",
   "execution_count": 36,
   "id": "0d0a4d4b",
   "metadata": {},
   "outputs": [
    {
     "name": "stdout",
     "output_type": "stream",
     "text": [
      "[0, 2, 4, 6, 8]\n"
     ]
    }
   ],
   "source": [
    "even_number = []\n",
    "for x in range(10):\n",
    "    if x % 2 == 0:\n",
    "        even_number.append(x)\n",
    "print(even_number)\n"
   ]
  },
  {
   "cell_type": "code",
   "execution_count": 39,
   "id": "2ce96a09",
   "metadata": {},
   "outputs": [],
   "source": [
    "list = [1, 2, 3, 4, 5, 1, 2, 3]\n",
    "newlist = []\n",
    "for i in list:\n",
    "    if i not in newlist:\n",
    "        newlist.append(i)\n",
    "        "
   ]
  },
  {
   "cell_type": "code",
   "execution_count": null,
   "id": "f37aa27b",
   "metadata": {},
   "outputs": [],
   "source": []
  },
  {
   "cell_type": "code",
   "execution_count": 40,
   "id": "207fa3d7",
   "metadata": {},
   "outputs": [],
   "source": [
    "list = [1, 2, 3, 4, 5, 1, 2, 3]\n",
    "newlist = []\n",
    "for i in list:\n",
    "    if i not in newlist:\n",
    "        newlist.append(i)"
   ]
  },
  {
   "cell_type": "code",
   "execution_count": 41,
   "id": "01d92f59",
   "metadata": {},
   "outputs": [
    {
     "name": "stdout",
     "output_type": "stream",
     "text": [
      "dict_keys(['Gujarat', 'Maharashtra', 'Rajasthan', 'Bihar'])\n"
     ]
    }
   ],
   "source": [
    "statesAndCapitals = {\n",
    "    'Gujarat': 'Gandhinagar',\n",
    "    'Maharashtra': 'Mumbai',\n",
    "    'Rajasthan': 'Jaipur',\n",
    "    'Bihar': 'Patna'\n",
    "}\n",
    "\n",
    "keys = statesAndCapitals.keys()\n",
    "print(keys)"
   ]
  },
  {
   "cell_type": "code",
   "execution_count": 45,
   "id": "5c069269",
   "metadata": {},
   "outputs": [
    {
     "name": "stdout",
     "output_type": "stream",
     "text": [
      "List Of given states:\n",
      "\n",
      "Gujarat\n",
      "Maharashtra\n",
      "Rajasthan\n",
      "Bihar\n"
     ]
    }
   ],
   "source": [
    "statesAndCapitals = {\n",
    "    'Gujarat': 'Gandhinagar',\n",
    "    'Maharashtra': 'Mumbai',\n",
    "    'Rajasthan': 'Jaipur',\n",
    "    'Bihar': 'Patna'\n",
    "}\n",
    "\n",
    "print('List Of given states:\\n')\n",
    "for state in statesAndCapitals:\n",
    "        print(state)"
   ]
  },
  {
   "cell_type": "code",
   "execution_count": 46,
   "id": "7d1e2fbc",
   "metadata": {},
   "outputs": [
    {
     "name": "stdout",
     "output_type": "stream",
     "text": [
      "list of giveb states:\n",
      "Gujarat\n",
      "Maharashtra\n",
      "Rajasthan\n",
      "Bihar\n"
     ]
    }
   ],
   "source": [
    "statesAndCapitals = {\n",
    "    'Gujarat': 'Gandhinagar',\n",
    "    'Maharashtra': 'Mumbai',\n",
    "    'Rajasthan': 'Jaipur',\n",
    "    'Bihar': 'Patna'\n",
    "}\n",
    " \n",
    "print(\"list of giveb states:\")\n",
    "for capital in statesAndCapitals:\n",
    "    print(capital)"
   ]
  },
  {
   "cell_type": "code",
   "execution_count": 47,
   "id": "f1b6da20",
   "metadata": {},
   "outputs": [
    {
     "name": "stdout",
     "output_type": "stream",
     "text": [
      "list of giveb states:\n",
      "Gujarat : Gandhinagar\n",
      "Maharashtra : Mumbai\n",
      "Rajasthan : Jaipur\n",
      "Bihar : Patna\n"
     ]
    }
   ],
   "source": [
    "statesAndCapitals = {\n",
    "    'Gujarat': 'Gandhinagar',\n",
    "    'Maharashtra': 'Mumbai',\n",
    "    'Rajasthan': 'Jaipur',\n",
    "    'Bihar': 'Patna'\n",
    "}\n",
    " \n",
    "print(\"list of given states:\")\n",
    "for state, capital in statesAndCapitals.items():\n",
    "    print(state, \":\", capital)"
   ]
  },
  {
   "cell_type": "code",
   "execution_count": 48,
   "id": "58b0ba12",
   "metadata": {},
   "outputs": [
    {
     "name": "stdout",
     "output_type": "stream",
     "text": [
      "List Of given states and their capitals:\n",
      "\n",
      "Gujarat : Gandhinagar\n",
      "Maharashtra : Mumbai\n",
      "Rajasthan : Jaipur\n",
      "Bihar : Patna\n"
     ]
    }
   ],
   "source": [
    "statesAndCapitals = {\n",
    "    'Gujarat': 'Gandhinagar',\n",
    "    'Maharashtra': 'Mumbai',\n",
    "    'Rajasthan': 'Jaipur',\n",
    "    'Bihar': 'Patna'\n",
    "    \n",
    "}\n",
    "\n",
    "print(\"List Of given states and their capitals:\\n\")\n",
    "for state, capital in statesAndCapitals.items():\n",
    "    print(state, \":\", capital)"
   ]
  },
  {
   "cell_type": "code",
   "execution_count": 58,
   "id": "847ab4ae",
   "metadata": {},
   "outputs": [
    {
     "name": "stdout",
     "output_type": "stream",
     "text": [
      "List Of given states and their capitals:\n",
      "\n",
      "Gujarat : Gandhinagar\n",
      "Maharashtra : Mumbai\n",
      "Rajasthan : Jaipur\n",
      "Bihar : Patna\n"
     ]
    }
   ],
   "source": [
    "statesAndCapitals = {\n",
    "    'Gujarat': 'Gandhinagar',\n",
    "    'Maharashtra': 'Mumbai',\n",
    "    'Rajasthan': 'Jaipur',\n",
    "    'Bihar': 'Patna'\n",
    "}\n",
    " \n",
    "print('List Of given states and their capitals:\\n')\n",
    " \n",
    "# Iterating over values\n",
    "for state, capital in statesAndCapitals.items():\n",
    "    print(state, \":\", capital)\n",
    " \n",
    "    "
   ]
  },
  {
   "cell_type": "code",
   "execution_count": 60,
   "id": "ee504ff3",
   "metadata": {},
   "outputs": [
    {
     "name": "stdout",
     "output_type": "stream",
     "text": [
      "List of given states and their capitals:\n",
      "\n",
      "Gujrat : Gandhinagar\n",
      "Maharastra : Mumbai\n",
      "Rajasthan : Jaipur\n",
      "Bihar : Patna\n"
     ]
    }
   ],
   "source": [
    "statesAndCapitals = {\n",
    "    'Gujrat': 'Gandhinagar',\n",
    "    'Maharastra' : 'Mumbai',\n",
    "     'Rajasthan': 'Jaipur',\n",
    "     'Bihar': 'Patna'\n",
    "}\n",
    "\n",
    "print(\"List of given states and their capitals:\\n\")\n",
    "\n",
    "for state, capital in statesAndCapitals.items():\n",
    "    print(state, \":\",capital)\n",
    "    "
   ]
  },
  {
   "cell_type": "code",
   "execution_count": 64,
   "id": "dbea09ca",
   "metadata": {},
   "outputs": [
    {
     "name": "stdout",
     "output_type": "stream",
     "text": [
      "Gujarat -> Gandhinagar\n",
      "Maharashtra -> Mumbai\n",
      "Rajasthan -> Jaipur\n",
      "Bihar -> Patna\n"
     ]
    }
   ],
   "source": [
    "statesAndCapitals = {\n",
    "    'Gujarat': 'Gandhinagar',\n",
    "    'Maharashtra': 'Mumbai',\n",
    "    'Rajasthan': 'Jaipur',\n",
    "    'Bihar': 'Patna'\n",
    "}\n",
    " \n",
    "for i in statesAndCapitals:\n",
    "    print(i, '->', statesAndCapitals[i])"
   ]
  },
  {
   "cell_type": "code",
   "execution_count": 65,
   "id": "01e71cdc",
   "metadata": {},
   "outputs": [
    {
     "name": "stdout",
     "output_type": "stream",
     "text": [
      "dict_items([('Gujarat', 'Gandhinagar'), ('Maharashtra', 'Mumbai'), ('Rajasthan', 'Jaipur'), ('Bihar', 'Patna')])\n"
     ]
    }
   ],
   "source": [
    "statesAndCapitals = {\n",
    "    'Gujrat': 'Gandhinagar',\n",
    "    'Maharashtra': 'Mumbai',\n",
    "    'Rajasthan': 'Jaipur',\n",
    "    'Bihar': 'Patna'\n",
    "}\n",
    " \n",
    "keys = statesAndCapitals.items()\n",
    "print(keys)"
   ]
  },
  {
   "cell_type": "code",
   "execution_count": 71,
   "id": "a4108ff2",
   "metadata": {},
   "outputs": [
    {
     "name": "stdout",
     "output_type": "stream",
     "text": [
      "dict_keys(['Gujrat', 'Maharasthtra', 'Rajasthan', 'Bihar'])\n"
     ]
    }
   ],
   "source": [
    "statesAndCapitals = {\n",
    "    'Gujrat' : 'Gandhinagar',\n",
    "     'Maharasthtra': 'Mumubai',\n",
    "      'Rajasthan': 'Jaipur',\n",
    "      'Bihar': 'Patna'\n",
    "    \n",
    "}\n",
    "\n",
    "Keys = statesAndCapitals.keys()\n",
    "print(Keys)"
   ]
  },
  {
   "cell_type": "code",
   "execution_count": 78,
   "id": "7475149d",
   "metadata": {},
   "outputs": [
    {
     "name": "stdout",
     "output_type": "stream",
     "text": [
      "Gujrat\n",
      "Magarastha\n",
      "Rajasthan\n",
      "bihar\n"
     ]
    }
   ],
   "source": [
    "statesAndCapitals = {\n",
    "    'Gujrat' : 'Gandinagar',\n",
    "    'Magarastha': \"Mumbai\",\n",
    "    'Rajasthan': 'Jaipur',\n",
    "    'bihar': 'Patna'\n",
    "}\n",
    "for state in statesAndCapitals:\n",
    "    print(state)\n",
    "    "
   ]
  },
  {
   "cell_type": "code",
   "execution_count": 79,
   "id": "cc7305f5",
   "metadata": {},
   "outputs": [
    {
     "name": "stdout",
     "output_type": "stream",
     "text": [
      "Gujarat\n",
      "Maharashtra\n",
      "Rajasthan\n",
      "Bihar\n"
     ]
    }
   ],
   "source": [
    "statesAndCapitals = {\n",
    "    'Gujarat': 'Gandhinagar',\n",
    "    'Maharashtra': 'Mumbai',\n",
    "    'Rajasthan': 'Jaipur',\n",
    "    'Bihar': 'Patna'\n",
    "}\n",
    "\n",
    "for capital in statesAndCapitals:\n",
    "    print(capital)"
   ]
  },
  {
   "cell_type": "code",
   "execution_count": 82,
   "id": "be4d27d4",
   "metadata": {},
   "outputs": [
    {
     "name": "stdout",
     "output_type": "stream",
     "text": [
      "Gujarat -> Gandhinagar\n",
      "Maharashtra -> Mumbai\n",
      "Rajasthan -> Jaipur\n",
      "Bihar -> Patna\n"
     ]
    }
   ],
   "source": [
    "statesAndCapitals = {\n",
    "    'Gujarat': 'Gandhinagar',\n",
    "    'Maharashtra': 'Mumbai',\n",
    "    'Rajasthan': 'Jaipur',\n",
    "    'Bihar': 'Patna'\n",
    "}\n",
    "\n",
    "for i in statesAndCapitals:\n",
    "    print(i, \"->\",statesAndCapitals[i])"
   ]
  },
  {
   "cell_type": "code",
   "execution_count": 87,
   "id": "5429b055",
   "metadata": {},
   "outputs": [
    {
     "name": "stdout",
     "output_type": "stream",
     "text": [
      "dict_items([('Gujarat', 'Gandhinagar'), ('Maharashtra', 'Mumbai'), ('Rajasthan', 'Jaipur'), ('Bihar', 'Patna')])\n"
     ]
    }
   ],
   "source": [
    "statesAndCapitals = {\n",
    "    'Gujarat': 'Gandhinagar',\n",
    "    'Maharashtra': 'Mumbai',\n",
    "    'Rajasthan': 'Jaipur',\n",
    "    'Bihar': 'Patna'\n",
    "}\n",
    "\n",
    "new_dictionary = statesAndCapitals.items()\n",
    "print(new_dictionary)\n"
   ]
  },
  {
   "cell_type": "code",
   "execution_count": 92,
   "id": "95539f78",
   "metadata": {},
   "outputs": [
    {
     "name": "stdout",
     "output_type": "stream",
     "text": [
      "[0, 2, 4, 6, 8]\n"
     ]
    }
   ],
   "source": [
    "even_numbers = []\n",
    "\n",
    "for x in range(10):\n",
    "    if (x % 2 == 0):\n",
    "        even_numbers.append(x)\n",
    "print(even_numbers)\n"
   ]
  },
  {
   "cell_type": "code",
   "execution_count": null,
   "id": "34f3c942",
   "metadata": {},
   "outputs": [],
   "source": [
    "\n",
    "\n"
   ]
  },
  {
   "cell_type": "code",
   "execution_count": null,
   "id": "1e6afa6f",
   "metadata": {},
   "outputs": [],
   "source": [
    "\n",
    "\n"
   ]
  },
  {
   "cell_type": "code",
   "execution_count": null,
   "id": "cdb9d4e1",
   "metadata": {},
   "outputs": [],
   "source": []
  },
  {
   "cell_type": "code",
   "execution_count": null,
   "id": "0cd7f01d",
   "metadata": {},
   "outputs": [],
   "source": []
  },
  {
   "cell_type": "code",
   "execution_count": null,
   "id": "551d4d85",
   "metadata": {},
   "outputs": [],
   "source": []
  },
  {
   "cell_type": "code",
   "execution_count": null,
   "id": "9f757422",
   "metadata": {},
   "outputs": [],
   "source": []
  },
  {
   "cell_type": "code",
   "execution_count": null,
   "id": "da2fd83d",
   "metadata": {},
   "outputs": [],
   "source": []
  },
  {
   "cell_type": "code",
   "execution_count": null,
   "id": "ceee1338",
   "metadata": {},
   "outputs": [],
   "source": []
  }
 ],
 "metadata": {
  "kernelspec": {
   "display_name": "Python 3 (ipykernel)",
   "language": "python",
   "name": "python3"
  },
  "language_info": {
   "codemirror_mode": {
    "name": "ipython",
    "version": 3
   },
   "file_extension": ".py",
   "mimetype": "text/x-python",
   "name": "python",
   "nbconvert_exporter": "python",
   "pygments_lexer": "ipython3",
   "version": "3.9.7"
  }
 },
 "nbformat": 4,
 "nbformat_minor": 5
}

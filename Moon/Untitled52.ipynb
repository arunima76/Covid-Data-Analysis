{
 "cells": [
  {
   "cell_type": "code",
   "execution_count": 2,
   "id": "354aae50",
   "metadata": {},
   "outputs": [],
   "source": [
    "class Person:\n",
    "    def __init__(self, name, sex, profession):\n",
    "        self.name = name\n",
    "        self.sex = sex\n",
    "        self.profession = profession\n",
    "        \n",
    "        def show(self):\n",
    "            print('Name:', self.name, 'Sex:', self.sex, 'Profession:', self.profession)\n",
    "        \n",
    "        def work(self):\n",
    "             print(self.name, 'working as a', self.profession)"
   ]
  },
  {
   "cell_type": "code",
   "execution_count": 3,
   "id": "3bf77ce4",
   "metadata": {},
   "outputs": [
    {
     "name": "stdout",
     "output_type": "stream",
     "text": [
      "Name: Jessa Sex: Female Profession: Software Engineer\n",
      "Jessa working as a Software Engineer\n"
     ]
    }
   ],
   "source": [
    "class Person:\n",
    "    def __init__(self, name, sex, profession):\n",
    "        # data members (instance variables)\n",
    "        self.name = name\n",
    "        self.sex = sex\n",
    "        self.profession = profession\n",
    "\n",
    "    # Behavior (instance methods)\n",
    "    def show(self):\n",
    "        print('Name:', self.name, 'Sex:', self.sex, 'Profession:', self.profession)\n",
    "\n",
    "    # Behavior (instance methods)\n",
    "    def work(self):\n",
    "        print(self.name, 'working as a', self.profession)\n",
    "\n",
    "# create object of a class\n",
    "jessa = Person('Jessa', 'Female', 'Software Engineer')\n",
    "\n",
    "# call methods\n",
    "jessa.show()\n",
    "jessa.work()"
   ]
  },
  {
   "cell_type": "code",
   "execution_count": 4,
   "id": "e72343c9",
   "metadata": {},
   "outputs": [
    {
     "name": "stdout",
     "output_type": "stream",
     "text": [
      "Name: Jessa Sex: Female Profession: Software Engineer\n",
      "Jessa working as a Software Engineer\n"
     ]
    }
   ],
   "source": [
    "class Person:\n",
    "    def __init__(self, name, sex, profession):\n",
    "        self.name = name\n",
    "        self.sex = sex\n",
    "        self.profession = profession\n",
    "        \n",
    "    def show(self):\n",
    "        print('Name:', self.name, 'Sex:', self.sex, 'Profession:', self.profession)\n",
    "        \n",
    "    def work(self): \n",
    "        print(self.name, 'working as a', self.profession)\n",
    "        \n",
    "jessa = Person('Jessa', 'Female', 'Software Engineer')\n",
    "\n",
    "jessa.show()\n",
    "jessa.work()\n",
    "        "
   ]
  },
  {
   "cell_type": "code",
   "execution_count": 6,
   "id": "5fcebb76",
   "metadata": {},
   "outputs": [
    {
     "name": "stdout",
     "output_type": "stream",
     "text": [
      "Name: Jessa Sex: Female Profession: Software Engineer\n",
      "Jessa working as a Software Engineer\n"
     ]
    }
   ],
   "source": [
    "class Person:\n",
    "    def __init__(self, name, profession):\n",
    "        \n",
    "        self.name = name\n",
    "        self.sex = sex\n",
    "        self.profession = profession\n",
    "        \n",
    "    def show(self): \n",
    "        print('Name:', self.name, 'Sex:', self.sex, 'Profession:', self.profession)\n",
    "        \n",
    "    def work(self): \n",
    "        print(self.name , \"working as a\",self.profession)\n",
    "        \n",
    "    \n",
    "    jessa = Person('Jessa','Female','Software Engineer')\n",
    "    \n",
    "jessa.show()\n",
    "jessa.work()\n",
    "            \n",
    "    "
   ]
  },
  {
   "cell_type": "code",
   "execution_count": 13,
   "id": "b01358da",
   "metadata": {},
   "outputs": [
    {
     "name": "stdout",
     "output_type": "stream",
     "text": [
      "Model audi a4 color blue\n",
      "Model ferrari 488 color green\n"
     ]
    }
   ],
   "source": [
    "class car():\n",
    "    \n",
    "    def __init__(self,model,color):\n",
    "        self.model = model\n",
    "        self.color = color\n",
    "        \n",
    "    def show(self):\n",
    "        print('Model',self.model, 'color',self.color)\n",
    "        \n",
    "audi = car('audi a4', 'blue')\n",
    "ferrari = car('ferrari 488', 'green')\n",
    " \n",
    "audi.show()     \n",
    "ferrari.show() "
   ]
  },
  {
   "cell_type": "code",
   "execution_count": 22,
   "id": "bc65be53",
   "metadata": {},
   "outputs": [
    {
     "name": "stdout",
     "output_type": "stream",
     "text": [
      "Name: Roger Breed: Brown color Bulldog\n"
     ]
    }
   ],
   "source": [
    "class Dog:\n",
    "    \n",
    "    def __init__(self,name,breed,color):\n",
    "        self.name = name\n",
    "        self.breed = breed\n",
    "        self.color = color\n",
    "        \n",
    "    def show(self):\n",
    "          print('Name:', self.name, 'Breed:', self.breed, 'color', self.color)\n",
    "    \n",
    "Roger = Dog('Roger', 'Brown','Bulldog')\n",
    "    \n",
    "Roger.show()"
   ]
  },
  {
   "cell_type": "code",
   "execution_count": null,
   "id": "ce1fffcd",
   "metadata": {},
   "outputs": [],
   "source": [
    "class Student:\n",
    "    # class variables\n",
    "    school_name = 'ABC School'\n",
    "\n",
    "    # constructor\n",
    "    def __init__(self, name, age):\n",
    "        # instance variables\n",
    "        self.name = name\n",
    "        self.age = age\n",
    "\n",
    "s1 = Student(\"Harry\", 12)\n",
    "# access instance variables\n",
    "print('Student:', s1.name, s1.age)\n",
    "\n",
    "# access class variable\n",
    "print('School name:', Student.school_name)\n",
    "\n",
    "# Modify instance variables\n",
    "s1.name = 'Jessa'\n",
    "s1.age = 14\n",
    "print('Student:', s1.name, s1.age)\n",
    "\n",
    "# Modify class variables\n",
    "Student.school_name = 'XYZ School'\n",
    "print('School name:', Student.school_name)"
   ]
  },
  {
   "cell_type": "code",
   "execution_count": 37,
   "id": "deef4e36",
   "metadata": {},
   "outputs": [
    {
     "name": "stdout",
     "output_type": "stream",
     "text": [
      "Student: Harry 12\n",
      "School name: ABC School\n",
      "Student Jessa 14\n",
      "School name XYZ school\n"
     ]
    }
   ],
   "source": [
    "class student:\n",
    "    school_name = 'ABC School'\n",
    "    def __init__(self, name, age):\n",
    "        self.name = name\n",
    "        self.age = age\n",
    "\n",
    "        \n",
    "s1= student(\"Harry\", 12)\n",
    "print('Student:',  s1.name, s1.age)\n",
    "\n",
    "print('School name:', student.school_name)\n",
    "\n",
    "s1.name = 'Jessa'\n",
    "s1.age = 14\n",
    "print('Student',s1.name,s1.age)\n",
    "\n",
    "student.school_name = 'XYZ school'\n",
    "print('School name',student.school_name)\n",
    "\n"
   ]
  },
  {
   "cell_type": "code",
   "execution_count": 44,
   "id": "e94cd0a4",
   "metadata": {},
   "outputs": [
    {
     "name": "stdout",
     "output_type": "stream",
     "text": [
      "Name: Hary age: 12\n",
      "School name: XYZ school\n",
      "Student Jessa 24\n",
      "school name ABC school\n"
     ]
    }
   ],
   "source": [
    "class student:\n",
    "    school_name = 'XYZ school'\n",
    "    \n",
    "    def __init__(self, name, age):\n",
    "        self.name = name\n",
    "        self.age = age\n",
    "        \n",
    "    def show(self):\n",
    "        print('Name:', self.name,'age:',self.age)\n",
    "        \n",
    "Hary = student('Hary', 12)\n",
    "Hary.show()\n",
    "\n",
    "print('School name:', student.school_name)\n",
    "\n",
    "s1.name = 'Jessa'\n",
    "s1.age = 24\n",
    "print('Student',s1.name, s1.age)\n",
    "\n",
    "student.school_name = 'ABC school'\n",
    "print('school name', student.school_name)"
   ]
  },
  {
   "cell_type": "code",
   "execution_count": 45,
   "id": "d94c9cf8",
   "metadata": {},
   "outputs": [
    {
     "name": "stdout",
     "output_type": "stream",
     "text": [
      "Student: Harry 12 ABC School\n",
      "Student: Harry 14 XYZ School\n"
     ]
    }
   ],
   "source": [
    "class Student:\n",
    "    # class variable\n",
    "    school_name = 'ABC School'\n",
    "\n",
    "    # constructor\n",
    "    def __init__(self, name, age):\n",
    "        # instance variables\n",
    "        self.name = name\n",
    "        self.age = age\n",
    "\n",
    "    # instance method\n",
    "    def show(self):\n",
    "        # access instance variables and class variables\n",
    "        print('Student:', self.name, self.age, Student.school_name)\n",
    "\n",
    "    # instance method\n",
    "    def change_age(self, new_age):\n",
    "        # modify instance variable\n",
    "        self.age = new_age\n",
    "\n",
    "    # class method\n",
    "    @classmethod\n",
    "    def modify_school_name(cls, new_name):\n",
    "        # modify class variable\n",
    "        cls.school_name = new_name\n",
    "\n",
    "s1 = Student(\"Harry\", 12)\n",
    "\n",
    "# call instance methods\n",
    "s1.show()\n",
    "s1.change_age(14)\n",
    "\n",
    "# call class method\n",
    "Student.modify_school_name('XYZ School')\n",
    "# call instance methods\n",
    "s1.show()"
   ]
  },
  {
   "cell_type": "code",
   "execution_count": 46,
   "id": "287bd733",
   "metadata": {},
   "outputs": [
    {
     "name": "stdout",
     "output_type": "stream",
     "text": [
      "Student: Harry 12 XYZ School\n",
      "Student: Harry 14 XYZ School\n"
     ]
    }
   ],
   "source": [
    "class student:\n",
    "    school_name = 'ABC school'\n",
    "    \n",
    "    def __init__(self, name, age):\n",
    "        self.name = name\n",
    "        self.age = age\n",
    "        \n",
    "        def show(self):\n",
    "            print('Name:',name,'Age',age, 'School', school_name)\n",
    "        def change_age(self, new_age): \n",
    "            self.age = new_age\n",
    "            \n",
    "    def modify_school_name(cls, new_name):\n",
    "        cls.school_name = new_name\n",
    "s1 = Student('Harry', 12)\n",
    "\n",
    "s1.show()\n",
    "s1.change_age(14)\n",
    "\n",
    "Student.modify_school_name('XYZ School')\n",
    "s1.show()"
   ]
  },
  {
   "cell_type": "code",
   "execution_count": 49,
   "id": "4561553a",
   "metadata": {},
   "outputs": [
    {
     "name": "stdout",
     "output_type": "stream",
     "text": [
      "240 18\n"
     ]
    }
   ],
   "source": [
    "class Vehicle:\n",
    "    def __init__(self, max_speed, mileage):\n",
    "        self.max_speed = max_speed\n",
    "        self.mileage = mileage\n",
    "\n",
    "modelX = Vehicle(240, 18)\n",
    "print(modelX.max_speed, modelX.mileage)"
   ]
  },
  {
   "cell_type": "code",
   "execution_count": 50,
   "id": "19849f4d",
   "metadata": {},
   "outputs": [],
   "source": [
    " #Write a Python class named Student with two attributes student_name, marks. Modify the attribute values of the said class and print the original and modified values of the said attributes.\n",
    "    \n",
    "    \n",
    "class student:\n",
    "    def __init__ (self,name, marks):\n",
    "        self.name = name\n",
    "        self.marks = marks\n",
    "        \n",
    "    def show(self):\n",
    "         print(\"Name\",self.name,\"Marks\",self.marks)\n",
    "        \n",
    "student_info = student('Purnima',150)\n",
    "\n",
    "        \n"
   ]
  },
  {
   "cell_type": "code",
   "execution_count": null,
   "id": "4e5ca124",
   "metadata": {},
   "outputs": [],
   "source": []
  },
  {
   "cell_type": "code",
   "execution_count": 53,
   "id": "593e551f",
   "metadata": {},
   "outputs": [
    {
     "name": "stdout",
     "output_type": "stream",
     "text": [
      "Name Purnima Marks 150\n",
      "Modified name and marks Rimika 150\n"
     ]
    }
   ],
   "source": [
    "class student:\n",
    "    def __init__ (self,name, marks):\n",
    "        self.name = name\n",
    "        self.marks = marks\n",
    "        \n",
    "    def show(self):\n",
    "         print(\"Name\",self.name,\"Marks\",self.marks)\n",
    "        \n",
    "student_info = student('Purnima',150)\n",
    "student_info.show()\n",
    "\n",
    "s1.name = 'Rimika'\n",
    "s1.marks = 150\n",
    "\n",
    "print(\"Modified name and marks\", s1.name, s1.marks)"
   ]
  },
  {
   "cell_type": "code",
   "execution_count": 87,
   "id": "9148eb02",
   "metadata": {},
   "outputs": [
    {
     "name": "stdout",
     "output_type": "stream",
     "text": [
      "Student_Id: Anirban_12 Name: Anirban\n",
      "7\n",
      "Does student_info has student_class?:True\n",
      "***after deleting attribute from object student_info***\n",
      "Does student_info has student_name?:False\n"
     ]
    }
   ],
   "source": [
    "#Write a Python class named Student with two attributes student_id, student_name. Add a new attribute student_class and display the entire attribute and their values of the said class. Now remove the student_name attribute and display the entire attribute with values.\n",
    "\n",
    "\n",
    "class student:\n",
    "    \n",
    "    def __init__(self,student_id,student_name):\n",
    "        self.student_id = student_id\n",
    "        self.student_name = student_name\n",
    "        \n",
    "    def show(self):\n",
    "        print(\"Student_Id:\", self.student_id,\"Name:\",self.student_name)\n",
    "        \n",
    "student_info = student(\"Anirban_12\",\"Anirban\")\n",
    "student_info.show()\n",
    "setattr(student_info, 'student_class',7)\n",
    "print(student_info.student_class)\n",
    "result = hasattr(student_info, 'student_class')\n",
    "print(f'Does student_info has student_class?:{result}')\n",
    "\n",
    "delattr(student_info,'student_name')\n",
    "print('***after deleting attribute from object student_info***')\n",
    "result = hasattr(student_info, 'student_name')\n",
    "print(f'Does student_info has student_name?:{result}')\n",
    "\n",
    "\n"
   ]
  },
  {
   "cell_type": "code",
   "execution_count": null,
   "id": "ac092fcd",
   "metadata": {},
   "outputs": [],
   "source": []
  },
  {
   "cell_type": "code",
   "execution_count": null,
   "id": "de5db152",
   "metadata": {},
   "outputs": [],
   "source": []
  }
 ],
 "metadata": {
  "kernelspec": {
   "display_name": "Python 3 (ipykernel)",
   "language": "python",
   "name": "python3"
  },
  "language_info": {
   "codemirror_mode": {
    "name": "ipython",
    "version": 3
   },
   "file_extension": ".py",
   "mimetype": "text/x-python",
   "name": "python",
   "nbconvert_exporter": "python",
   "pygments_lexer": "ipython3",
   "version": "3.9.7"
  }
 },
 "nbformat": 4,
 "nbformat_minor": 5
}

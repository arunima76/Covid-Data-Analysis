{
 "cells": [
  {
   "cell_type": "code",
   "execution_count": 2,
   "id": "ec5f07d2",
   "metadata": {},
   "outputs": [
    {
     "name": "stdout",
     "output_type": "stream",
     "text": [
      "iteration 0 :1\n",
      "iteration 1 :2\n",
      "iteration 2 :3\n",
      "iteration 3 :4\n",
      "iteration 4 :5\n",
      "iteration 5 :6\n"
     ]
    }
   ],
   "source": [
    "numbers = [[1, 2, 3], [4, 5, 6]]\n",
    "\n",
    "cnt = 0\n",
    "for i in numbers:\n",
    "    for j in i:\n",
    "        print('iteration', cnt,end = \" :\")\n",
    "        print(j)\n",
    "        cnt = cnt + 1\n",
    "        "
   ]
  },
  {
   "cell_type": "code",
   "execution_count": 4,
   "id": "a85a38ab",
   "metadata": {},
   "outputs": [
    {
     "ename": "IndentationError",
     "evalue": "expected an indented block (Temp/ipykernel_2124/878915751.py, line 10)",
     "output_type": "error",
     "traceback": [
      "\u001b[1;36m  File \u001b[1;32m\"C:\\Users\\Arunima\\AppData\\Local\\Temp/ipykernel_2124/878915751.py\"\u001b[1;36m, line \u001b[1;32m10\u001b[0m\n\u001b[1;33m    print('Perfect number:', n)\u001b[0m\n\u001b[1;37m    ^\u001b[0m\n\u001b[1;31mIndentationError\u001b[0m\u001b[1;31m:\u001b[0m expected an indented block\n"
     ]
    }
   ],
   "source": [
    "print('Show Perfect number fom 1 to 100')\n",
    "\n",
    "n = 2\n",
    "while n<= 100:\n",
    "    x_sum = 0\n",
    "    for i in range(1,n):\n",
    "        if n % i == 0:\n",
    "            x_sum += i\n",
    "        if x_sum == n: \n",
    "    print('Perfect number:', n)\n",
    "    \n",
    "n += 1\n"
   ]
  },
  {
   "cell_type": "code",
   "execution_count": 6,
   "id": "6f7e610e",
   "metadata": {},
   "outputs": [
    {
     "name": "stdout",
     "output_type": "stream",
     "text": [
      "Show Perfect number fom 1 to 100\n",
      "Perfect number: 6\n",
      "Perfect number: 28\n"
     ]
    }
   ],
   "source": [
    "print('Show Perfect number fom 1 to 100')\n",
    "n = 2\n",
    "# outer while loop\n",
    "while n <= 100:\n",
    "    x_sum = 0\n",
    "    # inner for loop\n",
    "    for i in range(1, n):\n",
    "        if n % i == 0:\n",
    "            x_sum += i\n",
    "    if x_sum == n:\n",
    "        print('Perfect number:', n)\n",
    "    n += 1"
   ]
  },
  {
   "cell_type": "code",
   "execution_count": 7,
   "id": "59add462",
   "metadata": {},
   "outputs": [
    {
     "name": "stdout",
     "output_type": "stream",
     "text": [
      "Show Perfect number from 1 to 100\n",
      "Perfect number: 6\n",
      "Perfect number: 28\n"
     ]
    }
   ],
   "source": [
    "print('Show Perfect number from 1 to 100')\n",
    "n = 2\n",
    "\n",
    "while n <= 100:\n",
    "    x_sum = 0\n",
    "    for i in range(1,n):\n",
    "        if n % i == 0:\n",
    "            x_sum += i\n",
    "    if x_sum == n:\n",
    "        print('Perfect number:',n)\n",
    "    n += 1"
   ]
  },
  {
   "cell_type": "code",
   "execution_count": null,
   "id": "cc0dd138",
   "metadata": {},
   "outputs": [],
   "source": []
  }
 ],
 "metadata": {
  "kernelspec": {
   "display_name": "Python 3 (ipykernel)",
   "language": "python",
   "name": "python3"
  },
  "language_info": {
   "codemirror_mode": {
    "name": "ipython",
    "version": 3
   },
   "file_extension": ".py",
   "mimetype": "text/x-python",
   "name": "python",
   "nbconvert_exporter": "python",
   "pygments_lexer": "ipython3",
   "version": "3.9.7"
  }
 },
 "nbformat": 4,
 "nbformat_minor": 5
}

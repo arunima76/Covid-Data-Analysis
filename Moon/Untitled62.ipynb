{
 "cells": [
  {
   "cell_type": "code",
   "execution_count": 9,
   "id": "50d389ef",
   "metadata": {},
   "outputs": [
    {
     "name": "stdout",
     "output_type": "stream",
     "text": [
      "5\n",
      "4\n",
      "7\n",
      "8\n",
      "9\n",
      "3\n"
     ]
    }
   ],
   "source": [
    "values = [5, 4, 7, 8, 9, 3]\n",
    "\n",
    "values_copy = []\n",
    "for v in values:\n",
    "    values_copy = v\n",
    "    print(values_copy)"
   ]
  },
  {
   "cell_type": "code",
   "execution_count": 10,
   "id": "bfb55e76",
   "metadata": {},
   "outputs": [
    {
     "name": "stdout",
     "output_type": "stream",
     "text": [
      "[3, 9, 8, 7, 4, 5]\n"
     ]
    }
   ],
   "source": [
    "values = [5, 4, 7, 8, 9, 3]\n",
    "\n",
    "new_values = list(reversed(values))\n",
    "\n",
    "print(new_values)\n"
   ]
  },
  {
   "cell_type": "code",
   "execution_count": 20,
   "id": "ef2e8830",
   "metadata": {},
   "outputs": [
    {
     "name": "stdout",
     "output_type": "stream",
     "text": [
      "[2, 3, 4, 5, 6, 7]\n"
     ]
    }
   ],
   "source": [
    "duplicated_list= [2,2,3,3,4,5,6,7]\n",
    "deduplicated_list = list()\n",
    "\n",
    "[deduplicated_list.append(item) for item in duplicated_list if item not in deduplicated_list]\n",
    "print(deduplicated_list)"
   ]
  },
  {
   "cell_type": "code",
   "execution_count": 22,
   "id": "e7f5b48d",
   "metadata": {},
   "outputs": [
    {
     "name": "stdout",
     "output_type": "stream",
     "text": [
      "[2, 3, 4, 5, 6, 7]\n"
     ]
    }
   ],
   "source": [
    "duplicated_list= [2,2,3,3,4,5,6,7]\n",
    "deduplicated_list = list()\n",
    "\n",
    "for item in duplicated_list :\n",
    "    if item not in deduplicated_list:\n",
    "        deduplicated_list.append(item)\n",
    "        \n",
    "print(deduplicated_list)"
   ]
  },
  {
   "cell_type": "code",
   "execution_count": 27,
   "id": "3416cd08",
   "metadata": {},
   "outputs": [
    {
     "data": {
      "text/plain": [
       "[1, 4, 9, 16]"
      ]
     },
     "execution_count": 27,
     "metadata": {},
     "output_type": "execute_result"
    }
   ],
   "source": [
    "item = [1,2,3,4]\n",
    "[x * x for x in item]\n",
    "\n"
   ]
  },
  {
   "cell_type": "code",
   "execution_count": 30,
   "id": "e282591e",
   "metadata": {},
   "outputs": [
    {
     "name": "stdout",
     "output_type": "stream",
     "text": [
      "11\n"
     ]
    }
   ],
   "source": [
    "values = [3,5,2,1]\n",
    "total = 0\n",
    "\n",
    "for x in values:\n",
    "    total += x\n",
    "print(total)"
   ]
  },
  {
   "cell_type": "code",
   "execution_count": 32,
   "id": "ba297a38",
   "metadata": {},
   "outputs": [
    {
     "name": "stdout",
     "output_type": "stream",
     "text": [
      "0\n"
     ]
    }
   ],
   "source": [
    "values = [3, 5, 2, 1]\n",
    "\n",
    "for x in values:\n",
    "    x = 0\n",
    "print(x)"
   ]
  },
  {
   "cell_type": "code",
   "execution_count": 35,
   "id": "029c9de1",
   "metadata": {},
   "outputs": [
    {
     "name": "stdout",
     "output_type": "stream",
     "text": [
      "11\n"
     ]
    }
   ],
   "source": [
    "values = [3, 5, 2, 1]\n",
    "\n",
    "total = 0\n",
    "for x in values:\n",
    "    total += x\n",
    "    \n",
    "print(total)"
   ]
  },
  {
   "cell_type": "code",
   "execution_count": 36,
   "id": "317eacfc",
   "metadata": {},
   "outputs": [
    {
     "name": "stdout",
     "output_type": "stream",
     "text": [
      "1\n",
      "2\n",
      "3\n",
      "4\n",
      "5\n",
      "6\n",
      "7\n",
      "8\n",
      "9\n"
     ]
    }
   ],
   "source": [
    "for i in range(1,10):\n",
    "    print(i)"
   ]
  },
  {
   "cell_type": "code",
   "execution_count": 38,
   "id": "1c2d3933",
   "metadata": {},
   "outputs": [
    {
     "name": "stdout",
     "output_type": "stream",
     "text": [
      "5\n",
      "4\n",
      "7\n",
      "8\n",
      "9\n",
      "3\n"
     ]
    }
   ],
   "source": [
    "values = [5, 4, 7, 8, 9, 3]\n",
    "values_copy = []\n",
    "\n",
    "for v in values:\n",
    "    values_copy.append(v)\n",
    "    \n",
    "    print(v)\n",
    "    "
   ]
  },
  {
   "cell_type": "code",
   "execution_count": 39,
   "id": "c7494307",
   "metadata": {},
   "outputs": [
    {
     "name": "stdout",
     "output_type": "stream",
     "text": [
      "['apple', 'banana', 'mango']\n"
     ]
    }
   ],
   "source": [
    "fruits = [\"apple\", \"banana\", \"cherry\", \"kiwi\", \"mango\"]\n",
    "\n",
    "newlist = [x for x in fruits if \"a\" in x]\n",
    "\n",
    "print(newlist)"
   ]
  },
  {
   "cell_type": "code",
   "execution_count": 40,
   "id": "fdc43254",
   "metadata": {},
   "outputs": [
    {
     "ename": "FileNotFoundError",
     "evalue": "[Errno 2] No such file or directory: 'AppleStore.csv'",
     "output_type": "error",
     "traceback": [
      "\u001b[1;31m---------------------------------------------------------------------------\u001b[0m",
      "\u001b[1;31mFileNotFoundError\u001b[0m                         Traceback (most recent call last)",
      "\u001b[1;32m~\\AppData\\Local\\Temp/ipykernel_11664/2856155032.py\u001b[0m in \u001b[0;36m<module>\u001b[1;34m\u001b[0m\n\u001b[1;32m----> 1\u001b[1;33m \u001b[0mopened_file\u001b[0m \u001b[1;33m=\u001b[0m \u001b[0mopen\u001b[0m\u001b[1;33m(\u001b[0m\u001b[1;34m'AppleStore.csv'\u001b[0m\u001b[1;33m)\u001b[0m\u001b[1;33m\u001b[0m\u001b[1;33m\u001b[0m\u001b[0m\n\u001b[0m\u001b[0;32m      2\u001b[0m \u001b[1;32mfrom\u001b[0m \u001b[0mcsv\u001b[0m \u001b[1;32mimport\u001b[0m \u001b[0mreader\u001b[0m\u001b[1;33m\u001b[0m\u001b[1;33m\u001b[0m\u001b[0m\n\u001b[0;32m      3\u001b[0m \u001b[0mread_file\u001b[0m \u001b[1;33m=\u001b[0m \u001b[0mreader\u001b[0m\u001b[1;33m(\u001b[0m\u001b[0mopened_file\u001b[0m\u001b[1;33m)\u001b[0m\u001b[1;33m\u001b[0m\u001b[1;33m\u001b[0m\u001b[0m\n\u001b[0;32m      4\u001b[0m \u001b[0mapps_data\u001b[0m \u001b[1;33m=\u001b[0m \u001b[0mlist\u001b[0m\u001b[1;33m(\u001b[0m\u001b[0mread_file\u001b[0m\u001b[1;33m)\u001b[0m\u001b[1;33m\u001b[0m\u001b[1;33m\u001b[0m\u001b[0m\n\u001b[0;32m      5\u001b[0m \u001b[1;33m\u001b[0m\u001b[0m\n",
      "\u001b[1;31mFileNotFoundError\u001b[0m: [Errno 2] No such file or directory: 'AppleStore.csv'"
     ]
    }
   ],
   "source": [
    "opened_file = open('AppleStore.csv')\n",
    "from csv import reader\n",
    "read_file = reader(opened_file)\n",
    "apps_data = list(read_file)\n",
    "\n",
    "not_free_games_social_ratings = []\n",
    "\n",
    "for row in apps_data[1:]:\n",
    "    rating =float(row[7])\n",
    "    genre = row[11]\n",
    "    price = float(row[4])\n",
    "    \n",
    "if(genre == 'Social Networking' or genre == 'Games') and price != 0:\n",
    "    \n",
    "    not_free_games_social_ratings.append(rating)\n",
    "avg_not_free = sum(not_free_games_social_ratings)/len(not_free_games_social_ratings)"
   ]
  },
  {
   "cell_type": "code",
   "execution_count": 41,
   "id": "73f16949",
   "metadata": {},
   "outputs": [
    {
     "ename": "FileNotFoundError",
     "evalue": "[Errno 2] No such file or directory: 'AppleStore.csv'",
     "output_type": "error",
     "traceback": [
      "\u001b[1;31m---------------------------------------------------------------------------\u001b[0m",
      "\u001b[1;31mFileNotFoundError\u001b[0m                         Traceback (most recent call last)",
      "\u001b[1;32m~\\AppData\\Local\\Temp/ipykernel_11664/862694447.py\u001b[0m in \u001b[0;36m<module>\u001b[1;34m\u001b[0m\n\u001b[1;32m----> 1\u001b[1;33m \u001b[0mopened_file\u001b[0m \u001b[1;33m=\u001b[0m \u001b[0mopen\u001b[0m\u001b[1;33m(\u001b[0m\u001b[1;34m'AppleStore.csv'\u001b[0m\u001b[1;33m)\u001b[0m\u001b[1;33m\u001b[0m\u001b[1;33m\u001b[0m\u001b[0m\n\u001b[0m\u001b[0;32m      2\u001b[0m \u001b[1;32mfrom\u001b[0m \u001b[0mcsv\u001b[0m \u001b[1;32mimport\u001b[0m \u001b[0mreader\u001b[0m\u001b[1;33m\u001b[0m\u001b[1;33m\u001b[0m\u001b[0m\n\u001b[0;32m      3\u001b[0m \u001b[0mread_file\u001b[0m \u001b[1;33m=\u001b[0m \u001b[0mreader\u001b[0m\u001b[1;33m(\u001b[0m\u001b[0mopened_file\u001b[0m\u001b[1;33m)\u001b[0m\u001b[1;33m\u001b[0m\u001b[1;33m\u001b[0m\u001b[0m\n\u001b[0;32m      4\u001b[0m \u001b[0mapps_data\u001b[0m \u001b[1;33m=\u001b[0m \u001b[0mlist\u001b[0m\u001b[1;33m(\u001b[0m\u001b[0mread_file\u001b[0m\u001b[1;33m)\u001b[0m\u001b[1;33m\u001b[0m\u001b[1;33m\u001b[0m\u001b[0m\n\u001b[0;32m      5\u001b[0m \u001b[1;33m\u001b[0m\u001b[0m\n",
      "\u001b[1;31mFileNotFoundError\u001b[0m: [Errno 2] No such file or directory: 'AppleStore.csv'"
     ]
    }
   ],
   "source": [
    "opened_file = open('AppleStore.csv')\n",
    "from csv import reader\n",
    "read_file = reader(opened_file)\n",
    "apps_data = list(read_file)\n",
    "\n",
    "apps_4_or_greater = []\n",
    "for row in apps_data[1:]:\n",
    "    rating = float(row[7])\n",
    "    if rating >= 4.0:\n",
    "           apps_4_or_greater.append(rating)\n",
    "\n",
    "print(len(apps_4_or_greater))"
   ]
  },
  {
   "cell_type": "code",
   "execution_count": 42,
   "id": "4b1c56aa",
   "metadata": {},
   "outputs": [
    {
     "ename": "FileNotFoundError",
     "evalue": "[Errno 2] No such file or directory: 'AppleStore.csv'",
     "output_type": "error",
     "traceback": [
      "\u001b[1;31m---------------------------------------------------------------------------\u001b[0m",
      "\u001b[1;31mFileNotFoundError\u001b[0m                         Traceback (most recent call last)",
      "\u001b[1;32m~\\AppData\\Local\\Temp/ipykernel_11664/2856155032.py\u001b[0m in \u001b[0;36m<module>\u001b[1;34m\u001b[0m\n\u001b[1;32m----> 1\u001b[1;33m \u001b[0mopened_file\u001b[0m \u001b[1;33m=\u001b[0m \u001b[0mopen\u001b[0m\u001b[1;33m(\u001b[0m\u001b[1;34m'AppleStore.csv'\u001b[0m\u001b[1;33m)\u001b[0m\u001b[1;33m\u001b[0m\u001b[1;33m\u001b[0m\u001b[0m\n\u001b[0m\u001b[0;32m      2\u001b[0m \u001b[1;32mfrom\u001b[0m \u001b[0mcsv\u001b[0m \u001b[1;32mimport\u001b[0m \u001b[0mreader\u001b[0m\u001b[1;33m\u001b[0m\u001b[1;33m\u001b[0m\u001b[0m\n\u001b[0;32m      3\u001b[0m \u001b[0mread_file\u001b[0m \u001b[1;33m=\u001b[0m \u001b[0mreader\u001b[0m\u001b[1;33m(\u001b[0m\u001b[0mopened_file\u001b[0m\u001b[1;33m)\u001b[0m\u001b[1;33m\u001b[0m\u001b[1;33m\u001b[0m\u001b[0m\n\u001b[0;32m      4\u001b[0m \u001b[0mapps_data\u001b[0m \u001b[1;33m=\u001b[0m \u001b[0mlist\u001b[0m\u001b[1;33m(\u001b[0m\u001b[0mread_file\u001b[0m\u001b[1;33m)\u001b[0m\u001b[1;33m\u001b[0m\u001b[1;33m\u001b[0m\u001b[0m\n\u001b[0;32m      5\u001b[0m \u001b[1;33m\u001b[0m\u001b[0m\n",
      "\u001b[1;31mFileNotFoundError\u001b[0m: [Errno 2] No such file or directory: 'AppleStore.csv'"
     ]
    }
   ],
   "source": [
    "opened_file = open('AppleStore.csv')\n",
    "from csv import reader\n",
    "read_file = reader(opened_file)\n",
    "apps_data = list(read_file)\n",
    "\n",
    "not_free_games_social_ratings = []\n",
    "\n",
    "for row in apps_data[1:]:\n",
    "    rating =float(row[7])\n",
    "    genre = row[11]\n",
    "    price = float(row[4])\n",
    "    \n",
    "if(genre == 'Social Networking' or genre == 'Games') and price != 0:\n",
    "    \n",
    "    not_free_games_social_ratings.append(rating)\n",
    "avg_not_free = sum(not_free_games_social_ratings)/len(not_free_games_social_ratings)"
   ]
  },
  {
   "cell_type": "code",
   "execution_count": 43,
   "id": "71a97bfd",
   "metadata": {},
   "outputs": [
    {
     "ename": "FileNotFoundError",
     "evalue": "[Errno 2] No such file or directory: 'AppleStore.csv'",
     "output_type": "error",
     "traceback": [
      "\u001b[1;31m---------------------------------------------------------------------------\u001b[0m",
      "\u001b[1;31mFileNotFoundError\u001b[0m                         Traceback (most recent call last)",
      "\u001b[1;32m~\\AppData\\Local\\Temp/ipykernel_11664/2382706987.py\u001b[0m in \u001b[0;36m<module>\u001b[1;34m\u001b[0m\n\u001b[1;32m----> 1\u001b[1;33m \u001b[0mpened_file\u001b[0m \u001b[1;33m=\u001b[0m \u001b[0mopen\u001b[0m\u001b[1;33m(\u001b[0m\u001b[1;34m'AppleStore.csv'\u001b[0m\u001b[1;33m)\u001b[0m\u001b[1;33m\u001b[0m\u001b[1;33m\u001b[0m\u001b[0m\n\u001b[0m\u001b[0;32m      2\u001b[0m \u001b[1;32mfrom\u001b[0m \u001b[0mcsv\u001b[0m \u001b[1;32mimport\u001b[0m \u001b[0mreader\u001b[0m\u001b[1;33m\u001b[0m\u001b[1;33m\u001b[0m\u001b[0m\n\u001b[0;32m      3\u001b[0m \u001b[0mread_file\u001b[0m \u001b[1;33m=\u001b[0m \u001b[0mreader\u001b[0m\u001b[1;33m(\u001b[0m\u001b[0mopened_file\u001b[0m\u001b[1;33m)\u001b[0m\u001b[1;33m\u001b[0m\u001b[1;33m\u001b[0m\u001b[0m\n\u001b[0;32m      4\u001b[0m \u001b[0mapps_data\u001b[0m \u001b[1;33m=\u001b[0m \u001b[0mlist\u001b[0m\u001b[1;33m(\u001b[0m\u001b[0mread_file\u001b[0m\u001b[1;33m)\u001b[0m\u001b[1;33m\u001b[0m\u001b[1;33m\u001b[0m\u001b[0m\n\u001b[0;32m      5\u001b[0m \u001b[1;33m\u001b[0m\u001b[0m\n",
      "\u001b[1;31mFileNotFoundError\u001b[0m: [Errno 2] No such file or directory: 'AppleStore.csv'"
     ]
    }
   ],
   "source": [
    "pened_file = open('AppleStore.csv')\n",
    "from csv import reader\n",
    "read_file = reader(opened_file)\n",
    "apps_data = list(read_file)\n",
    "\n",
    "games_social_ratings =[]\n",
    "for row in apps_data[1:]:\n",
    "    rating = float(row[7])\n",
    "    genre = row[11]\n",
    "    if genre == 'Social Networking' or genre == 'Games':\n",
    "             games_social_ratings.append(rating)\n",
    "        \n",
    "avg_games_social = sum(games_social_ratings)/len(games-social_ratings)\n",
    "\n",
    "print(avg_games_social)"
   ]
  },
  {
   "cell_type": "code",
   "execution_count": 44,
   "id": "fc70c49c",
   "metadata": {},
   "outputs": [
    {
     "ename": "FileNotFoundError",
     "evalue": "[Errno 2] No such file or directory: 'AppleStore.csv'",
     "output_type": "error",
     "traceback": [
      "\u001b[1;31m---------------------------------------------------------------------------\u001b[0m",
      "\u001b[1;31mFileNotFoundError\u001b[0m                         Traceback (most recent call last)",
      "\u001b[1;32m~\\AppData\\Local\\Temp/ipykernel_11664/4105984568.py\u001b[0m in \u001b[0;36m<module>\u001b[1;34m\u001b[0m\n\u001b[1;32m----> 1\u001b[1;33m \u001b[0mopened_file\u001b[0m \u001b[1;33m=\u001b[0m \u001b[0mopen\u001b[0m\u001b[1;33m(\u001b[0m\u001b[1;34m'AppleStore.csv'\u001b[0m\u001b[1;33m)\u001b[0m\u001b[1;33m\u001b[0m\u001b[1;33m\u001b[0m\u001b[0m\n\u001b[0m\u001b[0;32m      2\u001b[0m \u001b[1;32mfrom\u001b[0m \u001b[0mcsv\u001b[0m \u001b[1;32mimport\u001b[0m \u001b[0mreader\u001b[0m\u001b[1;33m\u001b[0m\u001b[1;33m\u001b[0m\u001b[0m\n\u001b[0;32m      3\u001b[0m \u001b[0mread_file\u001b[0m \u001b[1;33m=\u001b[0m \u001b[0mreader\u001b[0m\u001b[1;33m(\u001b[0m\u001b[0mopened_file\u001b[0m\u001b[1;33m)\u001b[0m\u001b[1;33m\u001b[0m\u001b[1;33m\u001b[0m\u001b[0m\n\u001b[0;32m      4\u001b[0m \u001b[0mapps_data\u001b[0m \u001b[1;33m=\u001b[0m \u001b[0mlist\u001b[0m\u001b[1;33m(\u001b[0m\u001b[0mread_file\u001b[0m\u001b[1;33m)\u001b[0m\u001b[1;33m\u001b[0m\u001b[1;33m\u001b[0m\u001b[0m\n\u001b[0;32m      5\u001b[0m \u001b[1;33m\u001b[0m\u001b[0m\n",
      "\u001b[1;31mFileNotFoundError\u001b[0m: [Errno 2] No such file or directory: 'AppleStore.csv'"
     ]
    }
   ],
   "source": [
    "opened_file = open('AppleStore.csv')\n",
    "from csv import reader\n",
    "read_file = reader(opened_file)\n",
    "apps_data = list(read_file)\n",
    "\n",
    "free_games_ratings = []\n",
    "for row in apps_data[1:]:\n",
    "    rating = float(row[7])\n",
    "    price = float(row[4])\n",
    "    genre = row[11]\n",
    "    if price == 0.0 and genre == 'Games':\n",
    "        free_games_ratings.append(rating)\n",
    "    \n",
    "avg_rating_free_games = sum(free_game_ratings)/len(free_game_ratings)\n",
    "    "
   ]
  },
  {
   "cell_type": "code",
   "execution_count": 48,
   "id": "7cdbd3bb",
   "metadata": {},
   "outputs": [
    {
     "name": "stdout",
     "output_type": "stream",
     "text": [
      "Enter the value to check0\n",
      "False\n"
     ]
    }
   ],
   "source": [
    " "
   ]
  },
  {
   "cell_type": "code",
   "execution_count": 49,
   "id": "9163d570",
   "metadata": {},
   "outputs": [
    {
     "name": "stdout",
     "output_type": "stream",
     "text": [
      "Key is present in the dictionary\n",
      "Key is not present in the dictionary\n"
     ]
    }
   ],
   "source": [
    "d = {1: 10, 2: 20, 3: 30, 4: 40, 5: 50, 6: 60}\n",
    "def is_key_present(x):\n",
    "  if x in d:\n",
    "      print('Key is present in the dictionary')\n",
    "  else:\n",
    "      print('Key is not present in the dictionary')\n",
    "is_key_present(5)\n",
    "is_key_present(9)"
   ]
  },
  {
   "cell_type": "code",
   "execution_count": 51,
   "id": "b2405d1e",
   "metadata": {},
   "outputs": [
    {
     "name": "stdout",
     "output_type": "stream",
     "text": [
      "Key is present in the dictionary\n",
      "Key is not present in the dictionary\n"
     ]
    }
   ],
   "source": [
    "d = {1: 10, 2: 20, 3: 30, 4: 40, 5: 50, 6: 60}\n",
    "def is_key_present(x):\n",
    "    if x in d:\n",
    "        print(\"Key is present in the dictionary\")\n",
    "    else:\n",
    "        print(\"Key is not present in the dictionary\")\n",
    "        \n",
    "is_key_present(5)\n",
    "is_key_present(9)"
   ]
  },
  {
   "cell_type": "code",
   "execution_count": 53,
   "id": "7534e05f",
   "metadata": {},
   "outputs": [
    {
     "name": "stdout",
     "output_type": "stream",
     "text": [
      "Red corresponds to 1\n",
      "Green corresponds to 2\n",
      "Blue corresponds to 3\n"
     ]
    }
   ],
   "source": [
    "d = {'Red': 1, 'Green': 2, 'Blue': 3} \n",
    "for color_key, dict in d.items():\n",
    "    print(color_key, \"corresponds to\", d[color_key])\n",
    "    "
   ]
  },
  {
   "cell_type": "code",
   "execution_count": 55,
   "id": "a06332c1",
   "metadata": {},
   "outputs": [
    {
     "name": "stdout",
     "output_type": "stream",
     "text": [
      "Red corresponds to 1\n",
      "Green corresponds to 2\n",
      "Blue corresponds to 3\n"
     ]
    }
   ],
   "source": [
    "d = {'Red': 1, 'Green': 2, 'Blue': 3}\n",
    "for color_key, dict in d.items():\n",
    "     print(color_key,\"corresponds to\",d[color_key])"
   ]
  },
  {
   "cell_type": "code",
   "execution_count": 57,
   "id": "06283b6c",
   "metadata": {},
   "outputs": [
    {
     "name": "stdout",
     "output_type": "stream",
     "text": [
      "dict_values([1, 2, 3])\n"
     ]
    }
   ],
   "source": [
    "d = {'Red': 1, 'Green': 2, 'Blue': 3}\n",
    "\n",
    "val = d.values()\n",
    "\n",
    "print(val)"
   ]
  },
  {
   "cell_type": "code",
   "execution_count": 63,
   "id": "b0592f7a",
   "metadata": {},
   "outputs": [
    {
     "name": "stdout",
     "output_type": "stream",
     "text": [
      "{'pen': 5, 'paper': 20, 'pencil': 15}\n"
     ]
    }
   ],
   "source": [
    "items = ['pen', 'paper', 'pencil']\n",
    "quantities = [5, 20, 15]\n",
    "items_dict = {key:value for key, value in zip(items, quantities)}\n",
    "\n",
    "print(items_dict)"
   ]
  },
  {
   "cell_type": "code",
   "execution_count": 64,
   "id": "4dddafe7",
   "metadata": {},
   "outputs": [
    {
     "name": "stdout",
     "output_type": "stream",
     "text": [
      "{'pen': 5, 'paper': 20, 'pencil': 15}\n"
     ]
    }
   ],
   "source": [
    "items = ['pen','paper','pencil']\n",
    "quantitites = [5,20,15]\n",
    "items_dict = {key:value for key, value in zip(items, quantities)}\n",
    "\n",
    "print(items_dict)"
   ]
  },
  {
   "cell_type": "code",
   "execution_count": 69,
   "id": "f0139263",
   "metadata": {},
   "outputs": [
    {
     "name": "stdout",
     "output_type": "stream",
     "text": [
      "{0: 'Value 1', 1: 'Value2', 2: 'Value3'}\n",
      "{1: 'Value2', 2: 'Value3'}\n"
     ]
    }
   ],
   "source": [
    "#Python program to remove a set of keys.\n",
    "dictionary = {0:\"Value 1\",1:\"Value2\",2:\"Value3\"}\n",
    "print(dictionary)\n",
    "del dictionary[0]\n",
    "print(dictionary)\n"
   ]
  },
  {
   "cell_type": "code",
   "execution_count": 70,
   "id": "99bad7c2",
   "metadata": {},
   "outputs": [
    {
     "name": "stdout",
     "output_type": "stream",
     "text": [
      "Sorted dictionary is :\n",
      "[(1, 'a'), (2, 'b'), (3, 'c'), (4, 'd')]\n"
     ]
    }
   ],
   "source": [
    "#Python program to sort dictionary by values (Ascending/ Descending).\n",
    "my_dict = {'c': 3,\n",
    "           'a': 1,\n",
    "           'd': 4,\n",
    "           'b': 2}\n",
    "\n",
    "sorted_dict = sorted([(value, key)\n",
    "for (key, value) in my_dict.items()])  \n",
    "print(\"Sorted dictionary is :\")\n",
    "print(sorted_dict)\n",
    "\n"
   ]
  },
  {
   "cell_type": "code",
   "execution_count": 74,
   "id": "013ec59d",
   "metadata": {},
   "outputs": [
    {
     "name": "stdout",
     "output_type": "stream",
     "text": [
      "Sorted Dictionary is:\n",
      "[(1, 'a'), (2, 'b'), (3, 'c'), (4, 'd')]\n"
     ]
    }
   ],
   "source": [
    "my_dict = {'c': 3,\n",
    "           'a': 1,\n",
    "           'd': 4,\n",
    "           'b': 2}\n",
    "sorted_dict = sorted([(value, key)\n",
    "for (key, value) in my_dict.items()])\n",
    "print(\"Sorted Dictionary is:\")\n",
    "print(sorted_dict)\n",
    "\n"
   ]
  },
  {
   "cell_type": "code",
   "execution_count": 79,
   "id": "68b978a5",
   "metadata": {},
   "outputs": [
    {
     "name": "stdout",
     "output_type": "stream",
     "text": [
      "[('a', 1), ('b', 2), ('c', 3), ('d', 4)]\n"
     ]
    }
   ],
   "source": [
    "my_dict = { 'c': 3,\n",
    "          'a': 1,\n",
    "           'd': 4,\n",
    "          'b': 2}\n",
    "sorted_dict = sorted([(key, value)\n",
    "for (key, value) in my_dict.items()])\n",
    "\n",
    "print(sorted_dict)"
   ]
  },
  {
   "cell_type": "code",
   "execution_count": 80,
   "id": "a49c9696",
   "metadata": {},
   "outputs": [
    {
     "name": "stdout",
     "output_type": "stream",
     "text": [
      "{'col1': 'Red', 'col2': 'Green', 'col3': 'Orange'}\n"
     ]
    }
   ],
   "source": [
    "color = {\"col1\" : \"Red\", \"col2\" : \"Green\", \"col3\" : \"Orange\" }\n",
    "print(color)"
   ]
  },
  {
   "cell_type": "code",
   "execution_count": 81,
   "id": "ed049d1e",
   "metadata": {},
   "outputs": [
    {
     "name": "stdout",
     "output_type": "stream",
     "text": [
      "{'col1': 'Red', 'col2': 'Green', 'col3': 'Orange'}\n"
     ]
    }
   ],
   "source": [
    "color = {\"col1\":\"Red\",\"col2\":\"Green\",\"col3\":\"Orange\"}\n",
    "print(color)"
   ]
  },
  {
   "cell_type": "code",
   "execution_count": 82,
   "id": "1b687f31",
   "metadata": {},
   "outputs": [
    {
     "data": {
      "text/plain": [
       "20.5"
      ]
     },
     "execution_count": 82,
     "metadata": {},
     "output_type": "execute_result"
    }
   ],
   "source": [
    "dict = {1:20.5, 2:3.03, 3:23.22, 4:33.12}\n",
    "dict[1]\n"
   ]
  },
  {
   "cell_type": "code",
   "execution_count": 83,
   "id": "81cdb546",
   "metadata": {},
   "outputs": [
    {
     "data": {
      "text/plain": [
       "33.12"
      ]
     },
     "execution_count": 83,
     "metadata": {},
     "output_type": "execute_result"
    }
   ],
   "source": [
    "dict[4]"
   ]
  },
  {
   "cell_type": "code",
   "execution_count": 87,
   "id": "fed4bc05",
   "metadata": {},
   "outputs": [
    {
     "name": "stdout",
     "output_type": "stream",
     "text": [
      "{0: 10, 1: 20, 2: 30}\n"
     ]
    }
   ],
   "source": [
    "d = {0:10, 1:20}\n",
    "d.update({2:30})\n",
    "print(d)\n"
   ]
  },
  {
   "cell_type": "code",
   "execution_count": 89,
   "id": "38ef32c8",
   "metadata": {},
   "outputs": [
    {
     "name": "stdout",
     "output_type": "stream",
     "text": [
      "{'col1': 'Red', 'col2': 'Blue', 'Col3': 'White'}\n",
      "{'col1': 'Red', 'col2': 'Blue', 'Col3': 'White', 'col4': 'grey'}\n"
     ]
    }
   ],
   "source": [
    "d = {'col1': 'Red','col2':'Blue','Col3':'White'}\n",
    "print(d)\n",
    "d.update({'col4':'grey'})\n",
    "print(d)"
   ]
  },
  {
   "cell_type": "code",
   "execution_count": 92,
   "id": "2ec936bf",
   "metadata": {},
   "outputs": [
    {
     "name": "stdout",
     "output_type": "stream",
     "text": [
      "Red corresponds to 1\n",
      "Green corresponds to 2\n",
      "Blue corresponds to 3\n"
     ]
    }
   ],
   "source": [
    "d = {'Red': 1, 'Green': 2, 'Blue': 3} \n",
    "\n",
    "for col_key, value in d.items():\n",
    "    print(col_key, 'corresponds to',d[col_key])\n"
   ]
  },
  {
   "cell_type": "code",
   "execution_count": 98,
   "id": "2aa446b9",
   "metadata": {},
   "outputs": [
    {
     "name": "stdout",
     "output_type": "stream",
     "text": [
      "{'a': 1, 'b': 2, 'c': 3, 'd': 4}\n",
      "{'b': 2, 'c': 3, 'd': 4}\n"
     ]
    }
   ],
   "source": [
    "myDict = {'a':1,'b':2,'c':3,'d':4}\n",
    "print(myDict)\n",
    "if 'a' in myDict: \n",
    "    del myDict['a']\n",
    "print(myDict)"
   ]
  },
  {
   "cell_type": "code",
   "execution_count": 99,
   "id": "190b3dc8",
   "metadata": {},
   "outputs": [
    {
     "name": "stdout",
     "output_type": "stream",
     "text": [
      "{'a': 1, 'b': 2, 'c': 3, 'd': 4}\n",
      "{'b': 2, 'c': 3, 'd': 4}\n"
     ]
    }
   ],
   "source": [
    "myDict = {'a':1,'b':2,'c':3,'d':4 }\n",
    "print(myDict)\n",
    "\n",
    "if 'a' in myDict:\n",
    "    del myDict['a']\n",
    "print(myDict)"
   ]
  },
  {
   "cell_type": "code",
   "execution_count": 104,
   "id": "c483d487",
   "metadata": {},
   "outputs": [
    {
     "name": "stdout",
     "output_type": "stream",
     "text": [
      "OrderedDict([('rajnish', '9'), ('ravi', '10'), ('sanjeev', '15'), ('suraj', '32'), ('yash', '2')])\n"
     ]
    }
   ],
   "source": [
    "from collections import OrderedDict\n",
    "dict = {'ravi': '10', 'rajnish': '9',\n",
    "        'sanjeev': '15', 'yash': '2', 'suraj': '32'}\n",
    "\n",
    "dict1 = OrderedDict(sorted(dict.items()))\n",
    "print(dict1)\n",
    "\n"
   ]
  },
  {
   "cell_type": "code",
   "execution_count": 105,
   "id": "20d0959a",
   "metadata": {},
   "outputs": [
    {
     "name": "stdout",
     "output_type": "stream",
     "text": [
      "Maximum value: q\n"
     ]
    }
   ],
   "source": [
    "my_new_dict = {\"q\": 18, \"z\": 10, \"o\": 13}\n",
    "\n",
    "fin_max = max(my_new_dict, key=my_new_dict.get)\n",
    "print(\"Maximum value:\",fin_max)"
   ]
  },
  {
   "cell_type": "code",
   "execution_count": 110,
   "id": "613157da",
   "metadata": {},
   "outputs": [
    {
     "name": "stdout",
     "output_type": "stream",
     "text": [
      "The original dictionary is : {'Gfg': 11, 'for': 2, 'CS': 11, 'geeks': 8, 'nerd': 2}\n",
      "Keys with minimum values are : ['for', 'nerd']\n"
     ]
    }
   ],
   "source": [
    "test_dict = {'Gfg' : 11, 'for' : 2, 'CS' : 11, 'geeks':8, 'nerd':2}\n",
    "  \n",
    "# printing original dictionary\n",
    "print(\"The original dictionary is : \" + str(test_dict))\n",
    "  \n",
    "# Using min() + list comprehension + values()\n",
    "# Finding min value keys in dictionary\n",
    "temp = min(test_dict.values())\n",
    "res = [key for key in test_dict if test_dict[key] == temp]\n",
    "  \n",
    "# printing result \n",
    "print(\"Keys with minimum values are : \" + str(res))"
   ]
  },
  {
   "cell_type": "code",
   "execution_count": 116,
   "id": "fa070158",
   "metadata": {},
   "outputs": [
    {
     "name": "stdout",
     "output_type": "stream",
     "text": [
      "{1: 10, 2: 20, 3: 30, 4: 40, 5: 50, 6: 60}\n"
     ]
    }
   ],
   "source": [
    "dic1={1:10, 2:20}\n",
    "dic2={3:30, 4:40}\n",
    "dic3={5:50,6:60}\n",
    "dic4 = {}\n",
    "for d in (dic1, dic2, dic3): dic4.update(d)\n",
    "print(dic4)"
   ]
  },
  {
   "cell_type": "code",
   "execution_count": 117,
   "id": "018edb41",
   "metadata": {},
   "outputs": [
    {
     "name": "stdout",
     "output_type": "stream",
     "text": [
      "Has mango\n",
      "No orange\n"
     ]
    }
   ],
   "source": [
    "# Test whether a Python dictionary contains a specific key\n",
    "fruits = {}\n",
    "fruits[\"apple\"] = 1\n",
    "fruits[\"mango\"] = 2\n",
    "fruits[\"banana\"] = 4\n",
    "\n",
    "if \"mango\" in fruits:\n",
    "    print(\"Has mango\")\n",
    "else:\n",
    "    print(\"No mango\")\n",
    "\n",
    "# Use in on nonexistent key.\n",
    "if \"orange\" in fruits:\n",
    "    print(\"Has orange\")\n",
    "else:\n",
    "    print(\"No orange\")"
   ]
  },
  {
   "cell_type": "code",
   "execution_count": 118,
   "id": "682784bb",
   "metadata": {},
   "outputs": [
    {
     "name": "stdout",
     "output_type": "stream",
     "text": [
      "2\n"
     ]
    }
   ],
   "source": [
    "fruits = {\"mango\": 2, \"orange\": 6}\n",
    "print(len(fruits))"
   ]
  },
  {
   "cell_type": "code",
   "execution_count": 119,
   "id": "8691a0e3",
   "metadata": {},
   "outputs": [
    {
     "name": "stdout",
     "output_type": "stream",
     "text": [
      "[3, 4, 6]\n"
     ]
    }
   ],
   "source": [
    "dt = {5:4, 1:6, 6:3}\n",
    "\n",
    "sorted_dt_value = sorted(dt.values())\n",
    "\n",
    "print(sorted_dt_value)"
   ]
  },
  {
   "cell_type": "code",
   "execution_count": 125,
   "id": "18ed7d19",
   "metadata": {},
   "outputs": [
    {
     "name": "stdout",
     "output_type": "stream",
     "text": [
      "[('one', 1), ('two', 2), ('three', 3), ('four', 4), ('five', 5)]\n"
     ]
    }
   ],
   "source": [
    "d = {'one': 1, 'three': 3, 'five': 5, 'two': 2, 'four': 4}\n",
    "a = sorted(d.items(), key=lambda x: x[1])\n",
    "print(a)"
   ]
  },
  {
   "cell_type": "code",
   "execution_count": 129,
   "id": "b96686cc",
   "metadata": {},
   "outputs": [
    {
     "name": "stdout",
     "output_type": "stream",
     "text": [
      "[('five', 5), ('four', 4), ('three', 3), ('two', 2), ('one', 1)]\n"
     ]
    }
   ],
   "source": [
    "d = {'one': 1, 'three': 3, 'five': 5, 'two': 2, 'four': 4}\n",
    "a = sorted(d.items(),key = lambda x: x[1], reverse=True)\n",
    "print(a)"
   ]
  },
  {
   "cell_type": "code",
   "execution_count": 128,
   "id": "f586230d",
   "metadata": {},
   "outputs": [
    {
     "name": "stdout",
     "output_type": "stream",
     "text": [
      "[('one', 1), ('two', 2), ('three', 3), ('four', 4), ('five', 5)]\n"
     ]
    }
   ],
   "source": [
    "d = {'one': 1, 'three': 3, 'five': 5, 'two': 2, 'four': 4}\n",
    "a = sorted(d.items(), key=lambda x: x[1])\n",
    "print(a)\n"
   ]
  },
  {
   "cell_type": "code",
   "execution_count": 130,
   "id": "5a29a104",
   "metadata": {},
   "outputs": [
    {
     "name": "stdout",
     "output_type": "stream",
     "text": [
      "{'Key1': 2, 'key2': 3, 'key3': 4, 'key4': 5}\n"
     ]
    }
   ],
   "source": [
    "#Write a program to concatenate two dictionaries to create one.\n",
    "dict1 = {'Key1': 2,'key2':3}\n",
    "dict2 = {'key3': 4,'key4':5}\n",
    "\n",
    "dict1.update(dict2)\n",
    "print(dict1)\n",
    "\n"
   ]
  },
  {
   "cell_type": "code",
   "execution_count": 133,
   "id": "14d6ad57",
   "metadata": {},
   "outputs": [
    {
     "name": "stdout",
     "output_type": "stream",
     "text": [
      "500\n"
     ]
    }
   ],
   "source": [
    "##Write a program to sum all the values of a dictionary.\n",
    "\n",
    "dict1 = {'key1':200,'key2':300}\n",
    "\n",
    "x = []\n",
    "for i in dict1.values():\n",
    "    x.append(i)\n",
    "print(sum(x))"
   ]
  },
  {
   "cell_type": "code",
   "execution_count": 135,
   "id": "c3e6f6b7",
   "metadata": {},
   "outputs": [
    {
     "name": "stdout",
     "output_type": "stream",
     "text": [
      "[2, 3, 6, 7]\n"
     ]
    }
   ],
   "source": [
    "old_list = [2,3,6,6,7,2]\n",
    "\n",
    "new_list = []\n",
    "\n",
    "for x in old_list:\n",
    "    if x not in new_list:\n",
    "        new_list.append(x)\n",
    "print(new_list)"
   ]
  },
  {
   "cell_type": "code",
   "execution_count": 142,
   "id": "e969db20",
   "metadata": {},
   "outputs": [
    {
     "name": "stdout",
     "output_type": "stream",
     "text": [
      "700\n"
     ]
    }
   ],
   "source": [
    "dict1 = {'key': 200 ,'key2':500}\n",
    "x = []\n",
    "for i in dict1.values():\n",
    "    x.append(i)\n",
    "print(sum(x))"
   ]
  },
  {
   "cell_type": "code",
   "execution_count": 143,
   "id": "435015d7",
   "metadata": {},
   "outputs": [
    {
     "name": "stdout",
     "output_type": "stream",
     "text": [
      "The maximum value of dictionary is 700\n",
      "The minimum value of dictionary is 200\n"
     ]
    }
   ],
   "source": [
    "dict1 = {'key1': 200,'key2':400,'key3':700}\n",
    "val = dict1.values()\n",
    "max = max(val)\n",
    "min = min(val)\n",
    "\n",
    "print(\"The maximum value of dictionary is\", max)\n",
    "print(\"The minimum value of dictionary is\",min)"
   ]
  },
  {
   "cell_type": "code",
   "execution_count": 145,
   "id": "6d5453ca",
   "metadata": {},
   "outputs": [
    {
     "name": "stdout",
     "output_type": "stream",
     "text": [
      "The dictionary is not empty.\n"
     ]
    }
   ],
   "source": [
    "#Write a program to check if a dictionary is empty or no\n",
    "\n",
    "myDict = {1:'Geek',2: 'Kolkata'}\n",
    "if not myDict:\n",
    "    print('The dictionary is empty.')\n",
    "else:\n",
    "    print('The dictionary is not empty.')"
   ]
  },
  {
   "cell_type": "code",
   "execution_count": 146,
   "id": "2a63bdba",
   "metadata": {},
   "outputs": [
    {
     "name": "stdout",
     "output_type": "stream",
     "text": [
      "The dictionary is empty\n"
     ]
    }
   ],
   "source": [
    "myDict = {}\n",
    "if not myDict:\n",
    "    print(\"The dictionary is empty\")\n",
    "else:\n",
    "    print(\"The dictionary is not empty\")"
   ]
  },
  {
   "cell_type": "code",
   "execution_count": 149,
   "id": "4a9f8ef2",
   "metadata": {},
   "outputs": [
    {
     "name": "stdout",
     "output_type": "stream",
     "text": [
      "The dictionary is not empty\n"
     ]
    }
   ],
   "source": [
    "myDict = {1:\"Geek\",2:\"Patron\",3:\"Human\"}\n",
    "\n",
    "if (len(myDict)== 0):\n",
    "    print(\"my dictionary is empty\")\n",
    "else:\n",
    "    print(\"The dictionary is not empty\")"
   ]
  },
  {
   "cell_type": "code",
   "execution_count": 150,
   "id": "c2fa4f0d",
   "metadata": {},
   "outputs": [
    {
     "name": "stdout",
     "output_type": "stream",
     "text": [
      "the value is in the dictionary\n"
     ]
    }
   ],
   "source": [
    "dict1 = {'key1':22,'key2':301}\n",
    "val = dict1.values()\n",
    "\n",
    "if 22 in val:\n",
    "    print(\"the value is in the dictionary\")\n",
    "else:\n",
    "    print(\"The value is not in the dictionary\")"
   ]
  },
  {
   "cell_type": "code",
   "execution_count": 151,
   "id": "284c114c",
   "metadata": {},
   "outputs": [
    {
     "name": "stdout",
     "output_type": "stream",
     "text": [
      "[3, 4, 6]\n"
     ]
    }
   ],
   "source": [
    "#Write a program to sort dictionary values in python.\n",
    "\n",
    "dt = {5:4, 1:6, 6:3}\n",
    "sorted_dt_value = sorted(dt.values())\n",
    "print(sorted_dt_value)"
   ]
  },
  {
   "cell_type": "code",
   "execution_count": 152,
   "id": "5a74c89b",
   "metadata": {},
   "outputs": [
    {
     "name": "stdout",
     "output_type": "stream",
     "text": [
      "[3, 4, 6]\n"
     ]
    }
   ],
   "source": [
    "dt = {5:4,1:6,6:3}\n",
    "sorted_dt_value = sorted(dt.values())\n",
    "print(sorted_dt_value)"
   ]
  },
  {
   "cell_type": "code",
   "execution_count": 153,
   "id": "97d53c2d",
   "metadata": {},
   "outputs": [
    {
     "name": "stdout",
     "output_type": "stream",
     "text": [
      "[3, 4, 6]\n"
     ]
    }
   ],
   "source": [
    "dt = {5:4,1:6,6:3}\n",
    "sorted_dt_value = sorted(dt.values())\n",
    "print(sorted_dt_value)"
   ]
  },
  {
   "cell_type": "code",
   "execution_count": 160,
   "id": "77f406f4",
   "metadata": {},
   "outputs": [
    {
     "ename": "TypeError",
     "evalue": "'dict' object is not callable",
     "output_type": "error",
     "traceback": [
      "\u001b[1;31m---------------------------------------------------------------------------\u001b[0m",
      "\u001b[1;31mTypeError\u001b[0m                                 Traceback (most recent call last)",
      "\u001b[1;32m~\\AppData\\Local\\Temp/ipykernel_11664/4195380681.py\u001b[0m in \u001b[0;36m<module>\u001b[1;34m\u001b[0m\n\u001b[0;32m      1\u001b[0m \u001b[0mkeys\u001b[0m \u001b[1;33m=\u001b[0m \u001b[1;33m[\u001b[0m\u001b[1;34m'red'\u001b[0m\u001b[1;33m,\u001b[0m \u001b[1;34m'green'\u001b[0m\u001b[1;33m,\u001b[0m \u001b[1;34m'blue'\u001b[0m\u001b[1;33m]\u001b[0m\u001b[1;33m\u001b[0m\u001b[1;33m\u001b[0m\u001b[0m\n\u001b[0;32m      2\u001b[0m \u001b[0mvalues\u001b[0m \u001b[1;33m=\u001b[0m \u001b[1;33m[\u001b[0m\u001b[1;34m'#FF0000'\u001b[0m\u001b[1;33m,\u001b[0m\u001b[1;34m'#008000'\u001b[0m\u001b[1;33m,\u001b[0m \u001b[1;34m'#0000FF'\u001b[0m\u001b[1;33m]\u001b[0m\u001b[1;33m\u001b[0m\u001b[1;33m\u001b[0m\u001b[0m\n\u001b[1;32m----> 3\u001b[1;33m \u001b[0mcolor_dictionary\u001b[0m \u001b[1;33m=\u001b[0m \u001b[0mdict\u001b[0m\u001b[1;33m(\u001b[0m\u001b[0mzip\u001b[0m\u001b[1;33m(\u001b[0m\u001b[0mkeys\u001b[0m\u001b[1;33m,\u001b[0m \u001b[0mvalues\u001b[0m\u001b[1;33m)\u001b[0m\u001b[1;33m)\u001b[0m\u001b[1;33m\u001b[0m\u001b[1;33m\u001b[0m\u001b[0m\n\u001b[0m\u001b[0;32m      4\u001b[0m \u001b[0mprint\u001b[0m\u001b[1;33m(\u001b[0m\u001b[0mcolor_dictionary\u001b[0m\u001b[1;33m)\u001b[0m\u001b[1;33m\u001b[0m\u001b[1;33m\u001b[0m\u001b[0m\n",
      "\u001b[1;31mTypeError\u001b[0m: 'dict' object is not callable"
     ]
    }
   ],
   "source": [
    "keys = ['red', 'green', 'blue']\n",
    "values = ['#FF0000','#008000', '#0000FF']\n",
    "color_dictionary = dict(zip(keys, values))\n",
    "print(color_dictionary)"
   ]
  },
  {
   "cell_type": "code",
   "execution_count": 166,
   "id": "61624fd3",
   "metadata": {},
   "outputs": [
    {
     "name": "stdout",
     "output_type": "stream",
     "text": [
      "[2, 3, 4, 5]\n"
     ]
    }
   ],
   "source": [
    "#Write a program in Python to remove repetitive items from a list.\n",
    "num = [2,3,4,5,2,2,4]\n",
    "new_list =[]\n",
    "for i in num:\n",
    "    if i not in new_list:\n",
    "        new_list.append(i)\n",
    "print(new_list)\n",
    "\n"
   ]
  },
  {
   "cell_type": "code",
   "execution_count": 167,
   "id": "5908b10e",
   "metadata": {},
   "outputs": [
    {
     "name": "stdout",
     "output_type": "stream",
     "text": [
      "()\n"
     ]
    }
   ],
   "source": [
    "x = ()\n",
    "print(x)"
   ]
  },
  {
   "cell_type": "code",
   "execution_count": 169,
   "id": "4c5f6726",
   "metadata": {},
   "outputs": [
    {
     "name": "stdout",
     "output_type": "stream",
     "text": [
      "()\n"
     ]
    }
   ],
   "source": [
    "x = ()\n",
    "tuplex = tuple(x)\n",
    "print(tuplex)"
   ]
  },
  {
   "cell_type": "code",
   "execution_count": 171,
   "id": "7ed30af1",
   "metadata": {},
   "outputs": [
    {
     "ename": "TypeError",
     "evalue": "tuple expected at most 1 argument, got 4",
     "output_type": "error",
     "traceback": [
      "\u001b[1;31m---------------------------------------------------------------------------\u001b[0m",
      "\u001b[1;31mTypeError\u001b[0m                                 Traceback (most recent call last)",
      "\u001b[1;32m~\\AppData\\Local\\Temp/ipykernel_11664/2921240208.py\u001b[0m in \u001b[0;36m<module>\u001b[1;34m\u001b[0m\n\u001b[1;32m----> 1\u001b[1;33m \u001b[0mtuplex\u001b[0m \u001b[1;33m=\u001b[0m \u001b[0mtuple\u001b[0m\u001b[1;33m(\u001b[0m\u001b[1;34m\"tuple\"\u001b[0m\u001b[1;33m,\u001b[0m \u001b[1;32mFalse\u001b[0m\u001b[1;33m,\u001b[0m \u001b[1;36m3.2\u001b[0m\u001b[1;33m,\u001b[0m \u001b[1;36m1\u001b[0m\u001b[1;33m)\u001b[0m\u001b[1;33m\u001b[0m\u001b[1;33m\u001b[0m\u001b[0m\n\u001b[0m\u001b[0;32m      2\u001b[0m \u001b[0mprint\u001b[0m\u001b[1;33m(\u001b[0m\u001b[0mtuplex\u001b[0m\u001b[1;33m)\u001b[0m\u001b[1;33m\u001b[0m\u001b[1;33m\u001b[0m\u001b[0m\n\u001b[0;32m      3\u001b[0m \u001b[1;33m\u001b[0m\u001b[0m\n\u001b[0;32m      4\u001b[0m \u001b[1;33m\u001b[0m\u001b[0m\n\u001b[0;32m      5\u001b[0m \u001b[1;33m\u001b[0m\u001b[0m\n",
      "\u001b[1;31mTypeError\u001b[0m: tuple expected at most 1 argument, got 4"
     ]
    }
   ],
   "source": [
    "        \n",
    "               \n",
    "               \n",
    "               \n",
    "               \n",
    "               \n",
    "               \n",
    "               \n",
    "               \n",
    "               \n",
    "               \n",
    "               \n",
    "               \n",
    "               \n",
    "               \n",
    "               \n",
    "               \n",
    "               \n",
    "               \n",
    "               \n",
    "               \n",
    "               \n",
    "               \n",
    "               \n",
    "               \n",
    "               \n",
    "               \n",
    "               \n",
    "               \n",
    "               \n",
    "               \n",
    "               \n",
    "               \n",
    "               \n",
    "               \n",
    "               \n",
    "               \n",
    "               \n",
    "               \n",
    "               \n",
    "               \n",
    "               \n",
    "               \n",
    "               \n",
    "               \n",
    "               \n",
    "               \n",
    "               \n",
    "               \n",
    "               \n",
    "               \n",
    "               \n",
    "               \n",
    "               \n",
    "               \n",
    "               \n",
    "               \n",
    "               \n",
    "               \n",
    "               \n",
    "               \n",
    "               \n",
    "               \n",
    "               "
   ]
  },
  {
   "cell_type": "code",
   "execution_count": 172,
   "id": "5efcb464",
   "metadata": {},
   "outputs": [],
   "source": [
    "tuplex = (\"tuple\", False, 3.2, 1)"
   ]
  },
  {
   "cell_type": "code",
   "execution_count": 173,
   "id": "83a10eb7",
   "metadata": {},
   "outputs": [
    {
     "name": "stdout",
     "output_type": "stream",
     "text": [
      "('tuple', False, 3.2, 1)\n"
     ]
    }
   ],
   "source": [
    "print(tuplex)"
   ]
  },
  {
   "cell_type": "code",
   "execution_count": 175,
   "id": "6fbb250f",
   "metadata": {},
   "outputs": [
    {
     "name": "stdout",
     "output_type": "stream",
     "text": [
      "(5, 10, 25, 45, 32)\n",
      "5\n"
     ]
    }
   ],
   "source": [
    "tuplex = 5,10,25,45,32\n",
    "print(tuplex)\n",
    "tuplex = 5\n",
    "print(tuplex)"
   ]
  },
  {
   "cell_type": "code",
   "execution_count": 180,
   "id": "464e1855",
   "metadata": {},
   "outputs": [
    {
     "name": "stdout",
     "output_type": "stream",
     "text": [
      "(4, 8, 3)\n",
      "15\n"
     ]
    }
   ],
   "source": [
    "tuplex = 4, 8, 3 \n",
    "print(tuplex)\n",
    "n1, n2, n3 = tuplex\n",
    "print(n1 + n2 + n3)\n",
    "n1 , n2, n3 = tuplex"
   ]
  },
  {
   "cell_type": "code",
   "execution_count": 182,
   "id": "4842cdec",
   "metadata": {},
   "outputs": [
    {
     "name": "stdout",
     "output_type": "stream",
     "text": [
      "15\n"
     ]
    }
   ],
   "source": [
    "n1, n2, n3 = tuplex\n",
    "print(n1 + n2 + n3)\n",
    "n1, n2, n3= tuplex "
   ]
  },
  {
   "cell_type": "code",
   "execution_count": null,
   "id": "7f69ee17",
   "metadata": {},
   "outputs": [],
   "source": []
  }
 ],
 "metadata": {
  "kernelspec": {
   "display_name": "Python 3 (ipykernel)",
   "language": "python",
   "name": "python3"
  },
  "language_info": {
   "codemirror_mode": {
    "name": "ipython",
    "version": 3
   },
   "file_extension": ".py",
   "mimetype": "text/x-python",
   "name": "python",
   "nbconvert_exporter": "python",
   "pygments_lexer": "ipython3",
   "version": "3.9.7"
  }
 },
 "nbformat": 4,
 "nbformat_minor": 5
}

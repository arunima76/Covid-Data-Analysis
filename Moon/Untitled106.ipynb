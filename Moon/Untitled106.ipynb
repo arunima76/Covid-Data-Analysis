{
 "cells": [
  {
   "cell_type": "code",
   "execution_count": 1,
   "id": "10371eb5",
   "metadata": {},
   "outputs": [
    {
     "name": "stdout",
     "output_type": "stream",
     "text": [
      "Counter({'x': 4, 'y': 2, 'z': 2})\n"
     ]
    }
   ],
   "source": [
    "from collections import Counter\n",
    "list1 = ['x','y','z','x','x','x','y', 'z']\n",
    "print(Counter(list1))"
   ]
  },
  {
   "cell_type": "code",
   "execution_count": 2,
   "id": "7ab9c784",
   "metadata": {},
   "outputs": [
    {
     "name": "stdout",
     "output_type": "stream",
     "text": [
      "Counter({'o': 3, 'g': 2, 'l': 1, 'e': 1, '.': 1, 'c': 1, 'm': 1})\n"
     ]
    }
   ],
   "source": [
    "from collections import Counter\n",
    "string = 'google.com'\n",
    "print(Counter(string))"
   ]
  },
  {
   "cell_type": "code",
   "execution_count": 4,
   "id": "3d7eb38e",
   "metadata": {},
   "outputs": [
    {
     "name": "stdout",
     "output_type": "stream",
     "text": [
      "7\n"
     ]
    }
   ],
   "source": [
    "def string_length(str1):\n",
    "    count = 0\n",
    "    for char in str1:\n",
    "        count += 1\n",
    "    return count\n",
    "print(string_length('arunima'))"
   ]
  },
  {
   "cell_type": "code",
   "execution_count": 5,
   "id": "9e538835",
   "metadata": {},
   "outputs": [
    {
     "name": "stdout",
     "output_type": "stream",
     "text": [
      "[2, 3]\n"
     ]
    }
   ],
   "source": [
    "list2 = [9,5,3,2,3]\n",
    "print(list2[-2:])"
   ]
  },
  {
   "cell_type": "code",
   "execution_count": 6,
   "id": "f0b16d41",
   "metadata": {},
   "outputs": [
    {
     "name": "stdout",
     "output_type": "stream",
     "text": [
      "('the quick brown fox ', 'jumps', ' over the lazy dog')\n"
     ]
    }
   ],
   "source": [
    "msg ='the quick brown fox jumps over the lazy dog'\n",
    "result = msg.partition('jumps')\n",
    "print(result)"
   ]
  },
  {
   "cell_type": "code",
   "execution_count": 19,
   "id": "76ecb99f",
   "metadata": {},
   "outputs": [
    {
     "ename": "IndentationError",
     "evalue": "unindent does not match any outer indentation level (<tokenize>, line 7)",
     "output_type": "error",
     "traceback": [
      "\u001b[1;36m  File \u001b[1;32m\"<tokenize>\"\u001b[1;36m, line \u001b[1;32m7\u001b[0m\n\u001b[1;33m    elif string[-1] =='b':\u001b[0m\n\u001b[1;37m    ^\u001b[0m\n\u001b[1;31mIndentationError\u001b[0m\u001b[1;31m:\u001b[0m unindent does not match any outer indentation level\n"
     ]
    }
   ],
   "source": [
    "string = input(\"Enter a string\")\n",
    "count = 3\n",
    "\n",
    "while True:\n",
    "     if string[0]=='a':\n",
    "        string = string[2:]\n",
    "    elif string[-1] =='b':\n",
    "        string = string[:2]\n",
    "    else:\n",
    "        count += 1\n",
    "        break\n",
    "print(string)\n",
    "print(count)\n",
    "          "
   ]
  },
  {
   "cell_type": "code",
   "execution_count": 23,
   "id": "3c85b328",
   "metadata": {},
   "outputs": [
    {
     "name": "stdout",
     "output_type": "stream",
     "text": [
      "Enter a stringaabbcc\n",
      "bbcc\n",
      "bbcc\n",
      "4\n"
     ]
    }
   ],
   "source": [
    "string = input(\"Enter a string\")\n",
    "count = 3\n",
    "while True:\n",
    "    if string[0]=='a':\n",
    "        string = string[2:]\n",
    "        print(string)\n",
    "    elif string[-1] =='b':\n",
    "        string = string[:2]\n",
    "    else:\n",
    "        count += 1\n",
    "        break\n",
    "print(string)\n",
    "print(count)\n"
   ]
  },
  {
   "cell_type": "code",
   "execution_count": null,
   "id": "40383331",
   "metadata": {},
   "outputs": [],
   "source": []
  },
  {
   "cell_type": "code",
   "execution_count": null,
   "id": "2b524227",
   "metadata": {},
   "outputs": [],
   "source": []
  }
 ],
 "metadata": {
  "kernelspec": {
   "display_name": "Python 3 (ipykernel)",
   "language": "python",
   "name": "python3"
  },
  "language_info": {
   "codemirror_mode": {
    "name": "ipython",
    "version": 3
   },
   "file_extension": ".py",
   "mimetype": "text/x-python",
   "name": "python",
   "nbconvert_exporter": "python",
   "pygments_lexer": "ipython3",
   "version": "3.9.7"
  }
 },
 "nbformat": 4,
 "nbformat_minor": 5
}

{
 "cells": [
  {
   "cell_type": "code",
   "execution_count": 2,
   "id": "12732007",
   "metadata": {},
   "outputs": [
    {
     "name": "stdout",
     "output_type": "stream",
     "text": [
      "Number is 7\n",
      "Number is 8\n",
      "addition of two number is 15\n"
     ]
    }
   ],
   "source": [
    "def addition(num1,num2):\n",
    "    print(\"Number is\", num1)\n",
    "    print(\"Number is\", num2)\n",
    "    addition = num1 + num2 \n",
    "    return addition\n",
    "\n",
    "res=addition(7,8)\n",
    "print(\"addition of two number is\", res)"
   ]
  },
  {
   "cell_type": "code",
   "execution_count": 3,
   "id": "3a7a64e0",
   "metadata": {},
   "outputs": [
    {
     "name": "stdout",
     "output_type": "stream",
     "text": [
      "20\n",
      "30\n",
      "60\n",
      "30\n",
      "50\n"
     ]
    }
   ],
   "source": [
    "def function(*args):\n",
    "    for arg in args:\n",
    "        print(arg)\n",
    "\n",
    "function(20,30,60)\n",
    "function(30,50)\n",
    "    \n",
    "    "
   ]
  },
  {
   "cell_type": "code",
   "execution_count": 8,
   "id": "61d1582d",
   "metadata": {},
   "outputs": [
    {
     "name": "stdout",
     "output_type": "stream",
     "text": [
      "The factorial of number is 720\n"
     ]
    }
   ],
   "source": [
    "def factorial(no):\n",
    "    if no == 1 :\n",
    "        return 1\n",
    "    else:\n",
    "        return (no * factorial(no-1))\n",
    "    \n",
    "no = 6\n",
    "print(\"The factorial of number is\", factorial(no))"
   ]
  },
  {
   "cell_type": "code",
   "execution_count": 9,
   "id": "f5f833a5",
   "metadata": {},
   "outputs": [
    {
     "name": "stdout",
     "output_type": "stream",
     "text": [
      "The result is (80, 20)\n"
     ]
    }
   ],
   "source": [
    "def calculation(num1, num2):\n",
    "    add = num1 + num2\n",
    "    sub = num1 - num2\n",
    "    \n",
    "    return add, sub\n",
    "\n",
    "res = calculation(50,30)\n",
    "print(\"The result is\", res)"
   ]
  },
  {
   "cell_type": "code",
   "execution_count": 14,
   "id": "fac1c807",
   "metadata": {},
   "outputs": [
    {
     "ename": "SyntaxError",
     "evalue": "invalid syntax (Temp/ipykernel_1824/3598153588.py, line 2)",
     "output_type": "error",
     "traceback": [
      "\u001b[1;36m  File \u001b[1;32m\"C:\\Users\\Arunima\\AppData\\Local\\Temp/ipykernel_1824/3598153588.py\"\u001b[1;36m, line \u001b[1;32m2\u001b[0m\n\u001b[1;33m    print(\"Name:\"name, \"salary:\"salary)\u001b[0m\n\u001b[1;37m                 ^\u001b[0m\n\u001b[1;31mSyntaxError\u001b[0m\u001b[1;31m:\u001b[0m invalid syntax\n"
     ]
    }
   ],
   "source": [
    "\n"
   ]
  },
  {
   "cell_type": "code",
   "execution_count": 16,
   "id": "cad8688a",
   "metadata": {},
   "outputs": [
    {
     "name": "stdout",
     "output_type": "stream",
     "text": [
      "Name: Arunima salary: 60000\n",
      "Name: Hessa salary: 9000\n"
     ]
    }
   ],
   "source": [
    "def show_employee(name, salary=9000):\n",
    "    print('Name:', name, 'salary:',salary)\n",
    "show_employee(\"Arunima\",60000)\n",
    "show_employee(\"Hessa\")"
   ]
  },
  {
   "cell_type": "code",
   "execution_count": 17,
   "id": "f3cdcd64",
   "metadata": {},
   "outputs": [
    {
     "name": "stdout",
     "output_type": "stream",
     "text": [
      "20\n"
     ]
    }
   ],
   "source": [
    "def outer_fun(a, b):\n",
    "    square = a ** 2\n",
    "\n",
    "    # inner function\n",
    "    def addition(a, b):\n",
    "        return a + b\n",
    "\n",
    "    # call inner function from outer function\n",
    "    add = addition(a, b)\n",
    "    # add 5 to the result\n",
    "    return add + 5\n",
    "\n",
    "result = outer_fun(5, 10)\n",
    "print(result)"
   ]
  },
  {
   "cell_type": "code",
   "execution_count": 18,
   "id": "14c4815c",
   "metadata": {},
   "outputs": [
    {
     "name": "stdout",
     "output_type": "stream",
     "text": [
      "20\n"
     ]
    }
   ],
   "source": [
    "def outer_function(a,b):\n",
    "    square = a ** 2\n",
    "    \n",
    "    def addition(a,b):\n",
    "        return a + b\n",
    "    \n",
    "    add = addition(a,b)\n",
    "    return add + 5\n",
    "result = outer_fun(5,10)\n",
    "print(result)"
   ]
  },
  {
   "cell_type": "code",
   "execution_count": null,
   "id": "9878de74",
   "metadata": {},
   "outputs": [],
   "source": [
    "#Assign a different name to function and call it through the new name\n",
    "\n"
   ]
  },
  {
   "cell_type": "code",
   "execution_count": null,
   "id": "c80274c1",
   "metadata": {},
   "outputs": [],
   "source": []
  },
  {
   "cell_type": "code",
   "execution_count": null,
   "id": "b3b82da5",
   "metadata": {},
   "outputs": [],
   "source": []
  },
  {
   "cell_type": "code",
   "execution_count": null,
   "id": "cfa0fc07",
   "metadata": {},
   "outputs": [],
   "source": []
  },
  {
   "cell_type": "code",
   "execution_count": null,
   "id": "dc04c8fc",
   "metadata": {},
   "outputs": [],
   "source": []
  },
  {
   "cell_type": "code",
   "execution_count": null,
   "id": "9c7f0a8e",
   "metadata": {},
   "outputs": [],
   "source": []
  },
  {
   "cell_type": "code",
   "execution_count": null,
   "id": "9acbecca",
   "metadata": {},
   "outputs": [],
   "source": []
  },
  {
   "cell_type": "code",
   "execution_count": null,
   "id": "5b2cca60",
   "metadata": {},
   "outputs": [],
   "source": []
  },
  {
   "cell_type": "code",
   "execution_count": null,
   "id": "5bd0ec2b",
   "metadata": {},
   "outputs": [],
   "source": []
  },
  {
   "cell_type": "code",
   "execution_count": null,
   "id": "70c779a5",
   "metadata": {},
   "outputs": [],
   "source": []
  }
 ],
 "metadata": {
  "kernelspec": {
   "display_name": "Python 3 (ipykernel)",
   "language": "python",
   "name": "python3"
  },
  "language_info": {
   "codemirror_mode": {
    "name": "ipython",
    "version": 3
   },
   "file_extension": ".py",
   "mimetype": "text/x-python",
   "name": "python",
   "nbconvert_exporter": "python",
   "pygments_lexer": "ipython3",
   "version": "3.9.7"
  }
 },
 "nbformat": 4,
 "nbformat_minor": 5
}

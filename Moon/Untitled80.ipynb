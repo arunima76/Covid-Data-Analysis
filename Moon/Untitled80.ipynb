{
 "cells": [
  {
   "cell_type": "code",
   "execution_count": 1,
   "id": "ef826246",
   "metadata": {},
   "outputs": [
    {
     "name": "stdout",
     "output_type": "stream",
     "text": [
      "[9, 3, 4, 1, 12]\n"
     ]
    }
   ],
   "source": [
    "def uniq_number(l):\n",
    "    unique_n= []\n",
    "    for a in l:\n",
    "        if a not in unique_n:\n",
    "            unique_n.append(a)\n",
    "    return unique_n\n",
    "\n",
    "print(uniq_number([9,3,3,4,1, 12]))\n",
    "            \n",
    "    "
   ]
  },
  {
   "cell_type": "code",
   "execution_count": 3,
   "id": "01167ccd",
   "metadata": {},
   "outputs": [
    {
     "name": "stdout",
     "output_type": "stream",
     "text": [
      "[2, 4, 6]\n"
     ]
    }
   ],
   "source": [
    "def even_number(l):\n",
    "    e_num = []\n",
    "    for a in l:\n",
    "        if (a % 2 == 0):\n",
    "            e_num.append(a)\n",
    "    return e_num\n",
    "print(even_number([9,3,2,4,6,1]))"
   ]
  },
  {
   "cell_type": "code",
   "execution_count": null,
   "id": "8150b3bc",
   "metadata": {},
   "outputs": [],
   "source": [
    "#Write a Python function that accepts a string and calculate the number of upper case letters and lower case letters."
   ]
  },
  {
   "cell_type": "code",
   "execution_count": null,
   "id": "7d0f935f",
   "metadata": {},
   "outputs": [],
   "source": [
    "def test_string(s):\n",
    "    d = {\"UPPERCASE\": \"0\",\"LOWERCASE\": \"0\" }\n",
    "    for a in s:\n",
    "        if a.isupper():\n",
    "            d[\"UPPERCASE\"] +=1\n",
    "        elif a.islower():\n",
    "            d[\"LOWERCASE\"] += 1\n",
    "        \n",
    "            "
   ]
  },
  {
   "cell_type": "code",
   "execution_count": null,
   "id": "7f87535e",
   "metadata": {},
   "outputs": [],
   "source": [
    "class Vehicle:\n",
    "    pass"
   ]
  },
  {
   "cell_type": "code",
   "execution_count": null,
   "id": "ac2a86e5",
   "metadata": {},
   "outputs": [],
   "source": []
  },
  {
   "cell_type": "code",
   "execution_count": null,
   "id": "de5a25d3",
   "metadata": {},
   "outputs": [],
   "source": [
    "class Vehicle:\n",
    "\n",
    "    def __init__(self, name, max_speed, mileage):\n",
    "        self.name = name\n",
    "        self.max_speed = max_speed\n",
    "        self.mileage = mileage\n",
    "        \n",
    "class Bus(Vehicle):\n",
    "    pass\n",
    "\n",
    "School_bus = Bus(\"Volvo\",300, 150)\n"
   ]
  },
  {
   "cell_type": "code",
   "execution_count": null,
   "id": "763c863d",
   "metadata": {},
   "outputs": [],
   "source": []
  }
 ],
 "metadata": {
  "kernelspec": {
   "display_name": "Python 3 (ipykernel)",
   "language": "python",
   "name": "python3"
  },
  "language_info": {
   "codemirror_mode": {
    "name": "ipython",
    "version": 3
   },
   "file_extension": ".py",
   "mimetype": "text/x-python",
   "name": "python",
   "nbconvert_exporter": "python",
   "pygments_lexer": "ipython3",
   "version": "3.9.7"
  }
 },
 "nbformat": 4,
 "nbformat_minor": 5
}
